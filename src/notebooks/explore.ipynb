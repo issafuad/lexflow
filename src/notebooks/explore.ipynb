{
 "cells": [
  {
   "cell_type": "code",
   "execution_count": 1,
   "id": "e619b338-5dd9-42c1-8449-2c83efbb08ad",
   "metadata": {
    "tags": []
   },
   "outputs": [],
   "source": [
    "import sys\n",
    "import os\n",
    "sys.path.insert(0, os.path.abspath(os.path.join('../../')))\n",
    "import logging\n",
    "# Logging setup\n",
    "handler = logging.StreamHandler(sys.stdout)\n",
    "formatter = logging.Formatter('%(asctime)s - %(name)s - %(levelname)s - %(message)s')\n",
    "handler.setFormatter(formatter)\n",
    "\n",
    "module_logger = logging.getLogger()\n",
    "module_logger.addHandler(handler)\n",
    "module_logger.setLevel(logging.INFO)"
   ]
  },
  {
   "cell_type": "code",
   "execution_count": 2,
   "id": "ba386a3c-4852-4491-947e-7ebc322f7e2a",
   "metadata": {
    "tags": []
   },
   "outputs": [],
   "source": [
    "%load_ext autoreload\n",
    "%autoreload 2"
   ]
  },
  {
   "cell_type": "code",
   "execution_count": 3,
   "id": "dd1da0e7-1e16-492a-abca-2832c4b87a15",
   "metadata": {
    "tags": []
   },
   "outputs": [],
   "source": [
    "from src.base import LanguageModel, Chain, Prompt, ProbabilisticComponent, SymbolicComponent, Threads, Concept, ConceptRegistry, use_registry\n",
    "import pandas as pd\n",
    "import dtale"
   ]
  },
  {
   "cell_type": "code",
   "execution_count": null,
   "id": "23621dd0-800c-48d3-b830-6f6a54410d88",
   "metadata": {
    "tags": []
   },
   "outputs": [],
   "source": []
  },
  {
   "cell_type": "markdown",
   "id": "d20d4f7e-37e5-46dd-a286-e853e302f1cc",
   "metadata": {},
   "source": [
    "# tests"
   ]
  },
  {
   "cell_type": "code",
   "execution_count": 4,
   "id": "42101420-f146-4b81-8831-1ed3d095f32c",
   "metadata": {
    "tags": []
   },
   "outputs": [],
   "source": [
    "# pd.DataFrame(chain.memory)\n",
    "# dtale.show(pd.DataFrame(lm3.memory))\n",
    "\n",
    "# parsers\n",
    "# list as output\n",
    "# routers\n",
    "# retriever\n"
   ]
  },
  {
   "cell_type": "code",
   "execution_count": 5,
   "id": "31921e3b-7cd8-4b6d-a660-4fa7b34e1b43",
   "metadata": {
    "tags": []
   },
   "outputs": [],
   "source": [
    "# add placeholders and import \n",
    "\n",
    "chain1 = Chain([ProbabilisticComponent(LanguageModel(\"OpenAI1\"), Prompt(\"tell me a joke about {subject}.\"), 'joke'), \n",
    "                ProbabilisticComponent(LanguageModel(\"Google1\"), Prompt(\"what do you think of this joke: {joke}?\"), 'other'), \n",
    "                ProbabilisticComponent(LanguageModel(\"Microsoft1\"), Prompt(\"can you explain why this joke is funny: {joke}?\"), 'subject')])\n",
    "\n",
    "chain2 = Chain([ProbabilisticComponent(LanguageModel(\"OpenAI2\"), Prompt(\"tell me a joke about {subject}.\"), 'joke'), \n",
    "                ProbabilisticComponent(LanguageModel(\"Google2\"), Prompt(\"what do you think of this joke: {joke}?\"), 'think'), \n",
    "                ProbabilisticComponent(LanguageModel(\"Microsoft2\"), Prompt(\"can you explain why this joke is funny: {think}?\"), 'lala')])\n",
    "\n",
    "threads1 = Threads([ProbabilisticComponent(LanguageModel(\"OpenAI2\"), Prompt(\"tell me a joke about {lala}.\"), 'joke'), \n",
    "                ProbabilisticComponent(LanguageModel(\"Google2\"), Prompt(\"what do you think of this joke: {else}?\"), 'think'), \n",
    "                ProbabilisticComponent(LanguageModel(\"Microsoft2\"), Prompt(\"can you explain why this joke is funny: {think}?\"), 'kaka')])\n",
    "\n",
    "component = ProbabilisticComponent(LanguageModel(\"OpenAI2\"), Prompt(\"tell me a joke about {other}.\"), 'joke')\n",
    "\n",
    "# TODO this should be a dict of string to the placeholder \n",
    "# TODO collect all placeholders in a dict of name to placeholder\n",
    "# TODO assign a value to the input placeholders"
   ]
  },
  {
   "cell_type": "markdown",
   "id": "4d2d72f0-b4e1-4c59-b4af-1cdf5b8776a8",
   "metadata": {},
   "source": [
    "## Component"
   ]
  },
  {
   "cell_type": "code",
   "execution_count": 6,
   "id": "5c2965b9-1687-40a1-849c-8266d7bd8910",
   "metadata": {
    "tags": []
   },
   "outputs": [
    {
     "data": {
      "text/plain": [
       "{\n",
       "    \"content\": null,\n",
       "    \"inputted\": false,\n",
       "    \"level\": 0,\n",
       "    \"name\": \"name\"\n",
       "}"
      ]
     },
     "execution_count": 6,
     "metadata": {},
     "output_type": "execute_result"
    }
   ],
   "source": [
    "Concept('name')"
   ]
  },
  {
   "cell_type": "code",
   "execution_count": null,
   "id": "5b5b58d0-2855-4eda-8d1d-ba940d001ed8",
   "metadata": {},
   "outputs": [],
   "source": []
  },
  {
   "cell_type": "code",
   "execution_count": 7,
   "id": "9bd04f5d-6756-4a5a-9ac1-fe6957897daf",
   "metadata": {
    "tags": []
   },
   "outputs": [],
   "source": [
    "initial_concepts = [Concept(name='other', content='computer'), Concept(name='something', content='something')]\n",
    "concept_registry = ConceptRegistry(initial_concepts)\n",
    "with use_registry(concept_registry):\n",
    "    component.run()"
   ]
  },
  {
   "cell_type": "code",
   "execution_count": 8,
   "id": "5276937e-7d25-4664-b8ea-94745c010a98",
   "metadata": {
    "tags": []
   },
   "outputs": [
    {
     "data": {
      "text/plain": [
       "['Response of OpenAI2: to (tell me a joke about computer.)']"
      ]
     },
     "execution_count": 8,
     "metadata": {},
     "output_type": "execute_result"
    }
   ],
   "source": [
    "component.memory"
   ]
  },
  {
   "cell_type": "markdown",
   "id": "2ad563c6-9205-46f3-a15c-812aeb65ed53",
   "metadata": {},
   "source": [
    "## Chain"
   ]
  },
  {
   "cell_type": "code",
   "execution_count": null,
   "id": "eef45c63-e79d-4dac-870e-ec03a5762b9d",
   "metadata": {},
   "outputs": [],
   "source": []
  },
  {
   "cell_type": "code",
   "execution_count": 9,
   "id": "3039989d-935b-437d-8cf9-18df6668b935",
   "metadata": {
    "tags": []
   },
   "outputs": [
    {
     "name": "stderr",
     "output_type": "stream",
     "text": [
      "/Users/fuad/Documents/projects/lexflow/src/base/executable.py:153: UserWarning:\n",
      "\n",
      "Overwrite Warning: \n",
      "{\n",
      "    \"content\": \"computer\",\n",
      "    \"inputted\": true,\n",
      "    \"level\": 0,\n",
      "    \"name\": \"subject\"\n",
      "}\n",
      "\n",
      " Is being overwritten by:\n",
      " {\n",
      "    \"content\": \"Response of Microsoft1: to (can you explain why this joke is funny: Response of OpenAI1: to (tell me a joke about computer.)?)\",\n",
      "    \"inputted\": false,\n",
      "    \"level\": 2,\n",
      "    \"name\": \"subject\"\n",
      "}\n",
      "\n"
     ]
    }
   ],
   "source": [
    "# Run the chain\n",
    "initial_concepts = [Concept(name='something', content='something'), Concept(name='subject', content='computer')]\n",
    "concept_registry = ConceptRegistry(initial_concepts)\n",
    "with use_registry(concept_registry):\n",
    "    out = chain1.run()"
   ]
  },
  {
   "cell_type": "code",
   "execution_count": 10,
   "id": "cfa51120-c838-4223-9fbe-b12a649b65b5",
   "metadata": {
    "tags": []
   },
   "outputs": [
    {
     "data": {
      "text/plain": [
       "{\n",
       "    \"concepts\": {\n",
       "        \"joke\": {\n",
       "            \"content\": \"Response of OpenAI1: to (tell me a joke about computer.)\",\n",
       "            \"inputted\": false,\n",
       "            \"level\": 0,\n",
       "            \"name\": \"joke\"\n",
       "        },\n",
       "        \"other\": {\n",
       "            \"content\": \"Response of Google1: to (what do you think of this joke: Response of OpenAI1: to (tell me a joke about computer.)?)\",\n",
       "            \"inputted\": false,\n",
       "            \"level\": 1,\n",
       "            \"name\": \"other\"\n",
       "        },\n",
       "        \"something\": {\n",
       "            \"content\": \"something\",\n",
       "            \"inputted\": true,\n",
       "            \"level\": 0,\n",
       "            \"name\": \"something\"\n",
       "        },\n",
       "        \"subject\": {\n",
       "            \"content\": \"Response of Microsoft1: to (can you explain why this joke is funny: Response of OpenAI1: to (tell me a joke about computer.)?)\",\n",
       "            \"inputted\": false,\n",
       "            \"level\": 2,\n",
       "            \"name\": \"subject\"\n",
       "        }\n",
       "    },\n",
       "    \"initial_concepts\": [\n",
       "        {\n",
       "            \"content\": \"something\",\n",
       "            \"inputted\": true,\n",
       "            \"level\": 0,\n",
       "            \"name\": \"something\"\n",
       "        },\n",
       "        {\n",
       "            \"content\": \"computer\",\n",
       "            \"inputted\": true,\n",
       "            \"level\": 0,\n",
       "            \"name\": \"subject\"\n",
       "        }\n",
       "    ]\n",
       "}"
      ]
     },
     "execution_count": 10,
     "metadata": {},
     "output_type": "execute_result"
    }
   ],
   "source": [
    "concept_registry"
   ]
  },
  {
   "cell_type": "markdown",
   "id": "38233513-c6cb-4f23-8aa8-762ed38b47c9",
   "metadata": {},
   "source": [
    "## Chain of chains"
   ]
  },
  {
   "cell_type": "code",
   "execution_count": 11,
   "id": "3e71b2a9-30c1-4e49-ab8a-df4f693f7ffc",
   "metadata": {
    "tags": []
   },
   "outputs": [],
   "source": [
    "chain3 = Chain([chain1, chain2])"
   ]
  },
  {
   "cell_type": "code",
   "execution_count": 12,
   "id": "471b366b-b2a5-4370-bbfe-d48c40cb1df2",
   "metadata": {
    "tags": []
   },
   "outputs": [
    {
     "data": {
      "text/plain": [
       "{\n",
       "    \"concepts\": {\n",
       "        \"else\": {\n",
       "            \"content\": \"else\",\n",
       "            \"inputted\": true,\n",
       "            \"level\": 0,\n",
       "            \"name\": \"else\"\n",
       "        },\n",
       "        \"joke\": {\n",
       "            \"content\": \"Response of OpenAI2: to (tell me a joke about computer.)\",\n",
       "            \"inputted\": false,\n",
       "            \"level\": 0,\n",
       "            \"name\": \"joke\"\n",
       "        },\n",
       "        \"lala\": {\n",
       "            \"content\": \"Response of Microsoft2: to (can you explain why this joke is funny: Response of Google2: to (what do you think of this joke: Response of OpenAI2: to (tell me a joke about computer.)?)?)\",\n",
       "            \"inputted\": false,\n",
       "            \"level\": 2,\n",
       "            \"name\": \"lala\"\n",
       "        },\n",
       "        \"subject\": {\n",
       "            \"content\": \"computer\",\n",
       "            \"inputted\": true,\n",
       "            \"level\": 0,\n",
       "            \"name\": \"subject\"\n",
       "        },\n",
       "        \"think\": {\n",
       "            \"content\": \"Response of Google2: to (what do you think of this joke: Response of OpenAI2: to (tell me a joke about computer.)?)\",\n",
       "            \"inputted\": false,\n",
       "            \"level\": 1,\n",
       "            \"name\": \"think\"\n",
       "        }\n",
       "    },\n",
       "    \"initial_concepts\": [\n",
       "        {\n",
       "            \"content\": \"computer\",\n",
       "            \"inputted\": true,\n",
       "            \"level\": 0,\n",
       "            \"name\": \"subject\"\n",
       "        },\n",
       "        {\n",
       "            \"content\": \"else\",\n",
       "            \"inputted\": true,\n",
       "            \"level\": 0,\n",
       "            \"name\": \"else\"\n",
       "        }\n",
       "    ]\n",
       "}"
      ]
     },
     "execution_count": 12,
     "metadata": {},
     "output_type": "execute_result"
    }
   ],
   "source": [
    "\n",
    "initial_concepts = [Concept(name='subject', content='computer'), Concept(name='else', content='else')]\n",
    "concept_registry = ConceptRegistry(initial_concepts)\n",
    "with use_registry(concept_registry):\n",
    "    chain3.run()\n",
    "concept_registry"
   ]
  },
  {
   "cell_type": "markdown",
   "id": "c7f8c9ce-4158-4d33-9f61-412bf03de885",
   "metadata": {},
   "source": [
    "## Threads"
   ]
  },
  {
   "cell_type": "code",
   "execution_count": 13,
   "id": "63aa06ec-580e-4299-b929-096424be13ac",
   "metadata": {
    "tags": []
   },
   "outputs": [
    {
     "name": "stderr",
     "output_type": "stream",
     "text": [
      "/Users/fuad/Documents/projects/lexflow/src/base/executable.py:153: UserWarning:\n",
      "\n",
      "Overwrite Warning: \n",
      "{\n",
      "    \"content\": \"something\",\n",
      "    \"inputted\": true,\n",
      "    \"level\": 0,\n",
      "    \"name\": \"think\"\n",
      "}\n",
      "\n",
      " Is being overwritten by:\n",
      " {\n",
      "    \"content\": \"Response of Google2: to (what do you think of this joke: something?)\",\n",
      "    \"inputted\": false,\n",
      "    \"level\": 1,\n",
      "    \"name\": \"think\"\n",
      "}\n",
      "\n"
     ]
    }
   ],
   "source": [
    "initial_concepts = [Concept(name='subject', content='computer'), Concept(name='lala', content='something'), \n",
    "                        Concept(name='think', content='something'), Concept(name='else', content='something')]\n",
    "concept_registry = ConceptRegistry(initial_concepts)\n",
    "with use_registry(concept_registry):\n",
    "    threads1._run()\n"
   ]
  },
  {
   "cell_type": "code",
   "execution_count": 14,
   "id": "7e24e6c7-0db0-4690-a92b-c2b7e0f72ff8",
   "metadata": {
    "tags": []
   },
   "outputs": [
    {
     "data": {
      "text/plain": [
       "{\n",
       "    \"concepts\": {\n",
       "        \"else\": {\n",
       "            \"content\": \"something\",\n",
       "            \"inputted\": true,\n",
       "            \"level\": 0,\n",
       "            \"name\": \"else\"\n",
       "        },\n",
       "        \"joke\": {\n",
       "            \"content\": \"Response of OpenAI2: to (tell me a joke about something.)\",\n",
       "            \"inputted\": false,\n",
       "            \"level\": 1,\n",
       "            \"name\": \"joke\"\n",
       "        },\n",
       "        \"kaka\": {\n",
       "            \"content\": \"Response of Microsoft2: to (can you explain why this joke is funny: something?)\",\n",
       "            \"inputted\": false,\n",
       "            \"level\": 1,\n",
       "            \"name\": \"kaka\"\n",
       "        },\n",
       "        \"lala\": {\n",
       "            \"content\": \"something\",\n",
       "            \"inputted\": true,\n",
       "            \"level\": 0,\n",
       "            \"name\": \"lala\"\n",
       "        },\n",
       "        \"subject\": {\n",
       "            \"content\": \"computer\",\n",
       "            \"inputted\": true,\n",
       "            \"level\": 0,\n",
       "            \"name\": \"subject\"\n",
       "        },\n",
       "        \"think\": {\n",
       "            \"content\": \"Response of Google2: to (what do you think of this joke: something?)\",\n",
       "            \"inputted\": false,\n",
       "            \"level\": 1,\n",
       "            \"name\": \"think\"\n",
       "        }\n",
       "    },\n",
       "    \"initial_concepts\": [\n",
       "        {\n",
       "            \"content\": \"computer\",\n",
       "            \"inputted\": true,\n",
       "            \"level\": 0,\n",
       "            \"name\": \"subject\"\n",
       "        },\n",
       "        {\n",
       "            \"content\": \"something\",\n",
       "            \"inputted\": true,\n",
       "            \"level\": 0,\n",
       "            \"name\": \"lala\"\n",
       "        },\n",
       "        {\n",
       "            \"content\": \"something\",\n",
       "            \"inputted\": true,\n",
       "            \"level\": 0,\n",
       "            \"name\": \"think\"\n",
       "        },\n",
       "        {\n",
       "            \"content\": \"something\",\n",
       "            \"inputted\": true,\n",
       "            \"level\": 0,\n",
       "            \"name\": \"else\"\n",
       "        }\n",
       "    ]\n",
       "}"
      ]
     },
     "execution_count": 14,
     "metadata": {},
     "output_type": "execute_result"
    }
   ],
   "source": [
    "concept_registry"
   ]
  },
  {
   "cell_type": "markdown",
   "id": "6645d099-6463-421e-90e8-234debcc9b51",
   "metadata": {},
   "source": [
    "# More complex"
   ]
  },
  {
   "cell_type": "code",
   "execution_count": 15,
   "id": "d23c1321-5177-4c9c-9262-a43cc9a43a36",
   "metadata": {
    "tags": []
   },
   "outputs": [],
   "source": [
    "# add placeholders and import \n",
    "threads1 = Threads([ProbabilisticComponent(LanguageModel(\"OpenAI2\"), Prompt(\"tell me a joke about {lala}.\"), 'joke'), \n",
    "                ProbabilisticComponent(LanguageModel(\"Google2\"), Prompt(\"what do you think of this joke: {something}?\"), 'think'), \n",
    "                ProbabilisticComponent(LanguageModel(\"Microsoft2\"), Prompt(\"can you explain why this joke is funny: {think}?\"), 'kaka')])\n",
    "\n",
    "chain2 = Chain([ProbabilisticComponent(LanguageModel(\"OpenAI2\"), Prompt(\"tell me a joke about {subject}.\"), 'joke'), \n",
    "                ProbabilisticComponent(LanguageModel(\"Google2\"), Prompt(\"what do you think of this joke: {joke}?\"), 'think'), \n",
    "                ProbabilisticComponent(LanguageModel(\"Microsoft2\"), Prompt(\"can you explain why this joke is funny: {think}?\"), 'lala'),\n",
    "                threads1\n",
    "               ])\n",
    "\n",
    "chain1 = Chain([ProbabilisticComponent(LanguageModel(\"OpenAI1\"), \n",
    "                          Prompt(\"tell me a joke about {subject}.\"), 'haha'), \n",
    "                ProbabilisticComponent(LanguageModel(\"Google1\"), \n",
    "                          Prompt(\"what do you think of this joke: {haha}?\"), 'other'), \n",
    "                ProbabilisticComponent(LanguageModel(\"Microsoft1\"), \n",
    "                          Prompt(\"can you explain why this joke is funny: {haha}?\"), 'subject'),\n",
    "                chain2\n",
    "               ])\n",
    "\n",
    "component = ProbabilisticComponent(LanguageModel(\"OpenAI2\"), Prompt(\"tell me a joke about {other}.\"), 'joke')\n",
    "\n"
   ]
  },
  {
   "cell_type": "code",
   "execution_count": 16,
   "id": "3fb2f7dd-801e-449c-8097-e2eab1457702",
   "metadata": {
    "tags": []
   },
   "outputs": [
    {
     "name": "stderr",
     "output_type": "stream",
     "text": [
      "/Users/fuad/Documents/projects/lexflow/src/base/executable.py:153: UserWarning:\n",
      "\n",
      "Overwrite Warning: \n",
      "{\n",
      "    \"content\": \"Response of OpenAI2: to (tell me a joke about Response of Microsoft1: to (can you explain why this joke is funny: Response of OpenAI1: to (tell me a joke about computer.)?).)\",\n",
      "    \"inputted\": false,\n",
      "    \"level\": 3,\n",
      "    \"name\": \"joke\"\n",
      "}\n",
      "\n",
      " Is being overwritten by:\n",
      " {\n",
      "    \"content\": \"Response of OpenAI2: to (tell me a joke about Response of Microsoft2: to (can you explain why this joke is funny: Response of Google2: to (what do you think of this joke: Response of OpenAI2: to (tell me a joke about Response of Microsoft1: to (can you explain why this joke is funny: Response of OpenAI1: to (tell me a joke about computer.)?).)?)?).)\",\n",
      "    \"inputted\": false,\n",
      "    \"level\": 7,\n",
      "    \"name\": \"joke\"\n",
      "}\n",
      "\n",
      "/Users/fuad/Documents/projects/lexflow/src/base/executable.py:153: UserWarning:\n",
      "\n",
      "Overwrite Warning: \n",
      "{\n",
      "    \"content\": \"Response of Google2: to (what do you think of this joke: Response of OpenAI2: to (tell me a joke about Response of Microsoft1: to (can you explain why this joke is funny: Response of OpenAI1: to (tell me a joke about computer.)?).)?)\",\n",
      "    \"inputted\": false,\n",
      "    \"level\": 4,\n",
      "    \"name\": \"think\"\n",
      "}\n",
      "\n",
      " Is being overwritten by:\n",
      " {\n",
      "    \"content\": \"Response of Google2: to (what do you think of this joke: something?)\",\n",
      "    \"inputted\": false,\n",
      "    \"level\": 7,\n",
      "    \"name\": \"think\"\n",
      "}\n",
      "\n"
     ]
    }
   ],
   "source": [
    "\n",
    "# TODO this should be a dict of string to the placeholder \n",
    "# TODO collect all placeholders in a dict of name to placeholder\n",
    "# TODO assign a value to the input placeholders\n",
    "\n",
    "chain3 = Chain([chain1, chain2, threads1])\n",
    "initial_concepts = [Concept(name='subject', content='computer'), Concept(name='something', content='something')]\n",
    "concept_registry = ConceptRegistry(initial_concepts)\n",
    "with use_registry(concept_registry):\n",
    "    chain1.run()"
   ]
  },
  {
   "cell_type": "code",
   "execution_count": 17,
   "id": "054b18b0-72e1-4a82-a470-7eae1dab626d",
   "metadata": {
    "tags": []
   },
   "outputs": [],
   "source": [
    "\n",
    "# TODO this should be a dict of string to the placeholder \n",
    "# TODO collect all placeholders in a dict of name to placeholder\n",
    "# TODO assign a value to the input placeholders\n",
    "\n",
    "chain3 = Chain([chain1, chain2, threads1])\n",
    "initial_concepts = [Concept(name='subject', content='computer'), Concept(name='something', content='something')]\n",
    "concept_registry = ConceptRegistry(initial_concepts)\n",
    "with use_registry(concept_registry):\n",
    "    chain1.run()"
   ]
  },
  {
   "cell_type": "code",
   "execution_count": 18,
   "id": "6e77a513-e9cb-47ed-847a-30aa0c64d97c",
   "metadata": {},
   "outputs": [
    {
     "data": {
      "text/plain": [
       "{\n",
       "    \"concepts\": {\n",
       "        \"something\": {\n",
       "            \"content\": \"something\",\n",
       "            \"inputted\": true,\n",
       "            \"level\": 0,\n",
       "            \"name\": \"something\"\n",
       "        },\n",
       "        \"subject\": {\n",
       "            \"content\": \"computer\",\n",
       "            \"inputted\": true,\n",
       "            \"level\": 0,\n",
       "            \"name\": \"subject\"\n",
       "        }\n",
       "    },\n",
       "    \"initial_concepts\": [\n",
       "        {\n",
       "            \"content\": \"computer\",\n",
       "            \"inputted\": true,\n",
       "            \"level\": 0,\n",
       "            \"name\": \"subject\"\n",
       "        },\n",
       "        {\n",
       "            \"content\": \"something\",\n",
       "            \"inputted\": true,\n",
       "            \"level\": 0,\n",
       "            \"name\": \"something\"\n",
       "        }\n",
       "    ]\n",
       "}"
      ]
     },
     "execution_count": 18,
     "metadata": {},
     "output_type": "execute_result"
    }
   ],
   "source": [
    "concept_registry"
   ]
  },
  {
   "cell_type": "code",
   "execution_count": null,
   "id": "4298b9fd-5ac9-47a3-9fd9-a4b329743326",
   "metadata": {},
   "outputs": [],
   "source": []
  },
  {
   "cell_type": "code",
   "execution_count": 19,
   "id": "fb37a72f-5782-443a-86d3-f1924b3623a1",
   "metadata": {},
   "outputs": [],
   "source": [
    "# object names should be unique otherwise they will be overwritten "
   ]
  },
  {
   "cell_type": "markdown",
   "id": "529b5552-3d9b-490a-b9e8-44433fd52070",
   "metadata": {},
   "source": [
    "# Listify"
   ]
  },
  {
   "cell_type": "code",
   "execution_count": 20,
   "id": "dff60d71-7235-46fc-b7cb-f596040fda2b",
   "metadata": {
    "tags": []
   },
   "outputs": [],
   "source": [
    "# add placeholders and import \n",
    "threads1 = Threads([ProbabilisticComponent(LanguageModel(\"OpenAI2\"), Prompt(\"tell me a joke about {lala}.\"), 'joke'), \n",
    "                ProbabilisticComponent(LanguageModel(\"Google2\"), Prompt(\"what do you think of this joke: {something}?\"), 'think'), \n",
    "                ProbabilisticComponent(LanguageModel(\"Microsoft2\"), Prompt(\"can you explain why this joke is funny: {think}?\"), 'kaka')])\n",
    "\n",
    "chain2 = Chain([ProbabilisticComponent(LanguageModel(\"OpenAI2\"), Prompt(\"tell me a joke about {subject}.\"), 'joke'), \n",
    "                ProbabilisticComponent(LanguageModel(\"Google2\"), Prompt(\"what do you think of this joke: {joke}?\"), 'think'), \n",
    "                ProbabilisticComponent(LanguageModel(\"Microsoft2\"), Prompt(\"can you explain why this joke is funny: {think}?\"), 'lala'),\n",
    "                threads1\n",
    "               ])\n",
    "\n",
    "chain1 = Chain([ProbabilisticComponent(LanguageModel(\"OpenAI1\"), \n",
    "                          Prompt(\"tell me a joke about {subject}.\"), 'haha'), \n",
    "                ProbabilisticComponent(LanguageModel(\"Google1\"), \n",
    "                          Prompt(\"what do you think of this joke: {haha}?\"), 'other'), \n",
    "                ProbabilisticComponent(LanguageModel(\"Microsoft1\"), \n",
    "                          Prompt(\"can you explain why this joke is funny: {haha}?\"), 'subject'),\n",
    "                chain2\n",
    "               ])\n",
    "\n",
    "component = ProbabilisticComponent(LanguageModel(\"OpenAI2\"), Prompt(\"tell me a joke about {other}.\"), 'joke')\n",
    "\n",
    "chain3 = Chain([chain1, chain2, threads1])\n"
   ]
  },
  {
   "cell_type": "code",
   "execution_count": 21,
   "id": "cdf5d5b7-43d9-4539-be8a-8ad4c3fe7e13",
   "metadata": {
    "tags": []
   },
   "outputs": [],
   "source": [
    "# concept_registry"
   ]
  },
  {
   "cell_type": "code",
   "execution_count": 22,
   "id": "cb4ac3c1-8239-4e20-9df6-2eda337db880",
   "metadata": {
    "tags": []
   },
   "outputs": [
    {
     "name": "stdout",
     "output_type": "stream",
     "text": [
      "['other']\n",
      "{'other': {\n",
      "    \"content\": \"computer\",\n",
      "    \"inputted\": true,\n",
      "    \"level\": 0,\n",
      "    \"name\": \"other\"\n",
      "}, 'something': {\n",
      "    \"content\": \"something\",\n",
      "    \"inputted\": true,\n",
      "    \"level\": 0,\n",
      "    \"name\": \"something\"\n",
      "}}\n"
     ]
    }
   ],
   "source": [
    "initial_concepts = [Concept(name='other', content='computer'), Concept(name='something', content='something')]\n",
    "concept_registry = ConceptRegistry(initial_concepts)\n",
    "\n",
    "chain = Chain([SymbolicComponent(lambda x: [x['other'].content + 'processed', 1], ['other'], ['other_1', 'other_2'])])\n",
    "with use_registry(concept_registry):\n",
    "    chain.run()"
   ]
  },
  {
   "cell_type": "code",
   "execution_count": 23,
   "id": "5cd66016-d7e3-445e-bbdd-0a285bfd8a90",
   "metadata": {
    "tags": []
   },
   "outputs": [
    {
     "data": {
      "text/plain": [
       "{\n",
       "    \"concepts\": {\n",
       "        \"other\": {\n",
       "            \"content\": \"computer\",\n",
       "            \"inputted\": true,\n",
       "            \"level\": 0,\n",
       "            \"name\": \"other\"\n",
       "        },\n",
       "        \"other_1\": {\n",
       "            \"content\": \"computerprocessed\",\n",
       "            \"inputted\": false,\n",
       "            \"level\": 0,\n",
       "            \"name\": \"other_1\"\n",
       "        },\n",
       "        \"other_2\": {\n",
       "            \"content\": 1,\n",
       "            \"inputted\": false,\n",
       "            \"level\": 0,\n",
       "            \"name\": \"other_2\"\n",
       "        },\n",
       "        \"something\": {\n",
       "            \"content\": \"something\",\n",
       "            \"inputted\": true,\n",
       "            \"level\": 0,\n",
       "            \"name\": \"something\"\n",
       "        }\n",
       "    },\n",
       "    \"initial_concepts\": [\n",
       "        {\n",
       "            \"content\": \"computer\",\n",
       "            \"inputted\": true,\n",
       "            \"level\": 0,\n",
       "            \"name\": \"other\"\n",
       "        },\n",
       "        {\n",
       "            \"content\": \"something\",\n",
       "            \"inputted\": true,\n",
       "            \"level\": 0,\n",
       "            \"name\": \"something\"\n",
       "        }\n",
       "    ]\n",
       "}"
      ]
     },
     "execution_count": 23,
     "metadata": {},
     "output_type": "execute_result"
    }
   ],
   "source": [
    "concept_registry"
   ]
  },
  {
   "cell_type": "code",
   "execution_count": 24,
   "id": "1384e633-8934-4a9d-9cbd-17a6f125cb26",
   "metadata": {
    "tags": []
   },
   "outputs": [
    {
     "ename": "AttributeError",
     "evalue": "'Concept' object has no attribute 'type'",
     "output_type": "error",
     "traceback": [
      "\u001b[0;31m---------------------------------------------------------------------------\u001b[0m",
      "\u001b[0;31mAttributeError\u001b[0m                            Traceback (most recent call last)",
      "Cell \u001b[0;32mIn[24], line 11\u001b[0m\n\u001b[1;32m      9\u001b[0m concept_registry \u001b[38;5;241m=\u001b[39m ConceptRegistry(initial_concepts)\n\u001b[1;32m     10\u001b[0m \u001b[38;5;28;01mwith\u001b[39;00m use_registry(concept_registry):\n\u001b[0;32m---> 11\u001b[0m     \u001b[43mchain1\u001b[49m\u001b[38;5;241;43m.\u001b[39;49m\u001b[43mrun\u001b[49m\u001b[43m(\u001b[49m\u001b[43m)\u001b[49m\n",
      "File \u001b[0;32m~/Documents/projects/lexflow/src/base/executable.py:297\u001b[0m, in \u001b[0;36mChain.run\u001b[0;34m(self, callback, level)\u001b[0m\n\u001b[1;32m    296\u001b[0m \u001b[38;5;28;01mdef\u001b[39;00m \u001b[38;5;21mrun\u001b[39m(\u001b[38;5;28mself\u001b[39m, callback\u001b[38;5;241m=\u001b[39m\u001b[38;5;28;01mNone\u001b[39;00m, level\u001b[38;5;241m=\u001b[39m\u001b[38;5;241m0\u001b[39m):\n\u001b[0;32m--> 297\u001b[0m     \u001b[38;5;28;43mself\u001b[39;49m\u001b[38;5;241;43m.\u001b[39;49m\u001b[43m_run\u001b[49m\u001b[43m(\u001b[49m\u001b[43mcallback\u001b[49m\u001b[43m,\u001b[49m\u001b[43m \u001b[49m\u001b[43mlevel\u001b[49m\u001b[43m)\u001b[49m\n",
      "File \u001b[0;32m~/Documents/projects/lexflow/src/base/executable.py:292\u001b[0m, in \u001b[0;36mChain._run\u001b[0;34m(self, callback, level)\u001b[0m\n\u001b[1;32m    290\u001b[0m         level \u001b[38;5;241m+\u001b[39m\u001b[38;5;241m=\u001b[39m \u001b[38;5;241m1\u001b[39m\n\u001b[1;32m    291\u001b[0m     \u001b[38;5;28;01melif\u001b[39;00m \u001b[38;5;28misinstance\u001b[39m(component, ExecutableOrchestrator):\n\u001b[0;32m--> 292\u001b[0m         level \u001b[38;5;241m=\u001b[39m \u001b[43mcomponent\u001b[49m\u001b[38;5;241;43m.\u001b[39;49m\u001b[43m_run\u001b[49m\u001b[43m(\u001b[49m\u001b[43mcallback\u001b[49m\u001b[43m,\u001b[49m\u001b[43m \u001b[49m\u001b[43mlevel\u001b[49m\u001b[38;5;241;43m=\u001b[39;49m\u001b[43mlevel\u001b[49m\u001b[43m)\u001b[49m\n\u001b[1;32m    294\u001b[0m \u001b[38;5;28;01mreturn\u001b[39;00m level\n",
      "File \u001b[0;32m~/Documents/projects/lexflow/src/base/executable.py:313\u001b[0m, in \u001b[0;36mThreads._run\u001b[0;34m(self, callback, level)\u001b[0m\n\u001b[1;32m    311\u001b[0m level \u001b[38;5;241m+\u001b[39m\u001b[38;5;241m=\u001b[39m \u001b[38;5;241m1\u001b[39m\n\u001b[1;32m    312\u001b[0m outputted_concepts_list \u001b[38;5;241m=\u001b[39m \u001b[38;5;28mlist\u001b[39m()\n\u001b[0;32m--> 313\u001b[0m \u001b[38;5;28;01mfor\u001b[39;00m component \u001b[38;5;129;01min\u001b[39;00m \u001b[38;5;28mself\u001b[39m\u001b[38;5;241m.\u001b[39mcomponents:\n\u001b[1;32m    314\u001b[0m     \u001b[38;5;28;01mif\u001b[39;00m \u001b[38;5;28misinstance\u001b[39m(component, Executable):\n\u001b[1;32m    315\u001b[0m         output_concept_list: List[Concept] \u001b[38;5;241m=\u001b[39m component\u001b[38;5;241m.\u001b[39mrun(callback)\n",
      "File \u001b[0;32m~/Documents/projects/lexflow/src/base/executable.py:215\u001b[0m, in \u001b[0;36mProbabilisticComponent.create_iterable_from_concept\u001b[0;34m(cls, concept_name, language_model, prompt, output)\u001b[0m\n\u001b[1;32m    213\u001b[0m concept_registry \u001b[38;5;241m=\u001b[39m RegistryAccessor\u001b[38;5;241m.\u001b[39mget_current_registry()\n\u001b[1;32m    214\u001b[0m concept \u001b[38;5;241m=\u001b[39m concept_registry\u001b[38;5;241m.\u001b[39mconcepts[concept_name]\n\u001b[0;32m--> 215\u001b[0m \u001b[38;5;28;01mif\u001b[39;00m \u001b[43mconcept\u001b[49m\u001b[38;5;241;43m.\u001b[39;49m\u001b[43mtype\u001b[49m \u001b[38;5;241m!=\u001b[39m \u001b[38;5;124m'\u001b[39m\u001b[38;5;124mlist\u001b[39m\u001b[38;5;124m'\u001b[39m:\n\u001b[1;32m    216\u001b[0m     \u001b[38;5;28;01mraise\u001b[39;00m \u001b[38;5;167;01mException\u001b[39;00m(\n\u001b[1;32m    217\u001b[0m         \u001b[38;5;124mf\u001b[39m\u001b[38;5;124m'\u001b[39m\u001b[38;5;124mYou need to feed in a concept of type list. Current concept \u001b[39m\u001b[38;5;132;01m{\u001b[39;00mconcept_name\u001b[38;5;132;01m}\u001b[39;00m\u001b[38;5;124m is of type \u001b[39m\u001b[38;5;132;01m{\u001b[39;00mconcept\u001b[38;5;241m.\u001b[39mtype\u001b[38;5;132;01m}\u001b[39;00m\u001b[38;5;124m'\u001b[39m)\n\u001b[1;32m    218\u001b[0m \u001b[38;5;28;01mif\u001b[39;00m output\u001b[38;5;241m.\u001b[39mtype \u001b[38;5;241m!=\u001b[39m \u001b[38;5;124m'\u001b[39m\u001b[38;5;124mlist\u001b[39m\u001b[38;5;124m'\u001b[39m:\n",
      "File \u001b[0;32m~/opt/miniconda3/envs/lexiflow/lib/python3.10/site-packages/pydantic/main.py:726\u001b[0m, in \u001b[0;36mBaseModel.__getattr__\u001b[0;34m(self, item)\u001b[0m\n\u001b[1;32m    723\u001b[0m     \u001b[38;5;28;01mreturn\u001b[39;00m \u001b[38;5;28msuper\u001b[39m()\u001b[38;5;241m.\u001b[39m\u001b[38;5;21m__getattribute__\u001b[39m(item)  \u001b[38;5;66;03m# Raises AttributeError if appropriate\u001b[39;00m\n\u001b[1;32m    724\u001b[0m \u001b[38;5;28;01melse\u001b[39;00m:\n\u001b[1;32m    725\u001b[0m     \u001b[38;5;66;03m# this is the current error\u001b[39;00m\n\u001b[0;32m--> 726\u001b[0m     \u001b[38;5;28;01mraise\u001b[39;00m \u001b[38;5;167;01mAttributeError\u001b[39;00m(\u001b[38;5;124mf\u001b[39m\u001b[38;5;124m'\u001b[39m\u001b[38;5;132;01m{\u001b[39;00m\u001b[38;5;28mtype\u001b[39m(\u001b[38;5;28mself\u001b[39m)\u001b[38;5;241m.\u001b[39m\u001b[38;5;18m__name__\u001b[39m\u001b[38;5;132;01m!r}\u001b[39;00m\u001b[38;5;124m object has no attribute \u001b[39m\u001b[38;5;132;01m{\u001b[39;00mitem\u001b[38;5;132;01m!r}\u001b[39;00m\u001b[38;5;124m'\u001b[39m)\n",
      "\u001b[0;31mAttributeError\u001b[0m: 'Concept' object has no attribute 'type'"
     ]
    }
   ],
   "source": [
    "\n",
    "\n",
    "chain1 = Chain(\n",
    "    [Threads(ProbabilisticComponent.create_iterable_from_concept('subject', LanguageModel(\"OpenAI2\"), Prompt(\"tell me a joke about {subject}.\"), Concept('joke', type='list')))]\n",
    ")\n",
    "\n",
    "c = Concept(name='subject', type='list')\n",
    "c.assign_content('computer\\nkeyboard')\n",
    "\n",
    "initial_concepts = [c]\n",
    "concept_registry = ConceptRegistry(initial_concepts)\n",
    "with use_registry(concept_registry):\n",
    "    chain1.run()"
   ]
  },
  {
   "cell_type": "code",
   "execution_count": null,
   "id": "7d4d063f-d112-409d-b2cd-745bba941655",
   "metadata": {
    "tags": []
   },
   "outputs": [],
   "source": [
    "concept_registry"
   ]
  },
  {
   "cell_type": "code",
   "execution_count": null,
   "id": "4c45c51f-9e6e-4ce8-a7ab-b2e9c70fac03",
   "metadata": {
    "tags": []
   },
   "outputs": [],
   "source": [
    "comp1 =ProbabilisticComponent.create(**{\n",
    "        'model': LanguageModel(\"OpenAI1\"),\n",
    "        'prompt': Prompt(\"tell me a joke about {subject}.\"),\n",
    "        'output_concept': Concept('joke')\n",
    "    })\n",
    "\n",
    "chain1 = Chain([comp1])\n"
   ]
  },
  {
   "cell_type": "code",
   "execution_count": 21,
   "id": "56464584-2c81-45b7-8ffa-da74a421faa8",
   "metadata": {
    "tags": []
   },
   "outputs": [],
   "source": [
    "configs = [\n",
    "    {\n",
    "        'model': LanguageModel(\"OpenAI1\"),\n",
    "        'prompt': Prompt(\"tell me a joke about {subject}.\"),\n",
    "        'output_concept': Concept('joke')\n",
    "    },\n",
    "    {\n",
    "        'model': LanguageModel(\"OpenAI2\"),\n",
    "        'prompt': Prompt(\"what do you think of this joke: {joke}?\"),\n",
    "        'output_concept': Concept('think')\n",
    "    }\n",
    "    # ... add more configs as needed\n",
    "]\n",
    "comp1 = ProbabilisticComponent.create_iterable(configs)\n",
    "chain1 = Chain(comp1)"
   ]
  },
  {
   "cell_type": "code",
   "execution_count": 22,
   "id": "faf8399f-67ed-4c4a-ab37-d6a514901003",
   "metadata": {},
   "outputs": [],
   "source": [
    "\n",
    "# TODO this should be a dict of string to the placeholder \n",
    "# TODO collect all placeholders in a dict of name to placeholder\n",
    "# TODO assign a value to the input placeholders\n",
    "\n",
    "\n",
    "initial_concepts = [Concept(name='subject', string_content='computer'), Concept(name='something', string_content='something')]\n",
    "concept_registry = ConceptRegistry(initial_concepts)\n",
    "with use_registry(concept_registry):\n",
    "    chain1.run()"
   ]
  },
  {
   "cell_type": "code",
   "execution_count": 23,
   "id": "160fb70c-4652-4ef1-b25f-01f1a22dd59d",
   "metadata": {},
   "outputs": [
    {
     "data": {
      "text/plain": [
       "ConceptRegistry:\n",
       "  - subject:\n",
       "    Name: subject\n",
       "    Type: identity\n",
       "    Choice: all\n",
       "    Listify_func: <function listify_func at 0x7fe7549f3b50>\n",
       "    String_content: computer\n",
       "    List_content: None\n",
       "    List_concepts: None\n",
       "    Inputted: True\n",
       "    Level: 0\n",
       "  - something:\n",
       "    Name: something\n",
       "    Type: identity\n",
       "    Choice: all\n",
       "    Listify_func: <function listify_func at 0x7fe7549f3b50>\n",
       "    String_content: something\n",
       "    List_content: None\n",
       "    List_concepts: None\n",
       "    Inputted: True\n",
       "    Level: 0\n",
       "  - joke:\n",
       "    Name: joke\n",
       "    Type: identity\n",
       "    Choice: all\n",
       "    Listify_func: <function listify_func at 0x7fe7549f3b50>\n",
       "    String_content: Response of OpenAI1: to (tell me a joke about computer.)\n",
       "    List_content: None\n",
       "    List_concepts: None\n",
       "    Inputted: False\n",
       "    Level: 0\n",
       "  - think:\n",
       "    Name: think\n",
       "    Type: identity\n",
       "    Choice: all\n",
       "    Listify_func: <function listify_func at 0x7fe7549f3b50>\n",
       "    String_content: Response of OpenAI2: to (what do you think of this joke: Response of OpenAI1: to (tell me a joke about computer.)?)\n",
       "    List_content: None\n",
       "    List_concepts: None\n",
       "    Inputted: False\n",
       "    Level: 1"
      ]
     },
     "execution_count": 23,
     "metadata": {},
     "output_type": "execute_result"
    }
   ],
   "source": [
    "concept_registry"
   ]
  },
  {
   "cell_type": "code",
   "execution_count": null,
   "id": "64d6c299-20ea-4c64-885c-75e87d9c44a6",
   "metadata": {},
   "outputs": [],
   "source": []
  },
  {
   "cell_type": "markdown",
   "id": "834a5562-8fe7-47df-a0ec-0817e149a121",
   "metadata": {},
   "source": [
    "# Data Class experiment"
   ]
  },
  {
   "cell_type": "code",
   "execution_count": 23,
   "id": "94e967da-b77a-4669-9f88-67c6e94e1ced",
   "metadata": {
    "tags": []
   },
   "outputs": [],
   "source": [
    "from pydantic.dataclasses import dataclass as pydantic_dataclass"
   ]
  },
  {
   "cell_type": "code",
   "execution_count": 26,
   "id": "594206c4-a8df-4a0d-b6f8-3b9f3ffc3fff",
   "metadata": {
    "tags": []
   },
   "outputs": [],
   "source": [
    "@pydantic_dataclass\n",
    "class Test:\n",
    "    something = []"
   ]
  },
  {
   "cell_type": "code",
   "execution_count": 31,
   "id": "bd17f432-6ff9-4eb5-93a2-72e300543d25",
   "metadata": {
    "tags": []
   },
   "outputs": [],
   "source": [
    "t = Test(e='that')"
   ]
  },
  {
   "cell_type": "code",
   "execution_count": 34,
   "id": "90c9e1bc-824a-4e94-8bd7-f2ce1b1bea07",
   "metadata": {
    "tags": []
   },
   "outputs": [
    {
     "data": {
      "text/plain": [
       "Test()"
      ]
     },
     "execution_count": 34,
     "metadata": {},
     "output_type": "execute_result"
    }
   ],
   "source": [
    "t"
   ]
  },
  {
   "cell_type": "code",
   "execution_count": null,
   "id": "9a747641-c539-4c26-a249-aae163373cd4",
   "metadata": {},
   "outputs": [],
   "source": []
  }
 ],
 "metadata": {
  "kernelspec": {
   "display_name": "Python [conda env:lexiflow] *",
   "language": "python",
   "name": "conda-env-lexiflow-py"
  },
  "language_info": {
   "codemirror_mode": {
    "name": "ipython",
    "version": 3
   },
   "file_extension": ".py",
   "mimetype": "text/x-python",
   "name": "python",
   "nbconvert_exporter": "python",
   "pygments_lexer": "ipython3",
   "version": "3.10.12"
  }
 },
 "nbformat": 4,
 "nbformat_minor": 5
}
