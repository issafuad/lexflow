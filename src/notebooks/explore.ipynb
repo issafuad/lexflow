{
 "cells": [
  {
   "cell_type": "code",
   "execution_count": 1,
   "id": "e619b338-5dd9-42c1-8449-2c83efbb08ad",
   "metadata": {
    "tags": []
   },
   "outputs": [],
   "source": [
    "import sys\n",
    "import os\n",
    "sys.path.insert(0, os.path.abspath(os.path.join('../../')))\n",
    "import logging\n",
    "# Logging setup\n",
    "handler = logging.StreamHandler(sys.stdout)\n",
    "formatter = logging.Formatter('%(asctime)s - %(name)s - %(levelname)s - %(message)s')\n",
    "handler.setFormatter(formatter)\n",
    "\n",
    "module_logger = logging.getLogger()\n",
    "module_logger.addHandler(handler)\n",
    "module_logger.setLevel(logging.INFO)"
   ]
  },
  {
   "cell_type": "code",
   "execution_count": 2,
   "id": "ba386a3c-4852-4491-947e-7ebc322f7e2a",
   "metadata": {
    "tags": []
   },
   "outputs": [],
   "source": [
    "%load_ext autoreload\n",
    "%autoreload 2"
   ]
  },
  {
   "cell_type": "code",
   "execution_count": 3,
   "id": "dd1da0e7-1e16-492a-abca-2832c4b87a15",
   "metadata": {
    "tags": []
   },
   "outputs": [],
   "source": [
    "from src.base import LanguageModel, Openai, Chain, Prompt, ProbabilisticComponent, SymbolicComponent, Threads, Concept, ConceptRegistry, use_registry, RegistryAccessor\n",
    "import pandas as pd\n",
    "import dtale"
   ]
  },
  {
   "cell_type": "code",
   "execution_count": null,
   "id": "23621dd0-800c-48d3-b830-6f6a54410d88",
   "metadata": {
    "tags": []
   },
   "outputs": [],
   "source": []
  },
  {
   "cell_type": "markdown",
   "id": "d20d4f7e-37e5-46dd-a286-e853e302f1cc",
   "metadata": {
    "tags": []
   },
   "source": [
    "# tests"
   ]
  },
  {
   "cell_type": "code",
   "execution_count": 4,
   "id": "42101420-f146-4b81-8831-1ed3d095f32c",
   "metadata": {
    "tags": []
   },
   "outputs": [],
   "source": [
    "# pd.DataFrame(chain.memory)\n",
    "# dtale.show(pd.DataFrame(lm3.memory))\n",
    "\n",
    "# parsers\n",
    "# list as output\n",
    "# routers\n",
    "# retriever\n"
   ]
  },
  {
   "cell_type": "code",
   "execution_count": 5,
   "id": "31921e3b-7cd8-4b6d-a660-4fa7b34e1b43",
   "metadata": {
    "tags": []
   },
   "outputs": [],
   "source": [
    "# add placeholders and import \n",
    "\n",
    "\n",
    "chain1 = Chain([\n",
    "                ProbabilisticComponent(LanguageModel(\"OpenAI1\"), Prompt(\"tell me a joke about {subject}.\"), 'joke'), \n",
    "                ProbabilisticComponent(LanguageModel(\"Google1\"), Prompt(\"what do you think of this joke: {joke}?\"), 'other'), \n",
    "                ProbabilisticComponent(LanguageModel(\"Microsoft1\"), Prompt(\"can you explain why this joke is funny: {joke}?\"), 'subject')])\n",
    "\n",
    "chain2 = Chain([ProbabilisticComponent(LanguageModel(\"OpenAI2\"), Prompt(\"tell me a joke about {subject}.\"), 'joke'), \n",
    "                ProbabilisticComponent(LanguageModel(\"Google2\"), Prompt(\"what do you think of this joke: {joke}?\"), 'think'), \n",
    "                ProbabilisticComponent(LanguageModel(\"Microsoft2\"), Prompt(\"can you explain why this joke is funny: {think}?\"), 'lala')])\n",
    "\n",
    "threads1 = Threads([ProbabilisticComponent(LanguageModel(\"OpenAI2\"), Prompt(\"tell me a joke about {lala}.\"), 'joke'), \n",
    "                ProbabilisticComponent(LanguageModel(\"Google2\"), Prompt(\"what do you think of this joke: {else}?\"), 'think'), \n",
    "                ProbabilisticComponent(LanguageModel(\"Microsoft2\"), Prompt(\"can you explain why this joke is funny: {think}?\"), 'kaka')])\n",
    "\n",
    "\n",
    "# TODO this should be a dict of string to the placeholder \n",
    "# TODO collect all placeholders in a dict of name to placeholder\n",
    "# TODO assign a value to the input placeholders"
   ]
  },
  {
   "cell_type": "code",
   "execution_count": null,
   "id": "5b9f18ae-a9a2-4aee-86d1-f9acc02e1fb0",
   "metadata": {
    "tags": []
   },
   "outputs": [],
   "source": []
  },
  {
   "cell_type": "markdown",
   "id": "4d2d72f0-b4e1-4c59-b4af-1cdf5b8776a8",
   "metadata": {},
   "source": [
    "## Component"
   ]
  },
  {
   "cell_type": "code",
   "execution_count": 6,
   "id": "9bd04f5d-6756-4a5a-9ac1-fe6957897daf",
   "metadata": {
    "tags": []
   },
   "outputs": [],
   "source": [
    "component = ProbabilisticComponent(LanguageModel(\"OpenAI2\"), Prompt(\"tell me a joke about {other}.\"), 'joke')\n",
    "initial_concepts = [Concept(name='other', content='computer'), Concept(name='something', content='something')]\n",
    "concept_registry = ConceptRegistry(initial_concepts)\n",
    "with use_registry(concept_registry):\n",
    "    component.run()"
   ]
  },
  {
   "cell_type": "code",
   "execution_count": 7,
   "id": "5276937e-7d25-4664-b8ea-94745c010a98",
   "metadata": {
    "tags": []
   },
   "outputs": [
    {
     "data": {
      "text/plain": [
       "['Response of OpenAI2: to (tell me a joke about computer.)']"
      ]
     },
     "execution_count": 7,
     "metadata": {},
     "output_type": "execute_result"
    }
   ],
   "source": [
    "component.memory"
   ]
  },
  {
   "cell_type": "markdown",
   "id": "2ad563c6-9205-46f3-a15c-812aeb65ed53",
   "metadata": {},
   "source": [
    "## Chain"
   ]
  },
  {
   "cell_type": "code",
   "execution_count": null,
   "id": "eef45c63-e79d-4dac-870e-ec03a5762b9d",
   "metadata": {},
   "outputs": [],
   "source": []
  },
  {
   "cell_type": "code",
   "execution_count": 8,
   "id": "3039989d-935b-437d-8cf9-18df6668b935",
   "metadata": {
    "tags": []
   },
   "outputs": [
    {
     "name": "stderr",
     "output_type": "stream",
     "text": [
      "/Users/fuad/Documents/projects/lexflow/src/base/executable.py:200: UserWarning:\n",
      "\n",
      "Overwrite Warning: \n",
      "{\n",
      "    \"content\": \"computer\",\n",
      "    \"inputted\": true,\n",
      "    \"level\": 0,\n",
      "    \"link\": null,\n",
      "    \"name\": \"subject\"\n",
      "}\n",
      "\n",
      " Is being overwritten by:\n",
      " {\n",
      "    \"content\": \"Response of Microsoft1: to (can you explain why this joke is funny: Response of OpenAI1: to (tell me a joke about computer.)?)\",\n",
      "    \"inputted\": false,\n",
      "    \"level\": 3,\n",
      "    \"link\": null,\n",
      "    \"name\": \"subject\"\n",
      "}\n",
      "\n"
     ]
    }
   ],
   "source": [
    "# Run the chain\n",
    "initial_concepts = [Concept(name='something', content='something'), Concept(name='subject', content='computer')]\n",
    "concept_registry = ConceptRegistry(initial_concepts)\n",
    "with use_registry(concept_registry):\n",
    "    out = chain1.run()"
   ]
  },
  {
   "cell_type": "code",
   "execution_count": 9,
   "id": "cfa51120-c838-4223-9fbe-b12a649b65b5",
   "metadata": {
    "tags": []
   },
   "outputs": [
    {
     "data": {
      "text/plain": [
       "{\n",
       "    \"concepts\": {\n",
       "        \"joke\": {\n",
       "            \"content\": \"Response of OpenAI1: to (tell me a joke about computer.)\",\n",
       "            \"inputted\": false,\n",
       "            \"level\": 1,\n",
       "            \"link\": null,\n",
       "            \"name\": \"joke\"\n",
       "        },\n",
       "        \"other\": {\n",
       "            \"content\": \"Response of Google1: to (what do you think of this joke: Response of OpenAI1: to (tell me a joke about computer.)?)\",\n",
       "            \"inputted\": false,\n",
       "            \"level\": 2,\n",
       "            \"link\": null,\n",
       "            \"name\": \"other\"\n",
       "        },\n",
       "        \"something\": {\n",
       "            \"content\": \"something\",\n",
       "            \"inputted\": true,\n",
       "            \"level\": 0,\n",
       "            \"link\": null,\n",
       "            \"name\": \"something\"\n",
       "        },\n",
       "        \"subject\": {\n",
       "            \"content\": \"Response of Microsoft1: to (can you explain why this joke is funny: Response of OpenAI1: to (tell me a joke about computer.)?)\",\n",
       "            \"inputted\": false,\n",
       "            \"level\": 3,\n",
       "            \"link\": null,\n",
       "            \"name\": \"subject\"\n",
       "        }\n",
       "    },\n",
       "    \"initial_concepts\": [\n",
       "        {\n",
       "            \"content\": \"something\",\n",
       "            \"inputted\": true,\n",
       "            \"level\": 0,\n",
       "            \"link\": null,\n",
       "            \"name\": \"something\"\n",
       "        },\n",
       "        {\n",
       "            \"content\": \"computer\",\n",
       "            \"inputted\": true,\n",
       "            \"level\": 0,\n",
       "            \"link\": null,\n",
       "            \"name\": \"subject\"\n",
       "        }\n",
       "    ]\n",
       "}"
      ]
     },
     "execution_count": 9,
     "metadata": {},
     "output_type": "execute_result"
    }
   ],
   "source": [
    "concept_registry"
   ]
  },
  {
   "cell_type": "markdown",
   "id": "38233513-c6cb-4f23-8aa8-762ed38b47c9",
   "metadata": {},
   "source": [
    "## Chain of chains"
   ]
  },
  {
   "cell_type": "code",
   "execution_count": 10,
   "id": "3e71b2a9-30c1-4e49-ab8a-df4f693f7ffc",
   "metadata": {
    "tags": []
   },
   "outputs": [],
   "source": [
    "chain3 = Chain([chain1, chain2])"
   ]
  },
  {
   "cell_type": "code",
   "execution_count": 11,
   "id": "471b366b-b2a5-4370-bbfe-d48c40cb1df2",
   "metadata": {
    "tags": []
   },
   "outputs": [
    {
     "data": {
      "text/plain": [
       "{\n",
       "    \"concepts\": {\n",
       "        \"else\": {\n",
       "            \"content\": \"else\",\n",
       "            \"inputted\": true,\n",
       "            \"level\": 0,\n",
       "            \"link\": null,\n",
       "            \"name\": \"else\"\n",
       "        },\n",
       "        \"joke\": {\n",
       "            \"content\": \"Response of OpenAI2: to (tell me a joke about computer.)\",\n",
       "            \"inputted\": false,\n",
       "            \"level\": 1,\n",
       "            \"link\": null,\n",
       "            \"name\": \"joke\"\n",
       "        },\n",
       "        \"lala\": {\n",
       "            \"content\": \"Response of Microsoft2: to (can you explain why this joke is funny: Response of Google2: to (what do you think of this joke: Response of OpenAI2: to (tell me a joke about computer.)?)?)\",\n",
       "            \"inputted\": false,\n",
       "            \"level\": 3,\n",
       "            \"link\": null,\n",
       "            \"name\": \"lala\"\n",
       "        },\n",
       "        \"subject\": {\n",
       "            \"content\": \"computer\",\n",
       "            \"inputted\": true,\n",
       "            \"level\": 0,\n",
       "            \"link\": null,\n",
       "            \"name\": \"subject\"\n",
       "        },\n",
       "        \"think\": {\n",
       "            \"content\": \"Response of Google2: to (what do you think of this joke: Response of OpenAI2: to (tell me a joke about computer.)?)\",\n",
       "            \"inputted\": false,\n",
       "            \"level\": 2,\n",
       "            \"link\": null,\n",
       "            \"name\": \"think\"\n",
       "        }\n",
       "    },\n",
       "    \"initial_concepts\": [\n",
       "        {\n",
       "            \"content\": \"computer\",\n",
       "            \"inputted\": true,\n",
       "            \"level\": 0,\n",
       "            \"link\": null,\n",
       "            \"name\": \"subject\"\n",
       "        },\n",
       "        {\n",
       "            \"content\": \"else\",\n",
       "            \"inputted\": true,\n",
       "            \"level\": 0,\n",
       "            \"link\": null,\n",
       "            \"name\": \"else\"\n",
       "        }\n",
       "    ]\n",
       "}"
      ]
     },
     "execution_count": 11,
     "metadata": {},
     "output_type": "execute_result"
    }
   ],
   "source": [
    "\n",
    "initial_concepts = [Concept(name='subject', content='computer'), Concept(name='else', content='else')]\n",
    "concept_registry = ConceptRegistry(initial_concepts)\n",
    "with use_registry(concept_registry):\n",
    "    chain3.run()\n",
    "concept_registry"
   ]
  },
  {
   "cell_type": "markdown",
   "id": "c7f8c9ce-4158-4d33-9f61-412bf03de885",
   "metadata": {},
   "source": [
    "## Threads"
   ]
  },
  {
   "cell_type": "code",
   "execution_count": 12,
   "id": "63aa06ec-580e-4299-b929-096424be13ac",
   "metadata": {
    "tags": []
   },
   "outputs": [
    {
     "name": "stderr",
     "output_type": "stream",
     "text": [
      "/Users/fuad/Documents/projects/lexflow/src/base/executable.py:200: UserWarning:\n",
      "\n",
      "Overwrite Warning: \n",
      "{\n",
      "    \"content\": \"something\",\n",
      "    \"inputted\": true,\n",
      "    \"level\": 0,\n",
      "    \"link\": null,\n",
      "    \"name\": \"think\"\n",
      "}\n",
      "\n",
      " Is being overwritten by:\n",
      " {\n",
      "    \"content\": \"Response of Google2: to (what do you think of this joke: something?)\",\n",
      "    \"inputted\": false,\n",
      "    \"level\": 1,\n",
      "    \"link\": null,\n",
      "    \"name\": \"think\"\n",
      "}\n",
      "\n"
     ]
    }
   ],
   "source": [
    "initial_concepts = [Concept(name='subject', content='computer'), Concept(name='lala', content='something'), \n",
    "                        Concept(name='think', content='something'), Concept(name='else', content='something')]\n",
    "concept_registry = ConceptRegistry(initial_concepts)\n",
    "with use_registry(concept_registry):\n",
    "    threads1._run()\n"
   ]
  },
  {
   "cell_type": "code",
   "execution_count": 13,
   "id": "7e24e6c7-0db0-4690-a92b-c2b7e0f72ff8",
   "metadata": {
    "tags": []
   },
   "outputs": [
    {
     "data": {
      "text/plain": [
       "{\n",
       "    \"concepts\": {\n",
       "        \"else\": {\n",
       "            \"content\": \"something\",\n",
       "            \"inputted\": true,\n",
       "            \"level\": 0,\n",
       "            \"link\": null,\n",
       "            \"name\": \"else\"\n",
       "        },\n",
       "        \"joke\": {\n",
       "            \"content\": \"Response of OpenAI2: to (tell me a joke about something.)\",\n",
       "            \"inputted\": false,\n",
       "            \"level\": 1,\n",
       "            \"link\": null,\n",
       "            \"name\": \"joke\"\n",
       "        },\n",
       "        \"kaka\": {\n",
       "            \"content\": \"Response of Microsoft2: to (can you explain why this joke is funny: something?)\",\n",
       "            \"inputted\": false,\n",
       "            \"level\": 1,\n",
       "            \"link\": null,\n",
       "            \"name\": \"kaka\"\n",
       "        },\n",
       "        \"lala\": {\n",
       "            \"content\": \"something\",\n",
       "            \"inputted\": true,\n",
       "            \"level\": 0,\n",
       "            \"link\": null,\n",
       "            \"name\": \"lala\"\n",
       "        },\n",
       "        \"subject\": {\n",
       "            \"content\": \"computer\",\n",
       "            \"inputted\": true,\n",
       "            \"level\": 0,\n",
       "            \"link\": null,\n",
       "            \"name\": \"subject\"\n",
       "        },\n",
       "        \"think\": {\n",
       "            \"content\": \"Response of Google2: to (what do you think of this joke: something?)\",\n",
       "            \"inputted\": false,\n",
       "            \"level\": 1,\n",
       "            \"link\": null,\n",
       "            \"name\": \"think\"\n",
       "        }\n",
       "    },\n",
       "    \"initial_concepts\": [\n",
       "        {\n",
       "            \"content\": \"computer\",\n",
       "            \"inputted\": true,\n",
       "            \"level\": 0,\n",
       "            \"link\": null,\n",
       "            \"name\": \"subject\"\n",
       "        },\n",
       "        {\n",
       "            \"content\": \"something\",\n",
       "            \"inputted\": true,\n",
       "            \"level\": 0,\n",
       "            \"link\": null,\n",
       "            \"name\": \"lala\"\n",
       "        },\n",
       "        {\n",
       "            \"content\": \"something\",\n",
       "            \"inputted\": true,\n",
       "            \"level\": 0,\n",
       "            \"link\": null,\n",
       "            \"name\": \"think\"\n",
       "        },\n",
       "        {\n",
       "            \"content\": \"something\",\n",
       "            \"inputted\": true,\n",
       "            \"level\": 0,\n",
       "            \"link\": null,\n",
       "            \"name\": \"else\"\n",
       "        }\n",
       "    ]\n",
       "}"
      ]
     },
     "execution_count": 13,
     "metadata": {},
     "output_type": "execute_result"
    }
   ],
   "source": [
    "concept_registry"
   ]
  },
  {
   "cell_type": "markdown",
   "id": "6645d099-6463-421e-90e8-234debcc9b51",
   "metadata": {},
   "source": [
    "# More complex"
   ]
  },
  {
   "cell_type": "code",
   "execution_count": 14,
   "id": "d23c1321-5177-4c9c-9262-a43cc9a43a36",
   "metadata": {
    "tags": []
   },
   "outputs": [],
   "source": [
    "# add placeholders and import \n",
    "threads1 = Threads([ProbabilisticComponent(LanguageModel(\"OpenAI2\"), Prompt(\"tell me a joke about {lala}.\"), 'joke'), \n",
    "                ProbabilisticComponent(LanguageModel(\"Google2\"), Prompt(\"what do you think of this joke: {something}?\"), 'think'), \n",
    "                ProbabilisticComponent(LanguageModel(\"Microsoft2\"), Prompt(\"can you explain why this joke is funny: {think}?\"), 'kaka')])\n",
    "\n",
    "chain2 = Chain([ProbabilisticComponent(LanguageModel(\"OpenAI2\"), Prompt(\"tell me a joke about {subject}.\"), 'joke'), \n",
    "                ProbabilisticComponent(LanguageModel(\"Google2\"), Prompt(\"what do you think of this joke: {joke}?\"), 'think'), \n",
    "                ProbabilisticComponent(LanguageModel(\"Microsoft2\"), Prompt(\"can you explain why this joke is funny: {think}?\"), 'lala'),\n",
    "                threads1\n",
    "               ])\n",
    "\n",
    "chain1 = Chain([ProbabilisticComponent(LanguageModel(\"OpenAI1\"), \n",
    "                          Prompt(\"tell me a joke about {subject}.\"), 'haha'), \n",
    "                ProbabilisticComponent(LanguageModel(\"Google1\"), \n",
    "                          Prompt(\"what do you think of this joke: {haha}?\"), 'other'), \n",
    "                ProbabilisticComponent(LanguageModel(\"Microsoft1\"), \n",
    "                          Prompt(\"can you explain why this joke is funny: {haha}?\"), 'subject'),\n",
    "                chain2\n",
    "               ])\n",
    "\n",
    "component = ProbabilisticComponent(LanguageModel(\"OpenAI2\"), Prompt(\"tell me a joke about {other}.\"), 'joke')\n",
    "\n"
   ]
  },
  {
   "cell_type": "code",
   "execution_count": 15,
   "id": "3fb2f7dd-801e-449c-8097-e2eab1457702",
   "metadata": {
    "tags": []
   },
   "outputs": [
    {
     "name": "stderr",
     "output_type": "stream",
     "text": [
      "/Users/fuad/Documents/projects/lexflow/src/base/executable.py:200: UserWarning:\n",
      "\n",
      "Overwrite Warning: \n",
      "{\n",
      "    \"content\": \"Response of OpenAI2: to (tell me a joke about Response of Microsoft1: to (can you explain why this joke is funny: Response of OpenAI1: to (tell me a joke about computer.)?).)\",\n",
      "    \"inputted\": false,\n",
      "    \"level\": 4,\n",
      "    \"link\": null,\n",
      "    \"name\": \"joke\"\n",
      "}\n",
      "\n",
      " Is being overwritten by:\n",
      " {\n",
      "    \"content\": \"Response of OpenAI2: to (tell me a joke about Response of Microsoft2: to (can you explain why this joke is funny: Response of Google2: to (what do you think of this joke: Response of OpenAI2: to (tell me a joke about Response of Microsoft1: to (can you explain why this joke is funny: Response of OpenAI1: to (tell me a joke about computer.)?).)?)?).)\",\n",
      "    \"inputted\": false,\n",
      "    \"level\": 7,\n",
      "    \"link\": null,\n",
      "    \"name\": \"joke\"\n",
      "}\n",
      "\n",
      "/Users/fuad/Documents/projects/lexflow/src/base/executable.py:200: UserWarning:\n",
      "\n",
      "Overwrite Warning: \n",
      "{\n",
      "    \"content\": \"Response of Google2: to (what do you think of this joke: Response of OpenAI2: to (tell me a joke about Response of Microsoft1: to (can you explain why this joke is funny: Response of OpenAI1: to (tell me a joke about computer.)?).)?)\",\n",
      "    \"inputted\": false,\n",
      "    \"level\": 5,\n",
      "    \"link\": null,\n",
      "    \"name\": \"think\"\n",
      "}\n",
      "\n",
      " Is being overwritten by:\n",
      " {\n",
      "    \"content\": \"Response of Google2: to (what do you think of this joke: something?)\",\n",
      "    \"inputted\": false,\n",
      "    \"level\": 7,\n",
      "    \"link\": null,\n",
      "    \"name\": \"think\"\n",
      "}\n",
      "\n"
     ]
    }
   ],
   "source": [
    "\n",
    "# TODO this should be a dict of string to the placeholder \n",
    "# TODO collect all placeholders in a dict of name to placeholder\n",
    "# TODO assign a value to the input placeholders\n",
    "\n",
    "chain3 = Chain([chain1, chain2, threads1])\n",
    "initial_concepts = [Concept(name='subject', content='computer'), Concept(name='something', content='something')]\n",
    "concept_registry = ConceptRegistry(initial_concepts)\n",
    "with use_registry(concept_registry):\n",
    "    chain1.run()"
   ]
  },
  {
   "cell_type": "code",
   "execution_count": 16,
   "id": "054b18b0-72e1-4a82-a470-7eae1dab626d",
   "metadata": {
    "tags": []
   },
   "outputs": [],
   "source": [
    "\n",
    "# TODO this should be a dict of string to the placeholder \n",
    "# TODO collect all placeholders in a dict of name to placeholder\n",
    "# TODO assign a value to the input placeholders\n",
    "\n",
    "chain3 = Chain([chain1, chain2, threads1])\n",
    "initial_concepts = [Concept(name='subject', content='computer'), Concept(name='something', content='something')]\n",
    "concept_registry = ConceptRegistry(initial_concepts)\n",
    "with use_registry(concept_registry):\n",
    "    chain1.run()"
   ]
  },
  {
   "cell_type": "code",
   "execution_count": 17,
   "id": "6e77a513-e9cb-47ed-847a-30aa0c64d97c",
   "metadata": {},
   "outputs": [
    {
     "data": {
      "text/plain": [
       "{\n",
       "    \"concepts\": {\n",
       "        \"something\": {\n",
       "            \"content\": \"something\",\n",
       "            \"inputted\": true,\n",
       "            \"level\": 0,\n",
       "            \"link\": null,\n",
       "            \"name\": \"something\"\n",
       "        },\n",
       "        \"subject\": {\n",
       "            \"content\": \"computer\",\n",
       "            \"inputted\": true,\n",
       "            \"level\": 0,\n",
       "            \"link\": null,\n",
       "            \"name\": \"subject\"\n",
       "        }\n",
       "    },\n",
       "    \"initial_concepts\": [\n",
       "        {\n",
       "            \"content\": \"computer\",\n",
       "            \"inputted\": true,\n",
       "            \"level\": 0,\n",
       "            \"link\": null,\n",
       "            \"name\": \"subject\"\n",
       "        },\n",
       "        {\n",
       "            \"content\": \"something\",\n",
       "            \"inputted\": true,\n",
       "            \"level\": 0,\n",
       "            \"link\": null,\n",
       "            \"name\": \"something\"\n",
       "        }\n",
       "    ]\n",
       "}"
      ]
     },
     "execution_count": 17,
     "metadata": {},
     "output_type": "execute_result"
    }
   ],
   "source": [
    "concept_registry"
   ]
  },
  {
   "cell_type": "code",
   "execution_count": null,
   "id": "4298b9fd-5ac9-47a3-9fd9-a4b329743326",
   "metadata": {},
   "outputs": [],
   "source": []
  },
  {
   "cell_type": "code",
   "execution_count": 18,
   "id": "fb37a72f-5782-443a-86d3-f1924b3623a1",
   "metadata": {},
   "outputs": [],
   "source": [
    "# object names should be unique otherwise they will be overwritten "
   ]
  },
  {
   "cell_type": "markdown",
   "id": "529b5552-3d9b-490a-b9e8-44433fd52070",
   "metadata": {},
   "source": [
    "# Listify"
   ]
  },
  {
   "cell_type": "code",
   "execution_count": 19,
   "id": "dff60d71-7235-46fc-b7cb-f596040fda2b",
   "metadata": {
    "tags": []
   },
   "outputs": [],
   "source": [
    "# add placeholders and import \n",
    "threads1 = Threads([ProbabilisticComponent(LanguageModel(\"OpenAI2\"), Prompt(\"tell me a joke about {lala}.\"), 'joke'), \n",
    "                ProbabilisticComponent(LanguageModel(\"Google2\"), Prompt(\"what do you think of this joke: {something}?\"), 'think'), \n",
    "                ProbabilisticComponent(LanguageModel(\"Microsoft2\"), Prompt(\"can you explain why this joke is funny: {think}?\"), 'kaka')])\n",
    "\n",
    "chain2 = Chain([ProbabilisticComponent(LanguageModel(\"OpenAI2\"), Prompt(\"tell me a joke about {subject}.\"), 'joke'), \n",
    "                ProbabilisticComponent(LanguageModel(\"Google2\"), Prompt(\"what do you think of this joke: {joke}?\"), 'think'), \n",
    "                ProbabilisticComponent(LanguageModel(\"Microsoft2\"), Prompt(\"can you explain why this joke is funny: {think}?\"), 'lala'),\n",
    "                threads1\n",
    "               ])\n",
    "\n",
    "chain1 = Chain([ProbabilisticComponent(LanguageModel(\"OpenAI1\"), \n",
    "                          Prompt(\"tell me a joke about {subject}.\"), 'haha'), \n",
    "                ProbabilisticComponent(LanguageModel(\"Google1\"), \n",
    "                          Prompt(\"what do you think of this joke: {haha}?\"), 'other'), \n",
    "                ProbabilisticComponent(LanguageModel(\"Microsoft1\"), \n",
    "                          Prompt(\"can you explain why this joke is funny: {haha}?\"), 'subject'),\n",
    "                chain2\n",
    "               ])\n",
    "\n",
    "component = ProbabilisticComponent(LanguageModel(\"OpenAI2\"), Prompt(\"tell me a joke about {other}.\"), 'joke')\n",
    "\n",
    "chain3 = Chain([chain1, chain2, threads1])\n"
   ]
  },
  {
   "cell_type": "code",
   "execution_count": 20,
   "id": "cdf5d5b7-43d9-4539-be8a-8ad4c3fe7e13",
   "metadata": {
    "tags": []
   },
   "outputs": [],
   "source": [
    "# concept_registry"
   ]
  },
  {
   "cell_type": "code",
   "execution_count": 21,
   "id": "cb4ac3c1-8239-4e20-9df6-2eda337db880",
   "metadata": {
    "tags": []
   },
   "outputs": [],
   "source": [
    "initial_concepts = [Concept(name='other', content='computer\\nelez'), Concept(name='something', content='something')]\n",
    "concept_registry = ConceptRegistry(initial_concepts)\n",
    "# \n",
    "# maybe change the functions such that it outputs a tuple of name and value.\n",
    "chain = Chain([\n",
    "    SymbolicComponent('test',\n",
    "                      function=lambda x: x['other'].content.split('\\n'),\n",
    "                      # function=lambda x: [x['other'].content + 'processed'], \n",
    "                      input_concept_names=['other'],\n",
    "                      # output_concept_names=['other_1']\n",
    "                     )\n",
    "])\n",
    "with use_registry(concept_registry):\n",
    "    chain.run()"
   ]
  },
  {
   "cell_type": "code",
   "execution_count": 22,
   "id": "0d65c1c8-e01d-4c91-8bfc-db5273fb3574",
   "metadata": {
    "tags": []
   },
   "outputs": [],
   "source": [
    "# todo split . \n",
    "# create an iterator outputter that names concepts\n",
    "# produce an iterator of values and a corresponding iterator of names "
   ]
  },
  {
   "cell_type": "code",
   "execution_count": 23,
   "id": "5cd66016-d7e3-445e-bbdd-0a285bfd8a90",
   "metadata": {
    "tags": []
   },
   "outputs": [
    {
     "data": {
      "text/plain": [
       "{\n",
       "    \"concepts\": {\n",
       "        \"other\": {\n",
       "            \"content\": \"computer\\nelez\",\n",
       "            \"inputted\": true,\n",
       "            \"level\": 0,\n",
       "            \"link\": null,\n",
       "            \"name\": \"other\"\n",
       "        },\n",
       "        \"something\": {\n",
       "            \"content\": \"something\",\n",
       "            \"inputted\": true,\n",
       "            \"level\": 0,\n",
       "            \"link\": null,\n",
       "            \"name\": \"something\"\n",
       "        },\n",
       "        \"test_0\": {\n",
       "            \"content\": \"computer\",\n",
       "            \"inputted\": false,\n",
       "            \"level\": 1,\n",
       "            \"link\": {\n",
       "                \"other\": {\n",
       "                    \"content\": \"computer\\nelez\",\n",
       "                    \"inputted\": true,\n",
       "                    \"level\": 0,\n",
       "                    \"link\": null,\n",
       "                    \"name\": \"other\"\n",
       "                }\n",
       "            },\n",
       "            \"name\": \"test_0\"\n",
       "        },\n",
       "        \"test_1\": {\n",
       "            \"content\": \"elez\",\n",
       "            \"inputted\": false,\n",
       "            \"level\": 1,\n",
       "            \"link\": {\n",
       "                \"other\": {\n",
       "                    \"content\": \"computer\\nelez\",\n",
       "                    \"inputted\": true,\n",
       "                    \"level\": 0,\n",
       "                    \"link\": null,\n",
       "                    \"name\": \"other\"\n",
       "                }\n",
       "            },\n",
       "            \"name\": \"test_1\"\n",
       "        }\n",
       "    },\n",
       "    \"initial_concepts\": [\n",
       "        {\n",
       "            \"content\": \"computer\\nelez\",\n",
       "            \"inputted\": true,\n",
       "            \"level\": 0,\n",
       "            \"link\": null,\n",
       "            \"name\": \"other\"\n",
       "        },\n",
       "        {\n",
       "            \"content\": \"something\",\n",
       "            \"inputted\": true,\n",
       "            \"level\": 0,\n",
       "            \"link\": null,\n",
       "            \"name\": \"something\"\n",
       "        }\n",
       "    ]\n",
       "}"
      ]
     },
     "execution_count": 23,
     "metadata": {},
     "output_type": "execute_result"
    }
   ],
   "source": [
    "concept_registry"
   ]
  },
  {
   "cell_type": "code",
   "execution_count": 25,
   "id": "1384e633-8934-4a9d-9cbd-17a6f125cb26",
   "metadata": {
    "tags": []
   },
   "outputs": [],
   "source": [
    "\n",
    "    \n",
    "chain1 = Chain(\n",
    "    [SymbolicComponent('test',\n",
    "                      function=lambda x: x['other'].content.split('\\n'),\n",
    "                      input_concept_names=['other'],\n",
    "                      # output_concept_names=['other_1']\n",
    "                     ), \n",
    "     Threads(ProbabilisticComponent.component_iterator(model=LanguageModel('TestModel'),\n",
    "                                                      prompt=Prompt('tell me a joke about {}'), \n",
    "                                                      concept_pattern=r'^test_'))]\n",
    ")\n",
    "\n",
    "initial_concepts = [Concept(name='other', content='computer\\nelez'), Concept(name='something', content='something')]\n",
    "concept_registry = ConceptRegistry(initial_concepts)\n",
    "with use_registry(concept_registry):\n",
    "    chain1.run()"
   ]
  },
  {
   "cell_type": "code",
   "execution_count": 26,
   "id": "7d4d063f-d112-409d-b2cd-745bba941655",
   "metadata": {
    "tags": []
   },
   "outputs": [
    {
     "data": {
      "text/plain": [
       "{\n",
       "    \"concepts\": {\n",
       "        \"other\": {\n",
       "            \"content\": \"computer\\nelez\",\n",
       "            \"inputted\": true,\n",
       "            \"level\": 0,\n",
       "            \"link\": null,\n",
       "            \"name\": \"other\"\n",
       "        },\n",
       "        \"something\": {\n",
       "            \"content\": \"something\",\n",
       "            \"inputted\": true,\n",
       "            \"level\": 0,\n",
       "            \"link\": null,\n",
       "            \"name\": \"something\"\n",
       "        },\n",
       "        \"test_0\": {\n",
       "            \"content\": \"computer\",\n",
       "            \"inputted\": false,\n",
       "            \"level\": 1,\n",
       "            \"link\": {\n",
       "                \"other\": {\n",
       "                    \"content\": \"computer\\nelez\",\n",
       "                    \"inputted\": true,\n",
       "                    \"level\": 0,\n",
       "                    \"link\": null,\n",
       "                    \"name\": \"other\"\n",
       "                }\n",
       "            },\n",
       "            \"name\": \"test_0\"\n",
       "        },\n",
       "        \"test_0_output\": {\n",
       "            \"content\": \"Response of TestModel: to (tell me a joke about test_0)\",\n",
       "            \"inputted\": false,\n",
       "            \"level\": 2,\n",
       "            \"link\": null,\n",
       "            \"name\": \"test_0_output\"\n",
       "        },\n",
       "        \"test_1\": {\n",
       "            \"content\": \"elez\",\n",
       "            \"inputted\": false,\n",
       "            \"level\": 1,\n",
       "            \"link\": {\n",
       "                \"other\": {\n",
       "                    \"content\": \"computer\\nelez\",\n",
       "                    \"inputted\": true,\n",
       "                    \"level\": 0,\n",
       "                    \"link\": null,\n",
       "                    \"name\": \"other\"\n",
       "                }\n",
       "            },\n",
       "            \"name\": \"test_1\"\n",
       "        },\n",
       "        \"test_1_output\": {\n",
       "            \"content\": \"Response of TestModel: to (tell me a joke about test_0)\",\n",
       "            \"inputted\": false,\n",
       "            \"level\": 2,\n",
       "            \"link\": null,\n",
       "            \"name\": \"test_1_output\"\n",
       "        }\n",
       "    },\n",
       "    \"initial_concepts\": [\n",
       "        {\n",
       "            \"content\": \"computer\\nelez\",\n",
       "            \"inputted\": true,\n",
       "            \"level\": 0,\n",
       "            \"link\": null,\n",
       "            \"name\": \"other\"\n",
       "        },\n",
       "        {\n",
       "            \"content\": \"something\",\n",
       "            \"inputted\": true,\n",
       "            \"level\": 0,\n",
       "            \"link\": null,\n",
       "            \"name\": \"something\"\n",
       "        }\n",
       "    ]\n",
       "}"
      ]
     },
     "execution_count": 26,
     "metadata": {},
     "output_type": "execute_result"
    }
   ],
   "source": [
    "concept_registry"
   ]
  },
  {
   "cell_type": "markdown",
   "id": "99d395c0-0541-471d-b9e9-372c45e20b68",
   "metadata": {},
   "source": [
    "# Test live LLM"
   ]
  },
  {
   "cell_type": "code",
   "execution_count": 29,
   "id": "dc9544c3-35c7-4f66-90d2-a05ed36efbbf",
   "metadata": {
    "tags": []
   },
   "outputs": [
    {
     "name": "stdout",
     "output_type": "stream",
     "text": [
      "Step 1: Ensure that you have the necessary data or information to generate the desired JSON output. This may include accessing a database, API, or any other source that contains the required data.\n",
      "\n",
      "Step 2: Determine the programming language or tool you will use to process the data and generate the JSON output. Common options include Python, JavaScript, or any other language with JSON support.\n",
      "\n",
      "Step 3: Write code to retrieve the necessary data and store it in a suitable data structure. This could involve querying a database, making API requests, or parsing files.\n",
      "\n",
      "Step 4: Create a loop or iteration process to iterate through the data and generate the JSON output. For each item in the data, create a dictionary or object with the required format and append it to a list or array.\n",
      "\n",
      "Step 5: Finally, convert the list or array containing the generated dictionaries or objects into a JSON string using the appropriate function or method provided by your chosen programming language or tool. Ensure that the JSON string is in the desired format, with each step represented as a separate dictionary or object within the array.\n",
      "\n",
      "Example code snippet in Python:\n",
      "\n",
      "```python\n",
      "import json\n",
      "\n",
      "# Step 3: Retrieve data and store it in a suitable data structure\n",
      "data = [\n",
      "    {\"step\": \"Step 1: ...\"},\n",
      "    {\"step\": \"Step 2: ...\"},\n",
      "    {\"step\": \"Step 3: ...\"},\n",
      "    {\"step\": \"Step 4: ...\"},\n",
      "    {\"step\": \"Step 5: ...\"}\n",
      "]\n",
      "\n",
      "# Step 5: Convert the data into JSON format\n",
      "json_output = json.dumps(data)\n",
      "\n",
      "print(json_output)\n",
      "```\n",
      "\n",
      "This code snippet assumes that you already have the necessary data stored in the `data` list. You can replace the placeholder steps with the actual steps you want to include in the JSON output.\n"
     ]
    },
    {
     "ename": "JSONDecodeError",
     "evalue": "Expecting value: line 1 column 1 (char 0)",
     "output_type": "error",
     "traceback": [
      "\u001b[0;31m---------------------------------------------------------------------------\u001b[0m",
      "\u001b[0;31mJSONDecodeError\u001b[0m                           Traceback (most recent call last)",
      "Cell \u001b[0;32mIn[29], line 31\u001b[0m\n\u001b[1;32m     29\u001b[0m concept_registry \u001b[38;5;241m=\u001b[39m ConceptRegistry(initial_concepts)\n\u001b[1;32m     30\u001b[0m \u001b[38;5;28;01mwith\u001b[39;00m use_registry(concept_registry):\n\u001b[0;32m---> 31\u001b[0m     o \u001b[38;5;241m=\u001b[39m \u001b[43mchain\u001b[49m\u001b[38;5;241;43m.\u001b[39;49m\u001b[43mrun\u001b[49m\u001b[43m(\u001b[49m\u001b[43m)\u001b[49m\n",
      "File \u001b[0;32m~/Documents/projects/lexflow/src/base/executable.py:369\u001b[0m, in \u001b[0;36mChain.run\u001b[0;34m(self, callback, level)\u001b[0m\n\u001b[1;32m    368\u001b[0m \u001b[38;5;28;01mdef\u001b[39;00m \u001b[38;5;21mrun\u001b[39m(\u001b[38;5;28mself\u001b[39m, callback\u001b[38;5;241m=\u001b[39m\u001b[38;5;28;01mNone\u001b[39;00m, level\u001b[38;5;241m=\u001b[39m\u001b[38;5;241m1\u001b[39m):\n\u001b[0;32m--> 369\u001b[0m     \u001b[38;5;28;43mself\u001b[39;49m\u001b[38;5;241;43m.\u001b[39;49m\u001b[43m_run\u001b[49m\u001b[43m(\u001b[49m\u001b[43mcallback\u001b[49m\u001b[43m,\u001b[49m\u001b[43m \u001b[49m\u001b[43mlevel\u001b[49m\u001b[43m)\u001b[49m\n",
      "File \u001b[0;32m~/Documents/projects/lexflow/src/base/executable.py:358\u001b[0m, in \u001b[0;36mChain._run\u001b[0;34m(self, callback, level)\u001b[0m\n\u001b[1;32m    356\u001b[0m \u001b[38;5;28;01mfor\u001b[39;00m component \u001b[38;5;129;01min\u001b[39;00m \u001b[38;5;28mself\u001b[39m\u001b[38;5;241m.\u001b[39mcomponents:\n\u001b[1;32m    357\u001b[0m     \u001b[38;5;28;01mif\u001b[39;00m \u001b[38;5;28misinstance\u001b[39m(component, Executable):\n\u001b[0;32m--> 358\u001b[0m         output_concept_list: List[Concept] \u001b[38;5;241m=\u001b[39m \u001b[43mcomponent\u001b[49m\u001b[38;5;241;43m.\u001b[39;49m\u001b[43mrun\u001b[49m\u001b[43m(\u001b[49m\u001b[43mcallback\u001b[49m\u001b[43m)\u001b[49m\n\u001b[1;32m    359\u001b[0m         \u001b[38;5;28;01mfor\u001b[39;00m output_concept \u001b[38;5;129;01min\u001b[39;00m output_concept_list:\n\u001b[1;32m    360\u001b[0m             output_concept\u001b[38;5;241m.\u001b[39mlevel \u001b[38;5;241m=\u001b[39m level\n",
      "File \u001b[0;32m~/Documents/projects/lexflow/src/base/executable.py:344\u001b[0m, in \u001b[0;36mSymbolicComponent.run\u001b[0;34m(self, callback)\u001b[0m\n\u001b[1;32m    342\u001b[0m LOGGER\u001b[38;5;241m.\u001b[39mdebug(\u001b[38;5;124mf\u001b[39m\u001b[38;5;124m'\u001b[39m\u001b[38;5;124mRunning object: \u001b[39m\u001b[38;5;132;01m{\u001b[39;00m\u001b[38;5;28mself\u001b[39m\u001b[38;5;241m.\u001b[39m\u001b[38;5;18m__dict__\u001b[39m\u001b[38;5;132;01m}\u001b[39;00m\u001b[38;5;124m'\u001b[39m)\n\u001b[1;32m    343\u001b[0m input_concepts \u001b[38;5;241m=\u001b[39m \u001b[38;5;28mself\u001b[39m\u001b[38;5;241m.\u001b[39mget_input_concepts()\n\u001b[0;32m--> 344\u001b[0m \u001b[38;5;28;01mreturn\u001b[39;00m \u001b[38;5;28mself\u001b[39m\u001b[38;5;241m.\u001b[39mcreate_output_concepts(\u001b[38;5;28;43mself\u001b[39;49m\u001b[38;5;241;43m.\u001b[39;49m\u001b[43mfunction\u001b[49m\u001b[43m(\u001b[49m\u001b[43minput_concepts\u001b[49m\u001b[43m)\u001b[49m)\n",
      "Cell \u001b[0;32mIn[29], line 9\u001b[0m, in \u001b[0;36mtest_function\u001b[0;34m(x)\u001b[0m\n\u001b[1;32m      7\u001b[0m one \u001b[38;5;241m=\u001b[39m x[\u001b[38;5;124m'\u001b[39m\u001b[38;5;124mjoke\u001b[39m\u001b[38;5;124m'\u001b[39m]\u001b[38;5;241m.\u001b[39mcontent\n\u001b[1;32m      8\u001b[0m \u001b[38;5;28mprint\u001b[39m(one)\n\u001b[0;32m----> 9\u001b[0m two \u001b[38;5;241m=\u001b[39m \u001b[43mjson\u001b[49m\u001b[38;5;241;43m.\u001b[39;49m\u001b[43mloads\u001b[49m\u001b[43m(\u001b[49m\u001b[43mone\u001b[49m\u001b[43m)\u001b[49m\u001b[38;5;66;03m#['jokes']\u001b[39;00m\n\u001b[1;32m     10\u001b[0m \u001b[38;5;28mprint\u001b[39m(two)\n\u001b[1;32m     11\u001b[0m \u001b[38;5;28;01mreturn\u001b[39;00m [e[\u001b[38;5;124m'\u001b[39m\u001b[38;5;124mjoke\u001b[39m\u001b[38;5;124m'\u001b[39m] \u001b[38;5;28;01mfor\u001b[39;00m e \u001b[38;5;129;01min\u001b[39;00m two]\n",
      "File \u001b[0;32m~/opt/miniconda3/envs/lexiflow/lib/python3.10/json/__init__.py:346\u001b[0m, in \u001b[0;36mloads\u001b[0;34m(s, cls, object_hook, parse_float, parse_int, parse_constant, object_pairs_hook, **kw)\u001b[0m\n\u001b[1;32m    341\u001b[0m     s \u001b[38;5;241m=\u001b[39m s\u001b[38;5;241m.\u001b[39mdecode(detect_encoding(s), \u001b[38;5;124m'\u001b[39m\u001b[38;5;124msurrogatepass\u001b[39m\u001b[38;5;124m'\u001b[39m)\n\u001b[1;32m    343\u001b[0m \u001b[38;5;28;01mif\u001b[39;00m (\u001b[38;5;28mcls\u001b[39m \u001b[38;5;129;01mis\u001b[39;00m \u001b[38;5;28;01mNone\u001b[39;00m \u001b[38;5;129;01mand\u001b[39;00m object_hook \u001b[38;5;129;01mis\u001b[39;00m \u001b[38;5;28;01mNone\u001b[39;00m \u001b[38;5;129;01mand\u001b[39;00m\n\u001b[1;32m    344\u001b[0m         parse_int \u001b[38;5;129;01mis\u001b[39;00m \u001b[38;5;28;01mNone\u001b[39;00m \u001b[38;5;129;01mand\u001b[39;00m parse_float \u001b[38;5;129;01mis\u001b[39;00m \u001b[38;5;28;01mNone\u001b[39;00m \u001b[38;5;129;01mand\u001b[39;00m\n\u001b[1;32m    345\u001b[0m         parse_constant \u001b[38;5;129;01mis\u001b[39;00m \u001b[38;5;28;01mNone\u001b[39;00m \u001b[38;5;129;01mand\u001b[39;00m object_pairs_hook \u001b[38;5;129;01mis\u001b[39;00m \u001b[38;5;28;01mNone\u001b[39;00m \u001b[38;5;129;01mand\u001b[39;00m \u001b[38;5;129;01mnot\u001b[39;00m kw):\n\u001b[0;32m--> 346\u001b[0m     \u001b[38;5;28;01mreturn\u001b[39;00m \u001b[43m_default_decoder\u001b[49m\u001b[38;5;241;43m.\u001b[39;49m\u001b[43mdecode\u001b[49m\u001b[43m(\u001b[49m\u001b[43ms\u001b[49m\u001b[43m)\u001b[49m\n\u001b[1;32m    347\u001b[0m \u001b[38;5;28;01mif\u001b[39;00m \u001b[38;5;28mcls\u001b[39m \u001b[38;5;129;01mis\u001b[39;00m \u001b[38;5;28;01mNone\u001b[39;00m:\n\u001b[1;32m    348\u001b[0m     \u001b[38;5;28mcls\u001b[39m \u001b[38;5;241m=\u001b[39m JSONDecoder\n",
      "File \u001b[0;32m~/opt/miniconda3/envs/lexiflow/lib/python3.10/json/decoder.py:337\u001b[0m, in \u001b[0;36mJSONDecoder.decode\u001b[0;34m(self, s, _w)\u001b[0m\n\u001b[1;32m    332\u001b[0m \u001b[38;5;28;01mdef\u001b[39;00m \u001b[38;5;21mdecode\u001b[39m(\u001b[38;5;28mself\u001b[39m, s, _w\u001b[38;5;241m=\u001b[39mWHITESPACE\u001b[38;5;241m.\u001b[39mmatch):\n\u001b[1;32m    333\u001b[0m \u001b[38;5;250m    \u001b[39m\u001b[38;5;124;03m\"\"\"Return the Python representation of ``s`` (a ``str`` instance\u001b[39;00m\n\u001b[1;32m    334\u001b[0m \u001b[38;5;124;03m    containing a JSON document).\u001b[39;00m\n\u001b[1;32m    335\u001b[0m \n\u001b[1;32m    336\u001b[0m \u001b[38;5;124;03m    \"\"\"\u001b[39;00m\n\u001b[0;32m--> 337\u001b[0m     obj, end \u001b[38;5;241m=\u001b[39m \u001b[38;5;28;43mself\u001b[39;49m\u001b[38;5;241;43m.\u001b[39;49m\u001b[43mraw_decode\u001b[49m\u001b[43m(\u001b[49m\u001b[43ms\u001b[49m\u001b[43m,\u001b[49m\u001b[43m \u001b[49m\u001b[43midx\u001b[49m\u001b[38;5;241;43m=\u001b[39;49m\u001b[43m_w\u001b[49m\u001b[43m(\u001b[49m\u001b[43ms\u001b[49m\u001b[43m,\u001b[49m\u001b[43m \u001b[49m\u001b[38;5;241;43m0\u001b[39;49m\u001b[43m)\u001b[49m\u001b[38;5;241;43m.\u001b[39;49m\u001b[43mend\u001b[49m\u001b[43m(\u001b[49m\u001b[43m)\u001b[49m\u001b[43m)\u001b[49m\n\u001b[1;32m    338\u001b[0m     end \u001b[38;5;241m=\u001b[39m _w(s, end)\u001b[38;5;241m.\u001b[39mend()\n\u001b[1;32m    339\u001b[0m     \u001b[38;5;28;01mif\u001b[39;00m end \u001b[38;5;241m!=\u001b[39m \u001b[38;5;28mlen\u001b[39m(s):\n",
      "File \u001b[0;32m~/opt/miniconda3/envs/lexiflow/lib/python3.10/json/decoder.py:355\u001b[0m, in \u001b[0;36mJSONDecoder.raw_decode\u001b[0;34m(self, s, idx)\u001b[0m\n\u001b[1;32m    353\u001b[0m     obj, end \u001b[38;5;241m=\u001b[39m \u001b[38;5;28mself\u001b[39m\u001b[38;5;241m.\u001b[39mscan_once(s, idx)\n\u001b[1;32m    354\u001b[0m \u001b[38;5;28;01mexcept\u001b[39;00m \u001b[38;5;167;01mStopIteration\u001b[39;00m \u001b[38;5;28;01mas\u001b[39;00m err:\n\u001b[0;32m--> 355\u001b[0m     \u001b[38;5;28;01mraise\u001b[39;00m JSONDecodeError(\u001b[38;5;124m\"\u001b[39m\u001b[38;5;124mExpecting value\u001b[39m\u001b[38;5;124m\"\u001b[39m, s, err\u001b[38;5;241m.\u001b[39mvalue) \u001b[38;5;28;01mfrom\u001b[39;00m \u001b[38;5;28;01mNone\u001b[39;00m\n\u001b[1;32m    356\u001b[0m \u001b[38;5;28;01mreturn\u001b[39;00m obj, end\n",
      "\u001b[0;31mJSONDecodeError\u001b[0m: Expecting value: line 1 column 1 (char 0)"
     ]
    }
   ],
   "source": [
    "import json\n",
    "\n",
    "format_string = \"\"\"Strictly output in JSON format. Take a deep breath. The JSON should have the following format:\n",
    "[{\"step\": \"...\"}, {\"step\": \"...\"}]\"\"\"\n",
    "\n",
    "def test_function(x):\n",
    "    one = x['joke'].content\n",
    "    print(one)\n",
    "    two = json.loads(one)#['jokes']\n",
    "    print(two)\n",
    "    return [e['joke'] for e in two]\n",
    "\n",
    "chain = Chain([ProbabilisticComponent(model=Openai('real'), \n",
    "                                      prompt=Prompt(template='Give me a 5 step plan of steps to answer the question {other}',\n",
    "                                                    output_format=format_string), \n",
    "                                      output_concept_name='joke'),\n",
    "               SymbolicComponent(\n",
    "                   name='symbolic_joke',\n",
    "                      function=test_function,\n",
    "                      input_concept_names=['joke'],\n",
    "                      # output_concept_names=['other_1']\n",
    "                     ),\n",
    "               Threads(ProbabilisticComponent.component_iterator(model=Openai('TestModel'),\n",
    "                                                                 prompt=Prompt('{}. Do you find this joke funny'), \n",
    "                                                                 concept_pattern=r'^symbolic_joke_'))\n",
    "              ])\n",
    "\n",
    "initial_concepts = [Concept(name='other', content='how do you find the truth'), Concept(name='something', content='something')]\n",
    "concept_registry = ConceptRegistry(initial_concepts)\n",
    "with use_registry(concept_registry):\n",
    "    o = chain.run()\n",
    "    "
   ]
  },
  {
   "cell_type": "code",
   "execution_count": null,
   "id": "45a62220-13a0-49e8-a1bd-d8b75c7c8cfc",
   "metadata": {
    "tags": []
   },
   "outputs": [],
   "source": [
    "concept_registry"
   ]
  },
  {
   "cell_type": "code",
   "execution_count": null,
   "id": "2668511d-e02c-4b2e-bc33-8f2467baef6b",
   "metadata": {
    "tags": []
   },
   "outputs": [],
   "source": [
    "# reoragnise api for different components make it consistant. \n",
    "# make input and output names clear \n",
    "# structured output for open ai . \n",
    "# structured output for other models\n",
    "\n",
    "\n",
    "# retry \n",
    "# retry based on ... should put the loads step in a symbolic and make the retry based on teh symbolic step \n",
    "# retry with error message\n",
    "# number of retries \n",
    "# \n",
    "\n",
    "# add a retriever\n",
    "# add memory \n",
    "\n",
    "\n",
    "# meta data creator of documents\n",
    "# multi step retireval plan by probabilistic component\n",
    "\n",
    "\n",
    "# tool creator / agents. compare to autogen\n",
    "# tool box\n",
    "# it can create tools as functions and then add it to the box\n"
   ]
  },
  {
   "cell_type": "code",
   "execution_count": null,
   "id": "cf80e496-dae7-4e45-a3d1-94515aef86e9",
   "metadata": {
    "tags": []
   },
   "outputs": [],
   "source": [
    "o"
   ]
  },
  {
   "cell_type": "code",
   "execution_count": null,
   "id": "c2f05a5b-a790-4f56-bb72-40285972b365",
   "metadata": {
    "tags": []
   },
   "outputs": [],
   "source": []
  },
  {
   "cell_type": "markdown",
   "id": "834a5562-8fe7-47df-a0ec-0817e149a121",
   "metadata": {},
   "source": [
    "# Data Class experiment"
   ]
  },
  {
   "cell_type": "code",
   "execution_count": 30,
   "id": "94e967da-b77a-4669-9f88-67c6e94e1ced",
   "metadata": {
    "tags": []
   },
   "outputs": [],
   "source": [
    "from pydantic.dataclasses import dataclass as pydantic_dataclass"
   ]
  },
  {
   "cell_type": "code",
   "execution_count": 26,
   "id": "594206c4-a8df-4a0d-b6f8-3b9f3ffc3fff",
   "metadata": {
    "tags": []
   },
   "outputs": [],
   "source": [
    "@pydantic_dataclass\n",
    "class Test:\n",
    "    something = []"
   ]
  },
  {
   "cell_type": "code",
   "execution_count": 31,
   "id": "bd17f432-6ff9-4eb5-93a2-72e300543d25",
   "metadata": {
    "tags": []
   },
   "outputs": [],
   "source": [
    "t = Test(e='that')"
   ]
  },
  {
   "cell_type": "code",
   "execution_count": 34,
   "id": "90c9e1bc-824a-4e94-8bd7-f2ce1b1bea07",
   "metadata": {
    "tags": []
   },
   "outputs": [
    {
     "data": {
      "text/plain": [
       "Test()"
      ]
     },
     "execution_count": 34,
     "metadata": {},
     "output_type": "execute_result"
    }
   ],
   "source": [
    "t"
   ]
  },
  {
   "cell_type": "code",
   "execution_count": 30,
   "id": "9a747641-c539-4c26-a249-aae163373cd4",
   "metadata": {},
   "outputs": [],
   "source": [
    "schema = {\n",
    "  \"type\": \"object\",\n",
    "  \"properties\": {\n",
    "    \"ingredients\": {\n",
    "      \"type\": \"array\",\n",
    "      \"items\": {\n",
    "        \"type\": \"object\",\n",
    "        \"properties\": {\n",
    "          \"name\": { \"type\": \"string\" },\n",
    "          \"unit\": { \n",
    "            \"type\": \"string\",\n",
    "            \"enum\": [\"grams\", \"ml\", \"cups\", \"pieces\", \"teaspoons\"]\n",
    "          },\n",
    "          \"amount\": { \"type\": \"number\" }\n",
    "        },\n",
    "        \"required\": [\"name\", \"unit\", \"amount\"]\n",
    "      }\n",
    "    },\n",
    "    \"instructions\": {\n",
    "      \"type\": \"array\",\n",
    "      \"description\": \"Steps to prepare the recipe (no numbering)\",\n",
    "      \"items\": { \"type\": \"string\" }\n",
    "    },\n",
    "    \"time_to_cook\": {\n",
    "      \"type\": \"number\",\n",
    "      \"description\": \"Total time to prepare the recipe in minutes\"\n",
    "    }\n",
    "  },\n",
    "  \"required\": [\"ingredients\", \"instructions\", \"time_to_cook\"]\n",
    "}"
   ]
  },
  {
   "cell_type": "code",
   "execution_count": 4,
   "id": "13f9f9a7-fdb2-4a59-bdfb-4369ef7c51b3",
   "metadata": {
    "tags": []
   },
   "outputs": [],
   "source": [
    "schema = {\n",
    "  \"type\": \"object\",\n",
    "  \"properties\": {\n",
    "    \"ingredients\": {\n",
    "      \"type\": \"array\",\n",
    "      \"items\": {\n",
    "        \"type\": \"object\",\n",
    "        \"properties\": {\n",
    "          \"name\": { \"type\": \"string\" },\n",
    "          \"unit\": { \n",
    "            \"type\": \"string\",\n",
    "            \"enum\": [\"grams\", \"ml\", \"cups\", \"pieces\", \"teaspoons\"]\n",
    "          },\n",
    "          \"amount\": {\n",
    "            \"oneOf\": [\n",
    "              { \"type\": \"number\" },\n",
    "              { \"type\": \"string\", \"enum\": [\"small\", \"medium\", \"large\"] }\n",
    "            ]\n",
    "          }\n",
    "        },\n",
    "        \"required\": [\"name\", \"unit\", \"amount\"]\n",
    "      }\n",
    "    },\n",
    "    \"instructions\": {\n",
    "      \"type\": \"array\",\n",
    "      \"description\": \"Steps to prepare the recipe\",\n",
    "      \"items\": { \"type\": \"string\" }\n",
    "    },\n",
    "    \"time_to_cook\": {\n",
    "      \"type\": \"number\",\n",
    "      \"description\": \"Total time to prepare the recipe in minutes\"\n",
    "    }\n",
    "  },\n",
    "  \"required\": [\"ingredients\", \"instructions\", \"time_to_cook\"]\n",
    "}\n"
   ]
  },
  {
   "cell_type": "code",
   "execution_count": 5,
   "id": "4bdc99b6-fe8a-41d1-bb4e-fc681ec696c8",
   "metadata": {
    "tags": []
   },
   "outputs": [
    {
     "name": "stdout",
     "output_type": "stream",
     "text": [
      "{\n",
      "  \"ingredients\": [\n",
      "    {\n",
      "      \"name\": \"spaghetti\",\n",
      "      \"unit\": \"grams\",\n",
      "      \"amount\": 400\n",
      "    },\n",
      "    {\n",
      "      \"name\": \"ground beef\",\n",
      "      \"unit\": \"grams\",\n",
      "      \"amount\": 500\n",
      "    },\n",
      "    {\n",
      "      \"name\": \"onion\",\n",
      "      \"unit\": \"pieces\",\n",
      "      \"amount\": 1\n",
      "    },\n",
      "    {\n",
      "      \"name\": \"garlic cloves\",\n",
      "      \"unit\": \"pieces\",\n",
      "      \"amount\": 2\n",
      "    },\n",
      "    {\n",
      "      \"name\": \"carrot\",\n",
      "      \"unit\": \"pieces\",\n",
      "      \"amount\": 1\n",
      "    },\n",
      "    {\n",
      "      \"name\": \"celery stalk\",\n",
      "      \"unit\": \"pieces\",\n",
      "      \"amount\": 1\n",
      "    },\n",
      "    {\n",
      "      \"name\": \"canned tomatoes\",\n",
      "      \"unit\": \"grams\",\n",
      "      \"amount\": 400\n",
      "    },\n",
      "    {\n",
      "      \"name\": \"red wine\",\n",
      "      \"unit\": \"ml\",\n",
      "      \"amount\": 125\n",
      "    },\n",
      "    {\n",
      "      \"name\": \"olive oil\",\n",
      "      \"unit\": \"teaspoons\",\n",
      "      \"amount\": 2\n",
      "    },\n",
      "    {\n",
      "      \"name\": \"salt\",\n",
      "      \"unit\": \"teaspoons\",\n",
      "      \"amount\": 1\n",
      "    },\n",
      "    {\n",
      "      \"name\": \"pepper\",\n",
      "      \"unit\": \"teaspoons\",\n",
      "      \"amount\": 1\n",
      "    }\n",
      "  ],\n",
      "  \"instructions\": [\n",
      "    \"Heat the olive oil in a large pan over medium heat.\",\n",
      "    \"Add the chopped onion, carrot, celery, and garlic to the pan and cook until softened.\",\n",
      "    \"Add the ground beef to the pan and cook until browned.\",\n",
      "    \"Pour in the red wine and let it simmer until it has reduced by half.\",\n",
      "    \"Add the canned tomatoes, salt, and pepper to the pan and stir well.\",\n",
      "    \"Cover the pan and let it simmer for about 30 minutes, stirring occasionally.\",\n",
      "    \"In the meantime, cook the spaghetti according to the package instructions.\",\n",
      "    \"Once the spaghetti is cooked, drain it and add it to the pan with the sauce.\",\n",
      "    \"Stir well to combine the spaghetti and the sauce.\",\n",
      "    \"Serve the spaghetti bolognese with a sprinkle of grated cheese on top, if desired.\"\n",
      "  ],\n",
      "  \"time_to_cook\": 60\n",
      "}\n"
     ]
    }
   ],
   "source": [
    "schema = {\n",
    "  \"type\": \"object\",\n",
    "  \"properties\": {\n",
    "    \"ingredients\": {\n",
    "      \"type\": \"array\",\n",
    "      \"items\": {\n",
    "        \"type\": \"object\",\n",
    "        \"properties\": {\n",
    "          \"name\": { \"type\": \"string\" },\n",
    "          \"unit\": { \n",
    "            \"type\": \"string\",\n",
    "            \"enum\": [\"grams\", \"ml\", \"cups\", \"pieces\", \"teaspoons\"]\n",
    "          },\n",
    "          \"amount\": {\n",
    "            \"oneOf\": [\n",
    "              { \"type\": \"number\" },\n",
    "              { \"type\": \"string\", \"enum\": [\"small\", \"medium\", \"large\"] }\n",
    "            ]\n",
    "          }\n",
    "        },\n",
    "        \"required\": [\"name\", \"unit\", \"amount\"]\n",
    "      }\n",
    "    },\n",
    "    \"instructions\": {\n",
    "      \"type\": \"array\",\n",
    "      \"description\": \"Steps to prepare the recipe\",\n",
    "      \"items\": { \"type\": \"string\" }\n",
    "    },\n",
    "    \"time_to_cook\": {\n",
    "      \"type\": \"number\",\n",
    "      \"description\": \"Total time to prepare the recipe in minutes\"\n",
    "    }\n",
    "  },\n",
    "  \"required\": [\"ingredients\", \"instructions\", \"time_to_cook\"]\n",
    "}\n",
    "\n",
    "import os\n",
    "import openai\n",
    "\n",
    "openai.api_key = os.getenv(\"OPENAI_API_KEY\")\n",
    "\n",
    "completion = openai.ChatCompletion.create(\n",
    "  model=\"gpt-4-0613\",\n",
    "  messages=[\n",
    "    {\"role\": \"system\", \"content\": \"You are a helpful assistant.\"},\n",
    "    {\"role\": \"user\", \"content\": \"Provide a recipe for spaghetti bolognese\"}\n",
    "  ],\n",
    "  functions=[{\"name\": \"set_recipe\", \"parameters\": schema}],\n",
    "  function_call={\"name\": \"set_recipe\"},\n",
    "  temperature=0,\n",
    ")\n",
    "\n",
    "print(completion.choices[0].message.function_call.arguments)"
   ]
  },
  {
   "cell_type": "code",
   "execution_count": 32,
   "id": "b60915aa-d069-465b-8c5c-52904c4ebd3e",
   "metadata": {
    "tags": []
   },
   "outputs": [
    {
     "data": {
      "text/plain": [
       "{'ingredients': [{'name': 'spaghetti', 'unit': 'grams', 'amount': 400},\n",
       "  {'name': 'ground beef', 'unit': 'grams', 'amount': 500},\n",
       "  {'name': 'onion', 'unit': 'pieces', 'amount': 1},\n",
       "  {'name': 'garlic cloves', 'unit': 'pieces', 'amount': 2},\n",
       "  {'name': 'carrot', 'unit': 'pieces', 'amount': 1},\n",
       "  {'name': 'celery stalk', 'unit': 'pieces', 'amount': 1},\n",
       "  {'name': 'canned tomatoes', 'unit': 'grams', 'amount': 400},\n",
       "  {'name': 'red wine', 'unit': 'ml', 'amount': 125},\n",
       "  {'name': 'olive oil', 'unit': 'ml', 'amount': 30},\n",
       "  {'name': 'salt', 'unit': 'teaspoons', 'amount': 1},\n",
       "  {'name': 'pepper', 'unit': 'teaspoons', 'amount': 1}],\n",
       " 'instructions': ['Heat the olive oil in a large pan over medium heat. Add the finely chopped onion, carrot, celery, and minced garlic and cook until softened.',\n",
       "  'Add the ground beef to the pan and cook until browned.',\n",
       "  'Pour in the red wine and let it simmer until the alcohol has evaporated.',\n",
       "  'Add the canned tomatoes, salt, and pepper. Reduce the heat to low, cover the pan, and let it simmer for about 1 hour, stirring occasionally.',\n",
       "  'In the meantime, cook the spaghetti in a large pot of boiling salted water according to the package instructions until al dente.',\n",
       "  'Drain the spaghetti and add it to the pan with the Bolognese sauce. Toss well to combine.',\n",
       "  'Serve the Spaghetti Bolognese with a sprinkle of freshly grated Parmesan cheese on top.'],\n",
       " 'time_to_cook': 90}"
      ]
     },
     "execution_count": 32,
     "metadata": {},
     "output_type": "execute_result"
    }
   ],
   "source": [
    "{\n",
    "  \"ingredients\":[\n",
    "    {\"name\": \"spaghetti\", \"unit\": \"grams\", \"amount\": 400},\n",
    "    {\"name\": \"ground beef\", \"unit\": \"grams\", \"amount\": 500},\n",
    "    {\"name\": \"onion\", \"unit\": \"pieces\", \"amount\": 1},\n",
    "    {\"name\": \"garlic cloves\", \"unit\": \"pieces\", \"amount\": 2},\n",
    "    {\"name\": \"carrot\", \"unit\": \"pieces\", \"amount\": 1},\n",
    "    {\"name\": \"celery stalk\", \"unit\": \"pieces\", \"amount\": 1},\n",
    "    {\"name\": \"canned tomatoes\", \"unit\": \"grams\", \"amount\": 400},\n",
    "    {\"name\": \"red wine\", \"unit\": \"ml\", \"amount\": 125},\n",
    "    {\"name\": \"olive oil\", \"unit\": \"ml\", \"amount\": 30},\n",
    "    {\"name\": \"salt\", \"unit\": \"teaspoons\", \"amount\": 1},\n",
    "    {\"name\": \"pepper\", \"unit\": \"teaspoons\", \"amount\": 1}\n",
    "  ],\n",
    "  \"instructions\": [\n",
    "    \"Heat the olive oil in a large pan over medium heat. Add the finely chopped onion, carrot, celery, and minced garlic and cook until softened.\",\n",
    "    \"Add the ground beef to the pan and cook until browned.\",\n",
    "    \"Pour in the red wine and let it simmer until the alcohol has evaporated.\",\n",
    "    \"Add the canned tomatoes, salt, and pepper. Reduce the heat to low, cover the pan, and let it simmer for about 1 hour, stirring occasionally.\",\n",
    "    \"In the meantime, cook the spaghetti in a large pot of boiling salted water according to the package instructions until al dente.\",\n",
    "    \"Drain the spaghetti and add it to the pan with the Bolognese sauce. Toss well to combine.\",\n",
    "    \"Serve the Spaghetti Bolognese with a sprinkle of freshly grated Parmesan cheese on top.\"\n",
    "  ],\n",
    "  \"time_to_cook\": 90\n",
    "}"
   ]
  },
  {
   "cell_type": "code",
   "execution_count": null,
   "id": "5b5267ad-edf9-47bb-91ad-15f58101ccfb",
   "metadata": {},
   "outputs": [],
   "source": []
  }
 ],
 "metadata": {
  "kernelspec": {
   "display_name": "Python [conda env:lexiflow] *",
   "language": "python",
   "name": "conda-env-lexiflow-py"
  },
  "language_info": {
   "codemirror_mode": {
    "name": "ipython",
    "version": 3
   },
   "file_extension": ".py",
   "mimetype": "text/x-python",
   "name": "python",
   "nbconvert_exporter": "python",
   "pygments_lexer": "ipython3",
   "version": "3.10.12"
  }
 },
 "nbformat": 4,
 "nbformat_minor": 5
}
