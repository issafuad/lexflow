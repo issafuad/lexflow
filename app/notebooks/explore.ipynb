{
 "cells": [
  {
   "cell_type": "code",
   "execution_count": 1,
   "id": "e619b338-5dd9-42c1-8449-2c83efbb08ad",
   "metadata": {
    "tags": []
   },
   "outputs": [],
   "source": [
    "import sys\n",
    "import os\n",
    "sys.path.insert(0, os.path.abspath(os.path.join('../../')))\n",
    "import logging\n",
    "# Logging setup\n",
    "# handler = logging.StreamHandler(sys.stdout)\n",
    "# formatter = logging.Formatter('%(asctime)s - %(name)s - %(levelname)s - %(message)s')\n",
    "# handler.setFormatter(formatter)\n",
    "\n",
    "# module_logger = logging.getLogger()\n",
    "# module_logger.addHandler(handler)\n",
    "# module_logger.setLevel(logging.DEBUG)"
   ]
  },
  {
   "cell_type": "code",
   "execution_count": 2,
   "id": "ba386a3c-4852-4491-947e-7ebc322f7e2a",
   "metadata": {
    "tags": []
   },
   "outputs": [],
   "source": [
    "%load_ext autoreload\n",
    "%autoreload 2"
   ]
  },
  {
   "cell_type": "code",
   "execution_count": 3,
   "id": "dd1da0e7-1e16-492a-abca-2832c4b87a15",
   "metadata": {
    "tags": []
   },
   "outputs": [
    {
     "name": "stderr",
     "output_type": "stream",
     "text": [
      "DEBUG:matplotlib:matplotlib data path: /Users/fuad/opt/miniconda3/envs/lexiflow/lib/python3.10/site-packages/matplotlib/mpl-data\n",
      "DEBUG:matplotlib:CONFIGDIR=/Users/fuad/.matplotlib\n",
      "DEBUG:matplotlib:interactive is False\n",
      "DEBUG:matplotlib:platform is darwin\n",
      "DEBUG:matplotlib:CACHEDIR=/Users/fuad/.matplotlib\n",
      "DEBUG:matplotlib.font_manager:Using fontManager instance from /Users/fuad/.matplotlib/fontlist-v330.json\n"
     ]
    }
   ],
   "source": [
    "from app.base import LanguageModel, Chai as Chain, Prompt, Comp as Component, Thre as Threads, Placeholder\n",
    "import pandas as pd\n",
    "import dtale"
   ]
  },
  {
   "cell_type": "code",
   "execution_count": null,
   "id": "23621dd0-800c-48d3-b830-6f6a54410d88",
   "metadata": {
    "tags": []
   },
   "outputs": [],
   "source": []
  },
  {
   "cell_type": "markdown",
   "id": "d20d4f7e-37e5-46dd-a286-e853e302f1cc",
   "metadata": {},
   "source": [
    "# tests"
   ]
  },
  {
   "cell_type": "code",
   "execution_count": 4,
   "id": "42101420-f146-4b81-8831-1ed3d095f32c",
   "metadata": {
    "tags": []
   },
   "outputs": [],
   "source": [
    "# pd.DataFrame(chain.memory)\n",
    "# dtale.show(pd.DataFrame(lm3.memory))\n",
    "\n",
    "# parsers\n",
    "# list as output\n",
    "# routers\n",
    "# retriever\n"
   ]
  },
  {
   "cell_type": "code",
   "execution_count": 6,
   "id": "31921e3b-7cd8-4b6d-a660-4fa7b34e1b43",
   "metadata": {
    "tags": []
   },
   "outputs": [],
   "source": [
    "# add placeholders and import \n",
    "\n",
    "chain1 = Chain([Component(LanguageModel(name=\"OpenAI1\"), \n",
    "                          Prompt(\"tell me a joke about {subject}.\", Placeholder('joke'))), \n",
    "                Component(LanguageModel(name=\"Google1\"), \n",
    "                          Prompt(\"what do you think of this joke: {joke}?\", Placeholder('other'))), \n",
    "                Component(LanguageModel(name=\"Microsoft1\"), \n",
    "                          Prompt(\"can you explain why this joke is funny: {joke}?\", Placeholder('subject')))])\n",
    "\n",
    "chain2 = Chain([Component(LanguageModel(name=\"OpenAI2\"), Prompt(\"tell me a joke about {subject}.\", Placeholder('joke'))), \n",
    "                Component(LanguageModel(name=\"Google2\"), Prompt(\"what do you think of this joke: {joke}?\", Placeholder('think'))), \n",
    "                Component(LanguageModel(name=\"Microsoft2\"), Prompt(\"can you explain why this joke is funny: {think}?\", Placeholder('lala')))])\n",
    "\n",
    "threads1 = Threads([Component(LanguageModel(name=\"OpenAI2\"), Prompt(\"tell me a joke about {lala}.\", Placeholder('joke'))), \n",
    "                Component(LanguageModel(name=\"Google2\"), Prompt(\"what do you think of this joke: {else}?\", Placeholder('think'))), \n",
    "                Component(LanguageModel(name=\"Microsoft2\"), Prompt(\"can you explain why this joke is funny: {think}?\", Placeholder('kaka')))])\n",
    "\n",
    "component = Component(LanguageModel(name=\"OpenAI2\"), Prompt(\"tell me a joke about {other}.\", Placeholder('joke')))\n",
    "\n",
    "# TODO this should be a dict of string to the placeholder \n",
    "# TODO collect all placeholders in a dict of name to placeholder\n",
    "# TODO assign a value to the input placeholders"
   ]
  },
  {
   "cell_type": "markdown",
   "id": "4d2d72f0-b4e1-4c59-b4af-1cdf5b8776a8",
   "metadata": {},
   "source": [
    "## Component"
   ]
  },
  {
   "cell_type": "code",
   "execution_count": 7,
   "id": "9bd04f5d-6756-4a5a-9ac1-fe6957897daf",
   "metadata": {
    "tags": []
   },
   "outputs": [
    {
     "name": "stderr",
     "output_type": "stream",
     "text": [
      "DEBUG:app.base.executable:Running object: {'components': None, 'memory': [], 'model': LanguageModel(name='OpenAI2', memory=[]), 'prompt': Prompt(template='tell me a joke about {other}.', output=Placeholder(name='joke', type='identity', choice='all', listify_func=<function Placeholder.<lambda> at 0x7f94dfa48670>, string_content=None, list_content=None), inputs=['other'], filled_prompt=None)}\n"
     ]
    },
    {
     "data": {
      "text/plain": [
       "{'joke': Placeholder(name='joke', type='identity', choice='all', listify_func=<function Placeholder.<lambda> at 0x7f94dfa48670>, string_content='Response of OpenAI2: to (tell me a joke about computer.)', list_content=None)}"
      ]
     },
     "execution_count": 7,
     "metadata": {},
     "output_type": "execute_result"
    }
   ],
   "source": [
    "initial_placeholders = {\"other\": Placeholder(name='other', string_content='computer'), \n",
    "                        'something': Placeholder(name='something', string_content='something')}\n",
    "component.run(initial_placeholders)"
   ]
  },
  {
   "cell_type": "code",
   "execution_count": 8,
   "id": "5276937e-7d25-4664-b8ea-94745c010a98",
   "metadata": {
    "tags": []
   },
   "outputs": [
    {
     "data": {
      "text/plain": [
       "['Response of OpenAI2: to (tell me a joke about computer.)']"
      ]
     },
     "execution_count": 8,
     "metadata": {},
     "output_type": "execute_result"
    }
   ],
   "source": [
    "component.memory"
   ]
  },
  {
   "cell_type": "markdown",
   "id": "2ad563c6-9205-46f3-a15c-812aeb65ed53",
   "metadata": {},
   "source": [
    "## Chain"
   ]
  },
  {
   "cell_type": "code",
   "execution_count": 9,
   "id": "3039989d-935b-437d-8cf9-18df6668b935",
   "metadata": {
    "tags": []
   },
   "outputs": [
    {
     "name": "stderr",
     "output_type": "stream",
     "text": [
      "DEBUG:app.base.executable:Running object: {'components': [<app.base.executable.Comp object at 0x7f94e51e6740>, <app.base.executable.Comp object at 0x7f94e51e6800>, <app.base.executable.Comp object at 0x7f94e51e6830>], 'memory': []}\n",
      "DEBUG:app.base.executable:Running object: {'components': None, 'memory': [], 'model': LanguageModel(name='OpenAI1', memory=[]), 'prompt': Prompt(template='tell me a joke about {subject}.', output=Placeholder(name='joke', type='identity', choice='all', listify_func=<function Placeholder.<lambda> at 0x7f94dfa48670>, string_content=None, list_content=None), inputs=['subject'], filled_prompt=None)}\n",
      "DEBUG:app.base.executable:Running object: {'components': None, 'memory': [], 'model': LanguageModel(name='Google1', memory=[]), 'prompt': Prompt(template='what do you think of this joke: {joke}?', output=Placeholder(name='other', type='identity', choice='all', listify_func=<function Placeholder.<lambda> at 0x7f94dfa48670>, string_content=None, list_content=None), inputs=['joke'], filled_prompt=None)}\n",
      "DEBUG:app.base.executable:Running object: {'components': None, 'memory': [], 'model': LanguageModel(name='Microsoft1', memory=[]), 'prompt': Prompt(template='can you explain why this joke is funny: {joke}?', output=Placeholder(name='subject', type='identity', choice='all', listify_func=<function Placeholder.<lambda> at 0x7f94dfa48670>, string_content=None, list_content=None), inputs=['joke'], filled_prompt=None)}\n"
     ]
    },
    {
     "data": {
      "text/plain": [
       "{'subject': Placeholder(name='subject', type='identity', choice='all', listify_func=<function Placeholder.<lambda> at 0x7f94dfa48670>, string_content='Response of Microsoft1: to (can you explain why this joke is funny: Response of OpenAI1: to (tell me a joke about computer.)?)', list_content=None),\n",
       " 'something': Placeholder(name='something', type='identity', choice='all', listify_func=<function Placeholder.<lambda> at 0x7f94dfa48670>, string_content='something', list_content=None),\n",
       " 'joke': Placeholder(name='joke', type='identity', choice='all', listify_func=<function Placeholder.<lambda> at 0x7f94dfa48670>, string_content='Response of OpenAI1: to (tell me a joke about computer.)', list_content=None),\n",
       " 'other': Placeholder(name='other', type='identity', choice='all', listify_func=<function Placeholder.<lambda> at 0x7f94dfa48670>, string_content='Response of Google1: to (what do you think of this joke: Response of OpenAI1: to (tell me a joke about computer.)?)', list_content=None)}"
      ]
     },
     "execution_count": 9,
     "metadata": {},
     "output_type": "execute_result"
    }
   ],
   "source": [
    "# Run the chain\n",
    "initial_placeholders = {\"subject\": Placeholder(name='subject', string_content='computer'), \n",
    "                        'something': Placeholder(name='something', string_content='something')}\n",
    "chain1.run(initial_placeholders)"
   ]
  },
  {
   "cell_type": "markdown",
   "id": "38233513-c6cb-4f23-8aa8-762ed38b47c9",
   "metadata": {},
   "source": [
    "## Chain of chains"
   ]
  },
  {
   "cell_type": "code",
   "execution_count": 10,
   "id": "471b366b-b2a5-4370-bbfe-d48c40cb1df2",
   "metadata": {
    "tags": []
   },
   "outputs": [
    {
     "name": "stderr",
     "output_type": "stream",
     "text": [
      "DEBUG:app.base.executable:Running object: {'components': [<app.base.executable.Comp object at 0x7f94e51e6740>, <app.base.executable.Comp object at 0x7f94e51e6800>, <app.base.executable.Comp object at 0x7f94e51e6830>], 'memory': [{'joke': Placeholder(name='joke', type='identity', choice='all', listify_func=<function Placeholder.<lambda> at 0x7f94dfa48670>, string_content='Response of OpenAI1: to (tell me a joke about computer.)', list_content=None)}, {'other': Placeholder(name='other', type='identity', choice='all', listify_func=<function Placeholder.<lambda> at 0x7f94dfa48670>, string_content='Response of Google1: to (what do you think of this joke: Response of OpenAI1: to (tell me a joke about computer.)?)', list_content=None)}, {'subject': Placeholder(name='subject', type='identity', choice='all', listify_func=<function Placeholder.<lambda> at 0x7f94dfa48670>, string_content='Response of Microsoft1: to (can you explain why this joke is funny: Response of OpenAI1: to (tell me a joke about computer.)?)', list_content=None)}]}\n",
      "DEBUG:app.base.executable:Running object: {'components': None, 'memory': ['Response of OpenAI1: to (tell me a joke about computer.)'], 'model': LanguageModel(name='OpenAI1', memory=[('tell me a joke about computer.', 'Response of OpenAI1: to (tell me a joke about computer.)')]), 'prompt': Prompt(template='tell me a joke about {subject}.', output=Placeholder(name='joke', type='identity', choice='all', listify_func=<function Placeholder.<lambda> at 0x7f94dfa48670>, string_content='Response of OpenAI1: to (tell me a joke about computer.)', list_content=None), inputs=['subject'], filled_prompt='tell me a joke about computer.')}\n",
      "DEBUG:app.base.executable:Running object: {'components': None, 'memory': ['Response of Google1: to (what do you think of this joke: Response of OpenAI1: to (tell me a joke about computer.)?)'], 'model': LanguageModel(name='Google1', memory=[('what do you think of this joke: Response of OpenAI1: to (tell me a joke about computer.)?', 'Response of Google1: to (what do you think of this joke: Response of OpenAI1: to (tell me a joke about computer.)?)')]), 'prompt': Prompt(template='what do you think of this joke: {joke}?', output=Placeholder(name='other', type='identity', choice='all', listify_func=<function Placeholder.<lambda> at 0x7f94dfa48670>, string_content='Response of Google1: to (what do you think of this joke: Response of OpenAI1: to (tell me a joke about computer.)?)', list_content=None), inputs=['joke'], filled_prompt='what do you think of this joke: Response of OpenAI1: to (tell me a joke about computer.)?')}\n",
      "DEBUG:app.base.executable:Running object: {'components': None, 'memory': ['Response of Microsoft1: to (can you explain why this joke is funny: Response of OpenAI1: to (tell me a joke about computer.)?)'], 'model': LanguageModel(name='Microsoft1', memory=[('can you explain why this joke is funny: Response of OpenAI1: to (tell me a joke about computer.)?', 'Response of Microsoft1: to (can you explain why this joke is funny: Response of OpenAI1: to (tell me a joke about computer.)?)')]), 'prompt': Prompt(template='can you explain why this joke is funny: {joke}?', output=Placeholder(name='subject', type='identity', choice='all', listify_func=<function Placeholder.<lambda> at 0x7f94dfa48670>, string_content='Response of Microsoft1: to (can you explain why this joke is funny: Response of OpenAI1: to (tell me a joke about computer.)?)', list_content=None), inputs=['joke'], filled_prompt='can you explain why this joke is funny: Response of OpenAI1: to (tell me a joke about computer.)?')}\n"
     ]
    },
    {
     "data": {
      "text/plain": [
       "{'subject': Placeholder(name='subject', type='identity', choice='all', listify_func=<function Placeholder.<lambda> at 0x7f94dfa48670>, string_content='Response of Microsoft1: to (can you explain why this joke is funny: Response of OpenAI1: to (tell me a joke about computer.)?)', list_content=None),\n",
       " 'something': Placeholder(name='something', type='identity', choice='all', listify_func=<function Placeholder.<lambda> at 0x7f94dfa48670>, string_content='something', list_content=None),\n",
       " 'joke': Placeholder(name='joke', type='identity', choice='all', listify_func=<function Placeholder.<lambda> at 0x7f94dfa48670>, string_content='Response of OpenAI1: to (tell me a joke about computer.)', list_content=None),\n",
       " 'other': Placeholder(name='other', type='identity', choice='all', listify_func=<function Placeholder.<lambda> at 0x7f94dfa48670>, string_content='Response of Google1: to (what do you think of this joke: Response of OpenAI1: to (tell me a joke about computer.)?)', list_content=None)}"
      ]
     },
     "execution_count": 10,
     "metadata": {},
     "output_type": "execute_result"
    }
   ],
   "source": [
    "chain3 = Chain([chain1, chain2, threads1])\n",
    "initial_placeholders = {\"subject\": Placeholder(name='subject', string_content='computer'), \n",
    "                        'something': Placeholder(name='something', string_content='something')}\n",
    "chain1.run(initial_placeholders)"
   ]
  },
  {
   "cell_type": "markdown",
   "id": "c7f8c9ce-4158-4d33-9f61-412bf03de885",
   "metadata": {},
   "source": [
    "## Threads"
   ]
  },
  {
   "cell_type": "code",
   "execution_count": 11,
   "id": "63aa06ec-580e-4299-b929-096424be13ac",
   "metadata": {
    "tags": []
   },
   "outputs": [
    {
     "name": "stderr",
     "output_type": "stream",
     "text": [
      "DEBUG:app.base.executable:Running object: {'components': [<app.base.executable.Comp object at 0x7f94df582bc0>, <app.base.executable.Comp object at 0x7f94df583be0>, <app.base.executable.Comp object at 0x7f94df583910>], 'memory': []}\n",
      "DEBUG:app.base.executable:Running object: {'components': None, 'memory': [], 'model': LanguageModel(name='OpenAI2', memory=[]), 'prompt': Prompt(template='tell me a joke about {lala}.', output=Placeholder(name='joke', type='identity', choice='all', listify_func=<function Placeholder.<lambda> at 0x7f94dfa48670>, string_content=None, list_content=None), inputs=['lala'], filled_prompt=None)}\n",
      "DEBUG:app.base.executable:Running object: {'components': None, 'memory': [], 'model': LanguageModel(name='Google2', memory=[]), 'prompt': Prompt(template='what do you think of this joke: {else}?', output=Placeholder(name='think', type='identity', choice='all', listify_func=<function Placeholder.<lambda> at 0x7f94dfa48670>, string_content=None, list_content=None), inputs=['else'], filled_prompt=None)}\n",
      "DEBUG:app.base.executable:Running object: {'components': None, 'memory': [], 'model': LanguageModel(name='Microsoft2', memory=[]), 'prompt': Prompt(template='can you explain why this joke is funny: {think}?', output=Placeholder(name='kaka', type='identity', choice='all', listify_func=<function Placeholder.<lambda> at 0x7f94dfa48670>, string_content=None, list_content=None), inputs=['think'], filled_prompt=None)}\n"
     ]
    },
    {
     "data": {
      "text/plain": [
       "{'subject': Placeholder(name='subject', type='identity', choice='all', listify_func=<function Placeholder.<lambda> at 0x7f94dfa48670>, string_content='computer', list_content=None),\n",
       " 'lala': Placeholder(name='lala', type='identity', choice='all', listify_func=<function Placeholder.<lambda> at 0x7f94dfa48670>, string_content='something', list_content=None),\n",
       " 'think': Placeholder(name='think', type='identity', choice='all', listify_func=<function Placeholder.<lambda> at 0x7f94dfa48670>, string_content='Response of Google2: to (what do you think of this joke: something?)', list_content=None),\n",
       " 'else': Placeholder(name='else', type='identity', choice='all', listify_func=<function Placeholder.<lambda> at 0x7f94dfa48670>, string_content='something', list_content=None),\n",
       " 'joke': Placeholder(name='joke', type='identity', choice='all', listify_func=<function Placeholder.<lambda> at 0x7f94dfa48670>, string_content='Response of OpenAI2: to (tell me a joke about something.)', list_content=None),\n",
       " 'kaka': Placeholder(name='kaka', type='identity', choice='all', listify_func=<function Placeholder.<lambda> at 0x7f94dfa48670>, string_content='Response of Microsoft2: to (can you explain why this joke is funny: something?)', list_content=None)}"
      ]
     },
     "execution_count": 11,
     "metadata": {},
     "output_type": "execute_result"
    }
   ],
   "source": [
    "initial_placeholders = {\"subject\": Placeholder(name='subject', string_content='computer'), \n",
    "                        'lala': Placeholder(name='lala', string_content='something'), \n",
    "                       'think': Placeholder(name='think', string_content='something'),\n",
    "                       'else': Placeholder(name='else', string_content='something')}\n",
    "threads1.run(initial_placeholders)"
   ]
  },
  {
   "cell_type": "markdown",
   "id": "6645d099-6463-421e-90e8-234debcc9b51",
   "metadata": {},
   "source": [
    "# More complex"
   ]
  },
  {
   "cell_type": "code",
   "execution_count": 14,
   "id": "d23c1321-5177-4c9c-9262-a43cc9a43a36",
   "metadata": {
    "tags": []
   },
   "outputs": [],
   "source": [
    "# add placeholders and import \n",
    "threads1 = Threads([Component(LanguageModel(name=\"OpenAI2\"), Prompt(\"tell me a joke about {lala}.\", Placeholder('joke'))), \n",
    "                Component(LanguageModel(name=\"Google2\"), Prompt(\"what do you think of this joke: {something}?\", Placeholder('think'))), \n",
    "                Component(LanguageModel(name=\"Microsoft2\"), Prompt(\"can you explain why this joke is funny: {think}?\", Placeholder('kaka')))])\n",
    "\n",
    "chain2 = Chain([Component(LanguageModel(name=\"OpenAI2\"), Prompt(\"tell me a joke about {subject}.\", Placeholder('joke'))), \n",
    "                Component(LanguageModel(name=\"Google2\"), Prompt(\"what do you think of this joke: {joke}?\", Placeholder('think'))), \n",
    "                Component(LanguageModel(name=\"Microsoft2\"), Prompt(\"can you explain why this joke is funny: {think}?\", Placeholder('lala'))),\n",
    "                threads1\n",
    "               ])\n",
    "\n",
    "chain1 = Chain([Component(LanguageModel(name=\"OpenAI1\"), \n",
    "                          Prompt(\"tell me a joke about {subject}.\", Placeholder('joke'))), \n",
    "                Component(LanguageModel(name=\"Google1\"), \n",
    "                          Prompt(\"what do you think of this joke: {joke}?\", Placeholder('other'))), \n",
    "                Component(LanguageModel(name=\"Microsoft1\"), \n",
    "                          Prompt(\"can you explain why this joke is funny: {joke}?\", Placeholder('subject'))),\n",
    "                chain2\n",
    "               ])\n",
    "\n",
    "component = Component(LanguageModel(name=\"OpenAI2\"), Prompt(\"tell me a joke about {other}.\", Placeholder('joke')))"
   ]
  },
  {
   "cell_type": "code",
   "execution_count": 15,
   "id": "054b18b0-72e1-4a82-a470-7eae1dab626d",
   "metadata": {
    "tags": []
   },
   "outputs": [
    {
     "name": "stderr",
     "output_type": "stream",
     "text": [
      "DEBUG:app.base.executable:Running object: {'components': [<app.base.executable.Comp object at 0x7f94e5441870>, <app.base.executable.Comp object at 0x7f94e53c90c0>, <app.base.executable.Comp object at 0x7f94e53cbee0>, <app.base.executable.Chai object at 0x7f94e53ca020>], 'memory': []}\n",
      "DEBUG:app.base.executable:Running object: {'components': None, 'memory': [], 'model': LanguageModel(name='OpenAI1', memory=[]), 'prompt': Prompt(template='tell me a joke about {subject}.', output=Placeholder(name='joke', type='identity', choice='all', listify_func=<function Placeholder.<lambda> at 0x7f94dfa48670>, string_content=None, list_content=None), inputs=['subject'], filled_prompt=None)}\n",
      "DEBUG:app.base.executable:Running object: {'components': None, 'memory': [], 'model': LanguageModel(name='Google1', memory=[]), 'prompt': Prompt(template='what do you think of this joke: {joke}?', output=Placeholder(name='other', type='identity', choice='all', listify_func=<function Placeholder.<lambda> at 0x7f94dfa48670>, string_content=None, list_content=None), inputs=['joke'], filled_prompt=None)}\n",
      "DEBUG:app.base.executable:Running object: {'components': None, 'memory': [], 'model': LanguageModel(name='Microsoft1', memory=[]), 'prompt': Prompt(template='can you explain why this joke is funny: {joke}?', output=Placeholder(name='subject', type='identity', choice='all', listify_func=<function Placeholder.<lambda> at 0x7f94dfa48670>, string_content=None, list_content=None), inputs=['joke'], filled_prompt=None)}\n",
      "DEBUG:app.base.executable:Running object: {'components': [<app.base.executable.Comp object at 0x7f94e54418d0>, <app.base.executable.Comp object at 0x7f94e53cb700>, <app.base.executable.Comp object at 0x7f94e53cacb0>, <app.base.executable.Thre object at 0x7f94e54425f0>], 'memory': []}\n",
      "DEBUG:app.base.executable:Running object: {'components': None, 'memory': [], 'model': LanguageModel(name='OpenAI2', memory=[]), 'prompt': Prompt(template='tell me a joke about {subject}.', output=Placeholder(name='joke', type='identity', choice='all', listify_func=<function Placeholder.<lambda> at 0x7f94dfa48670>, string_content=None, list_content=None), inputs=['subject'], filled_prompt=None)}\n",
      "DEBUG:app.base.executable:Running object: {'components': None, 'memory': [], 'model': LanguageModel(name='Google2', memory=[]), 'prompt': Prompt(template='what do you think of this joke: {joke}?', output=Placeholder(name='think', type='identity', choice='all', listify_func=<function Placeholder.<lambda> at 0x7f94dfa48670>, string_content=None, list_content=None), inputs=['joke'], filled_prompt=None)}\n",
      "DEBUG:app.base.executable:Running object: {'components': None, 'memory': [], 'model': LanguageModel(name='Microsoft2', memory=[]), 'prompt': Prompt(template='can you explain why this joke is funny: {think}?', output=Placeholder(name='lala', type='identity', choice='all', listify_func=<function Placeholder.<lambda> at 0x7f94dfa48670>, string_content=None, list_content=None), inputs=['think'], filled_prompt=None)}\n",
      "DEBUG:app.base.executable:Running object: {'components': [<app.base.executable.Comp object at 0x7f94e5442830>, <app.base.executable.Comp object at 0x7f94e5440a60>, <app.base.executable.Comp object at 0x7f94e54428c0>], 'memory': []}\n",
      "DEBUG:app.base.executable:Running object: {'components': None, 'memory': [], 'model': LanguageModel(name='OpenAI2', memory=[]), 'prompt': Prompt(template='tell me a joke about {lala}.', output=Placeholder(name='joke', type='identity', choice='all', listify_func=<function Placeholder.<lambda> at 0x7f94dfa48670>, string_content=None, list_content=None), inputs=['lala'], filled_prompt=None)}\n",
      "DEBUG:app.base.executable:Running object: {'components': None, 'memory': [], 'model': LanguageModel(name='Google2', memory=[]), 'prompt': Prompt(template='what do you think of this joke: {something}?', output=Placeholder(name='think', type='identity', choice='all', listify_func=<function Placeholder.<lambda> at 0x7f94dfa48670>, string_content=None, list_content=None), inputs=['something'], filled_prompt=None)}\n",
      "DEBUG:app.base.executable:Running object: {'components': None, 'memory': [], 'model': LanguageModel(name='Microsoft2', memory=[]), 'prompt': Prompt(template='can you explain why this joke is funny: {think}?', output=Placeholder(name='kaka', type='identity', choice='all', listify_func=<function Placeholder.<lambda> at 0x7f94dfa48670>, string_content=None, list_content=None), inputs=['think'], filled_prompt=None)}\n"
     ]
    },
    {
     "data": {
      "text/plain": [
       "{'subject': Placeholder(name='subject', type='identity', choice='all', listify_func=<function Placeholder.<lambda> at 0x7f94dfa48670>, string_content='Response of Microsoft1: to (can you explain why this joke is funny: Response of OpenAI1: to (tell me a joke about computer.)?)', list_content=None),\n",
       " 'something': Placeholder(name='something', type='identity', choice='all', listify_func=<function Placeholder.<lambda> at 0x7f94dfa48670>, string_content='something', list_content=None),\n",
       " 'joke': Placeholder(name='joke', type='identity', choice='all', listify_func=<function Placeholder.<lambda> at 0x7f94dfa48670>, string_content='Response of OpenAI2: to (tell me a joke about Response of Microsoft2: to (can you explain why this joke is funny: Response of Google2: to (what do you think of this joke: Response of OpenAI2: to (tell me a joke about Response of Microsoft1: to (can you explain why this joke is funny: Response of OpenAI1: to (tell me a joke about computer.)?).)?)?).)', list_content=None),\n",
       " 'other': Placeholder(name='other', type='identity', choice='all', listify_func=<function Placeholder.<lambda> at 0x7f94dfa48670>, string_content='Response of Google1: to (what do you think of this joke: Response of OpenAI1: to (tell me a joke about computer.)?)', list_content=None),\n",
       " 'think': Placeholder(name='think', type='identity', choice='all', listify_func=<function Placeholder.<lambda> at 0x7f94dfa48670>, string_content='Response of Google2: to (what do you think of this joke: something?)', list_content=None),\n",
       " 'lala': Placeholder(name='lala', type='identity', choice='all', listify_func=<function Placeholder.<lambda> at 0x7f94dfa48670>, string_content='Response of Microsoft2: to (can you explain why this joke is funny: Response of Google2: to (what do you think of this joke: Response of OpenAI2: to (tell me a joke about Response of Microsoft1: to (can you explain why this joke is funny: Response of OpenAI1: to (tell me a joke about computer.)?).)?)?)', list_content=None),\n",
       " 'kaka': Placeholder(name='kaka', type='identity', choice='all', listify_func=<function Placeholder.<lambda> at 0x7f94dfa48670>, string_content='Response of Microsoft2: to (can you explain why this joke is funny: Response of Google2: to (what do you think of this joke: Response of OpenAI2: to (tell me a joke about Response of Microsoft1: to (can you explain why this joke is funny: Response of OpenAI1: to (tell me a joke about computer.)?).)?)?)', list_content=None)}"
      ]
     },
     "execution_count": 15,
     "metadata": {},
     "output_type": "execute_result"
    }
   ],
   "source": [
    "\n",
    "# TODO this should be a dict of string to the placeholder \n",
    "# TODO collect all placeholders in a dict of name to placeholder\n",
    "# TODO assign a value to the input placeholders\n",
    "\n",
    "chain3 = Chain([chain1, chain2, threads1])\n",
    "initial_placeholders = {\"subject\": Placeholder(name='subject', string_content='computer'), \n",
    "                        'something': Placeholder(name='something', string_content='something')}\n",
    "chain1.run(initial_placeholders)"
   ]
  },
  {
   "cell_type": "code",
   "execution_count": null,
   "id": "fb37a72f-5782-443a-86d3-f1924b3623a1",
   "metadata": {},
   "outputs": [],
   "source": []
  }
 ],
 "metadata": {
  "kernelspec": {
   "display_name": "Python [conda env:lexiflow] *",
   "language": "python",
   "name": "conda-env-lexiflow-py"
  },
  "language_info": {
   "codemirror_mode": {
    "name": "ipython",
    "version": 3
   },
   "file_extension": ".py",
   "mimetype": "text/x-python",
   "name": "python",
   "nbconvert_exporter": "python",
   "pygments_lexer": "ipython3",
   "version": "3.10.12"
  }
 },
 "nbformat": 4,
 "nbformat_minor": 5
}
