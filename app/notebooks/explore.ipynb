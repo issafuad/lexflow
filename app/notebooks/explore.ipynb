{
 "cells": [
  {
   "cell_type": "code",
   "execution_count": 1,
   "id": "e619b338-5dd9-42c1-8449-2c83efbb08ad",
   "metadata": {
    "tags": []
   },
   "outputs": [],
   "source": [
    "import sys\n",
    "import os\n",
    "sys.path.insert(0, os.path.abspath(os.path.join('../../')))\n",
    "\n",
    "import logging\n",
    "# Logging setup\n",
    "# handler = logging.StreamHandler(sys.stdout)\n",
    "# formatter = logging.Formatter('%(asctime)s - %(name)s - %(levelname)s - %(message)s')\n",
    "# handler.setFormatter(formatter)\n",
    "\n",
    "# module_logger = logging.getLogger()\n",
    "# module_logger.addHandler(handler)\n",
    "# module_logger.setLevel(logging.DEBUG)"
   ]
  },
  {
   "cell_type": "code",
   "execution_count": 2,
   "id": "ba386a3c-4852-4491-947e-7ebc322f7e2a",
   "metadata": {
    "tags": []
   },
   "outputs": [],
   "source": [
    "%load_ext autoreload\n",
    "%autoreload 2"
   ]
  },
  {
   "cell_type": "code",
   "execution_count": 3,
   "id": "dd1da0e7-1e16-492a-abca-2832c4b87a15",
   "metadata": {
    "tags": []
   },
   "outputs": [
    {
     "name": "stderr",
     "output_type": "stream",
     "text": [
      "DEBUG:matplotlib:matplotlib data path: /Users/fuad/opt/miniconda3/envs/lexiflow/lib/python3.10/site-packages/matplotlib/mpl-data\n",
      "DEBUG:matplotlib:CONFIGDIR=/Users/fuad/.matplotlib\n",
      "DEBUG:matplotlib:interactive is False\n",
      "DEBUG:matplotlib:platform is darwin\n",
      "DEBUG:matplotlib:CACHEDIR=/Users/fuad/.matplotlib\n",
      "DEBUG:matplotlib.font_manager:Using fontManager instance from /Users/fuad/.matplotlib/fontlist-v330.json\n"
     ]
    }
   ],
   "source": [
    "from app.base import LanguageModel, Chai as Chain, Prompt, Comp as Component, Thre as Threads\n",
    "import pandas as pd\n",
    "import dtale"
   ]
  },
  {
   "cell_type": "markdown",
   "id": "b116c673-f5a8-45a0-8d3d-f4a846da32ef",
   "metadata": {},
   "source": [
    "# Component"
   ]
  },
  {
   "cell_type": "code",
   "execution_count": 4,
   "id": "5b8909ce-e65f-4030-9535-246e5ca53299",
   "metadata": {
    "tags": []
   },
   "outputs": [
    {
     "name": "stderr",
     "output_type": "stream",
     "text": [
      "DEBUG:app.base.executable:initialising Compo\n"
     ]
    },
    {
     "name": "stdout",
     "output_type": "stream",
     "text": [
      "prompt: tell me a joke about computers.\n"
     ]
    },
    {
     "data": {
      "text/plain": [
       "{'joke': 'Response of Open-ai: to (tell me a joke about computers.)'}"
      ]
     },
     "execution_count": 4,
     "metadata": {},
     "output_type": "execute_result"
    }
   ],
   "source": [
    "def print_response(response):\n",
    "    print('callback')\n",
    "    \n",
    "lm = LanguageModel(\"Open-ai\")\n",
    "prompt = Prompt(\"tell me a joke about {subject}.\", [\"subject\"], 'joke')\n",
    "component = Component(lm, prompt)\n",
    "initial_placeholders = {\"subject\": \"computers\"}\n",
    "component.run(initial_placeholders)"
   ]
  },
  {
   "cell_type": "markdown",
   "id": "a52e962c-5675-4c47-b8cf-2374a7545bae",
   "metadata": {},
   "source": [
    "# Chain"
   ]
  },
  {
   "cell_type": "code",
   "execution_count": 5,
   "id": "109cfed5-c08c-4bda-832c-266c03edc50b",
   "metadata": {
    "tags": []
   },
   "outputs": [
    {
     "name": "stderr",
     "output_type": "stream",
     "text": [
      "DEBUG:app.base.executable:initialising Compo\n",
      "DEBUG:app.base.executable:initialising Compo\n",
      "DEBUG:app.base.executable:initialising Compo\n",
      "DEBUG:app.base.executable:initialising Chai with components [<app.base.executable.Comp object at 0x7fda71f21ed0>, <app.base.executable.Comp object at 0x7fda71f22650>, <app.base.executable.Comp object at 0x7fda71f21a50>]\n",
      "DEBUG:app.base.executable:available placeholders for Chai: {'subject'}\n",
      "DEBUG:app.base.executable:Validated object Chai with components [<app.base.executable.Comp object at 0x7fda71f21ed0>, <app.base.executable.Comp object at 0x7fda71f22650>, <app.base.executable.Comp object at 0x7fda71f21a50>]\n"
     ]
    },
    {
     "name": "stdout",
     "output_type": "stream",
     "text": [
      "prompt: tell me a joke about computers.\n",
      "callback\n",
      "prompt: what do you think of this joke: computers?\n",
      "callback\n",
      "prompt: can you explain why this joke is funny: Response of Google: to (what do you think of this joke: computers?)?\n",
      "callback\n"
     ]
    },
    {
     "data": {
      "text/plain": [
       "{'explanation': 'Response of Microsoft: to (can you explain why this joke is funny: Response of Google: to (what do you think of this joke: computers?)?)'}"
      ]
     },
     "execution_count": 5,
     "metadata": {},
     "output_type": "execute_result"
    }
   ],
   "source": [
    "# Create language models\n",
    "lm1 = LanguageModel(\"OpenAI\")\n",
    "lm2 = LanguageModel(\"Google\")\n",
    "lm3 = LanguageModel(\"Microsoft\")\n",
    "\n",
    "# Define prompts for each language model\n",
    "prompt1 = Prompt(\"tell me a joke about {subject}.\", [\"subject\"], 'joke')\n",
    "prompt2 = Prompt(\"what do you think of this joke: {subject}?\", [\"subject\"], 'think')\n",
    "prompt3 = Prompt(\"can you explain why this joke is funny: {think}?\", [\"think\"], 'explanation')\n",
    "\n",
    "# Define a callback function\n",
    "def print_response(response):\n",
    "    print('callback')\n",
    "\n",
    "# Create components\n",
    "component1 = Component(lm1, prompt1)\n",
    "component2 = Component(lm2, prompt2)\n",
    "component3 = Component(lm3, prompt3)\n",
    "\n",
    "# Create a chain\n",
    "chain = Chain([component1, component2, component3])\n",
    "initial_placeholders = {\"subject\": \"computers\"}\n",
    "\n",
    "\n",
    "# Run the chain\n",
    "chain.run(initial_placeholders, print_response)"
   ]
  },
  {
   "cell_type": "code",
   "execution_count": 6,
   "id": "d7f168c4-4a53-47d5-9adf-89e623d016fa",
   "metadata": {},
   "outputs": [
    {
     "data": {
      "text/html": [
       "<div>\n",
       "<style scoped>\n",
       "    .dataframe tbody tr th:only-of-type {\n",
       "        vertical-align: middle;\n",
       "    }\n",
       "\n",
       "    .dataframe tbody tr th {\n",
       "        vertical-align: top;\n",
       "    }\n",
       "\n",
       "    .dataframe thead th {\n",
       "        text-align: right;\n",
       "    }\n",
       "</style>\n",
       "<table border=\"1\" class=\"dataframe\">\n",
       "  <thead>\n",
       "    <tr style=\"text-align: right;\">\n",
       "      <th></th>\n",
       "      <th>0</th>\n",
       "      <th>1</th>\n",
       "    </tr>\n",
       "  </thead>\n",
       "  <tbody>\n",
       "    <tr>\n",
       "      <th>0</th>\n",
       "      <td>&lt;app.base.executable.Comp object at 0x7fda71f2...</td>\n",
       "      <td>{'joke': 'Response of OpenAI: to (tell me a jo...</td>\n",
       "    </tr>\n",
       "    <tr>\n",
       "      <th>1</th>\n",
       "      <td>&lt;app.base.executable.Comp object at 0x7fda71f2...</td>\n",
       "      <td>{'think': 'Response of Google: to (what do you...</td>\n",
       "    </tr>\n",
       "    <tr>\n",
       "      <th>2</th>\n",
       "      <td>&lt;app.base.executable.Comp object at 0x7fda71f2...</td>\n",
       "      <td>{'explanation': 'Response of Microsoft: to (ca...</td>\n",
       "    </tr>\n",
       "  </tbody>\n",
       "</table>\n",
       "</div>"
      ],
      "text/plain": [
       "                                                   0  \\\n",
       "0  <app.base.executable.Comp object at 0x7fda71f2...   \n",
       "1  <app.base.executable.Comp object at 0x7fda71f2...   \n",
       "2  <app.base.executable.Comp object at 0x7fda71f2...   \n",
       "\n",
       "                                                   1  \n",
       "0  {'joke': 'Response of OpenAI: to (tell me a jo...  \n",
       "1  {'think': 'Response of Google: to (what do you...  \n",
       "2  {'explanation': 'Response of Microsoft: to (ca...  "
      ]
     },
     "execution_count": 6,
     "metadata": {},
     "output_type": "execute_result"
    }
   ],
   "source": [
    "# Check the memory of the chain and a language model\n",
    "pd.DataFrame(chain.memory)"
   ]
  },
  {
   "cell_type": "code",
   "execution_count": 7,
   "id": "ed16b8d8-1d6c-44ce-8103-11d5faf815a5",
   "metadata": {
    "tags": []
   },
   "outputs": [
    {
     "data": {
      "text/html": [
       "<div>\n",
       "<style scoped>\n",
       "    .dataframe tbody tr th:only-of-type {\n",
       "        vertical-align: middle;\n",
       "    }\n",
       "\n",
       "    .dataframe tbody tr th {\n",
       "        vertical-align: top;\n",
       "    }\n",
       "\n",
       "    .dataframe thead th {\n",
       "        text-align: right;\n",
       "    }\n",
       "</style>\n",
       "<table border=\"1\" class=\"dataframe\">\n",
       "  <thead>\n",
       "    <tr style=\"text-align: right;\">\n",
       "      <th></th>\n",
       "      <th>0</th>\n",
       "      <th>1</th>\n",
       "    </tr>\n",
       "  </thead>\n",
       "  <tbody>\n",
       "    <tr>\n",
       "      <th>0</th>\n",
       "      <td>can you explain why this joke is funny: Respon...</td>\n",
       "      <td>Response of Microsoft: to (can you explain why...</td>\n",
       "    </tr>\n",
       "  </tbody>\n",
       "</table>\n",
       "</div>"
      ],
      "text/plain": [
       "                                                   0  \\\n",
       "0  can you explain why this joke is funny: Respon...   \n",
       "\n",
       "                                                   1  \n",
       "0  Response of Microsoft: to (can you explain why...  "
      ]
     },
     "execution_count": 7,
     "metadata": {},
     "output_type": "execute_result"
    }
   ],
   "source": [
    "pd.DataFrame(lm3.memory)"
   ]
  },
  {
   "cell_type": "code",
   "execution_count": 32,
   "id": "368301cd-b322-498b-a302-a17f8f17fdea",
   "metadata": {
    "tags": []
   },
   "outputs": [],
   "source": [
    "# chain.placeholders"
   ]
  },
  {
   "cell_type": "markdown",
   "id": "a99be054-073e-4226-89b3-c7e7748daaa4",
   "metadata": {},
   "source": [
    "## Chain of chain"
   ]
  },
  {
   "cell_type": "code",
   "execution_count": 8,
   "id": "d5e0b351-f75c-4767-bd2a-eccc2c5b617a",
   "metadata": {
    "tags": []
   },
   "outputs": [
    {
     "name": "stderr",
     "output_type": "stream",
     "text": [
      "DEBUG:app.base.executable:initialising Compo\n",
      "DEBUG:app.base.executable:initialising Compo\n",
      "DEBUG:app.base.executable:initialising Compo\n",
      "DEBUG:app.base.executable:initialising Chai with components [<app.base.executable.Comp object at 0x7fda71f22aa0>, <app.base.executable.Comp object at 0x7fda6c62e6b0>, <app.base.executable.Comp object at 0x7fda6c62fd60>]\n",
      "DEBUG:app.base.executable:available placeholders for Chai: {'subject'}\n",
      "DEBUG:app.base.executable:Validated object Chai with components [<app.base.executable.Comp object at 0x7fda71f22aa0>, <app.base.executable.Comp object at 0x7fda6c62e6b0>, <app.base.executable.Comp object at 0x7fda6c62fd60>]\n",
      "DEBUG:app.base.executable:initialising Compo\n",
      "DEBUG:app.base.executable:initialising Compo\n",
      "DEBUG:app.base.executable:initialising Compo\n",
      "DEBUG:app.base.executable:initialising Chai with components [<app.base.executable.Comp object at 0x7fda6c62e8c0>, <app.base.executable.Comp object at 0x7fda6c62f700>, <app.base.executable.Comp object at 0x7fda71f8c9d0>]\n",
      "DEBUG:app.base.executable:available placeholders for Chai: {'subject'}\n",
      "DEBUG:app.base.executable:Validated object Chai with components [<app.base.executable.Comp object at 0x7fda6c62e8c0>, <app.base.executable.Comp object at 0x7fda6c62f700>, <app.base.executable.Comp object at 0x7fda71f8c9d0>]\n",
      "DEBUG:app.base.executable:initialising Compo\n",
      "DEBUG:app.base.executable:initialising Compo\n",
      "DEBUG:app.base.executable:initialising Compo\n",
      "DEBUG:app.base.executable:initialising Chai with components [<app.base.executable.Comp object at 0x7fda71f8c880>, <app.base.executable.Comp object at 0x7fda71f8c670>, <app.base.executable.Comp object at 0x7fda71f8c640>]\n",
      "DEBUG:app.base.executable:available placeholders for Chai: {'lala'}\n",
      "DEBUG:app.base.executable:Validated object Chai with components [<app.base.executable.Comp object at 0x7fda71f8c880>, <app.base.executable.Comp object at 0x7fda71f8c670>, <app.base.executable.Comp object at 0x7fda71f8c640>]\n",
      "DEBUG:app.base.executable:initialising Compo\n",
      "DEBUG:app.base.executable:initialising Chai with components [<app.base.executable.Chai object at 0x7fda6c62e890>, <app.base.executable.Chai object at 0x7fda6c62eef0>, <app.base.executable.Comp object at 0x7fda71f8cb50>]\n",
      "DEBUG:app.base.executable:available placeholders for Chai: {'subject'}\n",
      "DEBUG:app.base.executable:available placeholders for Chai: {'subject'}\n",
      "DEBUG:app.base.executable:available placeholders for Chai: {'other', 'joke', 'subject'}\n",
      "DEBUG:app.base.executable:Validated object Chai with components [<app.base.executable.Chai object at 0x7fda6c62e890>, <app.base.executable.Chai object at 0x7fda6c62eef0>, <app.base.executable.Comp object at 0x7fda71f8cb50>]\n"
     ]
    },
    {
     "name": "stdout",
     "output_type": "stream",
     "text": [
      "prompt: tell me a joke about computers.\n",
      "Response of OpenAI1: to (tell me a joke about computers.)\n",
      "prompt: what do you think of this joke: Response of OpenAI1: to (tell me a joke about computers.)?\n",
      "Response of Google1: to (what do you think of this joke: Response of OpenAI1: to (tell me a joke about computers.)?)\n",
      "prompt: can you explain why this joke is funny: Response of OpenAI1: to (tell me a joke about computers.)?\n",
      "Response of Microsoft1: to (can you explain why this joke is funny: Response of OpenAI1: to (tell me a joke about computers.)?)\n",
      "prompt: tell me a joke about Response of Microsoft1: to (can you explain why this joke is funny: Response of OpenAI1: to (tell me a joke about computers.)?).\n",
      "Response of OpenAI2: to (tell me a joke about Response of Microsoft1: to (can you explain why this joke is funny: Response of OpenAI1: to (tell me a joke about computers.)?).)\n",
      "prompt: what do you think of this joke: Response of OpenAI2: to (tell me a joke about Response of Microsoft1: to (can you explain why this joke is funny: Response of OpenAI1: to (tell me a joke about computers.)?).)?\n",
      "Response of Google2: to (what do you think of this joke: Response of OpenAI2: to (tell me a joke about Response of Microsoft1: to (can you explain why this joke is funny: Response of OpenAI1: to (tell me a joke about computers.)?).)?)\n",
      "prompt: can you explain why this joke is funny: Response of Google2: to (what do you think of this joke: Response of OpenAI2: to (tell me a joke about Response of Microsoft1: to (can you explain why this joke is funny: Response of OpenAI1: to (tell me a joke about computers.)?).)?)?\n",
      "Response of Microsoft2: to (can you explain why this joke is funny: Response of Google2: to (what do you think of this joke: Response of OpenAI2: to (tell me a joke about Response of Microsoft1: to (can you explain why this joke is funny: Response of OpenAI1: to (tell me a joke about computers.)?).)?)?)\n"
     ]
    },
    {
     "ename": "KeyError",
     "evalue": "'other'",
     "output_type": "error",
     "traceback": [
      "\u001b[0;31m---------------------------------------------------------------------------\u001b[0m",
      "\u001b[0;31mKeyError\u001b[0m                                  Traceback (most recent call last)",
      "Cell \u001b[0;32mIn[8], line 23\u001b[0m\n\u001b[1;32m     19\u001b[0m initial_placeholders \u001b[38;5;241m=\u001b[39m {\u001b[38;5;124m\"\u001b[39m\u001b[38;5;124msubject\u001b[39m\u001b[38;5;124m\"\u001b[39m: \u001b[38;5;124m\"\u001b[39m\u001b[38;5;124mcomputers\u001b[39m\u001b[38;5;124m\"\u001b[39m}\n\u001b[1;32m     22\u001b[0m \u001b[38;5;66;03m# Run the chain\u001b[39;00m\n\u001b[0;32m---> 23\u001b[0m \u001b[43mchain3\u001b[49m\u001b[38;5;241;43m.\u001b[39;49m\u001b[43mrun\u001b[49m\u001b[43m(\u001b[49m\u001b[43minitial_placeholders\u001b[49m\u001b[43m,\u001b[49m\u001b[43m \u001b[49m\u001b[43mprint_response\u001b[49m\u001b[43m)\u001b[49m\n",
      "File \u001b[0;32m~/Documents/projects/lexiflow/app/base/executable.py:156\u001b[0m, in \u001b[0;36mChai.run\u001b[0;34m(self, inputted_placeholders, callback)\u001b[0m\n\u001b[1;32m    154\u001b[0m responses \u001b[38;5;241m=\u001b[39m {}\n\u001b[1;32m    155\u001b[0m \u001b[38;5;28;01mfor\u001b[39;00m component \u001b[38;5;129;01min\u001b[39;00m \u001b[38;5;28mself\u001b[39m\u001b[38;5;241m.\u001b[39mcomponents:\n\u001b[0;32m--> 156\u001b[0m     response \u001b[38;5;241m=\u001b[39m \u001b[43mcomponent\u001b[49m\u001b[38;5;241;43m.\u001b[39;49m\u001b[43mrun\u001b[49m\u001b[43m(\u001b[49m\u001b[43minputted_placeholders\u001b[49m\u001b[43m,\u001b[49m\u001b[43m \u001b[49m\u001b[43mcallback\u001b[49m\u001b[43m)\u001b[49m\n\u001b[1;32m    158\u001b[0m     \u001b[38;5;66;03m# print(f'output keys {component.get_output_keys()}')\u001b[39;00m\n\u001b[1;32m    159\u001b[0m     \u001b[38;5;28;01mfor\u001b[39;00m output_key \u001b[38;5;129;01min\u001b[39;00m component\u001b[38;5;241m.\u001b[39mget_output_keys():\n",
      "File \u001b[0;32m~/Documents/projects/lexiflow/app/base/executable.py:104\u001b[0m, in \u001b[0;36mComp.run\u001b[0;34m(self, inputted_placeholders, callback)\u001b[0m\n\u001b[1;32m    102\u001b[0m \u001b[38;5;28;01mdef\u001b[39;00m \u001b[38;5;21mrun\u001b[39m(\u001b[38;5;28mself\u001b[39m, inputted_placeholders, callback\u001b[38;5;241m=\u001b[39m\u001b[38;5;28;01mNone\u001b[39;00m):\n\u001b[1;32m    103\u001b[0m     inputted_placeholders \u001b[38;5;241m=\u001b[39m inputted_placeholders\u001b[38;5;241m.\u001b[39mcopy()\n\u001b[0;32m--> 104\u001b[0m     \u001b[38;5;28;43mself\u001b[39;49m\u001b[38;5;241;43m.\u001b[39;49m\u001b[43mprompt\u001b[49m\u001b[38;5;241;43m.\u001b[39;49m\u001b[43mfill\u001b[49m\u001b[43m(\u001b[49m\u001b[43minputted_placeholders\u001b[49m\u001b[43m)\u001b[49m\n\u001b[1;32m    105\u001b[0m     response \u001b[38;5;241m=\u001b[39m \u001b[38;5;28mself\u001b[39m\u001b[38;5;241m.\u001b[39mmodel\u001b[38;5;241m.\u001b[39mgenerate_response(\u001b[38;5;28mself\u001b[39m\u001b[38;5;241m.\u001b[39mprompt\u001b[38;5;241m.\u001b[39mfilled_prompt, callback)\n\u001b[1;32m    106\u001b[0m     \u001b[38;5;28mself\u001b[39m\u001b[38;5;241m.\u001b[39mmemory\u001b[38;5;241m.\u001b[39mappend((\u001b[38;5;28mself\u001b[39m, response))\n",
      "File \u001b[0;32m~/Documents/projects/lexiflow/app/base/executable.py:19\u001b[0m, in \u001b[0;36mPrompt.fill\u001b[0;34m(self, placeholder_values)\u001b[0m\n\u001b[1;32m     17\u001b[0m filled_text \u001b[38;5;241m=\u001b[39m \u001b[38;5;28mself\u001b[39m\u001b[38;5;241m.\u001b[39mtext\n\u001b[1;32m     18\u001b[0m \u001b[38;5;28;01mfor\u001b[39;00m placeholder \u001b[38;5;129;01min\u001b[39;00m \u001b[38;5;28mself\u001b[39m\u001b[38;5;241m.\u001b[39mplaceholders:\n\u001b[0;32m---> 19\u001b[0m     value \u001b[38;5;241m=\u001b[39m \u001b[43mplaceholder_values\u001b[49m\u001b[43m[\u001b[49m\u001b[43mplaceholder\u001b[49m\u001b[43m]\u001b[49m\n\u001b[1;32m     20\u001b[0m     filled_text \u001b[38;5;241m=\u001b[39m filled_text\u001b[38;5;241m.\u001b[39mformat(\u001b[38;5;241m*\u001b[39m\u001b[38;5;241m*\u001b[39m{placeholder: value})\n\u001b[1;32m     22\u001b[0m \u001b[38;5;28mself\u001b[39m\u001b[38;5;241m.\u001b[39mfilled_prompt \u001b[38;5;241m=\u001b[39m filled_text\n",
      "\u001b[0;31mKeyError\u001b[0m: 'other'"
     ]
    }
   ],
   "source": [
    "# Define a callback function\n",
    "def print_response(response):\n",
    "    print(response)\n",
    "\n",
    "# Create a chain\n",
    "chain1 = Chain([Component(LanguageModel(\"OpenAI1\"), Prompt(\"tell me a joke about {subject}.\", [\"subject\"], 'joke')), \n",
    "                Component(LanguageModel(\"Google1\"), Prompt(\"what do you think of this joke: {joke}?\", [\"joke\"], 'other')), \n",
    "                Component(LanguageModel(\"Microsoft1\"), Prompt(\"can you explain why this joke is funny: {joke}?\", [\"joke\"], 'subject'))])\n",
    "\n",
    "chain2 = Chain([Component(LanguageModel(\"OpenAI2\"), Prompt(\"tell me a joke about {subject}.\", [\"subject\"], 'joke')), \n",
    "                Component(LanguageModel(\"Google2\"), Prompt(\"what do you think of this joke: {joke}?\", [\"joke\"], 'think')), \n",
    "                Component(LanguageModel(\"Microsoft2\"), Prompt(\"can you explain why this joke is funny: {think}?\", [\"think\"], 'lala'))])\n",
    "\n",
    "chain3 = Chain([Component(LanguageModel(\"OpenAI2\"), Prompt(\"tell me a joke about {lala}.\", [\"lala\"], 'joke')), \n",
    "                Component(LanguageModel(\"Google2\"), Prompt(\"what do you think of this joke: {joke}?\", [\"joke\"], 'think')), \n",
    "                Component(LanguageModel(\"Microsoft2\"), Prompt(\"can you explain why this joke is funny: {think}?\", [\"think\"], 'kaka'))])\n",
    "\n",
    "chain3 = Chain([chain1, chain2, Component(LanguageModel(\"OpenAI2\"), Prompt(\"tell me a joke about {other}.\", [\"other\"], 'joke'))])\n",
    "initial_placeholders = {\"subject\": \"computers\"}\n",
    "\n",
    "\n",
    "# Run the chain\n",
    "chain3.run(initial_placeholders, print_response)"
   ]
  },
  {
   "cell_type": "code",
   "execution_count": null,
   "id": "6db6274d-afd3-4dbc-92cf-8303d54f1a69",
   "metadata": {},
   "outputs": [],
   "source": []
  },
  {
   "cell_type": "markdown",
   "id": "08f954c2-4f37-43ff-ba25-9bbfa70de155",
   "metadata": {},
   "source": [
    "# Threads"
   ]
  },
  {
   "cell_type": "code",
   "execution_count": 52,
   "id": "fa25764e-0b9c-4289-bd2c-bdfb350159cf",
   "metadata": {
    "tags": []
   },
   "outputs": [
    {
     "name": "stdout",
     "output_type": "stream",
     "text": [
      "prompt: tell me a joke about computers.\n",
      "callback\n",
      "prompt: tell me another joke: Response of OpenAI: to (tell me a joke about computers.)?\n",
      "callback\n",
      "prompt: tell me another second joke: Response of Google: to (tell me another joke: Response of OpenAI: to (tell me a joke about computers.)?)?\n",
      "callback\n"
     ]
    },
    {
     "data": {
      "text/plain": [
       "{'joke': 'Response of OpenAI: to (tell me a joke about computers.)',\n",
       " 'think': 'Response of Google: to (tell me another joke: Response of OpenAI: to (tell me a joke about computers.)?)',\n",
       " 'explanation': 'Response of Microsoft: to (tell me another second joke: Response of Google: to (tell me another joke: Response of OpenAI: to (tell me a joke about computers.)?)?)'}"
      ]
     },
     "execution_count": 52,
     "metadata": {},
     "output_type": "execute_result"
    }
   ],
   "source": [
    "# Create language models\n",
    "lm1 = LanguageModel(\"OpenAI\")\n",
    "lm2 = LanguageModel(\"Google\")\n",
    "lm3 = LanguageModel(\"Microsoft\")\n",
    "\n",
    "# Define prompts for each language model\n",
    "prompt1 = Prompt(\"tell me a joke about {subject}.\", [\"subject\"], 'joke')\n",
    "prompt2 = Prompt(\"tell me another joke: {joke}?\", [\"joke\"], 'think')\n",
    "prompt3 = Prompt(\"tell me another second joke: {think}?\", [\"think\"], 'explanation')\n",
    "\n",
    "# Define a callback function\n",
    "def print_response(response):\n",
    "    print('callback')\n",
    "    \n",
    "# Create components\n",
    "component1 = Component(lm1, prompt1)\n",
    "component2 = Component(lm2, prompt2)\n",
    "component3 = Component(lm3, prompt3)\n",
    "\n",
    "# Create Threads\n",
    "chain = Threads([component1, component2, component3])\n",
    "initial_placeholders = {\"subject\": \"computers\", 'joke': 'laugh now', 'think': 'the joke'}\n",
    "\n",
    "\n",
    "# Run the chain\n",
    "chain.run(initial_placeholders, print_response)\n"
   ]
  },
  {
   "cell_type": "code",
   "execution_count": 14,
   "id": "0a65b3b6-b967-4d26-a09f-873de3575726",
   "metadata": {
    "tags": []
   },
   "outputs": [
    {
     "data": {
      "text/html": [
       "<div>\n",
       "<style scoped>\n",
       "    .dataframe tbody tr th:only-of-type {\n",
       "        vertical-align: middle;\n",
       "    }\n",
       "\n",
       "    .dataframe tbody tr th {\n",
       "        vertical-align: top;\n",
       "    }\n",
       "\n",
       "    .dataframe thead th {\n",
       "        text-align: right;\n",
       "    }\n",
       "</style>\n",
       "<table border=\"1\" class=\"dataframe\">\n",
       "  <thead>\n",
       "    <tr style=\"text-align: right;\">\n",
       "      <th></th>\n",
       "      <th>0</th>\n",
       "      <th>1</th>\n",
       "    </tr>\n",
       "  </thead>\n",
       "  <tbody>\n",
       "    <tr>\n",
       "      <th>0</th>\n",
       "      <td>&lt;app.base.executable.Com object at 0x7ff392de0...</td>\n",
       "      <td>{'joke': 'Response of OpenAI: to (tell me a jo...</td>\n",
       "    </tr>\n",
       "    <tr>\n",
       "      <th>1</th>\n",
       "      <td>&lt;app.base.executable.Com object at 0x7ff392de0...</td>\n",
       "      <td>{'think': 'Response of Google: to (tell me ano...</td>\n",
       "    </tr>\n",
       "    <tr>\n",
       "      <th>2</th>\n",
       "      <td>&lt;app.base.executable.Com object at 0x7ff392de0...</td>\n",
       "      <td>{'explanation': 'Response of Microsoft: to (te...</td>\n",
       "    </tr>\n",
       "  </tbody>\n",
       "</table>\n",
       "</div>"
      ],
      "text/plain": [
       "                                                   0  \\\n",
       "0  <app.base.executable.Com object at 0x7ff392de0...   \n",
       "1  <app.base.executable.Com object at 0x7ff392de0...   \n",
       "2  <app.base.executable.Com object at 0x7ff392de0...   \n",
       "\n",
       "                                                   1  \n",
       "0  {'joke': 'Response of OpenAI: to (tell me a jo...  \n",
       "1  {'think': 'Response of Google: to (tell me ano...  \n",
       "2  {'explanation': 'Response of Microsoft: to (te...  "
      ]
     },
     "execution_count": 14,
     "metadata": {},
     "output_type": "execute_result"
    }
   ],
   "source": [
    "pd.DataFrame(chain.memory)"
   ]
  },
  {
   "cell_type": "code",
   "execution_count": 18,
   "id": "858f6b94-0e38-48b5-9c2f-1b30d9c75725",
   "metadata": {
    "tags": []
   },
   "outputs": [
    {
     "data": {
      "text/html": [
       "\n",
       "        <iframe\n",
       "            width=\"100%\"\n",
       "            height=\"475\"\n",
       "            src=\"http://Fuads-MBP-2020.home:40001/dtale/iframe/1\"\n",
       "            frameborder=\"0\"\n",
       "            allowfullscreen\n",
       "            \n",
       "        ></iframe>\n",
       "        "
      ],
      "text/plain": [
       "<IPython.lib.display.IFrame at 0x7fef2b823340>"
      ]
     },
     "metadata": {},
     "output_type": "display_data"
    },
    {
     "data": {
      "text/plain": []
     },
     "execution_count": 18,
     "metadata": {},
     "output_type": "execute_result"
    }
   ],
   "source": [
    "dtale.show(pd.DataFrame(lm3.memory))"
   ]
  },
  {
   "cell_type": "code",
   "execution_count": 44,
   "id": "23621dd0-800c-48d3-b830-6f6a54410d88",
   "metadata": {
    "tags": []
   },
   "outputs": [],
   "source": [
    "# parsers\n",
    "# list as output\n",
    "# routers\n",
    "# retriever\n"
   ]
  },
  {
   "cell_type": "markdown",
   "id": "d20d4f7e-37e5-46dd-a286-e853e302f1cc",
   "metadata": {},
   "source": [
    "# tests"
   ]
  },
  {
   "cell_type": "code",
   "execution_count": 12,
   "id": "31921e3b-7cd8-4b6d-a660-4fa7b34e1b43",
   "metadata": {
    "tags": []
   },
   "outputs": [
    {
     "name": "stderr",
     "output_type": "stream",
     "text": [
      "DEBUG:app.base.executable:initialising Compo\n",
      "DEBUG:app.base.executable:initialising Compo\n",
      "DEBUG:app.base.executable:initialising Compo\n",
      "DEBUG:app.base.executable:initialising Chai with components [<app.base.executable.Comp object at 0x7fda740dbc10>, <app.base.executable.Comp object at 0x7fda740dad40>, <app.base.executable.Comp object at 0x7fda740d9f30>]\n",
      "DEBUG:app.base.executable:available placeholders for <app.base.executable.Chai object at 0x7fda740dad70>: {'subject'}\n",
      "DEBUG:app.base.executable:going into component <app.base.executable.Comp object at 0x7fda740dbc10>\n",
      "DEBUG:app.base.executable:going into component <app.base.executable.Comp object at 0x7fda740dad40>\n",
      "DEBUG:app.base.executable:going into component <app.base.executable.Comp object at 0x7fda740d9f30>\n",
      "DEBUG:app.base.executable:succesfully validate <app.base.executable.Chai object at 0x7fda740dad70>\n",
      "DEBUG:app.base.executable:Validated object Chai with components [<app.base.executable.Comp object at 0x7fda740dbc10>, <app.base.executable.Comp object at 0x7fda740dad40>, <app.base.executable.Comp object at 0x7fda740d9f30>]\n",
      "DEBUG:app.base.executable:initialising Compo\n",
      "DEBUG:app.base.executable:initialising Compo\n",
      "DEBUG:app.base.executable:initialising Compo\n",
      "DEBUG:app.base.executable:initialising Chai with components [<app.base.executable.Comp object at 0x7fda740d84f0>, <app.base.executable.Comp object at 0x7fda740d8430>, <app.base.executable.Comp object at 0x7fda740d83d0>]\n",
      "DEBUG:app.base.executable:available placeholders for <app.base.executable.Chai object at 0x7fda740d8340>: {'subject'}\n",
      "DEBUG:app.base.executable:going into component <app.base.executable.Comp object at 0x7fda740d84f0>\n",
      "DEBUG:app.base.executable:going into component <app.base.executable.Comp object at 0x7fda740d8430>\n",
      "DEBUG:app.base.executable:going into component <app.base.executable.Comp object at 0x7fda740d83d0>\n",
      "DEBUG:app.base.executable:succesfully validate <app.base.executable.Chai object at 0x7fda740d8340>\n",
      "DEBUG:app.base.executable:Validated object Chai with components [<app.base.executable.Comp object at 0x7fda740d84f0>, <app.base.executable.Comp object at 0x7fda740d8430>, <app.base.executable.Comp object at 0x7fda740d83d0>]\n",
      "DEBUG:app.base.executable:initialising Compo\n",
      "DEBUG:app.base.executable:initialising Compo\n",
      "DEBUG:app.base.executable:initialising Compo\n",
      "DEBUG:app.base.executable:initialising Thre\n",
      "DEBUG:app.base.executable:available placeholders for Thre: {'think', 'lala', 'else'}\n",
      "DEBUG:app.base.executable:initialising Compo\n",
      "DEBUG:app.base.executable:initialising Chai with components [<app.base.executable.Chai object at 0x7fda740dad70>, <app.base.executable.Chai object at 0x7fda740d8340>, <app.base.executable.Thre object at 0x7fda740da440>]\n",
      "DEBUG:app.base.executable:available placeholders for <app.base.executable.Chai object at 0x7fda740d80d0>: {'subject'}\n",
      "DEBUG:app.base.executable:going into component <app.base.executable.Chai object at 0x7fda740dad70>\n",
      "DEBUG:app.base.executable:available placeholders for <app.base.executable.Chai object at 0x7fda740dad70>: {'subject'}\n",
      "DEBUG:app.base.executable:going into component <app.base.executable.Comp object at 0x7fda740dbc10>\n",
      "DEBUG:app.base.executable:going into component <app.base.executable.Comp object at 0x7fda740dad40>\n",
      "DEBUG:app.base.executable:going into component <app.base.executable.Comp object at 0x7fda740d9f30>\n",
      "DEBUG:app.base.executable:succesfully validate <app.base.executable.Chai object at 0x7fda740dad70>\n",
      "DEBUG:app.base.executable:going into component <app.base.executable.Chai object at 0x7fda740d8340>\n",
      "DEBUG:app.base.executable:available placeholders for <app.base.executable.Chai object at 0x7fda740d8340>: {'other', 'joke', 'subject'}\n",
      "DEBUG:app.base.executable:going into component <app.base.executable.Comp object at 0x7fda740d84f0>\n",
      "DEBUG:app.base.executable:going into component <app.base.executable.Comp object at 0x7fda740d8430>\n",
      "DEBUG:app.base.executable:going into component <app.base.executable.Comp object at 0x7fda740d83d0>\n",
      "DEBUG:app.base.executable:succesfully validate <app.base.executable.Chai object at 0x7fda740d8340>\n",
      "DEBUG:app.base.executable:going into component <app.base.executable.Thre object at 0x7fda740da440>\n",
      "DEBUG:app.base.executable:available placeholders for Thre: {'subject', 'think', 'joke', 'other', 'lala'}\n"
     ]
    },
    {
     "ename": "ValueError",
     "evalue": "The placeholder 'else' is not provided in the initial placeholders",
     "output_type": "error",
     "traceback": [
      "\u001b[0;31m---------------------------------------------------------------------------\u001b[0m",
      "\u001b[0;31mValueError\u001b[0m                                Traceback (most recent call last)",
      "Cell \u001b[0;32mIn[12], line 15\u001b[0m\n\u001b[1;32m      9\u001b[0m threads1 \u001b[38;5;241m=\u001b[39m Threads([Component(LanguageModel(\u001b[38;5;124m\"\u001b[39m\u001b[38;5;124mOpenAI2\u001b[39m\u001b[38;5;124m\"\u001b[39m), Prompt(\u001b[38;5;124m\"\u001b[39m\u001b[38;5;124mtell me a joke about \u001b[39m\u001b[38;5;132;01m{lala}\u001b[39;00m\u001b[38;5;124m.\u001b[39m\u001b[38;5;124m\"\u001b[39m, [\u001b[38;5;124m\"\u001b[39m\u001b[38;5;124mlala\u001b[39m\u001b[38;5;124m\"\u001b[39m], \u001b[38;5;124m'\u001b[39m\u001b[38;5;124mjoke\u001b[39m\u001b[38;5;124m'\u001b[39m)), \n\u001b[1;32m     10\u001b[0m                 Component(LanguageModel(\u001b[38;5;124m\"\u001b[39m\u001b[38;5;124mGoogle2\u001b[39m\u001b[38;5;124m\"\u001b[39m), Prompt(\u001b[38;5;124m\"\u001b[39m\u001b[38;5;124mwhat do you think of this joke: \u001b[39m\u001b[38;5;132;01m{else}\u001b[39;00m\u001b[38;5;124m?\u001b[39m\u001b[38;5;124m\"\u001b[39m, [\u001b[38;5;124m\"\u001b[39m\u001b[38;5;124melse\u001b[39m\u001b[38;5;124m\"\u001b[39m], \u001b[38;5;124m'\u001b[39m\u001b[38;5;124mthink\u001b[39m\u001b[38;5;124m'\u001b[39m)), \n\u001b[1;32m     11\u001b[0m                 Component(LanguageModel(\u001b[38;5;124m\"\u001b[39m\u001b[38;5;124mMicrosoft2\u001b[39m\u001b[38;5;124m\"\u001b[39m), Prompt(\u001b[38;5;124m\"\u001b[39m\u001b[38;5;124mcan you explain why this joke is funny: \u001b[39m\u001b[38;5;132;01m{think}\u001b[39;00m\u001b[38;5;124m?\u001b[39m\u001b[38;5;124m\"\u001b[39m, [\u001b[38;5;124m\"\u001b[39m\u001b[38;5;124mthink\u001b[39m\u001b[38;5;124m\"\u001b[39m], \u001b[38;5;124m'\u001b[39m\u001b[38;5;124mkaka\u001b[39m\u001b[38;5;124m'\u001b[39m))])\n\u001b[1;32m     13\u001b[0m component \u001b[38;5;241m=\u001b[39m Component(LanguageModel(\u001b[38;5;124m\"\u001b[39m\u001b[38;5;124mOpenAI2\u001b[39m\u001b[38;5;124m\"\u001b[39m), Prompt(\u001b[38;5;124m\"\u001b[39m\u001b[38;5;124mtell me a joke about \u001b[39m\u001b[38;5;132;01m{other}\u001b[39;00m\u001b[38;5;124m.\u001b[39m\u001b[38;5;124m\"\u001b[39m, [\u001b[38;5;124m\"\u001b[39m\u001b[38;5;124mother\u001b[39m\u001b[38;5;124m\"\u001b[39m], \u001b[38;5;124m'\u001b[39m\u001b[38;5;124mjoke\u001b[39m\u001b[38;5;124m'\u001b[39m))\n\u001b[0;32m---> 15\u001b[0m chain3 \u001b[38;5;241m=\u001b[39m \u001b[43mChain\u001b[49m\u001b[43m(\u001b[49m\u001b[43m[\u001b[49m\u001b[43mchain1\u001b[49m\u001b[43m,\u001b[49m\u001b[43m \u001b[49m\u001b[43mchain2\u001b[49m\u001b[43m,\u001b[49m\u001b[43m \u001b[49m\u001b[43mthreads1\u001b[49m\u001b[43m]\u001b[49m\u001b[43m)\u001b[49m\n\u001b[1;32m     16\u001b[0m initial_placeholders \u001b[38;5;241m=\u001b[39m {\u001b[38;5;124m\"\u001b[39m\u001b[38;5;124msubject\u001b[39m\u001b[38;5;124m\"\u001b[39m: \u001b[38;5;124m\"\u001b[39m\u001b[38;5;124mcomputers\u001b[39m\u001b[38;5;124m\"\u001b[39m, \u001b[38;5;124m'\u001b[39m\u001b[38;5;124msomething\u001b[39m\u001b[38;5;124m'\u001b[39m: \u001b[38;5;124m'\u001b[39m\u001b[38;5;124msomething\u001b[39m\u001b[38;5;124m'\u001b[39m}\n",
      "File \u001b[0;32m~/Documents/projects/lexiflow/app/base/executable.py:115\u001b[0m, in \u001b[0;36mChai.__init__\u001b[0;34m(self, components)\u001b[0m\n\u001b[1;32m    113\u001b[0m LOGGER\u001b[38;5;241m.\u001b[39mdebug(\u001b[38;5;124mf\u001b[39m\u001b[38;5;124m'\u001b[39m\u001b[38;5;124minitialising Chai with components \u001b[39m\u001b[38;5;132;01m{\u001b[39;00m\u001b[38;5;28mself\u001b[39m\u001b[38;5;241m.\u001b[39mcomponents\u001b[38;5;132;01m}\u001b[39;00m\u001b[38;5;124m'\u001b[39m)\n\u001b[1;32m    114\u001b[0m \u001b[38;5;66;03m# Validate components at instantiation\u001b[39;00m\n\u001b[0;32m--> 115\u001b[0m \u001b[38;5;28;43mself\u001b[39;49m\u001b[38;5;241;43m.\u001b[39;49m\u001b[43mvalidate_components\u001b[49m\u001b[43m(\u001b[49m\u001b[43m)\u001b[49m\n\u001b[1;32m    116\u001b[0m LOGGER\u001b[38;5;241m.\u001b[39mdebug(\u001b[38;5;124mf\u001b[39m\u001b[38;5;124m'\u001b[39m\u001b[38;5;124mValidated object Chai with components \u001b[39m\u001b[38;5;132;01m{\u001b[39;00m\u001b[38;5;28mself\u001b[39m\u001b[38;5;241m.\u001b[39mcomponents\u001b[38;5;132;01m}\u001b[39;00m\u001b[38;5;124m'\u001b[39m)\n",
      "File \u001b[0;32m~/Documents/projects/lexiflow/app/base/executable.py:137\u001b[0m, in \u001b[0;36mChai.validate_components\u001b[0;34m(self, available_placeholders)\u001b[0m\n\u001b[1;32m    135\u001b[0m LOGGER\u001b[38;5;241m.\u001b[39mdebug(\u001b[38;5;124mf\u001b[39m\u001b[38;5;124m'\u001b[39m\u001b[38;5;124mgoing into component \u001b[39m\u001b[38;5;132;01m{\u001b[39;00mcomponent\u001b[38;5;132;01m}\u001b[39;00m\u001b[38;5;124m'\u001b[39m)\n\u001b[1;32m    136\u001b[0m \u001b[38;5;66;03m# Recursively validate the current component's subcomponents\u001b[39;00m\n\u001b[0;32m--> 137\u001b[0m \u001b[43mcomponent\u001b[49m\u001b[38;5;241;43m.\u001b[39;49m\u001b[43mvalidate_components\u001b[49m\u001b[43m(\u001b[49m\u001b[43mavailable_placeholders\u001b[49m\u001b[43m)\u001b[49m\n\u001b[1;32m    139\u001b[0m \u001b[38;5;66;03m# Then validate its placeholders\u001b[39;00m\n\u001b[1;32m    140\u001b[0m \u001b[38;5;28;01mfor\u001b[39;00m placeholder \u001b[38;5;129;01min\u001b[39;00m component\u001b[38;5;241m.\u001b[39m_infer_initial_placeholders():\n",
      "File \u001b[0;32m~/Documents/projects/lexiflow/app/base/executable.py:196\u001b[0m, in \u001b[0;36mThre.validate_components\u001b[0;34m(self, available_placeholders)\u001b[0m\n\u001b[1;32m    194\u001b[0m \u001b[38;5;28;01mfor\u001b[39;00m placeholder \u001b[38;5;129;01min\u001b[39;00m component\u001b[38;5;241m.\u001b[39m_infer_initial_placeholders():\n\u001b[1;32m    195\u001b[0m     \u001b[38;5;28;01mif\u001b[39;00m placeholder \u001b[38;5;129;01mnot\u001b[39;00m \u001b[38;5;129;01min\u001b[39;00m available_placeholders:\n\u001b[0;32m--> 196\u001b[0m         \u001b[38;5;28;01mraise\u001b[39;00m \u001b[38;5;167;01mValueError\u001b[39;00m(\n\u001b[1;32m    197\u001b[0m             \u001b[38;5;124mf\u001b[39m\u001b[38;5;124m\"\u001b[39m\u001b[38;5;124mThe placeholder \u001b[39m\u001b[38;5;124m'\u001b[39m\u001b[38;5;132;01m{\u001b[39;00mplaceholder\u001b[38;5;132;01m}\u001b[39;00m\u001b[38;5;124m'\u001b[39m\u001b[38;5;124m is not provided in the initial placeholders\u001b[39m\u001b[38;5;124m\"\u001b[39m)\n",
      "\u001b[0;31mValueError\u001b[0m: The placeholder 'else' is not provided in the initial placeholders"
     ]
    }
   ],
   "source": [
    "chain1 = Chain([Component(LanguageModel(\"OpenAI1\"), Prompt(\"tell me a joke about {subject}.\", [\"subject\"], 'joke')), \n",
    "                Component(LanguageModel(\"Google1\"), Prompt(\"what do you think of this joke: {joke}?\", [\"joke\"], 'other')), \n",
    "                Component(LanguageModel(\"Microsoft1\"), Prompt(\"can you explain why this joke is funny: {joke}?\", [\"joke\"], 'subject'))])\n",
    "\n",
    "chain2 = Chain([Component(LanguageModel(\"OpenAI2\"), Prompt(\"tell me a joke about {subject}.\", [\"subject\"], 'joke')), \n",
    "                Component(LanguageModel(\"Google2\"), Prompt(\"what do you think of this joke: {joke}?\", [\"joke\"], 'think')), \n",
    "                Component(LanguageModel(\"Microsoft2\"), Prompt(\"can you explain why this joke is funny: {think}?\", [\"think\"], 'lala'))])\n",
    "\n",
    "threads1 = Threads([Component(LanguageModel(\"OpenAI2\"), Prompt(\"tell me a joke about {lala}.\", [\"lala\"], 'joke')), \n",
    "                Component(LanguageModel(\"Google2\"), Prompt(\"what do you think of this joke: {else}?\", [\"else\"], 'think')), \n",
    "                Component(LanguageModel(\"Microsoft2\"), Prompt(\"can you explain why this joke is funny: {think}?\", [\"think\"], 'kaka'))])\n",
    "\n",
    "component = Component(LanguageModel(\"OpenAI2\"), Prompt(\"tell me a joke about {other}.\", [\"other\"], 'joke'))\n",
    "\n",
    "chain3 = Chain([chain1, chain2, threads1])\n",
    "initial_placeholders = {\"subject\": \"computers\", 'something': 'something'}"
   ]
  },
  {
   "cell_type": "code",
   "execution_count": null,
   "id": "3039989d-935b-437d-8cf9-18df6668b935",
   "metadata": {
    "tags": []
   },
   "outputs": [],
   "source": [
    "chain3\n",
    "# Run the chain\n",
    "chain3.run(initial_placeholders, print_response)"
   ]
  },
  {
   "cell_type": "code",
   "execution_count": null,
   "id": "37a39df6-3b06-4530-9e6f-20316fd8befd",
   "metadata": {},
   "outputs": [],
   "source": []
  }
 ],
 "metadata": {
  "kernelspec": {
   "display_name": "Python [conda env:lexiflow] *",
   "language": "python",
   "name": "conda-env-lexiflow-py"
  },
  "language_info": {
   "codemirror_mode": {
    "name": "ipython",
    "version": 3
   },
   "file_extension": ".py",
   "mimetype": "text/x-python",
   "name": "python",
   "nbconvert_exporter": "python",
   "pygments_lexer": "ipython3",
   "version": "3.10.12"
  }
 },
 "nbformat": 4,
 "nbformat_minor": 5
}
