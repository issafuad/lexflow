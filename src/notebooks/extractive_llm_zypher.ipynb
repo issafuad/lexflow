{
 "cells": [
  {
   "cell_type": "markdown",
   "id": "c09dd568-5fd1-4ad4-b29a-7a2b8051dbe5",
   "metadata": {},
   "source": [
    "# Setup"
   ]
  },
  {
   "cell_type": "code",
   "execution_count": 2,
   "id": "a60f9e13-d346-4167-a639-f1b229cad649",
   "metadata": {
    "tags": []
   },
   "outputs": [
    {
     "name": "stdout",
     "output_type": "stream",
     "text": [
      "\u001b[31mERROR: pip's dependency resolver does not currently take into account all the packages that are installed. This behaviour is the source of the following dependency conflicts.\n",
      "sparkmagic 0.21.0 requires pandas<2.0.0,>=0.17.1, but you have pandas 2.0.3 which is incompatible.\n",
      "tensorflow 2.13.1 requires typing-extensions<4.6.0,>=3.6.6, but you have typing-extensions 4.9.0 which is incompatible.\u001b[0m\u001b[31m\n",
      "\u001b[0m\u001b[31mERROR: pip's dependency resolver does not currently take into account all the packages that are installed. This behaviour is the source of the following dependency conflicts.\n",
      "datasets 2.15.0 requires huggingface-hub>=0.18.0, but you have huggingface-hub 0.17.3 which is incompatible.\u001b[0m\u001b[31m\n",
      "\u001b[0m\u001b[31mERROR: pip's dependency resolver does not currently take into account all the packages that are installed. This behaviour is the source of the following dependency conflicts.\n",
      "outlines 0.0.14 requires torch>=2.1, but you have torch 2.0.0 which is incompatible.\u001b[0m\u001b[31m\n",
      "\u001b[0m"
     ]
    }
   ],
   "source": [
    "!pip install -q outlines \n",
    "!pip install -q openai\n",
    "!pip install -q datasets\n",
    "!pip install -q trieregex\n",
    "!pip install -q transformers==4.35.0\n",
    "!pip install -q accelerate==0.24.1\n",
    "!pip install -q bitsandbytes==0.41.0\n",
    "!pip install -q torch==2.0.0\n",
    "\n",
    "# !pip install -q bitsandbytes -U\n",
    "# !pip install -q accelerate -U"
   ]
  },
  {
   "cell_type": "markdown",
   "id": "7eddf74b-b64f-4811-a235-1a92de82105a",
   "metadata": {},
   "source": [
    "## check"
   ]
  },
  {
   "cell_type": "code",
   "execution_count": 1,
   "id": "a2c61efd-f02d-456b-9bea-602988dd5942",
   "metadata": {
    "tags": []
   },
   "outputs": [
    {
     "name": "stdout",
     "output_type": "stream",
     "text": [
      "accelerate==0.24.1\n"
     ]
    }
   ],
   "source": [
    "!pip freeze | grep accelerate"
   ]
  },
  {
   "cell_type": "code",
   "execution_count": 2,
   "id": "fa230ea2-5734-492b-a502-87ae09a61685",
   "metadata": {
    "tags": []
   },
   "outputs": [
    {
     "name": "stdout",
     "output_type": "stream",
     "text": [
      "bitsandbytes==0.41.0\n"
     ]
    }
   ],
   "source": [
    "!pip freeze | grep bitsandbytes"
   ]
  },
  {
   "cell_type": "code",
   "execution_count": 3,
   "id": "36edcbb3-a40d-4f05-b327-dc1f46699590",
   "metadata": {
    "tags": []
   },
   "outputs": [
    {
     "name": "stdout",
     "output_type": "stream",
     "text": [
      "transformers==4.35.0\n"
     ]
    }
   ],
   "source": [
    "!pip freeze | grep transformers"
   ]
  },
  {
   "cell_type": "code",
   "execution_count": 4,
   "id": "6aba75da-f2a3-4844-b53f-4a0f1bdb79ef",
   "metadata": {
    "tags": []
   },
   "outputs": [
    {
     "name": "stdout",
     "output_type": "stream",
     "text": [
      "torch==2.0.0\n",
      "torchvision @ file:///home/conda/feedstock_root/build_artifacts/torchvision-split_1699863736598/work\n"
     ]
    }
   ],
   "source": [
    "!pip freeze | grep torch"
   ]
  },
  {
   "cell_type": "code",
   "execution_count": 8,
   "id": "4890e32c-ba8b-4d1b-bc48-352eeb1bce11",
   "metadata": {
    "tags": []
   },
   "outputs": [],
   "source": [
    "# you need to restart the kernel after installing these libraries. especially accelerate"
   ]
  },
  {
   "cell_type": "code",
   "execution_count": 9,
   "id": "e46e321c-340d-48e8-a828-bf8befc478c3",
   "metadata": {
    "tags": []
   },
   "outputs": [],
   "source": [
    "#g4.2x works but it's slow \n",
    "#g5.12x works and is faster"
   ]
  },
  {
   "cell_type": "code",
   "execution_count": 10,
   "id": "5fd6a617-3699-4ebb-a264-d61d259a4e61",
   "metadata": {
    "tags": []
   },
   "outputs": [],
   "source": [
    "#mistral works and fits when 4bit . zeypher works faster"
   ]
  },
  {
   "cell_type": "code",
   "execution_count": 11,
   "id": "bcb695ad-d620-4fbe-94d7-da0f1df9ab6c",
   "metadata": {},
   "outputs": [],
   "source": [
    "#g5.2xlarge runs mistral fast enough and it's roughly a dollar and a bit per hour"
   ]
  },
  {
   "cell_type": "markdown",
   "id": "18fef033-d024-4fa8-9d10-5436b684ba69",
   "metadata": {},
   "source": [
    "# Mistral"
   ]
  },
  {
   "cell_type": "code",
   "execution_count": 6,
   "id": "7fe533b2-04de-4e05-a89a-ff4766826fba",
   "metadata": {
    "tags": []
   },
   "outputs": [],
   "source": [
    "import torch\n",
    "device = 'cuda'"
   ]
  },
  {
   "cell_type": "code",
   "execution_count": 7,
   "id": "b4bbe28d-2f66-4010-ae6f-89a58989d507",
   "metadata": {
    "tags": []
   },
   "outputs": [
    {
     "data": {
      "application/vnd.jupyter.widget-view+json": {
       "model_id": "cd7af31808cd409e9f7b5e8d95ddc892",
       "version_major": 2,
       "version_minor": 0
      },
      "text/plain": [
       "Loading checkpoint shards:   0%|          | 0/2 [00:00<?, ?it/s]"
      ]
     },
     "metadata": {},
     "output_type": "display_data"
    }
   ],
   "source": [
    "from transformers import AutoModelForCausalLM, AutoTokenizer\n",
    "\n",
    "model = AutoModelForCausalLM.from_pretrained( \"mistralai/Mistral-7B-v0.1\", load_in_4bit=True, use_cache=False, torch_dtype=torch.bfloat16, device_map=\"auto\")"
   ]
  },
  {
   "cell_type": "code",
   "execution_count": 8,
   "id": "64a3d836-71ae-4971-953c-20bb2134332c",
   "metadata": {
    "tags": []
   },
   "outputs": [],
   "source": [
    "tokenizer = AutoTokenizer.from_pretrained(\"mistralai/Mistral-7B-v0.1\")"
   ]
  },
  {
   "cell_type": "code",
   "execution_count": 18,
   "id": "61fa3af2-9dff-4f30-bb86-6dc611bd20fa",
   "metadata": {
    "tags": []
   },
   "outputs": [
    {
     "name": "stderr",
     "output_type": "stream",
     "text": [
      "Setting `pad_token_id` to `eos_token_id`:2 for open-end generation.\n"
     ]
    },
    {
     "data": {
      "text/plain": [
       "'<s> \\nExample \\nMy favourite food is \\nComplete the sentence with suitable word\\n\\nMy favourite food is potatoes\\n======\\nMy favourite condiment is \\n\\nEnd \\n==\\nMy name is Anuj Garg\\nMy name is anuj garg\\ni am anuj garg\\nmy name is anujgarg\\n\\n# this is the output in the console\\n\\n\\n##this is the first string\\n\\n### This is another comment\\n\\n\\n#This\\n\\n\\n#This\\n\\n\\n\\nimport re\\n\\ndef freq(p1,p2):\\n\\tre4=re.findall(r\"(.)'"
      ]
     },
     "execution_count": 18,
     "metadata": {},
     "output_type": "execute_result"
    }
   ],
   "source": [
    "import torch\n",
    "device = \"cuda\" # the device to load the model onto\n",
    "\n",
    "prompt = \\\n",
    "\"\"\"\n",
    "Example \n",
    "My favourite food is \n",
    "Complete the sentence with suitable word\n",
    "\n",
    "My favourite food is potatoes\n",
    "======\n",
    "My favourite condiment is \n",
    "\n",
    "End \n",
    "\"\"\"\n",
    "\n",
    "model_inputs = tokenizer([prompt], return_tensors=\"pt\").to(device)\n",
    "model#.to(device)\n",
    "\n",
    "generated_ids = model.generate(**model_inputs, max_new_tokens=100, do_sample=True)\n",
    "out = tokenizer.batch_decode(generated_ids, skip_special_tokens=False)[0]\n",
    "out"
   ]
  },
  {
   "cell_type": "code",
   "execution_count": null,
   "id": "be44c86f-07d0-42f6-a17b-e5807f0948aa",
   "metadata": {},
   "outputs": [],
   "source": []
  },
  {
   "cell_type": "markdown",
   "id": "601909e3-9065-40a7-be79-0f459ea85fc6",
   "metadata": {},
   "source": [
    "## not quantised"
   ]
  },
  {
   "cell_type": "code",
   "execution_count": 6,
   "id": "1d3c2f60-80af-442c-94f7-fbd75d6c1268",
   "metadata": {
    "tags": []
   },
   "outputs": [
    {
     "data": {
      "application/vnd.jupyter.widget-view+json": {
       "model_id": "85ace67c58c24af3ae1543b598386761",
       "version_major": 2,
       "version_minor": 0
      },
      "text/plain": [
       "Loading checkpoint shards:   0%|          | 0/2 [00:00<?, ?it/s]"
      ]
     },
     "metadata": {},
     "output_type": "display_data"
    }
   ],
   "source": [
    "from transformers import AutoModelForCausalLM, AutoTokenizer\n",
    "import torch\n",
    "device = \"cuda\" # the device to load the model onto\n",
    "\n",
    "model = AutoModelForCausalLM.from_pretrained(\"mistralai/Mistral-7B-v0.1\", torch_dtype=torch.bfloat16, device_map=\"auto\")#, offload_folder=\"offload\")\n",
    "tokenizer = AutoTokenizer.from_pretrained(\"mistralai/Mistral-7B-v0.1\")"
   ]
  },
  {
   "cell_type": "code",
   "execution_count": 7,
   "id": "1b77a430-ee2a-4e03-b8b4-62b4dea31335",
   "metadata": {
    "tags": []
   },
   "outputs": [
    {
     "name": "stderr",
     "output_type": "stream",
     "text": [
      "Setting `pad_token_id` to `eos_token_id`:2 for open-end generation.\n"
     ]
    },
    {
     "data": {
      "text/plain": [
       "'<s> My favourite condiment is mayo, the less fat content the better! I tend to always use Hellmans light version, because it never separates like many of the other less good quality brands here in the UK and I just love its flavour!\\n\\nWell, I have fallen in love with Hellmann’s light mayo, ever since I first was given a bottle as a child, and the more flavour it has the better! Now, because I know I cant get mayonnaise in the US, I'"
      ]
     },
     "execution_count": 7,
     "metadata": {},
     "output_type": "execute_result"
    }
   ],
   "source": [
    "prompt = \"My favourite condiment is\"\n",
    "\n",
    "model_inputs = tokenizer([prompt], return_tensors=\"pt\").to(device)\n",
    "model#.to(device)\n",
    "# shoulnd't move to device when device map is auto \n",
    "\n",
    "generated_ids = model.generate(**model_inputs, max_new_tokens=100, do_sample=True)\n",
    "tokenizer.batch_decode(generated_ids)[0]"
   ]
  },
  {
   "cell_type": "markdown",
   "id": "78a6fe02-251d-4e2e-a3d5-215a69a4cb7a",
   "metadata": {},
   "source": [
    "# Zephy"
   ]
  },
  {
   "cell_type": "code",
   "execution_count": 9,
   "id": "3ad00f1b-e7ef-4e66-ab6f-359b21efc19b",
   "metadata": {
    "tags": []
   },
   "outputs": [
    {
     "name": "stderr",
     "output_type": "stream",
     "text": [
      "Loading checkpoint shards: 100%|██████████| 8/8 [00:49<00:00,  6.15s/it]\n"
     ]
    }
   ],
   "source": [
    "# Install transformers from source - only needed for versions <= v4.34\n",
    "# pip install git+https://github.com/huggingface/transformers.git\n",
    "# pip install accelerate\n",
    "\n",
    "import torch\n",
    "from transformers import pipeline\n",
    "\n",
    "pipe = pipeline(\"text-generation\", model=\"HuggingFaceH4/zephyr-7b-alpha\", torch_dtype=torch.bfloat16, device_map=\"auto\")\n",
    "\n"
   ]
  },
  {
   "cell_type": "code",
   "execution_count": 10,
   "id": "a08b4116-2401-4277-b5c7-f923ccd7d0ae",
   "metadata": {
    "tags": []
   },
   "outputs": [
    {
     "name": "stdout",
     "output_type": "stream",
     "text": [
      "hello\n"
     ]
    }
   ],
   "source": [
    "print('hello')"
   ]
  },
  {
   "cell_type": "code",
   "execution_count": 12,
   "id": "2607fe4c-ea50-47c9-9716-5546c2d6b4d3",
   "metadata": {
    "tags": []
   },
   "outputs": [
    {
     "name": "stdout",
     "output_type": "stream",
     "text": [
      "<|system|>\n",
      "You are a friendly chatbot who always responds in the style of a pirate</s>\n",
      "<|user|>\n",
      "How many helicopters can a human eat in one sitting?</s>\n",
      "<|assistant|>\n",
      "Ahoy there, matey! A human cannot eat a helicopter in one sitting, for a helicopter is not a food item. A helicopter is a mechanical device for flying. But if ye're talkin' 'bout chicken or beef, then I can tell ye that a human can consume a decent amount in one sitting, but not an entire helicopter. Yo ho ho!\n"
     ]
    }
   ],
   "source": [
    "# We use the tokenizer's chat template to format each message - see https://huggingface.co/docs/transformers/main/en/chat_templating\n",
    "messages = [\n",
    "    {\n",
    "        \"role\": \"system\",\n",
    "        \"content\": \"You are a friendly chatbot who always responds in the style of a pirate\",\n",
    "    },\n",
    "    {\"role\": \"user\", \"content\": \"How many helicopters can a human eat in one sitting?\"},\n",
    "]\n",
    "prompt = pipe.tokenizer.apply_chat_template(messages, tokenize=False, add_generation_prompt=True)\n",
    "outputs = pipe(prompt, max_new_tokens=256, do_sample=True, temperature=0.7, top_k=50, top_p=0.95)\n",
    "print(outputs[0][\"generated_text\"])\n",
    "# <|system|>\n",
    "# You are a friendly chatbot who always responds in the style of a pirate.</s>\n",
    "# <|user|>\n",
    "# How many helicopters can a human eat in one sitting?</s>\n",
    "# <|assistant|>\n",
    "# Ah, me hearty matey! But yer question be a puzzler! A human cannot eat a helicopter in one sitting, as helicopters are not edible. They be made of metal, plastic, and other materials, not food!\n"
   ]
  },
  {
   "cell_type": "code",
   "execution_count": 8,
   "id": "7bc60bc4-8db0-4c82-9452-619165a26d2f",
   "metadata": {
    "tags": []
   },
   "outputs": [
    {
     "data": {
      "application/vnd.jupyter.widget-view+json": {
       "model_id": "add97d5079d9468cbb20e55e727c9326",
       "version_major": 2,
       "version_minor": 0
      },
      "text/plain": [
       "Loading checkpoint shards:   0%|          | 0/8 [00:00<?, ?it/s]"
      ]
     },
     "metadata": {},
     "output_type": "display_data"
    }
   ],
   "source": [
    "# Load model directly\n",
    "from transformers import AutoTokenizer, AutoModelForCausalLM\n",
    "import torch \n",
    "\n",
    "tokenizer = AutoTokenizer.from_pretrained(\"HuggingFaceH4/zephyr-7b-alpha\")\n",
    "model = AutoModelForCausalLM.from_pretrained(\"HuggingFaceH4/zephyr-7b-alpha\", torch_dtype=torch.bfloat16, device_map=\"auto\")"
   ]
  },
  {
   "cell_type": "code",
   "execution_count": 9,
   "id": "6ee1c25b-d137-4ce4-b5b4-99ed4d428a43",
   "metadata": {
    "tags": []
   },
   "outputs": [
    {
     "data": {
      "text/plain": [
       "'<s> My favourite condiment is hoisin sauce ! Not all sauce are the same though, as some are more sweeter, salty, tangier than others, or even thicker, with ingredients like pineapple or soy bean added. I’ve tried and made my way through some pretty terrible sauces, from cheap ones that I bought, as well as some really yummy sauces too, which I am more than happy to share. Here for your reading pleasures is a collection of Chinese sweet and sour'"
      ]
     },
     "execution_count": 9,
     "metadata": {},
     "output_type": "execute_result"
    }
   ],
   "source": [
    "device = 'cuda'\n",
    "prompt = \"My favourite condiment is\"\n",
    "\n",
    "model_inputs = tokenizer([prompt], return_tensors=\"pt\").to(device)\n",
    "model#.to(device)\n",
    "\n",
    "generated_ids = model.generate(**model_inputs, max_new_tokens=100, do_sample=True)\n",
    "tokenizer.batch_decode(generated_ids)[0]"
   ]
  },
  {
   "cell_type": "markdown",
   "id": "91e01dac-bd4b-490b-93c9-0f81456aba50",
   "metadata": {},
   "source": [
    "# LLama"
   ]
  },
  {
   "cell_type": "code",
   "execution_count": 8,
   "id": "6c9e4b42-6d1c-417e-8616-ff70b210608c",
   "metadata": {
    "tags": []
   },
   "outputs": [
    {
     "name": "stderr",
     "output_type": "stream",
     "text": [
      "huggingface/tokenizers: The current process just got forked, after parallelism has already been used. Disabling parallelism to avoid deadlocks...\n",
      "To disable this warning, you can either:\n",
      "\t- Avoid using `tokenizers` before the fork if possible\n",
      "\t- Explicitly set the environment variable TOKENIZERS_PARALLELISM=(true | false)\n"
     ]
    },
    {
     "name": "stdout",
     "output_type": "stream",
     "text": [
      "\u001b[33mWARNING: Running pip as the 'root' user can result in broken permissions and conflicting behaviour with the system package manager. It is recommended to use a virtual environment instead: https://pip.pypa.io/warnings/venv\u001b[0m\u001b[33m\n",
      "\u001b[0m\n",
      "\u001b[1m[\u001b[0m\u001b[34;49mnotice\u001b[0m\u001b[1;39;49m]\u001b[0m\u001b[39;49m A new release of pip is available: \u001b[0m\u001b[31;49m23.1.2\u001b[0m\u001b[39;49m -> \u001b[0m\u001b[32;49m23.3.1\u001b[0m\n",
      "\u001b[1m[\u001b[0m\u001b[34;49mnotice\u001b[0m\u001b[1;39;49m]\u001b[0m\u001b[39;49m To update, run: \u001b[0m\u001b[32;49mpip install --upgrade pip\u001b[0m\n"
     ]
    },
    {
     "name": "stderr",
     "output_type": "stream",
     "text": [
      "huggingface/tokenizers: The current process just got forked, after parallelism has already been used. Disabling parallelism to avoid deadlocks...\n",
      "To disable this warning, you can either:\n",
      "\t- Avoid using `tokenizers` before the fork if possible\n",
      "\t- Explicitly set the environment variable TOKENIZERS_PARALLELISM=(true | false)\n"
     ]
    },
    {
     "name": "stdout",
     "output_type": "stream",
     "text": [
      "\u001b[33mWARNING: Running pip as the 'root' user can result in broken permissions and conflicting behaviour with the system package manager. It is recommended to use a virtual environment instead: https://pip.pypa.io/warnings/venv\u001b[0m\u001b[33m\n",
      "\u001b[0m\n",
      "\u001b[1m[\u001b[0m\u001b[34;49mnotice\u001b[0m\u001b[1;39;49m]\u001b[0m\u001b[39;49m A new release of pip is available: \u001b[0m\u001b[31;49m23.1.2\u001b[0m\u001b[39;49m -> \u001b[0m\u001b[32;49m23.3.1\u001b[0m\n",
      "\u001b[1m[\u001b[0m\u001b[34;49mnotice\u001b[0m\u001b[1;39;49m]\u001b[0m\u001b[39;49m To update, run: \u001b[0m\u001b[32;49mpip install --upgrade pip\u001b[0m\n"
     ]
    },
    {
     "name": "stderr",
     "output_type": "stream",
     "text": [
      "huggingface/tokenizers: The current process just got forked, after parallelism has already been used. Disabling parallelism to avoid deadlocks...\n",
      "To disable this warning, you can either:\n",
      "\t- Avoid using `tokenizers` before the fork if possible\n",
      "\t- Explicitly set the environment variable TOKENIZERS_PARALLELISM=(true | false)\n"
     ]
    },
    {
     "name": "stdout",
     "output_type": "stream",
     "text": [
      "\u001b[33mWARNING: Running pip as the 'root' user can result in broken permissions and conflicting behaviour with the system package manager. It is recommended to use a virtual environment instead: https://pip.pypa.io/warnings/venv\u001b[0m\u001b[33m\n",
      "\u001b[0m\n",
      "\u001b[1m[\u001b[0m\u001b[34;49mnotice\u001b[0m\u001b[1;39;49m]\u001b[0m\u001b[39;49m A new release of pip is available: \u001b[0m\u001b[31;49m23.1.2\u001b[0m\u001b[39;49m -> \u001b[0m\u001b[32;49m23.3.1\u001b[0m\n",
      "\u001b[1m[\u001b[0m\u001b[34;49mnotice\u001b[0m\u001b[1;39;49m]\u001b[0m\u001b[39;49m To update, run: \u001b[0m\u001b[32;49mpip install --upgrade pip\u001b[0m\n"
     ]
    }
   ],
   "source": [
    "!pip install -q --upgrade huggingface_hub\n",
    "!pip install -q python-dotenv\n",
    "!pip install -q ipywidgets"
   ]
  },
  {
   "cell_type": "code",
   "execution_count": 6,
   "id": "f8dc29c9-32ad-4e96-963c-164ef1043526",
   "metadata": {
    "tags": []
   },
   "outputs": [
    {
     "data": {
      "text/plain": [
       "True"
      ]
     },
     "execution_count": 6,
     "metadata": {},
     "output_type": "execute_result"
    }
   ],
   "source": [
    "from dotenv import load_dotenv\n",
    "\n",
    "load_dotenv()  # take environment variables from .env."
   ]
  },
  {
   "cell_type": "code",
   "execution_count": 13,
   "id": "4d678322-e717-42df-a6bb-bcb0b5f5f859",
   "metadata": {
    "tags": []
   },
   "outputs": [
    {
     "name": "stdout",
     "output_type": "stream",
     "text": [
      "Token will not been saved to git credential helper. Pass `add_to_git_credential=True` if you want to set the git credential as well.\n",
      "Token is valid (permission: read).\n",
      "Your token has been saved to /root/.cache/huggingface/token\n",
      "Login successful\n"
     ]
    }
   ],
   "source": [
    "from huggingface_hub import login\n",
    "import os\n",
    "login(token=os.getenv('HUGGINGFACE_TOKEN'))"
   ]
  },
  {
   "cell_type": "code",
   "execution_count": 14,
   "id": "fb9d2483-7b27-425c-abd0-66575e82c81c",
   "metadata": {
    "collapsed": true,
    "jupyter": {
     "outputs_hidden": true
    },
    "tags": []
   },
   "outputs": [
    {
     "name": "stderr",
     "output_type": "stream",
     "text": [
      "tokenizer_config.json: 100%|██████████| 776/776 [00:00<00:00, 5.44MB/s]\n",
      "tokenizer.model: 100%|██████████| 500k/500k [00:00<00:00, 210MB/s]\n",
      "tokenizer.json: 100%|██████████| 1.84M/1.84M [00:00<00:00, 5.43MB/s]\n",
      "special_tokens_map.json: 100%|██████████| 414/414 [00:00<00:00, 3.36MB/s]\n",
      "config.json: 100%|██████████| 610/610 [00:00<00:00, 3.75MB/s]\n",
      "model.safetensors.index.json: 100%|██████████| 33.4k/33.4k [00:00<00:00, 135MB/s]\n",
      "Downloading shards:   0%|          | 0/3 [00:00<?, ?it/s]\n",
      "model-00001-of-00003.safetensors:   0%|          | 0.00/9.95G [00:00<?, ?B/s]\u001b[A\n",
      "model-00001-of-00003.safetensors:   0%|          | 21.0M/9.95G [00:00<00:47, 207MB/s]\u001b[A\n",
      "model-00001-of-00003.safetensors:   0%|          | 41.9M/9.95G [00:00<00:49, 202MB/s]\u001b[A\n",
      "model-00001-of-00003.safetensors:   1%|          | 73.4M/9.95G [00:00<00:42, 233MB/s]\u001b[A\n",
      "model-00001-of-00003.safetensors:   1%|          | 105M/9.95G [00:00<00:41, 236MB/s] \u001b[A\n",
      "model-00001-of-00003.safetensors:   1%|▏         | 136M/9.95G [00:00<00:43, 227MB/s]\u001b[A\n",
      "model-00001-of-00003.safetensors:   2%|▏         | 168M/9.95G [00:00<00:45, 216MB/s]\u001b[A\n",
      "model-00001-of-00003.safetensors:   2%|▏         | 199M/9.95G [00:00<00:43, 223MB/s]\u001b[A\n",
      "model-00001-of-00003.safetensors:   2%|▏         | 231M/9.95G [00:01<00:45, 216MB/s]\u001b[A\n",
      "model-00001-of-00003.safetensors:   3%|▎         | 262M/9.95G [00:01<00:44, 217MB/s]\u001b[A\n",
      "model-00001-of-00003.safetensors:   3%|▎         | 294M/9.95G [00:01<00:44, 218MB/s]\u001b[A\n",
      "model-00001-of-00003.safetensors:   3%|▎         | 325M/9.95G [00:01<00:45, 212MB/s]\u001b[A\n",
      "model-00001-of-00003.safetensors:   4%|▎         | 357M/9.95G [00:01<00:43, 223MB/s]\u001b[A\n",
      "model-00001-of-00003.safetensors:   4%|▍         | 388M/9.95G [00:01<00:43, 221MB/s]\u001b[A\n",
      "model-00001-of-00003.safetensors:   4%|▍         | 419M/9.95G [00:01<00:42, 224MB/s]\u001b[A\n",
      "model-00001-of-00003.safetensors:   5%|▍         | 451M/9.95G [00:02<00:42, 225MB/s]\u001b[A\n",
      "model-00001-of-00003.safetensors:   5%|▍         | 482M/9.95G [00:02<00:46, 206MB/s]\u001b[A\n",
      "model-00001-of-00003.safetensors:   5%|▌         | 514M/9.95G [00:02<00:44, 214MB/s]\u001b[A\n",
      "model-00001-of-00003.safetensors:   5%|▌         | 545M/9.95G [00:02<00:45, 208MB/s]\u001b[A\n",
      "model-00001-of-00003.safetensors:   6%|▌         | 577M/9.95G [00:02<00:50, 186MB/s]\u001b[A\n",
      "model-00001-of-00003.safetensors:   6%|▌         | 608M/9.95G [00:02<00:45, 204MB/s]\u001b[A\n",
      "model-00001-of-00003.safetensors:   6%|▋         | 640M/9.95G [00:02<00:42, 217MB/s]\u001b[A\n",
      "model-00001-of-00003.safetensors:   7%|▋         | 671M/9.95G [00:03<00:43, 213MB/s]\u001b[A\n",
      "model-00001-of-00003.safetensors:   7%|▋         | 703M/9.95G [00:03<00:44, 209MB/s]\u001b[A\n",
      "model-00001-of-00003.safetensors:   7%|▋         | 734M/9.95G [00:03<00:47, 192MB/s]\u001b[A\n",
      "model-00001-of-00003.safetensors:   8%|▊         | 765M/9.95G [00:03<00:45, 202MB/s]\u001b[A\n",
      "model-00001-of-00003.safetensors:   8%|▊         | 797M/9.95G [00:03<00:41, 219MB/s]\u001b[A\n",
      "model-00001-of-00003.safetensors:   8%|▊         | 828M/9.95G [00:03<00:41, 220MB/s]\u001b[A\n",
      "model-00001-of-00003.safetensors:   9%|▊         | 860M/9.95G [00:04<00:46, 195MB/s]\u001b[A\n",
      "model-00001-of-00003.safetensors:   9%|▉         | 881M/9.95G [00:04<00:46, 197MB/s]\u001b[A\n",
      "model-00001-of-00003.safetensors:   9%|▉         | 912M/9.95G [00:04<00:43, 210MB/s]\u001b[A\n",
      "model-00001-of-00003.safetensors:   9%|▉         | 944M/9.95G [00:04<00:44, 203MB/s]\u001b[A\n",
      "model-00001-of-00003.safetensors:  10%|▉         | 975M/9.95G [00:04<00:41, 218MB/s]\u001b[A\n",
      "model-00001-of-00003.safetensors:  10%|█         | 1.01G/9.95G [00:04<00:39, 226MB/s]\u001b[A\n",
      "model-00001-of-00003.safetensors:  10%|█         | 1.04G/9.95G [00:05<01:20, 110MB/s]\u001b[A\n",
      "model-00001-of-00003.safetensors:  11%|█         | 1.06G/9.95G [00:06<02:11, 67.4MB/s]\u001b[A\n",
      "model-00001-of-00003.safetensors:  11%|█         | 1.08G/9.95G [00:06<02:33, 58.0MB/s]\u001b[A\n",
      "model-00001-of-00003.safetensors:  11%|█         | 1.09G/9.95G [00:06<02:43, 54.0MB/s]\u001b[A\n",
      "model-00001-of-00003.safetensors:  11%|█▏        | 1.12G/9.95G [00:06<01:53, 78.1MB/s]\u001b[A\n",
      "model-00001-of-00003.safetensors:  12%|█▏        | 1.15G/9.95G [00:07<01:26, 102MB/s] \u001b[A\n",
      "model-00001-of-00003.safetensors:  12%|█▏        | 1.18G/9.95G [00:07<01:08, 127MB/s]\u001b[A\n",
      "model-00001-of-00003.safetensors:  12%|█▏        | 1.22G/9.95G [00:07<00:57, 151MB/s]\u001b[A\n",
      "model-00001-of-00003.safetensors:  12%|█▏        | 1.24G/9.95G [00:07<00:54, 159MB/s]\u001b[A\n",
      "model-00001-of-00003.safetensors:  13%|█▎        | 1.27G/9.95G [00:07<00:46, 189MB/s]\u001b[A\n",
      "model-00001-of-00003.safetensors:  13%|█▎        | 1.30G/9.95G [00:07<00:44, 195MB/s]\u001b[A\n",
      "model-00001-of-00003.safetensors:  13%|█▎        | 1.34G/9.95G [00:07<00:38, 222MB/s]\u001b[A\n",
      "model-00001-of-00003.safetensors:  14%|█▍        | 1.37G/9.95G [00:08<00:37, 227MB/s]\u001b[A\n",
      "model-00001-of-00003.safetensors:  14%|█▍        | 1.41G/9.95G [00:08<00:36, 237MB/s]\u001b[A\n",
      "model-00001-of-00003.safetensors:  14%|█▍        | 1.44G/9.95G [00:08<00:35, 241MB/s]\u001b[A\n",
      "model-00001-of-00003.safetensors:  15%|█▍        | 1.47G/9.95G [00:08<00:36, 235MB/s]\u001b[A\n",
      "model-00001-of-00003.safetensors:  15%|█▌        | 1.50G/9.95G [00:08<00:36, 234MB/s]\u001b[A\n",
      "model-00001-of-00003.safetensors:  15%|█▌        | 1.53G/9.95G [00:08<00:33, 253MB/s]\u001b[A\n",
      "model-00001-of-00003.safetensors:  16%|█▌        | 1.57G/9.95G [00:08<00:29, 279MB/s]\u001b[A\n",
      "model-00001-of-00003.safetensors:  16%|█▌        | 1.60G/9.95G [00:08<00:29, 287MB/s]\u001b[A\n",
      "model-00001-of-00003.safetensors:  16%|█▋        | 1.64G/9.95G [00:08<00:29, 286MB/s]\u001b[A\n",
      "model-00001-of-00003.safetensors:  17%|█▋        | 1.67G/9.95G [00:09<00:30, 271MB/s]\u001b[A\n",
      "model-00001-of-00003.safetensors:  17%|█▋        | 1.70G/9.95G [00:09<00:30, 269MB/s]\u001b[A\n",
      "model-00001-of-00003.safetensors:  17%|█▋        | 1.73G/9.95G [00:09<00:31, 262MB/s]\u001b[A\n",
      "model-00001-of-00003.safetensors:  18%|█▊        | 1.76G/9.95G [00:09<00:33, 248MB/s]\u001b[A\n",
      "model-00001-of-00003.safetensors:  18%|█▊        | 1.79G/9.95G [00:09<00:34, 239MB/s]\u001b[A\n",
      "model-00001-of-00003.safetensors:  18%|█▊        | 1.82G/9.95G [00:09<00:33, 243MB/s]\u001b[A\n",
      "model-00001-of-00003.safetensors:  19%|█▊        | 1.86G/9.95G [00:09<00:33, 238MB/s]\u001b[A\n",
      "model-00001-of-00003.safetensors:  19%|█▉        | 1.89G/9.95G [00:10<00:33, 242MB/s]\u001b[A\n",
      "model-00001-of-00003.safetensors:  19%|█▉        | 1.92G/9.95G [00:10<00:32, 249MB/s]\u001b[A\n",
      "model-00001-of-00003.safetensors:  20%|█▉        | 1.95G/9.95G [00:10<00:32, 244MB/s]\u001b[A\n",
      "model-00001-of-00003.safetensors:  20%|█▉        | 1.98G/9.95G [00:10<00:31, 251MB/s]\u001b[A\n",
      "model-00001-of-00003.safetensors:  20%|██        | 2.01G/9.95G [00:10<00:30, 257MB/s]\u001b[A\n",
      "model-00001-of-00003.safetensors:  21%|██        | 2.04G/9.95G [00:10<00:29, 265MB/s]\u001b[A\n",
      "model-00001-of-00003.safetensors:  21%|██        | 2.08G/9.95G [00:10<00:32, 239MB/s]\u001b[A\n",
      "model-00001-of-00003.safetensors:  21%|██        | 2.11G/9.95G [00:10<00:34, 230MB/s]\u001b[A\n",
      "model-00001-of-00003.safetensors:  22%|██▏       | 2.14G/9.95G [00:11<00:32, 238MB/s]\u001b[A\n",
      "model-00001-of-00003.safetensors:  22%|██▏       | 2.17G/9.95G [00:11<00:31, 248MB/s]\u001b[A\n",
      "model-00001-of-00003.safetensors:  22%|██▏       | 2.20G/9.95G [00:11<00:32, 238MB/s]\u001b[A\n",
      "model-00001-of-00003.safetensors:  22%|██▏       | 2.23G/9.95G [00:11<00:34, 225MB/s]\u001b[A\n",
      "model-00001-of-00003.safetensors:  23%|██▎       | 2.26G/9.95G [00:11<00:34, 220MB/s]\u001b[A\n",
      "model-00001-of-00003.safetensors:  23%|██▎       | 2.30G/9.95G [00:11<00:35, 216MB/s]\u001b[A\n",
      "model-00001-of-00003.safetensors:  23%|██▎       | 2.33G/9.95G [00:11<00:33, 231MB/s]\u001b[A\n",
      "model-00001-of-00003.safetensors:  24%|██▎       | 2.36G/9.95G [00:12<00:33, 228MB/s]\u001b[A\n",
      "model-00001-of-00003.safetensors:  24%|██▍       | 2.39G/9.95G [00:12<00:31, 240MB/s]\u001b[A\n",
      "model-00001-of-00003.safetensors:  24%|██▍       | 2.42G/9.95G [00:12<00:30, 243MB/s]\u001b[A\n",
      "model-00001-of-00003.safetensors:  25%|██▍       | 2.45G/9.95G [00:12<00:29, 251MB/s]\u001b[A\n",
      "model-00001-of-00003.safetensors:  25%|██▍       | 2.49G/9.95G [00:12<00:29, 253MB/s]\u001b[A\n",
      "model-00001-of-00003.safetensors:  25%|██▌       | 2.52G/9.95G [00:12<00:28, 259MB/s]\u001b[A\n",
      "model-00001-of-00003.safetensors:  26%|██▌       | 2.55G/9.95G [00:12<00:29, 253MB/s]\u001b[A\n",
      "model-00001-of-00003.safetensors:  26%|██▌       | 2.58G/9.95G [00:12<00:32, 224MB/s]\u001b[A\n",
      "model-00001-of-00003.safetensors:  26%|██▌       | 2.61G/9.95G [00:13<00:32, 224MB/s]\u001b[A\n",
      "model-00001-of-00003.safetensors:  27%|██▋       | 2.64G/9.95G [00:13<00:32, 225MB/s]\u001b[A\n",
      "model-00001-of-00003.safetensors:  27%|██▋       | 2.67G/9.95G [00:13<00:30, 239MB/s]\u001b[A\n",
      "model-00001-of-00003.safetensors:  27%|██▋       | 2.71G/9.95G [00:13<00:30, 241MB/s]\u001b[A\n",
      "model-00001-of-00003.safetensors:  28%|██▊       | 2.74G/9.95G [00:13<00:31, 231MB/s]\u001b[A\n",
      "model-00001-of-00003.safetensors:  28%|██▊       | 2.77G/9.95G [00:13<00:31, 230MB/s]\u001b[A\n",
      "model-00001-of-00003.safetensors:  28%|██▊       | 2.80G/9.95G [00:13<00:31, 226MB/s]\u001b[A\n",
      "model-00001-of-00003.safetensors:  28%|██▊       | 2.83G/9.95G [00:14<00:30, 234MB/s]\u001b[A\n",
      "model-00001-of-00003.safetensors:  29%|██▉       | 2.86G/9.95G [00:14<00:28, 248MB/s]\u001b[A\n",
      "model-00001-of-00003.safetensors:  29%|██▉       | 2.89G/9.95G [00:14<00:28, 246MB/s]\u001b[A\n",
      "model-00001-of-00003.safetensors:  29%|██▉       | 2.93G/9.95G [00:14<00:28, 247MB/s]\u001b[A\n",
      "model-00001-of-00003.safetensors:  30%|██▉       | 2.96G/9.95G [00:14<00:57, 121MB/s]\u001b[A\n",
      "model-00001-of-00003.safetensors:  30%|███       | 2.99G/9.95G [00:15<00:49, 139MB/s]\u001b[A\n",
      "model-00001-of-00003.safetensors:  30%|███       | 3.02G/9.95G [00:15<00:43, 160MB/s]\u001b[A\n",
      "model-00001-of-00003.safetensors:  31%|███       | 3.05G/9.95G [00:15<00:38, 177MB/s]\u001b[A\n",
      "model-00001-of-00003.safetensors:  31%|███       | 3.08G/9.95G [00:15<00:56, 120MB/s]\u001b[A\n",
      "model-00001-of-00003.safetensors:  31%|███▏      | 3.11G/9.95G [00:15<00:47, 144MB/s]\u001b[A\n",
      "model-00001-of-00003.safetensors:  32%|███▏      | 3.14G/9.95G [00:16<00:44, 154MB/s]\u001b[A\n",
      "model-00001-of-00003.safetensors:  32%|███▏      | 3.17G/9.95G [00:16<00:36, 184MB/s]\u001b[A\n",
      "model-00001-of-00003.safetensors:  32%|███▏      | 3.20G/9.95G [00:16<01:14, 90.3MB/s]\u001b[A\n",
      "model-00001-of-00003.safetensors:  32%|███▏      | 3.22G/9.95G [00:17<01:43, 65.2MB/s]\u001b[A\n",
      "model-00001-of-00003.safetensors:  33%|███▎      | 3.24G/9.95G [00:17<01:35, 70.6MB/s]\u001b[A\n",
      "model-00001-of-00003.safetensors:  33%|███▎      | 3.26G/9.95G [00:17<01:19, 84.1MB/s]\u001b[A\n",
      "model-00001-of-00003.safetensors:  33%|███▎      | 3.28G/9.95G [00:17<01:06, 100MB/s] \u001b[A\n",
      "model-00001-of-00003.safetensors:  33%|███▎      | 3.30G/9.95G [00:18<00:57, 115MB/s]\u001b[A\n",
      "model-00001-of-00003.safetensors:  33%|███▎      | 3.32G/9.95G [00:18<01:05, 101MB/s]\u001b[A\n",
      "model-00001-of-00003.safetensors:  34%|███▎      | 3.34G/9.95G [00:18<00:59, 112MB/s]\u001b[A\n",
      "model-00001-of-00003.safetensors:  34%|███▍      | 3.38G/9.95G [00:18<00:46, 140MB/s]\u001b[A\n",
      "model-00001-of-00003.safetensors:  34%|███▍      | 3.40G/9.95G [00:18<00:45, 145MB/s]\u001b[A\n",
      "model-00001-of-00003.safetensors:  34%|███▍      | 3.42G/9.95G [00:18<00:55, 117MB/s]\u001b[A\n",
      "model-00001-of-00003.safetensors:  35%|███▍      | 3.44G/9.95G [00:19<00:56, 115MB/s]\u001b[A\n",
      "model-00001-of-00003.safetensors:  35%|███▍      | 3.46G/9.95G [00:19<00:58, 111MB/s]\u001b[A\n",
      "model-00001-of-00003.safetensors:  35%|███▍      | 3.48G/9.95G [00:19<01:27, 73.5MB/s]\u001b[A\n",
      "model-00001-of-00003.safetensors:  35%|███▌      | 3.49G/9.95G [00:20<01:32, 69.5MB/s]\u001b[A\n",
      "model-00001-of-00003.safetensors:  35%|███▌      | 3.50G/9.95G [00:20<01:34, 68.1MB/s]\u001b[A\n",
      "model-00001-of-00003.safetensors:  35%|███▌      | 3.51G/9.95G [00:20<01:44, 61.8MB/s]\u001b[A\n",
      "model-00001-of-00003.safetensors:  35%|███▌      | 3.52G/9.95G [00:20<01:44, 61.5MB/s]\u001b[A\n",
      "model-00001-of-00003.safetensors:  36%|███▌      | 3.53G/9.95G [00:20<01:49, 58.7MB/s]\u001b[A\n",
      "model-00001-of-00003.safetensors:  36%|███▌      | 3.54G/9.95G [00:21<01:53, 56.5MB/s]\u001b[A\n",
      "model-00001-of-00003.safetensors:  36%|███▌      | 3.55G/9.95G [00:21<01:46, 59.9MB/s]\u001b[A\n",
      "model-00001-of-00003.safetensors:  36%|███▌      | 3.58G/9.95G [00:21<01:17, 82.4MB/s]\u001b[A\n",
      "model-00001-of-00003.safetensors:  36%|███▋      | 3.61G/9.95G [00:21<00:53, 120MB/s] \u001b[A\n",
      "model-00001-of-00003.safetensors:  37%|███▋      | 3.64G/9.95G [00:21<00:43, 146MB/s]\u001b[A\n",
      "model-00001-of-00003.safetensors:  37%|███▋      | 3.67G/9.95G [00:21<00:35, 178MB/s]\u001b[A\n",
      "model-00001-of-00003.safetensors:  37%|███▋      | 3.70G/9.95G [00:21<00:31, 201MB/s]\u001b[A\n",
      "model-00001-of-00003.safetensors:  38%|███▊      | 3.73G/9.95G [00:21<00:29, 209MB/s]\u001b[A\n",
      "model-00001-of-00003.safetensors:  38%|███▊      | 3.76G/9.95G [00:22<00:30, 202MB/s]\u001b[A\n",
      "model-00001-of-00003.safetensors:  38%|███▊      | 3.80G/9.95G [00:22<00:29, 207MB/s]\u001b[A\n",
      "model-00001-of-00003.safetensors:  38%|███▊      | 3.83G/9.95G [00:22<00:28, 218MB/s]\u001b[A\n",
      "model-00001-of-00003.safetensors:  39%|███▉      | 3.86G/9.95G [00:22<00:26, 228MB/s]\u001b[A\n",
      "model-00001-of-00003.safetensors:  39%|███▉      | 3.89G/9.95G [00:22<00:24, 243MB/s]\u001b[A\n",
      "model-00001-of-00003.safetensors:  39%|███▉      | 3.92G/9.95G [00:22<00:24, 249MB/s]\u001b[A\n",
      "model-00001-of-00003.safetensors:  40%|███▉      | 3.95G/9.95G [00:22<00:23, 256MB/s]\u001b[A\n",
      "model-00001-of-00003.safetensors:  40%|████      | 3.98G/9.95G [00:22<00:22, 262MB/s]\u001b[A\n",
      "model-00001-of-00003.safetensors:  40%|████      | 4.02G/9.95G [00:23<00:24, 238MB/s]\u001b[A\n",
      "model-00001-of-00003.safetensors:  41%|████      | 4.05G/9.95G [00:23<00:25, 233MB/s]\u001b[A\n",
      "model-00001-of-00003.safetensors:  41%|████      | 4.08G/9.95G [00:23<00:25, 230MB/s]\u001b[A\n",
      "model-00001-of-00003.safetensors:  41%|████▏     | 4.11G/9.95G [00:23<00:24, 235MB/s]\u001b[A\n",
      "model-00001-of-00003.safetensors:  42%|████▏     | 4.14G/9.95G [00:23<00:23, 244MB/s]\u001b[A\n",
      "model-00001-of-00003.safetensors:  42%|████▏     | 4.17G/9.95G [00:23<00:25, 226MB/s]\u001b[A\n",
      "model-00001-of-00003.safetensors:  42%|████▏     | 4.20G/9.95G [00:23<00:25, 224MB/s]\u001b[A\n",
      "model-00001-of-00003.safetensors:  43%|████▎     | 4.24G/9.95G [00:24<00:26, 217MB/s]\u001b[A\n",
      "model-00001-of-00003.safetensors:  43%|████▎     | 4.27G/9.95G [00:24<00:24, 229MB/s]\u001b[A\n",
      "model-00001-of-00003.safetensors:  43%|████▎     | 4.30G/9.95G [00:24<00:24, 231MB/s]\u001b[A\n",
      "model-00001-of-00003.safetensors:  44%|████▎     | 4.33G/9.95G [00:24<00:23, 243MB/s]\u001b[A\n",
      "model-00001-of-00003.safetensors:  44%|████▍     | 4.36G/9.95G [00:24<00:22, 250MB/s]\u001b[A\n",
      "model-00001-of-00003.safetensors:  44%|████▍     | 4.39G/9.95G [00:24<00:24, 229MB/s]\u001b[A\n",
      "model-00001-of-00003.safetensors:  44%|████▍     | 4.42G/9.95G [00:24<00:24, 229MB/s]\u001b[A\n",
      "model-00001-of-00003.safetensors:  45%|████▍     | 4.46G/9.95G [00:25<00:27, 199MB/s]\u001b[A\n",
      "model-00001-of-00003.safetensors:  45%|████▌     | 4.49G/9.95G [00:25<00:26, 210MB/s]\u001b[A\n",
      "model-00001-of-00003.safetensors:  45%|████▌     | 4.52G/9.95G [00:25<00:24, 219MB/s]\u001b[A\n",
      "model-00001-of-00003.safetensors:  46%|████▌     | 4.55G/9.95G [00:25<00:23, 234MB/s]\u001b[A\n",
      "model-00001-of-00003.safetensors:  46%|████▌     | 4.58G/9.95G [00:25<00:22, 244MB/s]\u001b[A\n",
      "model-00001-of-00003.safetensors:  46%|████▋     | 4.61G/9.95G [00:25<00:24, 216MB/s]\u001b[A\n",
      "model-00001-of-00003.safetensors:  47%|████▋     | 4.65G/9.95G [00:25<00:24, 218MB/s]\u001b[A\n",
      "model-00001-of-00003.safetensors:  47%|████▋     | 4.68G/9.95G [00:26<00:24, 219MB/s]\u001b[A\n",
      "model-00001-of-00003.safetensors:  47%|████▋     | 4.71G/9.95G [00:26<00:23, 227MB/s]\u001b[A\n",
      "model-00001-of-00003.safetensors:  48%|████▊     | 4.74G/9.95G [00:26<00:22, 231MB/s]\u001b[A\n",
      "model-00001-of-00003.safetensors:  48%|████▊     | 4.77G/9.95G [00:26<00:22, 230MB/s]\u001b[A\n",
      "model-00001-of-00003.safetensors:  48%|████▊     | 4.80G/9.95G [00:26<00:20, 246MB/s]\u001b[A\n",
      "model-00001-of-00003.safetensors:  49%|████▊     | 4.83G/9.95G [00:26<00:21, 240MB/s]\u001b[A\n",
      "model-00001-of-00003.safetensors:  49%|████▉     | 4.87G/9.95G [00:26<00:20, 246MB/s]\u001b[A\n",
      "model-00001-of-00003.safetensors:  49%|████▉     | 4.90G/9.95G [00:26<00:21, 239MB/s]\u001b[A\n",
      "model-00001-of-00003.safetensors:  50%|████▉     | 4.93G/9.95G [00:27<00:20, 248MB/s]\u001b[A\n",
      "model-00001-of-00003.safetensors:  50%|████▉     | 4.96G/9.95G [00:27<00:19, 255MB/s]\u001b[A\n",
      "model-00001-of-00003.safetensors:  50%|█████     | 4.99G/9.95G [00:27<00:19, 251MB/s]\u001b[A\n",
      "model-00001-of-00003.safetensors:  50%|█████     | 5.02G/9.95G [00:27<00:19, 248MB/s]\u001b[A\n",
      "model-00001-of-00003.safetensors:  51%|█████     | 5.05G/9.95G [00:27<00:20, 243MB/s]\u001b[A\n",
      "model-00001-of-00003.safetensors:  51%|█████     | 5.09G/9.95G [00:27<00:19, 247MB/s]\u001b[A\n",
      "model-00001-of-00003.safetensors:  51%|█████▏    | 5.12G/9.95G [00:27<00:19, 242MB/s]\u001b[A\n",
      "model-00001-of-00003.safetensors:  52%|█████▏    | 5.15G/9.95G [00:28<00:19, 242MB/s]\u001b[A\n",
      "model-00001-of-00003.safetensors:  52%|█████▏    | 5.18G/9.95G [00:28<00:19, 248MB/s]\u001b[A\n",
      "model-00001-of-00003.safetensors:  52%|█████▏    | 5.21G/9.95G [00:28<00:18, 254MB/s]\u001b[A\n",
      "model-00001-of-00003.safetensors:  53%|█████▎    | 5.24G/9.95G [00:28<00:18, 258MB/s]\u001b[A\n",
      "model-00001-of-00003.safetensors:  53%|█████▎    | 5.27G/9.95G [00:28<00:18, 253MB/s]\u001b[A\n",
      "model-00001-of-00003.safetensors:  53%|█████▎    | 5.31G/9.95G [00:28<00:18, 252MB/s]\u001b[A\n",
      "model-00001-of-00003.safetensors:  54%|█████▎    | 5.34G/9.95G [00:28<00:18, 248MB/s]\u001b[A\n",
      "model-00001-of-00003.safetensors:  54%|█████▍    | 5.37G/9.95G [00:28<00:18, 249MB/s]\u001b[A\n",
      "model-00001-of-00003.safetensors:  54%|█████▍    | 5.40G/9.95G [00:29<00:20, 227MB/s]\u001b[A\n",
      "model-00001-of-00003.safetensors:  55%|█████▍    | 5.43G/9.95G [00:29<00:19, 228MB/s]\u001b[A\n",
      "model-00001-of-00003.safetensors:  55%|█████▍    | 5.46G/9.95G [00:29<00:21, 207MB/s]\u001b[A\n",
      "model-00001-of-00003.safetensors:  55%|█████▌    | 5.49G/9.95G [00:29<00:21, 203MB/s]\u001b[A\n",
      "model-00001-of-00003.safetensors:  56%|█████▌    | 5.53G/9.95G [00:29<00:21, 210MB/s]\u001b[A\n",
      "model-00001-of-00003.safetensors:  56%|█████▌    | 5.56G/9.95G [00:29<00:19, 224MB/s]\u001b[A\n",
      "model-00001-of-00003.safetensors:  56%|█████▌    | 5.59G/9.95G [00:29<00:18, 242MB/s]\u001b[A\n",
      "model-00001-of-00003.safetensors:  56%|█████▋    | 5.62G/9.95G [00:30<00:18, 236MB/s]\u001b[A\n",
      "model-00001-of-00003.safetensors:  57%|█████▋    | 5.65G/9.95G [00:30<00:23, 180MB/s]\u001b[A\n",
      "model-00001-of-00003.safetensors:  57%|█████▋    | 5.68G/9.95G [00:30<00:21, 194MB/s]\u001b[A\n",
      "model-00001-of-00003.safetensors:  57%|█████▋    | 5.71G/9.95G [00:30<00:19, 216MB/s]\u001b[A\n",
      "model-00001-of-00003.safetensors:  58%|█████▊    | 5.75G/9.95G [00:30<00:18, 223MB/s]\u001b[A\n",
      "model-00001-of-00003.safetensors:  58%|█████▊    | 5.78G/9.95G [00:30<00:18, 232MB/s]\u001b[A\n",
      "model-00001-of-00003.safetensors:  58%|█████▊    | 5.81G/9.95G [00:30<00:17, 242MB/s]\u001b[A\n",
      "model-00001-of-00003.safetensors:  59%|█████▊    | 5.84G/9.95G [00:31<00:17, 239MB/s]\u001b[A\n",
      "model-00001-of-00003.safetensors:  59%|█████▉    | 5.87G/9.95G [00:31<00:17, 230MB/s]\u001b[A\n",
      "model-00001-of-00003.safetensors:  59%|█████▉    | 5.90G/9.95G [00:31<00:17, 227MB/s]\u001b[A\n",
      "model-00001-of-00003.safetensors:  60%|█████▉    | 5.93G/9.95G [00:31<00:17, 226MB/s]\u001b[A\n",
      "model-00001-of-00003.safetensors:  60%|█████▉    | 5.97G/9.95G [00:31<00:17, 232MB/s]\u001b[A\n",
      "model-00001-of-00003.safetensors:  60%|██████    | 6.00G/9.95G [00:31<00:16, 241MB/s]\u001b[A\n",
      "model-00001-of-00003.safetensors:  61%|██████    | 6.03G/9.95G [00:31<00:20, 193MB/s]\u001b[A\n",
      "model-00001-of-00003.safetensors:  61%|██████    | 6.06G/9.95G [00:32<00:36, 106MB/s]\u001b[A\n",
      "model-00001-of-00003.safetensors:  61%|██████    | 6.08G/9.95G [00:32<00:34, 113MB/s]\u001b[A\n",
      "model-00001-of-00003.safetensors:  61%|██████▏   | 6.10G/9.95G [00:32<00:34, 112MB/s]\u001b[A\n",
      "model-00001-of-00003.safetensors:  62%|██████▏   | 6.12G/9.95G [00:33<00:50, 75.6MB/s]\u001b[A\n",
      "model-00001-of-00003.safetensors:  62%|██████▏   | 6.14G/9.95G [00:33<00:53, 71.5MB/s]\u001b[A\n",
      "model-00001-of-00003.safetensors:  62%|██████▏   | 6.16G/9.95G [00:33<00:55, 68.7MB/s]\u001b[A\n",
      "model-00001-of-00003.safetensors:  62%|██████▏   | 6.18G/9.95G [00:34<00:45, 82.8MB/s]\u001b[A\n",
      "model-00001-of-00003.safetensors:  62%|██████▏   | 6.21G/9.95G [00:34<00:32, 115MB/s] \u001b[A\n",
      "model-00001-of-00003.safetensors:  63%|██████▎   | 6.24G/9.95G [00:34<00:26, 138MB/s]\u001b[A\n",
      "model-00001-of-00003.safetensors:  63%|██████▎   | 6.26G/9.95G [00:34<00:25, 144MB/s]\u001b[A\n",
      "model-00001-of-00003.safetensors:  63%|██████▎   | 6.28G/9.95G [00:34<00:24, 148MB/s]\u001b[A\n",
      "model-00001-of-00003.safetensors:  63%|██████▎   | 6.30G/9.95G [00:35<00:35, 103MB/s]\u001b[A\n",
      "model-00001-of-00003.safetensors:  64%|██████▎   | 6.32G/9.95G [00:35<00:45, 79.8MB/s]\u001b[A\n",
      "model-00001-of-00003.safetensors:  64%|██████▍   | 6.34G/9.95G [00:35<00:53, 67.3MB/s]\u001b[A\n",
      "model-00001-of-00003.safetensors:  64%|██████▍   | 6.35G/9.95G [00:36<00:53, 66.7MB/s]\u001b[A\n",
      "model-00001-of-00003.safetensors:  64%|██████▍   | 6.36G/9.95G [00:36<00:56, 63.3MB/s]\u001b[A\n",
      "model-00001-of-00003.safetensors:  64%|██████▍   | 6.38G/9.95G [00:36<00:52, 67.6MB/s]\u001b[A\n",
      "model-00001-of-00003.safetensors:  64%|██████▍   | 6.39G/9.95G [00:36<00:59, 59.4MB/s]\u001b[A\n",
      "model-00001-of-00003.safetensors:  64%|██████▍   | 6.40G/9.95G [00:36<00:59, 59.5MB/s]\u001b[A\n",
      "model-00001-of-00003.safetensors:  64%|██████▍   | 6.41G/9.95G [00:37<01:12, 49.0MB/s]\u001b[A\n",
      "model-00001-of-00003.safetensors:  65%|██████▍   | 6.42G/9.95G [00:37<01:12, 48.9MB/s]\u001b[A\n",
      "model-00001-of-00003.safetensors:  65%|██████▍   | 6.43G/9.95G [00:37<01:09, 50.9MB/s]\u001b[A\n",
      "model-00001-of-00003.safetensors:  65%|██████▍   | 6.44G/9.95G [00:37<01:04, 54.6MB/s]\u001b[A\n",
      "model-00001-of-00003.safetensors:  65%|██████▌   | 6.47G/9.95G [00:37<00:36, 96.6MB/s]\u001b[A\n",
      "model-00001-of-00003.safetensors:  65%|██████▌   | 6.50G/9.95G [00:37<00:25, 135MB/s] \u001b[A\n",
      "model-00001-of-00003.safetensors:  66%|██████▌   | 6.52G/9.95G [00:37<00:23, 149MB/s]\u001b[A\n",
      "model-00001-of-00003.safetensors:  66%|██████▌   | 6.54G/9.95G [00:38<00:21, 156MB/s]\u001b[A\n",
      "model-00001-of-00003.safetensors:  66%|██████▌   | 6.57G/9.95G [00:38<00:18, 179MB/s]\u001b[A\n",
      "model-00001-of-00003.safetensors:  66%|██████▋   | 6.61G/9.95G [00:38<00:16, 198MB/s]\u001b[A\n",
      "model-00001-of-00003.safetensors:  67%|██████▋   | 6.64G/9.95G [00:38<00:15, 213MB/s]\u001b[A\n",
      "model-00001-of-00003.safetensors:  67%|██████▋   | 6.67G/9.95G [00:38<00:14, 220MB/s]\u001b[A\n",
      "model-00001-of-00003.safetensors:  67%|██████▋   | 6.70G/9.95G [00:38<00:15, 207MB/s]\u001b[A\n",
      "model-00001-of-00003.safetensors:  68%|██████▊   | 6.73G/9.95G [00:38<00:15, 208MB/s]\u001b[A\n",
      "model-00001-of-00003.safetensors:  68%|██████▊   | 6.76G/9.95G [00:39<00:14, 220MB/s]\u001b[A\n",
      "model-00001-of-00003.safetensors:  68%|██████▊   | 6.79G/9.95G [00:39<00:14, 225MB/s]\u001b[A\n",
      "model-00001-of-00003.safetensors:  69%|██████▊   | 6.83G/9.95G [00:39<00:13, 235MB/s]\u001b[A\n",
      "model-00001-of-00003.safetensors:  69%|██████▉   | 6.86G/9.95G [00:39<00:12, 246MB/s]\u001b[A\n",
      "model-00001-of-00003.safetensors:  69%|██████▉   | 6.89G/9.95G [00:39<00:12, 237MB/s]\u001b[A\n",
      "model-00001-of-00003.safetensors:  70%|██████▉   | 6.92G/9.95G [00:39<00:12, 237MB/s]\u001b[A\n",
      "model-00001-of-00003.safetensors:  70%|██████▉   | 6.95G/9.95G [00:39<00:12, 244MB/s]\u001b[A\n",
      "model-00001-of-00003.safetensors:  70%|███████   | 6.98G/9.95G [00:39<00:11, 254MB/s]\u001b[A\n",
      "model-00001-of-00003.safetensors:  71%|███████   | 7.01G/9.95G [00:40<00:11, 256MB/s]\u001b[A\n",
      "model-00001-of-00003.safetensors:  71%|███████   | 7.05G/9.95G [00:40<00:11, 258MB/s]\u001b[A\n",
      "model-00001-of-00003.safetensors:  71%|███████   | 7.08G/9.95G [00:40<00:10, 261MB/s]\u001b[A\n",
      "model-00001-of-00003.safetensors:  71%|███████▏  | 7.11G/9.95G [00:40<00:14, 197MB/s]\u001b[A\n",
      "model-00001-of-00003.safetensors:  72%|███████▏  | 7.14G/9.95G [00:40<00:13, 211MB/s]\u001b[A\n",
      "model-00001-of-00003.safetensors:  72%|███████▏  | 7.17G/9.95G [00:40<00:12, 218MB/s]\u001b[A\n",
      "model-00001-of-00003.safetensors:  72%|███████▏  | 7.20G/9.95G [00:40<00:11, 230MB/s]\u001b[A\n",
      "model-00001-of-00003.safetensors:  73%|███████▎  | 7.24G/9.95G [00:41<00:12, 223MB/s]\u001b[A\n",
      "model-00001-of-00003.safetensors:  73%|███████▎  | 7.27G/9.95G [00:41<00:11, 231MB/s]\u001b[A\n",
      "model-00001-of-00003.safetensors:  73%|███████▎  | 7.30G/9.95G [00:41<00:11, 236MB/s]\u001b[A\n",
      "model-00001-of-00003.safetensors:  74%|███████▎  | 7.33G/9.95G [00:41<00:10, 247MB/s]\u001b[A\n",
      "model-00001-of-00003.safetensors:  74%|███████▍  | 7.36G/9.95G [00:41<00:10, 237MB/s]\u001b[A\n",
      "model-00001-of-00003.safetensors:  74%|███████▍  | 7.39G/9.95G [00:41<00:10, 234MB/s]\u001b[A\n",
      "model-00001-of-00003.safetensors:  75%|███████▍  | 7.42G/9.95G [00:41<00:10, 244MB/s]\u001b[A\n",
      "model-00001-of-00003.safetensors:  75%|███████▍  | 7.46G/9.95G [00:41<00:10, 245MB/s]\u001b[A\n",
      "model-00001-of-00003.safetensors:  75%|███████▌  | 7.49G/9.95G [00:42<00:10, 233MB/s]\u001b[A\n",
      "model-00001-of-00003.safetensors:  76%|███████▌  | 7.52G/9.95G [00:42<00:09, 250MB/s]\u001b[A\n",
      "model-00001-of-00003.safetensors:  76%|███████▌  | 7.55G/9.95G [00:42<00:09, 251MB/s]\u001b[A\n",
      "model-00001-of-00003.safetensors:  76%|███████▌  | 7.58G/9.95G [00:42<00:08, 266MB/s]\u001b[A\n",
      "model-00001-of-00003.safetensors:  77%|███████▋  | 7.61G/9.95G [00:42<00:09, 250MB/s]\u001b[A\n",
      "model-00001-of-00003.safetensors:  77%|███████▋  | 7.64G/9.95G [00:42<00:08, 257MB/s]\u001b[A\n",
      "model-00001-of-00003.safetensors:  77%|███████▋  | 7.68G/9.95G [00:42<00:09, 236MB/s]\u001b[A\n",
      "model-00001-of-00003.safetensors:  77%|███████▋  | 7.71G/9.95G [00:42<00:09, 243MB/s]\u001b[A\n",
      "model-00001-of-00003.safetensors:  78%|███████▊  | 7.74G/9.95G [00:43<00:08, 252MB/s]\u001b[A\n",
      "model-00001-of-00003.safetensors:  78%|███████▊  | 7.78G/9.95G [00:43<00:08, 267MB/s]\u001b[A\n",
      "model-00001-of-00003.safetensors:  79%|███████▊  | 7.81G/9.95G [00:43<00:07, 274MB/s]\u001b[A\n",
      "model-00001-of-00003.safetensors:  79%|███████▉  | 7.84G/9.95G [00:43<00:08, 242MB/s]\u001b[A\n",
      "model-00001-of-00003.safetensors:  79%|███████▉  | 7.87G/9.95G [00:43<00:09, 222MB/s]\u001b[A\n",
      "model-00001-of-00003.safetensors:  79%|███████▉  | 7.91G/9.95G [00:43<00:10, 201MB/s]\u001b[A\n",
      "model-00001-of-00003.safetensors:  80%|███████▉  | 7.94G/9.95G [00:43<00:09, 222MB/s]\u001b[A\n",
      "model-00001-of-00003.safetensors:  80%|████████  | 7.97G/9.95G [00:44<00:08, 223MB/s]\u001b[A\n",
      "model-00001-of-00003.safetensors:  80%|████████  | 8.00G/9.95G [00:44<00:08, 227MB/s]\u001b[A\n",
      "model-00001-of-00003.safetensors:  81%|████████  | 8.03G/9.95G [00:44<00:08, 239MB/s]\u001b[A\n",
      "model-00001-of-00003.safetensors:  81%|████████  | 8.06G/9.95G [00:44<00:07, 242MB/s]\u001b[A\n",
      "model-00001-of-00003.safetensors:  81%|████████▏ | 8.10G/9.95G [00:44<00:07, 253MB/s]\u001b[A\n",
      "model-00001-of-00003.safetensors:  82%|████████▏ | 8.13G/9.95G [00:44<00:07, 235MB/s]\u001b[A\n",
      "model-00001-of-00003.safetensors:  82%|████████▏ | 8.16G/9.95G [00:44<00:07, 245MB/s]\u001b[A\n",
      "model-00001-of-00003.safetensors:  82%|████████▏ | 8.19G/9.95G [00:45<00:07, 227MB/s]\u001b[A\n",
      "model-00001-of-00003.safetensors:  83%|████████▎ | 8.22G/9.95G [00:45<00:07, 219MB/s]\u001b[A\n",
      "model-00001-of-00003.safetensors:  83%|████████▎ | 8.25G/9.95G [00:45<00:07, 229MB/s]\u001b[A\n",
      "model-00001-of-00003.safetensors:  83%|████████▎ | 8.28G/9.95G [00:45<00:07, 234MB/s]\u001b[A\n",
      "model-00001-of-00003.safetensors:  84%|████████▎ | 8.32G/9.95G [00:45<00:09, 173MB/s]\u001b[A\n",
      "model-00001-of-00003.safetensors:  84%|████████▍ | 8.35G/9.95G [00:45<00:08, 194MB/s]\u001b[A\n",
      "model-00001-of-00003.safetensors:  84%|████████▍ | 8.38G/9.95G [00:46<00:08, 193MB/s]\u001b[A\n",
      "model-00001-of-00003.safetensors:  85%|████████▍ | 8.41G/9.95G [00:46<00:07, 196MB/s]\u001b[A\n",
      "model-00001-of-00003.safetensors:  85%|████████▍ | 8.44G/9.95G [00:46<00:07, 213MB/s]\u001b[A\n",
      "model-00001-of-00003.safetensors:  85%|████████▌ | 8.47G/9.95G [00:46<00:07, 210MB/s]\u001b[A\n",
      "model-00001-of-00003.safetensors:  85%|████████▌ | 8.50G/9.95G [00:46<00:06, 212MB/s]\u001b[A\n",
      "model-00001-of-00003.safetensors:  86%|████████▌ | 8.54G/9.95G [00:46<00:06, 225MB/s]\u001b[A\n",
      "model-00001-of-00003.safetensors:  86%|████████▌ | 8.57G/9.95G [00:46<00:05, 239MB/s]\u001b[A\n",
      "model-00001-of-00003.safetensors:  87%|████████▋ | 8.61G/9.95G [00:46<00:05, 260MB/s]\u001b[A\n",
      "model-00001-of-00003.safetensors:  87%|████████▋ | 8.64G/9.95G [00:47<00:05, 255MB/s]\u001b[A\n",
      "model-00001-of-00003.safetensors:  87%|████████▋ | 8.67G/9.95G [00:47<00:05, 245MB/s]\u001b[A\n",
      "model-00001-of-00003.safetensors:  87%|████████▋ | 8.70G/9.95G [00:47<00:05, 241MB/s]\u001b[A\n",
      "model-00001-of-00003.safetensors:  88%|████████▊ | 8.73G/9.95G [00:47<00:05, 243MB/s]\u001b[A\n",
      "model-00001-of-00003.safetensors:  88%|████████▊ | 8.77G/9.95G [00:47<00:04, 254MB/s]\u001b[A\n",
      "model-00001-of-00003.safetensors:  88%|████████▊ | 8.80G/9.95G [00:48<00:07, 151MB/s]\u001b[A\n",
      "model-00001-of-00003.safetensors:  89%|████████▊ | 8.82G/9.95G [00:48<00:08, 141MB/s]\u001b[A\n",
      "model-00001-of-00003.safetensors:  89%|████████▉ | 8.84G/9.95G [00:48<00:08, 134MB/s]\u001b[A\n",
      "model-00001-of-00003.safetensors:  89%|████████▉ | 8.86G/9.95G [00:48<00:07, 147MB/s]\u001b[A\n",
      "model-00001-of-00003.safetensors:  89%|████████▉ | 8.88G/9.95G [00:48<00:06, 158MB/s]\u001b[A\n",
      "model-00001-of-00003.safetensors:  89%|████████▉ | 8.90G/9.95G [00:48<00:08, 122MB/s]\u001b[A\n",
      "model-00001-of-00003.safetensors:  90%|████████▉ | 8.93G/9.95G [00:48<00:06, 150MB/s]\u001b[A\n",
      "model-00001-of-00003.safetensors:  90%|█████████ | 8.95G/9.95G [00:49<00:07, 125MB/s]\u001b[A\n",
      "model-00001-of-00003.safetensors:  90%|█████████ | 8.98G/9.95G [00:49<00:10, 91.1MB/s]\u001b[A\n",
      "model-00001-of-00003.safetensors:  91%|█████████ | 9.01G/9.95G [00:49<00:10, 89.5MB/s]\u001b[A\n",
      "model-00001-of-00003.safetensors:  91%|█████████ | 9.03G/9.95G [00:50<00:09, 95.3MB/s]\u001b[A\n",
      "model-00001-of-00003.safetensors:  91%|█████████ | 9.06G/9.95G [00:50<00:07, 121MB/s] \u001b[A\n",
      "model-00001-of-00003.safetensors:  91%|█████████▏| 9.09G/9.95G [00:50<00:05, 146MB/s]\u001b[A\n",
      "model-00001-of-00003.safetensors:  92%|█████████▏| 9.11G/9.95G [00:50<00:05, 150MB/s]\u001b[A\n",
      "model-00001-of-00003.safetensors:  92%|█████████▏| 9.13G/9.95G [00:50<00:05, 138MB/s]\u001b[A\n",
      "model-00001-of-00003.safetensors:  92%|█████████▏| 9.15G/9.95G [00:50<00:05, 148MB/s]\u001b[A\n",
      "model-00001-of-00003.safetensors:  92%|█████████▏| 9.19G/9.95G [00:50<00:04, 175MB/s]\u001b[A\n",
      "model-00001-of-00003.safetensors:  93%|█████████▎| 9.21G/9.95G [00:51<00:04, 182MB/s]\u001b[A\n",
      "model-00001-of-00003.safetensors:  93%|█████████▎| 9.23G/9.95G [00:51<00:04, 172MB/s]\u001b[A\n",
      "model-00001-of-00003.safetensors:  93%|█████████▎| 9.25G/9.95G [00:51<00:03, 177MB/s]\u001b[A\n",
      "model-00001-of-00003.safetensors:  93%|█████████▎| 9.27G/9.95G [00:51<00:03, 184MB/s]\u001b[A\n",
      "model-00001-of-00003.safetensors:  93%|█████████▎| 9.29G/9.95G [00:51<00:03, 188MB/s]\u001b[A\n",
      "model-00001-of-00003.safetensors:  94%|█████████▎| 9.32G/9.95G [00:51<00:03, 198MB/s]\u001b[A\n",
      "model-00001-of-00003.safetensors:  94%|█████████▍| 9.34G/9.95G [00:51<00:03, 173MB/s]\u001b[A\n",
      "model-00001-of-00003.safetensors:  94%|█████████▍| 9.36G/9.95G [00:51<00:03, 171MB/s]\u001b[A\n",
      "model-00001-of-00003.safetensors:  94%|█████████▍| 9.40G/9.95G [00:52<00:02, 192MB/s]\u001b[A\n",
      "model-00001-of-00003.safetensors:  95%|█████████▍| 9.42G/9.95G [00:52<00:02, 193MB/s]\u001b[A\n",
      "model-00001-of-00003.safetensors:  95%|█████████▍| 9.44G/9.95G [00:52<00:03, 160MB/s]\u001b[A\n",
      "model-00001-of-00003.safetensors:  95%|█████████▌| 9.47G/9.95G [00:52<00:03, 148MB/s]\u001b[A\n",
      "model-00001-of-00003.safetensors:  95%|█████████▌| 9.50G/9.95G [00:52<00:03, 146MB/s]\u001b[A\n",
      "model-00001-of-00003.safetensors:  96%|█████████▌| 9.52G/9.95G [00:53<00:03, 140MB/s]\u001b[A\n",
      "model-00001-of-00003.safetensors:  96%|█████████▌| 9.54G/9.95G [00:53<00:02, 146MB/s]\u001b[A\n",
      "model-00001-of-00003.safetensors:  96%|█████████▌| 9.57G/9.95G [00:53<00:02, 170MB/s]\u001b[A\n",
      "model-00001-of-00003.safetensors:  96%|█████████▋| 9.59G/9.95G [00:53<00:02, 143MB/s]\u001b[A\n",
      "model-00001-of-00003.safetensors:  97%|█████████▋| 9.63G/9.95G [00:53<00:01, 170MB/s]\u001b[A\n",
      "model-00001-of-00003.safetensors:  97%|█████████▋| 9.65G/9.95G [00:53<00:01, 170MB/s]\u001b[A\n",
      "model-00001-of-00003.safetensors:  97%|█████████▋| 9.67G/9.95G [00:54<00:02, 125MB/s]\u001b[A\n",
      "model-00001-of-00003.safetensors:  97%|█████████▋| 9.69G/9.95G [00:54<00:02, 110MB/s]\u001b[A\n",
      "model-00001-of-00003.safetensors:  98%|█████████▊| 9.71G/9.95G [00:54<00:02, 96.7MB/s]\u001b[A\n",
      "model-00001-of-00003.safetensors:  98%|█████████▊| 9.74G/9.95G [00:54<00:02, 100MB/s] \u001b[A\n",
      "model-00001-of-00003.safetensors:  98%|█████████▊| 9.76G/9.95G [00:55<00:01, 110MB/s]\u001b[A\n",
      "model-00001-of-00003.safetensors:  98%|█████████▊| 9.79G/9.95G [00:55<00:01, 140MB/s]\u001b[A\n",
      "model-00001-of-00003.safetensors:  99%|█████████▉| 9.83G/9.95G [00:55<00:00, 172MB/s]\u001b[A\n",
      "model-00001-of-00003.safetensors:  99%|█████████▉| 9.85G/9.95G [00:55<00:00, 175MB/s]\u001b[A\n",
      "model-00001-of-00003.safetensors:  99%|█████████▉| 9.88G/9.95G [00:55<00:00, 193MB/s]\u001b[A\n",
      "model-00001-of-00003.safetensors: 100%|█████████▉| 9.91G/9.95G [00:55<00:00, 218MB/s]\u001b[A\n",
      "model-00001-of-00003.safetensors: 100%|██████████| 9.95G/9.95G [00:55<00:00, 178MB/s]\u001b[A\n",
      "Downloading shards:  33%|███▎      | 1/3 [01:52<03:45, 112.73s/it]\n",
      "model-00002-of-00003.safetensors:   0%|          | 0.00/9.90G [00:00<?, ?B/s]\u001b[A\n",
      "model-00002-of-00003.safetensors:   0%|          | 10.5M/9.90G [00:00<01:38, 101MB/s]\u001b[A\n",
      "model-00002-of-00003.safetensors:   0%|          | 21.0M/9.90G [00:00<01:38, 101MB/s]\u001b[A\n",
      "model-00002-of-00003.safetensors:   1%|          | 52.4M/9.90G [00:00<00:57, 171MB/s]\u001b[A\n",
      "model-00002-of-00003.safetensors:   1%|          | 73.4M/9.90G [00:00<00:56, 174MB/s]\u001b[A\n",
      "model-00002-of-00003.safetensors:   1%|          | 105M/9.90G [00:00<00:51, 189MB/s] \u001b[A\n",
      "model-00002-of-00003.safetensors:   1%|▏         | 126M/9.90G [00:00<00:54, 180MB/s]\u001b[A\n",
      "model-00002-of-00003.safetensors:   1%|▏         | 147M/9.90G [00:00<00:56, 174MB/s]\u001b[A\n",
      "model-00002-of-00003.safetensors:   2%|▏         | 178M/9.90G [00:01<00:50, 192MB/s]\u001b[A\n",
      "model-00002-of-00003.safetensors:   2%|▏         | 199M/9.90G [00:01<00:58, 167MB/s]\u001b[A\n",
      "model-00002-of-00003.safetensors:   2%|▏         | 220M/9.90G [00:01<01:01, 157MB/s]\u001b[A\n",
      "model-00002-of-00003.safetensors:   2%|▏         | 241M/9.90G [00:01<01:05, 148MB/s]\u001b[A\n",
      "model-00002-of-00003.safetensors:   3%|▎         | 262M/9.90G [00:01<01:04, 149MB/s]\u001b[A\n",
      "model-00002-of-00003.safetensors:   3%|▎         | 283M/9.90G [00:01<01:01, 157MB/s]\u001b[A\n",
      "model-00002-of-00003.safetensors:   3%|▎         | 304M/9.90G [00:01<00:58, 165MB/s]\u001b[A\n",
      "model-00002-of-00003.safetensors:   3%|▎         | 325M/9.90G [00:01<00:56, 168MB/s]\u001b[A\n",
      "model-00002-of-00003.safetensors:   3%|▎         | 346M/9.90G [00:02<00:56, 168MB/s]\u001b[A\n",
      "model-00002-of-00003.safetensors:   4%|▍         | 377M/9.90G [00:02<00:49, 192MB/s]\u001b[A\n",
      "model-00002-of-00003.safetensors:   4%|▍         | 398M/9.90G [00:02<00:48, 194MB/s]\u001b[A\n",
      "model-00002-of-00003.safetensors:   4%|▍         | 419M/9.90G [00:02<00:50, 188MB/s]\u001b[A\n",
      "model-00002-of-00003.safetensors:   4%|▍         | 440M/9.90G [00:02<00:51, 184MB/s]\u001b[A\n",
      "model-00002-of-00003.safetensors:   5%|▍         | 472M/9.90G [00:02<00:45, 210MB/s]\u001b[A\n",
      "model-00002-of-00003.safetensors:   5%|▌         | 503M/9.90G [00:02<00:44, 211MB/s]\u001b[A\n",
      "model-00002-of-00003.safetensors:   5%|▌         | 535M/9.90G [00:02<00:43, 216MB/s]\u001b[A\n",
      "model-00002-of-00003.safetensors:   6%|▌         | 566M/9.90G [00:03<00:46, 199MB/s]\u001b[A\n",
      "model-00002-of-00003.safetensors:   6%|▌         | 587M/9.90G [00:03<00:51, 181MB/s]\u001b[A\n",
      "model-00002-of-00003.safetensors:   6%|▌         | 608M/9.90G [00:03<00:54, 171MB/s]\u001b[A\n",
      "model-00002-of-00003.safetensors:   6%|▋         | 629M/9.90G [00:03<01:04, 144MB/s]\u001b[A\n",
      "model-00002-of-00003.safetensors:   7%|▋         | 650M/9.90G [00:03<01:02, 149MB/s]\u001b[A\n",
      "model-00002-of-00003.safetensors:   7%|▋         | 671M/9.90G [00:03<00:59, 156MB/s]\u001b[A\n",
      "model-00002-of-00003.safetensors:   7%|▋         | 692M/9.90G [00:04<00:55, 166MB/s]\u001b[A\n",
      "model-00002-of-00003.safetensors:   7%|▋         | 724M/9.90G [00:04<00:51, 178MB/s]\u001b[A\n",
      "model-00002-of-00003.safetensors:   8%|▊         | 744M/9.90G [00:04<00:52, 174MB/s]\u001b[A\n",
      "model-00002-of-00003.safetensors:   8%|▊         | 765M/9.90G [00:04<00:50, 181MB/s]\u001b[A\n",
      "model-00002-of-00003.safetensors:   8%|▊         | 786M/9.90G [00:04<00:49, 183MB/s]\u001b[A\n",
      "model-00002-of-00003.safetensors:   8%|▊         | 807M/9.90G [00:04<00:48, 188MB/s]\u001b[A\n",
      "model-00002-of-00003.safetensors:   8%|▊         | 828M/9.90G [00:04<00:50, 178MB/s]\u001b[A\n",
      "model-00002-of-00003.safetensors:   9%|▊         | 849M/9.90G [00:04<00:52, 173MB/s]\u001b[A\n",
      "model-00002-of-00003.safetensors:   9%|▉         | 870M/9.90G [00:04<00:50, 180MB/s]\u001b[A\n",
      "model-00002-of-00003.safetensors:   9%|▉         | 902M/9.90G [00:05<00:44, 202MB/s]\u001b[A\n",
      "model-00002-of-00003.safetensors:   9%|▉         | 933M/9.90G [00:05<00:41, 218MB/s]\u001b[A\n",
      "model-00002-of-00003.safetensors:  10%|▉         | 965M/9.90G [00:05<00:41, 214MB/s]\u001b[A\n",
      "model-00002-of-00003.safetensors:  10%|█         | 996M/9.90G [00:05<00:41, 215MB/s]\u001b[A\n",
      "model-00002-of-00003.safetensors:  10%|█         | 1.03G/9.90G [00:05<00:44, 198MB/s]\u001b[A\n",
      "model-00002-of-00003.safetensors:  11%|█         | 1.05G/9.90G [00:05<00:46, 190MB/s]\u001b[A\n",
      "model-00002-of-00003.safetensors:  11%|█         | 1.07G/9.90G [00:05<00:47, 187MB/s]\u001b[A\n",
      "model-00002-of-00003.safetensors:  11%|█         | 1.09G/9.90G [00:06<00:47, 186MB/s]\u001b[A\n",
      "model-00002-of-00003.safetensors:  11%|█         | 1.11G/9.90G [00:06<00:48, 182MB/s]\u001b[A\n",
      "model-00002-of-00003.safetensors:  11%|█▏        | 1.13G/9.90G [00:06<00:50, 175MB/s]\u001b[A\n",
      "model-00002-of-00003.safetensors:  12%|█▏        | 1.15G/9.90G [00:06<00:49, 178MB/s]\u001b[A\n",
      "model-00002-of-00003.safetensors:  12%|█▏        | 1.18G/9.90G [00:06<00:45, 190MB/s]\u001b[A\n",
      "model-00002-of-00003.safetensors:  12%|█▏        | 1.22G/9.90G [00:06<00:44, 195MB/s]\u001b[A\n",
      "model-00002-of-00003.safetensors:  12%|█▏        | 1.24G/9.90G [00:06<00:43, 197MB/s]\u001b[A\n",
      "model-00002-of-00003.safetensors:  13%|█▎        | 1.27G/9.90G [00:06<00:41, 210MB/s]\u001b[A\n",
      "model-00002-of-00003.safetensors:  13%|█▎        | 1.30G/9.90G [00:07<00:39, 219MB/s]\u001b[A\n",
      "model-00002-of-00003.safetensors:  13%|█▎        | 1.33G/9.90G [00:07<00:39, 217MB/s]\u001b[A\n",
      "model-00002-of-00003.safetensors:  14%|█▍        | 1.36G/9.90G [00:07<00:41, 207MB/s]\u001b[A\n",
      "model-00002-of-00003.safetensors:  14%|█▍        | 1.38G/9.90G [00:07<00:42, 201MB/s]\u001b[A\n",
      "model-00002-of-00003.safetensors:  14%|█▍        | 1.42G/9.90G [00:07<00:38, 218MB/s]\u001b[A\n",
      "model-00002-of-00003.safetensors:  15%|█▍        | 1.45G/9.90G [00:07<00:38, 218MB/s]\u001b[A\n",
      "model-00002-of-00003.safetensors:  15%|█▍        | 1.48G/9.90G [00:07<00:40, 210MB/s]\u001b[A\n",
      "model-00002-of-00003.safetensors:  15%|█▌        | 1.51G/9.90G [00:08<01:16, 110MB/s]\u001b[A\n",
      "model-00002-of-00003.safetensors:  15%|█▌        | 1.53G/9.90G [00:09<01:46, 78.9MB/s]\u001b[A\n",
      "model-00002-of-00003.safetensors:  16%|█▌        | 1.55G/9.90G [00:09<02:01, 68.9MB/s]\u001b[A\n",
      "model-00002-of-00003.safetensors:  16%|█▌        | 1.56G/9.90G [00:09<02:10, 63.7MB/s]\u001b[A\n",
      "model-00002-of-00003.safetensors:  16%|█▌        | 1.57G/9.90G [00:09<02:21, 58.9MB/s]\u001b[A\n",
      "model-00002-of-00003.safetensors:  16%|█▌        | 1.58G/9.90G [00:10<02:19, 59.5MB/s]\u001b[A\n",
      "model-00002-of-00003.safetensors:  16%|█▌        | 1.59G/9.90G [00:10<02:20, 59.2MB/s]\u001b[A\n",
      "model-00002-of-00003.safetensors:  16%|█▌        | 1.60G/9.90G [00:10<02:44, 50.5MB/s]\u001b[A\n",
      "model-00002-of-00003.safetensors:  16%|█▋        | 1.61G/9.90G [00:10<02:49, 48.8MB/s]\u001b[A\n",
      "model-00002-of-00003.safetensors:  16%|█▋        | 1.63G/9.90G [00:11<02:44, 50.3MB/s]\u001b[A\n",
      "model-00002-of-00003.safetensors:  17%|█▋        | 1.66G/9.90G [00:11<01:34, 87.6MB/s]\u001b[A\n",
      "model-00002-of-00003.safetensors:  17%|█▋        | 1.69G/9.90G [00:11<01:09, 119MB/s] \u001b[A\n",
      "model-00002-of-00003.safetensors:  17%|█▋        | 1.71G/9.90G [00:11<01:06, 123MB/s]\u001b[A\n",
      "model-00002-of-00003.safetensors:  17%|█▋        | 1.73G/9.90G [00:11<01:01, 134MB/s]\u001b[A\n",
      "model-00002-of-00003.safetensors:  18%|█▊        | 1.76G/9.90G [00:11<00:52, 156MB/s]\u001b[A\n",
      "model-00002-of-00003.safetensors:  18%|█▊        | 1.78G/9.90G [00:11<00:51, 157MB/s]\u001b[A\n",
      "model-00002-of-00003.safetensors:  18%|█▊        | 1.81G/9.90G [00:12<00:45, 177MB/s]\u001b[A\n",
      "model-00002-of-00003.safetensors:  19%|█▊        | 1.85G/9.90G [00:12<00:42, 188MB/s]\u001b[A\n",
      "model-00002-of-00003.safetensors:  19%|█▉        | 1.88G/9.90G [00:12<00:40, 196MB/s]\u001b[A\n",
      "model-00002-of-00003.safetensors:  19%|█▉        | 1.90G/9.90G [00:12<00:40, 199MB/s]\u001b[A\n",
      "model-00002-of-00003.safetensors:  19%|█▉        | 1.93G/9.90G [00:12<00:38, 209MB/s]\u001b[A\n",
      "model-00002-of-00003.safetensors:  20%|█▉        | 1.96G/9.90G [00:12<00:37, 214MB/s]\u001b[A\n",
      "model-00002-of-00003.safetensors:  20%|██        | 1.99G/9.90G [00:12<00:39, 199MB/s]\u001b[A\n",
      "model-00002-of-00003.safetensors:  20%|██        | 2.01G/9.90G [00:12<00:40, 194MB/s]\u001b[A\n",
      "model-00002-of-00003.safetensors:  21%|██        | 2.03G/9.90G [00:13<00:54, 146MB/s]\u001b[A\n",
      "model-00002-of-00003.safetensors:  21%|██        | 2.07G/9.90G [00:13<00:49, 160MB/s]\u001b[A\n",
      "model-00002-of-00003.safetensors:  21%|██        | 2.09G/9.90G [00:13<00:46, 167MB/s]\u001b[A\n",
      "model-00002-of-00003.safetensors:  21%|██▏       | 2.11G/9.90G [00:13<00:44, 175MB/s]\u001b[A\n",
      "model-00002-of-00003.safetensors:  21%|██▏       | 2.13G/9.90G [00:13<00:42, 182MB/s]\u001b[A\n",
      "model-00002-of-00003.safetensors:  22%|██▏       | 2.15G/9.90G [00:13<00:42, 184MB/s]\u001b[A\n",
      "model-00002-of-00003.safetensors:  22%|██▏       | 2.18G/9.90G [00:13<00:38, 203MB/s]\u001b[A\n",
      "model-00002-of-00003.safetensors:  22%|██▏       | 2.20G/9.90G [00:14<00:41, 185MB/s]\u001b[A\n",
      "model-00002-of-00003.safetensors:  22%|██▏       | 2.22G/9.90G [00:14<01:00, 128MB/s]\u001b[A\n",
      "model-00002-of-00003.safetensors:  23%|██▎       | 2.25G/9.90G [00:14<00:51, 149MB/s]\u001b[A\n",
      "model-00002-of-00003.safetensors:  23%|██▎       | 2.29G/9.90G [00:14<00:47, 162MB/s]\u001b[A\n",
      "model-00002-of-00003.safetensors:  23%|██▎       | 2.31G/9.90G [00:14<00:44, 170MB/s]\u001b[A\n",
      "model-00002-of-00003.safetensors:  24%|██▎       | 2.33G/9.90G [00:14<00:46, 161MB/s]\u001b[A\n",
      "model-00002-of-00003.safetensors:  24%|██▎       | 2.35G/9.90G [00:15<00:46, 163MB/s]\u001b[A\n",
      "model-00002-of-00003.safetensors:  24%|██▍       | 2.37G/9.90G [00:15<00:54, 139MB/s]\u001b[A\n",
      "model-00002-of-00003.safetensors:  24%|██▍       | 2.39G/9.90G [00:15<00:58, 128MB/s]\u001b[A\n",
      "model-00002-of-00003.safetensors:  24%|██▍       | 2.41G/9.90G [00:15<01:02, 120MB/s]\u001b[A\n",
      "model-00002-of-00003.safetensors:  25%|██▍       | 2.43G/9.90G [00:15<01:01, 121MB/s]\u001b[A\n",
      "model-00002-of-00003.safetensors:  25%|██▍       | 2.45G/9.90G [00:15<00:57, 130MB/s]\u001b[A\n",
      "model-00002-of-00003.safetensors:  25%|██▌       | 2.49G/9.90G [00:16<00:45, 164MB/s]\u001b[A\n",
      "model-00002-of-00003.safetensors:  25%|██▌       | 2.52G/9.90G [00:16<00:41, 177MB/s]\u001b[A\n",
      "model-00002-of-00003.safetensors:  26%|██▌       | 2.54G/9.90G [00:16<00:43, 171MB/s]\u001b[A\n",
      "model-00002-of-00003.safetensors:  26%|██▌       | 2.57G/9.90G [00:16<00:39, 184MB/s]\u001b[A\n",
      "model-00002-of-00003.safetensors:  26%|██▌       | 2.59G/9.90G [00:16<00:38, 188MB/s]\u001b[A\n",
      "model-00002-of-00003.safetensors:  26%|██▋       | 2.62G/9.90G [00:16<00:35, 203MB/s]\u001b[A\n",
      "model-00002-of-00003.safetensors:  27%|██▋       | 2.64G/9.90G [00:16<00:35, 202MB/s]\u001b[A\n",
      "model-00002-of-00003.safetensors:  27%|██▋       | 2.66G/9.90G [00:17<00:38, 189MB/s]\u001b[A\n",
      "model-00002-of-00003.safetensors:  27%|██▋       | 2.68G/9.90G [00:17<00:39, 181MB/s]\u001b[A\n",
      "model-00002-of-00003.safetensors:  27%|██▋       | 2.71G/9.90G [00:17<00:38, 185MB/s]\u001b[A\n",
      "model-00002-of-00003.safetensors:  28%|██▊       | 2.74G/9.90G [00:17<00:36, 195MB/s]\u001b[A\n",
      "model-00002-of-00003.safetensors:  28%|██▊       | 2.76G/9.90G [00:17<00:36, 196MB/s]\u001b[A\n",
      "model-00002-of-00003.safetensors:  28%|██▊       | 2.78G/9.90G [00:17<00:36, 194MB/s]\u001b[A\n",
      "model-00002-of-00003.safetensors:  28%|██▊       | 2.80G/9.90G [00:17<00:39, 178MB/s]\u001b[A\n",
      "model-00002-of-00003.safetensors:  28%|██▊       | 2.82G/9.90G [00:17<00:40, 173MB/s]\u001b[A\n",
      "model-00002-of-00003.safetensors:  29%|██▊       | 2.84G/9.90G [00:17<00:39, 178MB/s]\u001b[A\n",
      "model-00002-of-00003.safetensors:  29%|██▉       | 2.86G/9.90G [00:18<00:41, 171MB/s]\u001b[A\n",
      "model-00002-of-00003.safetensors:  29%|██▉       | 2.88G/9.90G [00:18<00:38, 180MB/s]\u001b[A\n",
      "model-00002-of-00003.safetensors:  29%|██▉       | 2.92G/9.90G [00:18<00:35, 197MB/s]\u001b[A\n",
      "model-00002-of-00003.safetensors:  30%|██▉       | 2.95G/9.90G [00:18<00:35, 196MB/s]\u001b[A\n",
      "model-00002-of-00003.safetensors:  30%|██▉       | 2.97G/9.90G [00:18<00:37, 187MB/s]\u001b[A\n",
      "model-00002-of-00003.safetensors:  30%|███       | 2.99G/9.90G [00:18<00:37, 186MB/s]\u001b[A\n",
      "model-00002-of-00003.safetensors:  30%|███       | 3.02G/9.90G [00:18<00:35, 196MB/s]\u001b[A\n",
      "model-00002-of-00003.safetensors:  31%|███       | 3.04G/9.90G [00:19<00:37, 183MB/s]\u001b[A\n",
      "model-00002-of-00003.safetensors:  31%|███       | 3.07G/9.90G [00:19<00:34, 200MB/s]\u001b[A\n",
      "model-00002-of-00003.safetensors:  31%|███       | 3.09G/9.90G [00:19<00:34, 199MB/s]\u001b[A\n",
      "model-00002-of-00003.safetensors:  31%|███▏      | 3.11G/9.90G [00:19<00:33, 200MB/s]\u001b[A\n",
      "model-00002-of-00003.safetensors:  32%|███▏      | 3.14G/9.90G [00:19<00:33, 201MB/s]\u001b[A\n",
      "model-00002-of-00003.safetensors:  32%|███▏      | 3.16G/9.90G [00:19<00:33, 203MB/s]\u001b[A\n",
      "model-00002-of-00003.safetensors:  32%|███▏      | 3.19G/9.90G [00:19<00:33, 202MB/s]\u001b[A\n",
      "model-00002-of-00003.safetensors:  33%|███▎      | 3.22G/9.90G [00:19<00:33, 198MB/s]\u001b[A\n",
      "model-00002-of-00003.safetensors:  33%|███▎      | 3.24G/9.90G [00:20<00:33, 199MB/s]\u001b[A\n",
      "model-00002-of-00003.safetensors:  33%|███▎      | 3.27G/9.90G [00:20<00:31, 214MB/s]\u001b[A\n",
      "model-00002-of-00003.safetensors:  33%|███▎      | 3.30G/9.90G [00:20<00:29, 222MB/s]\u001b[A\n",
      "model-00002-of-00003.safetensors:  34%|███▎      | 3.33G/9.90G [00:20<00:29, 226MB/s]\u001b[A\n",
      "model-00002-of-00003.safetensors:  34%|███▍      | 3.37G/9.90G [00:20<00:28, 231MB/s]\u001b[A\n",
      "model-00002-of-00003.safetensors:  34%|███▍      | 3.40G/9.90G [00:20<00:28, 231MB/s]\u001b[A\n",
      "model-00002-of-00003.safetensors:  35%|███▍      | 3.43G/9.90G [00:20<00:39, 163MB/s]\u001b[A\n",
      "model-00002-of-00003.safetensors:  35%|███▍      | 3.46G/9.90G [00:21<00:35, 182MB/s]\u001b[A\n",
      "model-00002-of-00003.safetensors:  35%|███▌      | 3.48G/9.90G [00:21<00:39, 165MB/s]\u001b[A\n",
      "model-00002-of-00003.safetensors:  35%|███▌      | 3.50G/9.90G [00:21<00:49, 129MB/s]\u001b[A\n",
      "model-00002-of-00003.safetensors:  36%|███▌      | 3.52G/9.90G [00:21<00:56, 113MB/s]\u001b[A\n",
      "model-00002-of-00003.safetensors:  36%|███▌      | 3.54G/9.90G [00:21<00:50, 125MB/s]\u001b[A\n",
      "model-00002-of-00003.safetensors:  36%|███▌      | 3.57G/9.90G [00:22<00:49, 128MB/s]\u001b[A\n",
      "model-00002-of-00003.safetensors:  36%|███▌      | 3.59G/9.90G [00:22<00:45, 139MB/s]\u001b[A\n",
      "model-00002-of-00003.safetensors:  37%|███▋      | 3.62G/9.90G [00:22<00:42, 149MB/s]\u001b[A\n",
      "model-00002-of-00003.safetensors:  37%|███▋      | 3.65G/9.90G [00:22<00:37, 167MB/s]\u001b[A\n",
      "model-00002-of-00003.safetensors:  37%|███▋      | 3.67G/9.90G [00:22<00:36, 172MB/s]\u001b[A\n",
      "model-00002-of-00003.safetensors:  37%|███▋      | 3.69G/9.90G [00:22<00:40, 154MB/s]\u001b[A\n",
      "model-00002-of-00003.safetensors:  38%|███▊      | 3.72G/9.90G [00:22<00:35, 173MB/s]\u001b[A\n",
      "model-00002-of-00003.safetensors:  38%|███▊      | 3.74G/9.90G [00:23<00:42, 144MB/s]\u001b[A\n",
      "model-00002-of-00003.safetensors:  38%|███▊      | 3.76G/9.90G [00:23<00:43, 140MB/s]\u001b[A\n",
      "model-00002-of-00003.safetensors:  38%|███▊      | 3.79G/9.90G [00:23<00:43, 141MB/s]\u001b[A\n",
      "model-00002-of-00003.safetensors:  39%|███▊      | 3.82G/9.90G [00:23<00:35, 170MB/s]\u001b[A\n",
      "model-00002-of-00003.safetensors:  39%|███▊      | 3.84G/9.90G [00:23<00:34, 175MB/s]\u001b[A\n",
      "model-00002-of-00003.safetensors:  39%|███▉      | 3.87G/9.90G [00:23<00:32, 187MB/s]\u001b[A\n",
      "model-00002-of-00003.safetensors:  39%|███▉      | 3.89G/9.90G [00:24<00:35, 169MB/s]\u001b[A\n",
      "model-00002-of-00003.safetensors:  39%|███▉      | 3.91G/9.90G [00:24<00:35, 170MB/s]\u001b[A\n",
      "model-00002-of-00003.safetensors:  40%|███▉      | 3.93G/9.90G [00:24<00:43, 136MB/s]\u001b[A\n",
      "model-00002-of-00003.safetensors:  40%|███▉      | 3.95G/9.90G [00:24<00:55, 107MB/s]\u001b[A\n",
      "model-00002-of-00003.safetensors:  40%|████      | 3.98G/9.90G [00:24<00:43, 135MB/s]\u001b[A\n",
      "model-00002-of-00003.safetensors:  40%|████      | 4.01G/9.90G [00:25<00:57, 102MB/s]\u001b[A\n",
      "model-00002-of-00003.safetensors:  41%|████      | 4.03G/9.90G [00:25<00:56, 104MB/s]\u001b[A\n",
      "model-00002-of-00003.safetensors:  41%|████      | 4.05G/9.90G [00:25<01:00, 96.8MB/s]\u001b[A\n",
      "model-00002-of-00003.safetensors:  41%|████      | 4.07G/9.90G [00:25<01:01, 94.4MB/s]\u001b[A\n",
      "model-00002-of-00003.safetensors:  41%|████      | 4.08G/9.90G [00:26<01:09, 83.3MB/s]\u001b[A\n",
      "model-00002-of-00003.safetensors:  41%|████▏     | 4.09G/9.90G [00:26<01:15, 77.5MB/s]\u001b[A\n",
      "model-00002-of-00003.safetensors:  41%|████▏     | 4.10G/9.90G [00:26<01:17, 74.4MB/s]\u001b[A\n",
      "model-00002-of-00003.safetensors:  42%|████▏     | 4.12G/9.90G [00:26<00:58, 98.2MB/s]\u001b[A\n",
      "model-00002-of-00003.safetensors:  42%|████▏     | 4.15G/9.90G [00:26<00:43, 132MB/s] \u001b[A\n",
      "model-00002-of-00003.safetensors:  42%|████▏     | 4.17G/9.90G [00:26<00:40, 142MB/s]\u001b[A\n",
      "model-00002-of-00003.safetensors:  42%|████▏     | 4.19G/9.90G [00:26<00:36, 157MB/s]\u001b[A\n",
      "model-00002-of-00003.safetensors:  43%|████▎     | 4.23G/9.90G [00:26<00:30, 188MB/s]\u001b[A\n",
      "model-00002-of-00003.safetensors:  43%|████▎     | 4.26G/9.90G [00:27<00:27, 205MB/s]\u001b[A\n",
      "model-00002-of-00003.safetensors:  43%|████▎     | 4.29G/9.90G [00:27<00:26, 209MB/s]\u001b[A\n",
      "model-00002-of-00003.safetensors:  44%|████▎     | 4.32G/9.90G [00:27<00:26, 211MB/s]\u001b[A\n",
      "model-00002-of-00003.safetensors:  44%|████▍     | 4.35G/9.90G [00:27<00:26, 208MB/s]\u001b[A\n",
      "model-00002-of-00003.safetensors:  44%|████▍     | 4.38G/9.90G [00:27<00:27, 200MB/s]\u001b[A\n",
      "model-00002-of-00003.safetensors:  44%|████▍     | 4.40G/9.90G [00:27<00:28, 190MB/s]\u001b[A\n",
      "model-00002-of-00003.safetensors:  45%|████▍     | 4.44G/9.90G [00:27<00:27, 198MB/s]\u001b[A\n",
      "model-00002-of-00003.safetensors:  45%|████▍     | 4.46G/9.90G [00:28<00:28, 188MB/s]\u001b[A\n",
      "model-00002-of-00003.safetensors:  45%|████▌     | 4.48G/9.90G [00:28<00:30, 177MB/s]\u001b[A\n",
      "model-00002-of-00003.safetensors:  45%|████▌     | 4.50G/9.90G [00:28<00:32, 167MB/s]\u001b[A\n",
      "model-00002-of-00003.safetensors:  46%|████▌     | 4.53G/9.90G [00:28<00:28, 185MB/s]\u001b[A\n",
      "model-00002-of-00003.safetensors:  46%|████▌     | 4.56G/9.90G [00:28<00:27, 196MB/s]\u001b[A\n",
      "model-00002-of-00003.safetensors:  46%|████▋     | 4.59G/9.90G [00:28<00:24, 214MB/s]\u001b[A\n",
      "model-00002-of-00003.safetensors:  47%|████▋     | 4.62G/9.90G [00:28<00:24, 215MB/s]\u001b[A\n",
      "model-00002-of-00003.safetensors:  47%|████▋     | 4.66G/9.90G [00:29<00:22, 230MB/s]\u001b[A\n",
      "model-00002-of-00003.safetensors:  47%|████▋     | 4.69G/9.90G [00:29<00:22, 235MB/s]\u001b[A\n",
      "model-00002-of-00003.safetensors:  48%|████▊     | 4.72G/9.90G [00:29<00:21, 236MB/s]\u001b[A\n",
      "model-00002-of-00003.safetensors:  48%|████▊     | 4.75G/9.90G [00:29<00:23, 216MB/s]\u001b[A\n",
      "model-00002-of-00003.safetensors:  48%|████▊     | 4.78G/9.90G [00:29<00:22, 228MB/s]\u001b[A\n",
      "model-00002-of-00003.safetensors:  49%|████▊     | 4.81G/9.90G [00:29<00:22, 231MB/s]\u001b[A\n",
      "model-00002-of-00003.safetensors:  49%|████▉     | 4.84G/9.90G [00:29<00:20, 242MB/s]\u001b[A\n",
      "model-00002-of-00003.safetensors:  49%|████▉     | 4.88G/9.90G [00:29<00:21, 235MB/s]\u001b[A\n",
      "model-00002-of-00003.safetensors:  50%|████▉     | 4.91G/9.90G [00:30<00:25, 194MB/s]\u001b[A\n",
      "model-00002-of-00003.safetensors:  50%|████▉     | 4.94G/9.90G [00:30<00:25, 191MB/s]\u001b[A\n",
      "model-00002-of-00003.safetensors:  50%|█████     | 4.96G/9.90G [00:30<00:27, 181MB/s]\u001b[A\n",
      "model-00002-of-00003.safetensors:  50%|█████     | 4.98G/9.90G [00:30<00:27, 179MB/s]\u001b[A\n",
      "model-00002-of-00003.safetensors:  51%|█████     | 5.01G/9.90G [00:30<00:24, 197MB/s]\u001b[A\n",
      "model-00002-of-00003.safetensors:  51%|█████     | 5.03G/9.90G [00:30<00:27, 179MB/s]\u001b[A\n",
      "model-00002-of-00003.safetensors:  51%|█████     | 5.06G/9.90G [00:31<00:23, 209MB/s]\u001b[A\n",
      "model-00002-of-00003.safetensors:  51%|█████▏    | 5.10G/9.90G [00:31<00:24, 200MB/s]\u001b[A\n",
      "model-00002-of-00003.safetensors:  52%|█████▏    | 5.13G/9.90G [00:31<00:23, 208MB/s]\u001b[A\n",
      "model-00002-of-00003.safetensors:  52%|█████▏    | 5.16G/9.90G [00:31<00:21, 219MB/s]\u001b[A\n",
      "model-00002-of-00003.safetensors:  52%|█████▏    | 5.19G/9.90G [00:31<00:22, 208MB/s]\u001b[A\n",
      "model-00002-of-00003.safetensors:  53%|█████▎    | 5.22G/9.90G [00:31<00:21, 214MB/s]\u001b[A\n",
      "model-00002-of-00003.safetensors:  53%|█████▎    | 5.25G/9.90G [00:31<00:19, 234MB/s]\u001b[A\n",
      "model-00002-of-00003.safetensors:  53%|█████▎    | 5.28G/9.90G [00:32<00:19, 232MB/s]\u001b[A\n",
      "model-00002-of-00003.safetensors:  54%|█████▎    | 5.32G/9.90G [00:32<00:18, 249MB/s]\u001b[A\n",
      "model-00002-of-00003.safetensors:  54%|█████▍    | 5.35G/9.90G [00:32<00:18, 246MB/s]\u001b[A\n",
      "model-00002-of-00003.safetensors:  54%|█████▍    | 5.38G/9.90G [00:32<00:19, 231MB/s]\u001b[A\n",
      "model-00002-of-00003.safetensors:  55%|█████▍    | 5.41G/9.90G [00:32<00:19, 236MB/s]\u001b[A\n",
      "model-00002-of-00003.safetensors:  55%|█████▍    | 5.44G/9.90G [00:32<00:19, 234MB/s]\u001b[A\n",
      "model-00002-of-00003.safetensors:  55%|█████▌    | 5.47G/9.90G [00:32<00:20, 215MB/s]\u001b[A\n",
      "model-00002-of-00003.safetensors:  56%|█████▌    | 5.51G/9.90G [00:32<00:19, 226MB/s]\u001b[A\n",
      "model-00002-of-00003.safetensors:  56%|█████▌    | 5.54G/9.90G [00:33<00:20, 217MB/s]\u001b[A\n",
      "model-00002-of-00003.safetensors:  56%|█████▌    | 5.57G/9.90G [00:33<00:21, 199MB/s]\u001b[A\n",
      "model-00002-of-00003.safetensors:  56%|█████▋    | 5.59G/9.90G [00:33<00:26, 162MB/s]\u001b[A\n",
      "model-00002-of-00003.safetensors:  57%|█████▋    | 5.61G/9.90G [00:33<00:28, 151MB/s]\u001b[A\n",
      "model-00002-of-00003.safetensors:  57%|█████▋    | 5.64G/9.90G [00:33<00:24, 171MB/s]\u001b[A\n",
      "model-00002-of-00003.safetensors:  57%|█████▋    | 5.66G/9.90G [00:33<00:23, 178MB/s]\u001b[A\n",
      "model-00002-of-00003.safetensors:  57%|█████▋    | 5.69G/9.90G [00:34<00:21, 200MB/s]\u001b[A\n",
      "model-00002-of-00003.safetensors:  58%|█████▊    | 5.73G/9.90G [00:34<00:19, 211MB/s]\u001b[A\n",
      "model-00002-of-00003.safetensors:  58%|█████▊    | 5.76G/9.90G [00:34<00:20, 199MB/s]\u001b[A\n",
      "model-00002-of-00003.safetensors:  58%|█████▊    | 5.79G/9.90G [00:34<00:20, 202MB/s]\u001b[A\n",
      "model-00002-of-00003.safetensors:  59%|█████▉    | 5.82G/9.90G [00:34<00:18, 223MB/s]\u001b[A\n",
      "model-00002-of-00003.safetensors:  59%|█████▉    | 5.85G/9.90G [00:34<00:17, 235MB/s]\u001b[A\n",
      "model-00002-of-00003.safetensors:  59%|█████▉    | 5.88G/9.90G [00:34<00:17, 235MB/s]\u001b[A\n",
      "model-00002-of-00003.safetensors:  60%|█████▉    | 5.91G/9.90G [00:35<00:17, 233MB/s]\u001b[A\n",
      "model-00002-of-00003.safetensors:  60%|██████    | 5.95G/9.90G [00:35<00:15, 250MB/s]\u001b[A\n",
      "model-00002-of-00003.safetensors:  60%|██████    | 5.98G/9.90G [00:35<00:16, 237MB/s]\u001b[A\n",
      "model-00002-of-00003.safetensors:  61%|██████    | 6.01G/9.90G [00:35<00:16, 231MB/s]\u001b[A\n",
      "model-00002-of-00003.safetensors:  61%|██████    | 6.04G/9.90G [00:35<00:16, 230MB/s]\u001b[A\n",
      "model-00002-of-00003.safetensors:  61%|██████▏   | 6.07G/9.90G [00:35<00:17, 222MB/s]\u001b[A\n",
      "model-00002-of-00003.safetensors:  62%|██████▏   | 6.10G/9.90G [00:35<00:17, 218MB/s]\u001b[A\n",
      "model-00002-of-00003.safetensors:  62%|██████▏   | 6.13G/9.90G [00:36<00:17, 211MB/s]\u001b[A\n",
      "model-00002-of-00003.safetensors:  62%|██████▏   | 6.17G/9.90G [00:36<00:17, 217MB/s]\u001b[A\n",
      "model-00002-of-00003.safetensors:  63%|██████▎   | 6.20G/9.90G [00:36<00:17, 212MB/s]\u001b[A\n",
      "model-00002-of-00003.safetensors:  63%|██████▎   | 6.23G/9.90G [00:36<00:16, 219MB/s]\u001b[A\n",
      "model-00002-of-00003.safetensors:  63%|██████▎   | 6.26G/9.90G [00:36<00:17, 208MB/s]\u001b[A\n",
      "model-00002-of-00003.safetensors:  64%|██████▎   | 6.29G/9.90G [00:36<00:21, 164MB/s]\u001b[A\n",
      "model-00002-of-00003.safetensors:  64%|██████▍   | 6.32G/9.90G [00:37<00:20, 178MB/s]\u001b[A\n",
      "model-00002-of-00003.safetensors:  64%|██████▍   | 6.34G/9.90G [00:37<00:19, 183MB/s]\u001b[A\n",
      "model-00002-of-00003.safetensors:  64%|██████▍   | 6.36G/9.90G [00:37<00:19, 184MB/s]\u001b[A\n",
      "model-00002-of-00003.safetensors:  64%|██████▍   | 6.39G/9.90G [00:37<00:25, 136MB/s]\u001b[A\n",
      "model-00002-of-00003.safetensors:  65%|██████▍   | 6.41G/9.90G [00:37<00:28, 124MB/s]\u001b[A\n",
      "model-00002-of-00003.safetensors:  65%|██████▍   | 6.43G/9.90G [00:37<00:25, 139MB/s]\u001b[A\n",
      "model-00002-of-00003.safetensors:  65%|██████▌   | 6.45G/9.90G [00:38<00:26, 132MB/s]\u001b[A\n",
      "model-00002-of-00003.safetensors:  65%|██████▌   | 6.47G/9.90G [00:38<00:23, 148MB/s]\u001b[A\n",
      "model-00002-of-00003.safetensors:  66%|██████▌   | 6.49G/9.90G [00:38<00:21, 158MB/s]\u001b[A\n",
      "model-00002-of-00003.safetensors:  66%|██████▌   | 6.51G/9.90G [00:38<00:20, 165MB/s]\u001b[A\n",
      "model-00002-of-00003.safetensors:  66%|██████▌   | 6.53G/9.90G [00:38<00:25, 133MB/s]\u001b[A\n",
      "model-00002-of-00003.safetensors:  66%|██████▋   | 6.56G/9.90G [00:38<00:20, 165MB/s]\u001b[A\n",
      "model-00002-of-00003.safetensors:  67%|██████▋   | 6.60G/9.90G [00:38<00:17, 188MB/s]\u001b[A\n",
      "model-00002-of-00003.safetensors:  67%|██████▋   | 6.63G/9.90G [00:38<00:15, 207MB/s]\u001b[A\n",
      "model-00002-of-00003.safetensors:  67%|██████▋   | 6.66G/9.90G [00:39<00:27, 120MB/s]\u001b[A\n",
      "model-00002-of-00003.safetensors:  68%|██████▊   | 6.69G/9.90G [00:39<00:22, 145MB/s]\u001b[A\n",
      "model-00002-of-00003.safetensors:  68%|██████▊   | 6.72G/9.90G [00:39<00:19, 160MB/s]\u001b[A\n",
      "model-00002-of-00003.safetensors:  68%|██████▊   | 6.74G/9.90G [00:39<00:21, 148MB/s]\u001b[A\n",
      "model-00002-of-00003.safetensors:  68%|██████▊   | 6.76G/9.90G [00:39<00:20, 157MB/s]\u001b[A\n",
      "model-00002-of-00003.safetensors:  68%|██████▊   | 6.78G/9.90G [00:40<00:19, 164MB/s]\u001b[A\n",
      "model-00002-of-00003.safetensors:  69%|██████▉   | 6.82G/9.90G [00:40<00:17, 177MB/s]\u001b[A\n",
      "model-00002-of-00003.safetensors:  69%|██████▉   | 6.84G/9.90G [00:40<00:17, 176MB/s]\u001b[A\n",
      "model-00002-of-00003.safetensors:  69%|██████▉   | 6.86G/9.90G [00:40<00:16, 182MB/s]\u001b[A\n",
      "model-00002-of-00003.safetensors:  70%|██████▉   | 6.89G/9.90G [00:40<00:17, 171MB/s]\u001b[A\n",
      "model-00002-of-00003.safetensors:  70%|██████▉   | 6.91G/9.90G [00:41<00:28, 104MB/s]\u001b[A\n",
      "model-00002-of-00003.safetensors:  70%|██████▉   | 6.93G/9.90G [00:41<00:28, 104MB/s]\u001b[A\n",
      "model-00002-of-00003.safetensors:  70%|███████   | 6.95G/9.90G [00:41<00:29, 101MB/s]\u001b[A\n",
      "model-00002-of-00003.safetensors:  70%|███████   | 6.97G/9.90G [00:41<00:28, 101MB/s]\u001b[A\n",
      "model-00002-of-00003.safetensors:  71%|███████   | 6.99G/9.90G [00:42<00:33, 86.1MB/s]\u001b[A\n",
      "model-00002-of-00003.safetensors:  71%|███████   | 7.01G/9.90G [00:42<00:28, 101MB/s] \u001b[A\n",
      "model-00002-of-00003.safetensors:  71%|███████   | 7.04G/9.90G [00:42<00:29, 96.0MB/s]\u001b[A\n",
      "model-00002-of-00003.safetensors:  71%|███████▏  | 7.06G/9.90G [00:42<00:36, 77.1MB/s]\u001b[A\n",
      "model-00002-of-00003.safetensors:  71%|███████▏  | 7.08G/9.90G [00:42<00:30, 93.1MB/s]\u001b[A\n",
      "model-00002-of-00003.safetensors:  72%|███████▏  | 7.10G/9.90G [00:43<00:26, 106MB/s] \u001b[A\n",
      "model-00002-of-00003.safetensors:  72%|███████▏  | 7.12G/9.90G [00:43<00:23, 120MB/s]\u001b[A\n",
      "model-00002-of-00003.safetensors:  72%|███████▏  | 7.15G/9.90G [00:43<00:18, 148MB/s]\u001b[A\n",
      "model-00002-of-00003.safetensors:  73%|███████▎  | 7.18G/9.90G [00:43<00:15, 177MB/s]\u001b[A\n",
      "model-00002-of-00003.safetensors:  73%|███████▎  | 7.21G/9.90G [00:43<00:13, 198MB/s]\u001b[A\n",
      "model-00002-of-00003.safetensors:  73%|███████▎  | 7.25G/9.90G [00:43<00:15, 168MB/s]\u001b[A\n",
      "model-00002-of-00003.safetensors:  73%|███████▎  | 7.27G/9.90G [00:43<00:15, 166MB/s]\u001b[A\n",
      "model-00002-of-00003.safetensors:  74%|███████▎  | 7.29G/9.90G [00:44<00:15, 174MB/s]\u001b[A\n",
      "model-00002-of-00003.safetensors:  74%|███████▍  | 7.31G/9.90G [00:44<00:14, 177MB/s]\u001b[A\n",
      "model-00002-of-00003.safetensors:  74%|███████▍  | 7.34G/9.90G [00:44<00:13, 195MB/s]\u001b[A\n",
      "model-00002-of-00003.safetensors:  74%|███████▍  | 7.36G/9.90G [00:44<00:13, 190MB/s]\u001b[A\n",
      "model-00002-of-00003.safetensors:  75%|███████▍  | 7.38G/9.90G [00:44<00:12, 194MB/s]\u001b[A\n",
      "model-00002-of-00003.safetensors:  75%|███████▍  | 7.40G/9.90G [00:44<00:12, 194MB/s]\u001b[A\n",
      "model-00002-of-00003.safetensors:  75%|███████▍  | 7.42G/9.90G [00:44<00:13, 181MB/s]\u001b[A\n",
      "model-00002-of-00003.safetensors:  75%|███████▌  | 7.44G/9.90G [00:44<00:14, 175MB/s]\u001b[A\n",
      "model-00002-of-00003.safetensors:  75%|███████▌  | 7.48G/9.90G [00:45<00:12, 193MB/s]\u001b[A\n",
      "model-00002-of-00003.safetensors:  76%|███████▌  | 7.50G/9.90G [00:45<00:12, 196MB/s]\u001b[A\n",
      "model-00002-of-00003.safetensors:  76%|███████▌  | 7.53G/9.90G [00:45<00:11, 208MB/s]\u001b[A\n",
      "model-00002-of-00003.safetensors:  76%|███████▋  | 7.56G/9.90G [00:45<00:10, 218MB/s]\u001b[A\n",
      "model-00002-of-00003.safetensors:  77%|███████▋  | 7.59G/9.90G [00:45<00:10, 220MB/s]\u001b[A\n",
      "model-00002-of-00003.safetensors:  77%|███████▋  | 7.62G/9.90G [00:45<00:10, 220MB/s]\u001b[A\n",
      "model-00002-of-00003.safetensors:  77%|███████▋  | 7.65G/9.90G [00:45<00:11, 197MB/s]\u001b[A\n",
      "model-00002-of-00003.safetensors:  77%|███████▋  | 7.68G/9.90G [00:46<00:11, 192MB/s]\u001b[A\n",
      "model-00002-of-00003.safetensors:  78%|███████▊  | 7.70G/9.90G [00:46<00:14, 155MB/s]\u001b[A\n",
      "model-00002-of-00003.safetensors:  78%|███████▊  | 7.73G/9.90G [00:46<00:12, 180MB/s]\u001b[A\n",
      "model-00002-of-00003.safetensors:  78%|███████▊  | 7.76G/9.90G [00:46<00:10, 203MB/s]\u001b[A\n",
      "model-00002-of-00003.safetensors:  79%|███████▊  | 7.79G/9.90G [00:46<00:10, 205MB/s]\u001b[A\n",
      "model-00002-of-00003.safetensors:  79%|███████▉  | 7.82G/9.90G [00:46<00:09, 213MB/s]\u001b[A\n",
      "model-00002-of-00003.safetensors:  79%|███████▉  | 7.85G/9.90G [00:46<00:09, 210MB/s]\u001b[A\n",
      "model-00002-of-00003.safetensors:  80%|███████▉  | 7.89G/9.90G [00:47<00:09, 223MB/s]\u001b[A\n",
      "model-00002-of-00003.safetensors:  80%|███████▉  | 7.92G/9.90G [00:47<00:08, 226MB/s]\u001b[A\n",
      "model-00002-of-00003.safetensors:  80%|████████  | 7.95G/9.90G [00:47<00:08, 243MB/s]\u001b[A\n",
      "model-00002-of-00003.safetensors:  81%|████████  | 7.98G/9.90G [00:47<00:08, 232MB/s]\u001b[A\n",
      "model-00002-of-00003.safetensors:  81%|████████  | 8.01G/9.90G [00:47<00:09, 194MB/s]\u001b[A\n",
      "model-00002-of-00003.safetensors:  81%|████████  | 8.03G/9.90G [00:47<00:09, 188MB/s]\u001b[A\n",
      "model-00002-of-00003.safetensors:  81%|████████▏ | 8.05G/9.90G [00:47<00:10, 176MB/s]\u001b[A\n",
      "model-00002-of-00003.safetensors:  82%|████████▏ | 8.07G/9.90G [00:48<00:10, 181MB/s]\u001b[A\n",
      "model-00002-of-00003.safetensors:  82%|████████▏ | 8.10G/9.90G [00:48<00:10, 169MB/s]\u001b[A\n",
      "model-00002-of-00003.safetensors:  82%|████████▏ | 8.12G/9.90G [00:48<00:10, 168MB/s]\u001b[A\n",
      "model-00002-of-00003.safetensors:  82%|████████▏ | 8.14G/9.90G [00:48<00:10, 162MB/s]\u001b[A\n",
      "model-00002-of-00003.safetensors:  82%|████████▏ | 8.16G/9.90G [00:48<00:11, 150MB/s]\u001b[A\n",
      "model-00002-of-00003.safetensors:  83%|████████▎ | 8.18G/9.90G [00:48<00:11, 149MB/s]\u001b[A\n",
      "model-00002-of-00003.safetensors:  83%|████████▎ | 8.20G/9.90G [00:48<00:11, 149MB/s]\u001b[A\n",
      "model-00002-of-00003.safetensors:  83%|████████▎ | 8.22G/9.90G [00:48<00:10, 159MB/s]\u001b[A\n",
      "model-00002-of-00003.safetensors:  83%|████████▎ | 8.25G/9.90G [00:49<00:09, 168MB/s]\u001b[A\n",
      "model-00002-of-00003.safetensors:  84%|████████▎ | 8.28G/9.90G [00:49<00:08, 181MB/s]\u001b[A\n",
      "model-00002-of-00003.safetensors:  84%|████████▍ | 8.32G/9.90G [00:49<00:08, 188MB/s]\u001b[A\n",
      "model-00002-of-00003.safetensors:  84%|████████▍ | 8.35G/9.90G [00:49<00:08, 193MB/s]\u001b[A\n",
      "model-00002-of-00003.safetensors:  84%|████████▍ | 8.37G/9.90G [00:49<00:08, 190MB/s]\u001b[A\n",
      "model-00002-of-00003.safetensors:  85%|████████▍ | 8.39G/9.90G [00:49<00:08, 172MB/s]\u001b[A\n",
      "model-00002-of-00003.safetensors:  85%|████████▍ | 8.41G/9.90G [00:50<00:08, 170MB/s]\u001b[A\n",
      "model-00002-of-00003.safetensors:  85%|████████▌ | 8.43G/9.90G [00:50<00:08, 166MB/s]\u001b[A\n",
      "model-00002-of-00003.safetensors:  85%|████████▌ | 8.45G/9.90G [00:50<00:08, 174MB/s]\u001b[A\n",
      "model-00002-of-00003.safetensors:  86%|████████▌ | 8.48G/9.90G [00:50<00:07, 193MB/s]\u001b[A\n",
      "model-00002-of-00003.safetensors:  86%|████████▌ | 8.50G/9.90G [00:50<00:07, 195MB/s]\u001b[A\n",
      "model-00002-of-00003.safetensors:  86%|████████▌ | 8.52G/9.90G [00:50<00:07, 193MB/s]\u001b[A\n",
      "model-00002-of-00003.safetensors:  86%|████████▋ | 8.55G/9.90G [00:50<00:07, 185MB/s]\u001b[A\n",
      "model-00002-of-00003.safetensors:  87%|████████▋ | 8.58G/9.90G [00:50<00:06, 209MB/s]\u001b[A\n",
      "model-00002-of-00003.safetensors:  87%|████████▋ | 8.61G/9.90G [00:50<00:05, 229MB/s]\u001b[A\n",
      "model-00002-of-00003.safetensors:  87%|████████▋ | 8.64G/9.90G [00:51<00:05, 228MB/s]\u001b[A\n",
      "model-00002-of-00003.safetensors:  88%|████████▊ | 8.67G/9.90G [00:51<00:05, 220MB/s]\u001b[A\n",
      "model-00002-of-00003.safetensors:  88%|████████▊ | 8.70G/9.90G [00:51<00:09, 126MB/s]\u001b[A\n",
      "model-00002-of-00003.safetensors:  88%|████████▊ | 8.73G/9.90G [00:51<00:07, 148MB/s]\u001b[A\n",
      "model-00002-of-00003.safetensors:  88%|████████▊ | 8.76G/9.90G [00:51<00:07, 156MB/s]\u001b[A\n",
      "model-00002-of-00003.safetensors:  89%|████████▊ | 8.79G/9.90G [00:52<00:06, 167MB/s]\u001b[A\n",
      "model-00002-of-00003.safetensors:  89%|████████▉ | 8.81G/9.90G [00:52<00:06, 166MB/s]\u001b[A\n",
      "model-00002-of-00003.safetensors:  89%|████████▉ | 8.83G/9.90G [00:52<00:06, 169MB/s]\u001b[A\n",
      "model-00002-of-00003.safetensors:  89%|████████▉ | 8.86G/9.90G [00:52<00:05, 190MB/s]\u001b[A\n",
      "model-00002-of-00003.safetensors:  90%|████████▉ | 8.88G/9.90G [00:52<00:05, 189MB/s]\u001b[A\n",
      "model-00002-of-00003.safetensors:  90%|████████▉ | 8.91G/9.90G [00:52<00:04, 200MB/s]\u001b[A\n",
      "model-00002-of-00003.safetensors:  90%|█████████ | 8.94G/9.90G [00:52<00:04, 193MB/s]\u001b[A\n",
      "model-00002-of-00003.safetensors:  91%|█████████ | 8.97G/9.90G [00:53<00:05, 175MB/s]\u001b[A\n",
      "model-00002-of-00003.safetensors:  91%|█████████ | 8.99G/9.90G [00:53<00:06, 141MB/s]\u001b[A\n",
      "model-00002-of-00003.safetensors:  91%|█████████ | 9.01G/9.90G [00:53<00:06, 143MB/s]\u001b[A\n",
      "model-00002-of-00003.safetensors:  91%|█████████ | 9.03G/9.90G [00:53<00:05, 150MB/s]\u001b[A\n",
      "model-00002-of-00003.safetensors:  91%|█████████▏| 9.05G/9.90G [00:53<00:05, 156MB/s]\u001b[A\n",
      "model-00002-of-00003.safetensors:  92%|█████████▏| 9.08G/9.90G [00:53<00:05, 163MB/s]\u001b[A\n",
      "model-00002-of-00003.safetensors:  92%|█████████▏| 9.10G/9.90G [00:54<00:06, 117MB/s]\u001b[A\n",
      "model-00002-of-00003.safetensors:  92%|█████████▏| 9.12G/9.90G [00:54<00:09, 79.4MB/s]\u001b[A\n",
      "model-00002-of-00003.safetensors:  92%|█████████▏| 9.14G/9.90G [00:54<00:08, 87.2MB/s]\u001b[A\n",
      "model-00002-of-00003.safetensors:  93%|█████████▎| 9.16G/9.90G [00:55<00:08, 87.2MB/s]\u001b[A\n",
      "model-00002-of-00003.safetensors:  93%|█████████▎| 9.18G/9.90G [00:55<00:08, 82.7MB/s]\u001b[A\n",
      "model-00002-of-00003.safetensors:  93%|█████████▎| 9.19G/9.90G [00:55<00:10, 68.2MB/s]\u001b[A\n",
      "model-00002-of-00003.safetensors:  93%|█████████▎| 9.20G/9.90G [00:55<00:11, 63.4MB/s]\u001b[A\n",
      "model-00002-of-00003.safetensors:  93%|█████████▎| 9.21G/9.90G [00:55<00:10, 65.1MB/s]\u001b[A\n",
      "model-00002-of-00003.safetensors:  93%|█████████▎| 9.24G/9.90G [00:56<00:06, 101MB/s] \u001b[A\n",
      "model-00002-of-00003.safetensors:  93%|█████████▎| 9.26G/9.90G [00:56<00:06, 108MB/s]\u001b[A\n",
      "model-00002-of-00003.safetensors:  94%|█████████▎| 9.28G/9.90G [00:56<00:06, 94.1MB/s]\u001b[A\n",
      "model-00002-of-00003.safetensors:  94%|█████████▍| 9.29G/9.90G [00:56<00:06, 91.3MB/s]\u001b[A\n",
      "model-00002-of-00003.safetensors:  94%|█████████▍| 9.30G/9.90G [00:56<00:07, 85.2MB/s]\u001b[A\n",
      "model-00002-of-00003.safetensors:  94%|█████████▍| 9.31G/9.90G [00:56<00:07, 74.4MB/s]\u001b[A\n",
      "model-00002-of-00003.safetensors:  94%|█████████▍| 9.33G/9.90G [00:57<00:05, 96.5MB/s]\u001b[A\n",
      "model-00002-of-00003.safetensors:  94%|█████████▍| 9.35G/9.90G [00:57<00:04, 117MB/s] \u001b[A\n",
      "model-00002-of-00003.safetensors:  95%|█████████▍| 9.37G/9.90G [00:57<00:03, 137MB/s]\u001b[A\n",
      "model-00002-of-00003.safetensors:  95%|█████████▍| 9.40G/9.90G [00:57<00:04, 125MB/s]\u001b[A\n",
      "model-00002-of-00003.safetensors:  95%|█████████▌| 9.43G/9.90G [00:57<00:03, 152MB/s]\u001b[A\n",
      "model-00002-of-00003.safetensors:  95%|█████████▌| 9.45G/9.90G [00:57<00:02, 164MB/s]\u001b[A\n",
      "model-00002-of-00003.safetensors:  96%|█████████▌| 9.47G/9.90G [00:57<00:02, 157MB/s]\u001b[A\n",
      "model-00002-of-00003.safetensors:  96%|█████████▌| 9.49G/9.90G [00:57<00:02, 169MB/s]\u001b[A\n",
      "model-00002-of-00003.safetensors:  96%|█████████▌| 9.51G/9.90G [00:58<00:02, 146MB/s]\u001b[A\n",
      "model-00002-of-00003.safetensors:  96%|█████████▋| 9.54G/9.90G [00:58<00:02, 165MB/s]\u001b[A\n",
      "model-00002-of-00003.safetensors:  97%|█████████▋| 9.57G/9.90G [00:58<00:01, 183MB/s]\u001b[A\n",
      "model-00002-of-00003.safetensors:  97%|█████████▋| 9.59G/9.90G [00:58<00:01, 186MB/s]\u001b[A\n",
      "model-00002-of-00003.safetensors:  97%|█████████▋| 9.62G/9.90G [00:58<00:01, 183MB/s]\u001b[A\n",
      "model-00002-of-00003.safetensors:  97%|█████████▋| 9.64G/9.90G [00:58<00:01, 184MB/s]\u001b[A\n",
      "model-00002-of-00003.safetensors:  98%|█████████▊| 9.66G/9.90G [00:58<00:01, 179MB/s]\u001b[A\n",
      "model-00002-of-00003.safetensors:  98%|█████████▊| 9.68G/9.90G [00:59<00:01, 186MB/s]\u001b[A\n",
      "model-00002-of-00003.safetensors:  98%|█████████▊| 9.71G/9.90G [00:59<00:00, 210MB/s]\u001b[A\n",
      "model-00002-of-00003.safetensors:  98%|█████████▊| 9.74G/9.90G [00:59<00:00, 219MB/s]\u001b[A\n",
      "model-00002-of-00003.safetensors:  99%|█████████▊| 9.77G/9.90G [00:59<00:00, 228MB/s]\u001b[A\n",
      "model-00002-of-00003.safetensors:  99%|█████████▉| 9.80G/9.90G [00:59<00:00, 183MB/s]\u001b[A\n",
      "model-00002-of-00003.safetensors:  99%|█████████▉| 9.84G/9.90G [00:59<00:00, 206MB/s]\u001b[A\n",
      "model-00002-of-00003.safetensors: 100%|█████████▉| 9.87G/9.90G [00:59<00:00, 227MB/s]\u001b[A\n",
      "model-00002-of-00003.safetensors: 100%|██████████| 9.90G/9.90G [01:00<00:00, 165MB/s]\u001b[A\n",
      "Downloading shards:  67%|██████▋   | 2/3 [03:58<02:00, 120.30s/it]\n",
      "model-00003-of-00003.safetensors:   0%|          | 0.00/6.18G [00:00<?, ?B/s]\u001b[A\n",
      "model-00003-of-00003.safetensors:   0%|          | 10.5M/6.18G [00:00<02:10, 47.3MB/s]\u001b[A\n",
      "model-00003-of-00003.safetensors:   1%|          | 52.4M/6.18G [00:00<00:34, 177MB/s] \u001b[A\n",
      "model-00003-of-00003.safetensors:   1%|▏         | 83.9M/6.18G [00:00<00:29, 206MB/s]\u001b[A\n",
      "model-00003-of-00003.safetensors:   2%|▏         | 126M/6.18G [00:00<00:24, 243MB/s] \u001b[A\n",
      "model-00003-of-00003.safetensors:   3%|▎         | 157M/6.18G [00:00<00:24, 247MB/s]\u001b[A\n",
      "model-00003-of-00003.safetensors:   3%|▎         | 189M/6.18G [00:00<00:24, 249MB/s]\u001b[A\n",
      "model-00003-of-00003.safetensors:   4%|▎         | 220M/6.18G [00:00<00:23, 250MB/s]\u001b[A\n",
      "model-00003-of-00003.safetensors:   4%|▍         | 252M/6.18G [00:01<00:23, 254MB/s]\u001b[A\n",
      "model-00003-of-00003.safetensors:   5%|▍         | 283M/6.18G [00:01<00:22, 260MB/s]\u001b[A\n",
      "model-00003-of-00003.safetensors:   5%|▌         | 315M/6.18G [00:01<00:22, 264MB/s]\u001b[A\n",
      "model-00003-of-00003.safetensors:   6%|▌         | 346M/6.18G [00:01<00:21, 268MB/s]\u001b[A\n",
      "model-00003-of-00003.safetensors:   6%|▌         | 377M/6.18G [00:01<00:22, 257MB/s]\u001b[A\n",
      "model-00003-of-00003.safetensors:   7%|▋         | 409M/6.18G [00:01<00:25, 223MB/s]\u001b[A\n",
      "model-00003-of-00003.safetensors:   7%|▋         | 440M/6.18G [00:01<00:27, 210MB/s]\u001b[A\n",
      "model-00003-of-00003.safetensors:   8%|▊         | 482M/6.18G [00:02<00:22, 249MB/s]\u001b[A\n",
      "model-00003-of-00003.safetensors:   8%|▊         | 524M/6.18G [00:02<00:21, 268MB/s]\u001b[A\n",
      "model-00003-of-00003.safetensors:   9%|▉         | 556M/6.18G [00:02<00:20, 275MB/s]\u001b[A\n",
      "model-00003-of-00003.safetensors:  10%|▉         | 587M/6.18G [00:02<00:19, 284MB/s]\u001b[A\n",
      "model-00003-of-00003.safetensors:  10%|█         | 619M/6.18G [00:02<00:20, 276MB/s]\u001b[A\n",
      "model-00003-of-00003.safetensors:  11%|█         | 650M/6.18G [00:02<00:20, 267MB/s]\u001b[A\n",
      "model-00003-of-00003.safetensors:  11%|█         | 692M/6.18G [00:02<00:19, 288MB/s]\u001b[A\n",
      "model-00003-of-00003.safetensors:  12%|█▏        | 724M/6.18G [00:02<00:20, 266MB/s]\u001b[A\n",
      "model-00003-of-00003.safetensors:  12%|█▏        | 765M/6.18G [00:03<00:18, 290MB/s]\u001b[A\n",
      "model-00003-of-00003.safetensors:  13%|█▎        | 807M/6.18G [00:03<00:17, 300MB/s]\u001b[A\n",
      "model-00003-of-00003.safetensors:  14%|█▎        | 839M/6.18G [00:03<00:18, 291MB/s]\u001b[A\n",
      "model-00003-of-00003.safetensors:  14%|█▍        | 870M/6.18G [00:03<00:19, 266MB/s]\u001b[A\n",
      "model-00003-of-00003.safetensors:  15%|█▍        | 902M/6.18G [00:03<00:20, 260MB/s]\u001b[A\n",
      "model-00003-of-00003.safetensors:  15%|█▌        | 944M/6.18G [00:03<00:18, 283MB/s]\u001b[A\n",
      "model-00003-of-00003.safetensors:  16%|█▌        | 986M/6.18G [00:03<00:17, 299MB/s]\u001b[A\n",
      "model-00003-of-00003.safetensors:  17%|█▋        | 1.03G/6.18G [00:03<00:16, 308MB/s]\u001b[A\n",
      "model-00003-of-00003.safetensors:  17%|█▋        | 1.06G/6.18G [00:04<00:18, 283MB/s]\u001b[A\n",
      "model-00003-of-00003.safetensors:  18%|█▊        | 1.10G/6.18G [00:04<00:17, 284MB/s]\u001b[A\n",
      "model-00003-of-00003.safetensors:  18%|█▊        | 1.14G/6.18G [00:04<00:17, 286MB/s]\u001b[A\n",
      "model-00003-of-00003.safetensors:  19%|█▉        | 1.17G/6.18G [00:04<00:19, 263MB/s]\u001b[A\n",
      "model-00003-of-00003.safetensors:  20%|█▉        | 1.21G/6.18G [00:04<00:18, 274MB/s]\u001b[A\n",
      "model-00003-of-00003.safetensors:  20%|██        | 1.24G/6.18G [00:04<00:17, 280MB/s]\u001b[A\n",
      "model-00003-of-00003.safetensors:  21%|██        | 1.27G/6.18G [00:04<00:21, 231MB/s]\u001b[A\n",
      "model-00003-of-00003.safetensors:  21%|██        | 1.30G/6.18G [00:05<00:21, 229MB/s]\u001b[A\n",
      "model-00003-of-00003.safetensors:  22%|██▏       | 1.33G/6.18G [00:05<00:23, 208MB/s]\u001b[A\n",
      "model-00003-of-00003.safetensors:  22%|██▏       | 1.36G/6.18G [00:05<00:22, 214MB/s]\u001b[A\n",
      "model-00003-of-00003.safetensors:  23%|██▎       | 1.39G/6.18G [00:05<00:20, 236MB/s]\u001b[A\n",
      "model-00003-of-00003.safetensors:  23%|██▎       | 1.43G/6.18G [00:05<00:19, 247MB/s]\u001b[A\n",
      "model-00003-of-00003.safetensors:  24%|██▎       | 1.46G/6.18G [00:05<00:18, 250MB/s]\u001b[A\n",
      "model-00003-of-00003.safetensors:  24%|██▍       | 1.49G/6.18G [00:05<00:19, 243MB/s]\u001b[A\n",
      "model-00003-of-00003.safetensors:  25%|██▍       | 1.52G/6.18G [00:05<00:18, 249MB/s]\u001b[A\n",
      "model-00003-of-00003.safetensors:  25%|██▌       | 1.55G/6.18G [00:06<00:20, 226MB/s]\u001b[A\n",
      "model-00003-of-00003.safetensors:  26%|██▌       | 1.58G/6.18G [00:06<00:20, 225MB/s]\u001b[A\n",
      "model-00003-of-00003.safetensors:  26%|██▌       | 1.61G/6.18G [00:06<00:21, 212MB/s]\u001b[A\n",
      "model-00003-of-00003.safetensors:  27%|██▋       | 1.65G/6.18G [00:06<00:19, 229MB/s]\u001b[A\n",
      "model-00003-of-00003.safetensors:  27%|██▋       | 1.68G/6.18G [00:06<00:18, 244MB/s]\u001b[A\n",
      "model-00003-of-00003.safetensors:  28%|██▊       | 1.72G/6.18G [00:06<00:16, 266MB/s]\u001b[A\n",
      "model-00003-of-00003.safetensors:  28%|██▊       | 1.75G/6.18G [00:06<00:16, 275MB/s]\u001b[A\n",
      "model-00003-of-00003.safetensors:  29%|██▉       | 1.78G/6.18G [00:07<00:16, 263MB/s]\u001b[A\n",
      "model-00003-of-00003.safetensors:  29%|██▉       | 1.81G/6.18G [00:07<00:18, 230MB/s]\u001b[A\n",
      "model-00003-of-00003.safetensors:  30%|██▉       | 1.85G/6.18G [00:07<00:18, 230MB/s]\u001b[A\n",
      "model-00003-of-00003.safetensors:  30%|███       | 1.88G/6.18G [00:07<00:19, 217MB/s]\u001b[A\n",
      "model-00003-of-00003.safetensors:  31%|███       | 1.91G/6.18G [00:07<00:19, 222MB/s]\u001b[A\n",
      "model-00003-of-00003.safetensors:  31%|███▏      | 1.94G/6.18G [00:07<00:18, 235MB/s]\u001b[A\n",
      "model-00003-of-00003.safetensors:  32%|███▏      | 1.97G/6.18G [00:07<00:16, 249MB/s]\u001b[A\n",
      "model-00003-of-00003.safetensors:  32%|███▏      | 2.00G/6.18G [00:07<00:16, 259MB/s]\u001b[A\n",
      "model-00003-of-00003.safetensors:  33%|███▎      | 2.03G/6.18G [00:08<00:15, 261MB/s]\u001b[A\n",
      "model-00003-of-00003.safetensors:  33%|███▎      | 2.07G/6.18G [00:08<00:16, 247MB/s]\u001b[A\n",
      "model-00003-of-00003.safetensors:  34%|███▍      | 2.11G/6.18G [00:08<00:15, 270MB/s]\u001b[A\n",
      "model-00003-of-00003.safetensors:  35%|███▍      | 2.15G/6.18G [00:08<00:13, 298MB/s]\u001b[A\n",
      "model-00003-of-00003.safetensors:  35%|███▌      | 2.18G/6.18G [00:08<00:13, 302MB/s]\u001b[A\n",
      "model-00003-of-00003.safetensors:  36%|███▌      | 2.21G/6.18G [00:08<00:13, 300MB/s]\u001b[A\n",
      "model-00003-of-00003.safetensors:  36%|███▋      | 2.24G/6.18G [00:08<00:14, 278MB/s]\u001b[A\n",
      "model-00003-of-00003.safetensors:  37%|███▋      | 2.28G/6.18G [00:08<00:14, 270MB/s]\u001b[A\n",
      "model-00003-of-00003.safetensors:  37%|███▋      | 2.31G/6.18G [00:09<00:14, 271MB/s]\u001b[A\n",
      "model-00003-of-00003.safetensors:  38%|███▊      | 2.34G/6.18G [00:09<00:16, 237MB/s]\u001b[A\n",
      "model-00003-of-00003.safetensors:  38%|███▊      | 2.37G/6.18G [00:09<00:15, 251MB/s]\u001b[A\n",
      "model-00003-of-00003.safetensors:  39%|███▉      | 2.40G/6.18G [00:09<00:14, 254MB/s]\u001b[A\n",
      "model-00003-of-00003.safetensors:  39%|███▉      | 2.43G/6.18G [00:09<00:15, 249MB/s]\u001b[A\n",
      "model-00003-of-00003.safetensors:  40%|████      | 2.47G/6.18G [00:09<00:13, 279MB/s]\u001b[A\n",
      "model-00003-of-00003.safetensors:  41%|████      | 2.51G/6.18G [00:09<00:13, 280MB/s]\u001b[A\n",
      "model-00003-of-00003.safetensors:  41%|████      | 2.54G/6.18G [00:09<00:13, 273MB/s]\u001b[A\n",
      "model-00003-of-00003.safetensors:  42%|████▏     | 2.57G/6.18G [00:10<00:14, 248MB/s]\u001b[A\n",
      "model-00003-of-00003.safetensors:  42%|████▏     | 2.60G/6.18G [00:10<00:18, 188MB/s]\u001b[A\n",
      "model-00003-of-00003.safetensors:  43%|████▎     | 2.63G/6.18G [00:10<00:18, 191MB/s]\u001b[A\n",
      "model-00003-of-00003.safetensors:  43%|████▎     | 2.65G/6.18G [00:10<00:18, 193MB/s]\u001b[A\n",
      "model-00003-of-00003.safetensors:  43%|████▎     | 2.68G/6.18G [00:10<00:16, 213MB/s]\u001b[A\n",
      "model-00003-of-00003.safetensors:  44%|████▍     | 2.72G/6.18G [00:10<00:14, 234MB/s]\u001b[A\n",
      "model-00003-of-00003.safetensors:  44%|████▍     | 2.75G/6.18G [00:10<00:14, 239MB/s]\u001b[A\n",
      "model-00003-of-00003.safetensors:  45%|████▍     | 2.78G/6.18G [00:11<00:13, 250MB/s]\u001b[A\n",
      "model-00003-of-00003.safetensors:  45%|████▌     | 2.81G/6.18G [00:11<00:13, 253MB/s]\u001b[A\n",
      "model-00003-of-00003.safetensors:  46%|████▌     | 2.84G/6.18G [00:11<00:18, 181MB/s]\u001b[A\n",
      "model-00003-of-00003.safetensors:  46%|████▋     | 2.87G/6.18G [00:11<00:16, 196MB/s]\u001b[A\n",
      "model-00003-of-00003.safetensors:  47%|████▋     | 2.92G/6.18G [00:11<00:14, 233MB/s]\u001b[A\n",
      "model-00003-of-00003.safetensors:  48%|████▊     | 2.96G/6.18G [00:11<00:13, 247MB/s]\u001b[A\n",
      "model-00003-of-00003.safetensors:  48%|████▊     | 2.99G/6.18G [00:12<00:13, 239MB/s]\u001b[A\n",
      "model-00003-of-00003.safetensors:  49%|████▉     | 3.02G/6.18G [00:12<00:13, 242MB/s]\u001b[A\n",
      "model-00003-of-00003.safetensors:  50%|████▉     | 3.06G/6.18G [00:12<00:11, 274MB/s]\u001b[A\n",
      "model-00003-of-00003.safetensors:  50%|█████     | 3.09G/6.18G [00:12<00:14, 218MB/s]\u001b[A\n",
      "model-00003-of-00003.safetensors:  51%|█████     | 3.12G/6.18G [00:12<00:14, 217MB/s]\u001b[A\n",
      "model-00003-of-00003.safetensors:  51%|█████     | 3.16G/6.18G [00:12<00:13, 232MB/s]\u001b[A\n",
      "model-00003-of-00003.safetensors:  52%|█████▏    | 3.19G/6.18G [00:12<00:12, 240MB/s]\u001b[A\n",
      "model-00003-of-00003.safetensors:  52%|█████▏    | 3.22G/6.18G [00:12<00:11, 252MB/s]\u001b[A\n",
      "model-00003-of-00003.safetensors:  53%|█████▎    | 3.26G/6.18G [00:13<00:10, 278MB/s]\u001b[A\n",
      "model-00003-of-00003.safetensors:  53%|█████▎    | 3.29G/6.18G [00:13<00:10, 273MB/s]\u001b[A\n",
      "model-00003-of-00003.safetensors:  54%|█████▍    | 3.32G/6.18G [00:13<00:10, 276MB/s]\u001b[A\n",
      "model-00003-of-00003.safetensors:  54%|█████▍    | 3.36G/6.18G [00:13<00:11, 254MB/s]\u001b[A\n",
      "model-00003-of-00003.safetensors:  55%|█████▍    | 3.39G/6.18G [00:13<00:10, 260MB/s]\u001b[A\n",
      "model-00003-of-00003.safetensors:  55%|█████▌    | 3.42G/6.18G [00:13<00:10, 271MB/s]\u001b[A\n",
      "model-00003-of-00003.safetensors:  56%|█████▌    | 3.45G/6.18G [00:13<00:09, 276MB/s]\u001b[A\n",
      "model-00003-of-00003.safetensors:  57%|█████▋    | 3.49G/6.18G [00:13<00:08, 307MB/s]\u001b[A\n",
      "model-00003-of-00003.safetensors:  57%|█████▋    | 3.52G/6.18G [00:14<00:08, 306MB/s]\u001b[A\n",
      "model-00003-of-00003.safetensors:  58%|█████▊    | 3.55G/6.18G [00:14<00:08, 307MB/s]\u001b[A\n",
      "model-00003-of-00003.safetensors:  58%|█████▊    | 3.60G/6.18G [00:14<00:08, 320MB/s]\u001b[A\n",
      "model-00003-of-00003.safetensors:  59%|█████▉    | 3.64G/6.18G [00:14<00:07, 340MB/s]\u001b[A\n",
      "model-00003-of-00003.safetensors:  60%|█████▉    | 3.68G/6.18G [00:14<00:07, 351MB/s]\u001b[A\n",
      "model-00003-of-00003.safetensors:  60%|██████    | 3.72G/6.18G [00:14<00:07, 345MB/s]\u001b[A\n",
      "model-00003-of-00003.safetensors:  61%|██████    | 3.76G/6.18G [00:14<00:07, 334MB/s]\u001b[A\n",
      "model-00003-of-00003.safetensors:  62%|██████▏   | 3.81G/6.18G [00:14<00:09, 257MB/s]\u001b[A\n",
      "model-00003-of-00003.safetensors:  62%|██████▏   | 3.84G/6.18G [00:15<00:09, 252MB/s]\u001b[A\n",
      "model-00003-of-00003.safetensors:  63%|██████▎   | 3.87G/6.18G [00:15<00:08, 259MB/s]\u001b[A\n",
      "model-00003-of-00003.safetensors:  63%|██████▎   | 3.90G/6.18G [00:15<00:08, 265MB/s]\u001b[A\n",
      "model-00003-of-00003.safetensors:  64%|██████▎   | 3.93G/6.18G [00:15<00:08, 266MB/s]\u001b[A\n",
      "model-00003-of-00003.safetensors:  64%|██████▍   | 3.96G/6.18G [00:15<00:08, 261MB/s]\u001b[A\n",
      "model-00003-of-00003.safetensors:  65%|██████▍   | 4.00G/6.18G [00:15<00:08, 270MB/s]\u001b[A\n",
      "model-00003-of-00003.safetensors:  65%|██████▌   | 4.03G/6.18G [00:15<00:08, 254MB/s]\u001b[A\n",
      "model-00003-of-00003.safetensors:  66%|██████▌   | 4.07G/6.18G [00:15<00:07, 269MB/s]\u001b[A\n",
      "model-00003-of-00003.safetensors:  67%|██████▋   | 4.11G/6.18G [00:16<00:07, 281MB/s]\u001b[A\n",
      "model-00003-of-00003.safetensors:  67%|██████▋   | 4.15G/6.18G [00:16<00:06, 301MB/s]\u001b[A\n",
      "model-00003-of-00003.safetensors:  68%|██████▊   | 4.19G/6.18G [00:16<00:06, 310MB/s]\u001b[A\n",
      "model-00003-of-00003.safetensors:  69%|██████▊   | 4.24G/6.18G [00:16<00:06, 321MB/s]\u001b[A\n",
      "model-00003-of-00003.safetensors:  69%|██████▉   | 4.28G/6.18G [00:16<00:06, 280MB/s]\u001b[A\n",
      "model-00003-of-00003.safetensors:  70%|██████▉   | 4.31G/6.18G [00:16<00:06, 287MB/s]\u001b[A\n",
      "model-00003-of-00003.safetensors:  70%|███████   | 4.34G/6.18G [00:16<00:06, 283MB/s]\u001b[A\n",
      "model-00003-of-00003.safetensors:  71%|███████   | 4.37G/6.18G [00:17<00:06, 278MB/s]\u001b[A\n",
      "model-00003-of-00003.safetensors:  71%|███████▏  | 4.40G/6.18G [00:17<00:06, 274MB/s]\u001b[A\n",
      "model-00003-of-00003.safetensors:  72%|███████▏  | 4.44G/6.18G [00:17<00:07, 228MB/s]\u001b[A\n",
      "model-00003-of-00003.safetensors:  72%|███████▏  | 4.47G/6.18G [00:17<00:08, 201MB/s]\u001b[A\n",
      "model-00003-of-00003.safetensors:  73%|███████▎  | 4.50G/6.18G [00:17<00:08, 208MB/s]\u001b[A\n",
      "model-00003-of-00003.safetensors:  73%|███████▎  | 4.53G/6.18G [00:17<00:07, 220MB/s]\u001b[A\n",
      "model-00003-of-00003.safetensors:  74%|███████▍  | 4.56G/6.18G [00:17<00:07, 209MB/s]\u001b[A\n",
      "model-00003-of-00003.safetensors:  74%|███████▍  | 4.59G/6.18G [00:18<00:07, 213MB/s]\u001b[A\n",
      "model-00003-of-00003.safetensors:  75%|███████▍  | 4.62G/6.18G [00:18<00:07, 219MB/s]\u001b[A\n",
      "model-00003-of-00003.safetensors:  75%|███████▌  | 4.66G/6.18G [00:18<00:06, 238MB/s]\u001b[A\n",
      "model-00003-of-00003.safetensors:  76%|███████▌  | 4.69G/6.18G [00:18<00:05, 252MB/s]\u001b[A\n",
      "model-00003-of-00003.safetensors:  76%|███████▋  | 4.72G/6.18G [00:18<00:05, 267MB/s]\u001b[A\n",
      "model-00003-of-00003.safetensors:  77%|███████▋  | 4.75G/6.18G [00:18<00:05, 268MB/s]\u001b[A\n",
      "model-00003-of-00003.safetensors:  77%|███████▋  | 4.78G/6.18G [00:18<00:05, 241MB/s]\u001b[A\n",
      "model-00003-of-00003.safetensors:  78%|███████▊  | 4.81G/6.18G [00:18<00:05, 234MB/s]\u001b[A\n",
      "model-00003-of-00003.safetensors:  78%|███████▊  | 4.84G/6.18G [00:19<00:05, 248MB/s]\u001b[A\n",
      "model-00003-of-00003.safetensors:  79%|███████▉  | 4.88G/6.18G [00:19<00:05, 255MB/s]\u001b[A\n",
      "model-00003-of-00003.safetensors:  79%|███████▉  | 4.91G/6.18G [00:19<00:04, 261MB/s]\u001b[A\n",
      "model-00003-of-00003.safetensors:  80%|████████  | 4.95G/6.18G [00:19<00:04, 290MB/s]\u001b[A\n",
      "model-00003-of-00003.safetensors:  81%|████████  | 4.99G/6.18G [00:19<00:03, 311MB/s]\u001b[A\n",
      "model-00003-of-00003.safetensors:  81%|████████▏ | 5.02G/6.18G [00:19<00:03, 303MB/s]\u001b[A\n",
      "model-00003-of-00003.safetensors:  82%|████████▏ | 5.06G/6.18G [00:19<00:03, 305MB/s]\u001b[A\n",
      "model-00003-of-00003.safetensors:  82%|████████▏ | 5.10G/6.18G [00:19<00:03, 298MB/s]\u001b[A\n",
      "model-00003-of-00003.safetensors:  83%|████████▎ | 5.13G/6.18G [00:20<00:03, 294MB/s]\u001b[A\n",
      "model-00003-of-00003.safetensors:  83%|████████▎ | 5.16G/6.18G [00:20<00:03, 275MB/s]\u001b[A\n",
      "model-00003-of-00003.safetensors:  84%|████████▍ | 5.19G/6.18G [00:20<00:03, 283MB/s]\u001b[A\n",
      "model-00003-of-00003.safetensors:  85%|████████▍ | 5.22G/6.18G [00:20<00:03, 286MB/s]\u001b[A\n",
      "model-00003-of-00003.safetensors:  85%|████████▌ | 5.26G/6.18G [00:20<00:03, 303MB/s]\u001b[A\n",
      "model-00003-of-00003.safetensors:  86%|████████▌ | 5.31G/6.18G [00:20<00:02, 326MB/s]\u001b[A\n",
      "model-00003-of-00003.safetensors:  87%|████████▋ | 5.35G/6.18G [00:20<00:02, 287MB/s]\u001b[A\n",
      "model-00003-of-00003.safetensors:  87%|████████▋ | 5.38G/6.18G [00:20<00:02, 291MB/s]\u001b[A\n",
      "model-00003-of-00003.safetensors:  88%|████████▊ | 5.41G/6.18G [00:20<00:02, 292MB/s]\u001b[A\n",
      "model-00003-of-00003.safetensors:  88%|████████▊ | 5.44G/6.18G [00:21<00:02, 296MB/s]\u001b[A\n",
      "model-00003-of-00003.safetensors:  89%|████████▊ | 5.47G/6.18G [00:21<00:02, 300MB/s]\u001b[A\n",
      "model-00003-of-00003.safetensors:  89%|████████▉ | 5.51G/6.18G [00:21<00:02, 293MB/s]\u001b[A\n",
      "model-00003-of-00003.safetensors:  90%|████████▉ | 5.54G/6.18G [00:21<00:02, 255MB/s]\u001b[A\n",
      "model-00003-of-00003.safetensors:  90%|█████████ | 5.58G/6.18G [00:21<00:02, 279MB/s]\u001b[A\n",
      "model-00003-of-00003.safetensors:  91%|█████████ | 5.62G/6.18G [00:21<00:01, 291MB/s]\u001b[A\n",
      "model-00003-of-00003.safetensors:  92%|█████████▏| 5.66G/6.18G [00:21<00:01, 299MB/s]\u001b[A\n",
      "model-00003-of-00003.safetensors:  92%|█████████▏| 5.69G/6.18G [00:21<00:01, 279MB/s]\u001b[A\n",
      "model-00003-of-00003.safetensors:  93%|█████████▎| 5.73G/6.18G [00:22<00:01, 238MB/s]\u001b[A\n",
      "model-00003-of-00003.safetensors:  93%|█████████▎| 5.76G/6.18G [00:22<00:01, 250MB/s]\u001b[A\n",
      "model-00003-of-00003.safetensors:  94%|█████████▎| 5.79G/6.18G [00:22<00:01, 254MB/s]\u001b[A\n",
      "model-00003-of-00003.safetensors:  94%|█████████▍| 5.82G/6.18G [00:22<00:01, 253MB/s]\u001b[A\n",
      "model-00003-of-00003.safetensors:  95%|█████████▍| 5.85G/6.18G [00:22<00:01, 192MB/s]\u001b[A\n",
      "model-00003-of-00003.safetensors:  95%|█████████▌| 5.88G/6.18G [00:22<00:01, 199MB/s]\u001b[A\n",
      "model-00003-of-00003.safetensors:  96%|█████████▌| 5.91G/6.18G [00:23<00:01, 195MB/s]\u001b[A\n",
      "model-00003-of-00003.safetensors:  96%|█████████▌| 5.95G/6.18G [00:23<00:01, 209MB/s]\u001b[A\n",
      "model-00003-of-00003.safetensors:  97%|█████████▋| 5.98G/6.18G [00:23<00:00, 215MB/s]\u001b[A\n",
      "model-00003-of-00003.safetensors:  97%|█████████▋| 6.01G/6.18G [00:23<00:00, 200MB/s]\u001b[A\n",
      "model-00003-of-00003.safetensors:  98%|█████████▊| 6.03G/6.18G [00:23<00:00, 199MB/s]\u001b[A\n",
      "model-00003-of-00003.safetensors:  98%|█████████▊| 6.07G/6.18G [00:23<00:00, 238MB/s]\u001b[A\n",
      "model-00003-of-00003.safetensors:  99%|█████████▉| 6.10G/6.18G [00:23<00:00, 247MB/s]\u001b[A\n",
      "model-00003-of-00003.safetensors:  99%|█████████▉| 6.13G/6.18G [00:23<00:00, 262MB/s]\u001b[A\n",
      "model-00003-of-00003.safetensors: 100%|██████████| 6.18G/6.18G [00:24<00:00, 256MB/s]\u001b[A\n",
      "Downloading shards: 100%|██████████| 3/3 [05:21<00:00, 107.20s/it]\n",
      "Loading checkpoint shards: 100%|██████████| 3/3 [01:25<00:00, 28.66s/it]\n",
      "generation_config.json: 100%|██████████| 188/188 [00:00<00:00, 1.55MB/s]\n"
     ]
    }
   ],
   "source": [
    "# Load model directly\n",
    "from transformers import AutoTokenizer, AutoModelForCausalLM\n",
    "\n",
    "tokenizer = AutoTokenizer.from_pretrained(\"meta-llama/Llama-2-13b-hf\")\n",
    "model = AutoModelForCausalLM.from_pretrained(\"meta-llama/Llama-2-13b-hf\")"
   ]
  },
  {
   "cell_type": "code",
   "execution_count": 16,
   "id": "be383ca4-751f-442b-91ca-8ffe2311e2f6",
   "metadata": {
    "tags": []
   },
   "outputs": [
    {
     "ename": "OutOfMemoryError",
     "evalue": "CUDA out of memory. Tried to allocate 270.00 MiB (GPU 0; 22.20 GiB total capacity; 21.42 GiB already allocated; 73.12 MiB free; 21.43 GiB reserved in total by PyTorch) If reserved memory is >> allocated memory try setting max_split_size_mb to avoid fragmentation.  See documentation for Memory Management and PYTORCH_CUDA_ALLOC_CONF",
     "output_type": "error",
     "traceback": [
      "\u001b[0;31m---------------------------------------------------------------------------\u001b[0m",
      "\u001b[0;31mOutOfMemoryError\u001b[0m                          Traceback (most recent call last)",
      "Cell \u001b[0;32mIn[16], line 4\u001b[0m\n\u001b[1;32m      1\u001b[0m prompt \u001b[38;5;241m=\u001b[39m \u001b[38;5;124m\"\u001b[39m\u001b[38;5;124mMy favourite condiment is\u001b[39m\u001b[38;5;124m\"\u001b[39m\n\u001b[1;32m      3\u001b[0m model_inputs \u001b[38;5;241m=\u001b[39m tokenizer([prompt], return_tensors\u001b[38;5;241m=\u001b[39m\u001b[38;5;124m\"\u001b[39m\u001b[38;5;124mpt\u001b[39m\u001b[38;5;124m\"\u001b[39m)\u001b[38;5;241m.\u001b[39mto(device)\n\u001b[0;32m----> 4\u001b[0m \u001b[43mmodel\u001b[49m\u001b[38;5;241;43m.\u001b[39;49m\u001b[43mto\u001b[49m\u001b[43m(\u001b[49m\u001b[43mdevice\u001b[49m\u001b[43m)\u001b[49m\n\u001b[1;32m      6\u001b[0m generated_ids \u001b[38;5;241m=\u001b[39m model\u001b[38;5;241m.\u001b[39mgenerate(\u001b[38;5;241m*\u001b[39m\u001b[38;5;241m*\u001b[39mmodel_inputs, max_new_tokens\u001b[38;5;241m=\u001b[39m\u001b[38;5;241m100\u001b[39m, do_sample\u001b[38;5;241m=\u001b[39m\u001b[38;5;28;01mTrue\u001b[39;00m)\n\u001b[1;32m      7\u001b[0m tokenizer\u001b[38;5;241m.\u001b[39mbatch_decode(generated_ids)[\u001b[38;5;241m0\u001b[39m]\n",
      "File \u001b[0;32m/opt/conda/lib/python3.10/site-packages/transformers/modeling_utils.py:2271\u001b[0m, in \u001b[0;36mPreTrainedModel.to\u001b[0;34m(self, *args, **kwargs)\u001b[0m\n\u001b[1;32m   2266\u001b[0m     \u001b[38;5;28;01mif\u001b[39;00m dtype_present_in_args:\n\u001b[1;32m   2267\u001b[0m         \u001b[38;5;28;01mraise\u001b[39;00m \u001b[38;5;167;01mValueError\u001b[39;00m(\n\u001b[1;32m   2268\u001b[0m             \u001b[38;5;124m\"\u001b[39m\u001b[38;5;124mYou cannot cast a GPTQ model in a new `dtype`. Make sure to load the model using `from_pretrained` using the desired\u001b[39m\u001b[38;5;124m\"\u001b[39m\n\u001b[1;32m   2269\u001b[0m             \u001b[38;5;124m\"\u001b[39m\u001b[38;5;124m `dtype` by passing the correct `torch_dtype` argument.\u001b[39m\u001b[38;5;124m\"\u001b[39m\n\u001b[1;32m   2270\u001b[0m         )\n\u001b[0;32m-> 2271\u001b[0m \u001b[38;5;28;01mreturn\u001b[39;00m \u001b[38;5;28;43msuper\u001b[39;49m\u001b[43m(\u001b[49m\u001b[43m)\u001b[49m\u001b[38;5;241;43m.\u001b[39;49m\u001b[43mto\u001b[49m\u001b[43m(\u001b[49m\u001b[38;5;241;43m*\u001b[39;49m\u001b[43margs\u001b[49m\u001b[43m,\u001b[49m\u001b[43m \u001b[49m\u001b[38;5;241;43m*\u001b[39;49m\u001b[38;5;241;43m*\u001b[39;49m\u001b[43mkwargs\u001b[49m\u001b[43m)\u001b[49m\n",
      "File \u001b[0;32m/opt/conda/lib/python3.10/site-packages/torch/nn/modules/module.py:1145\u001b[0m, in \u001b[0;36mModule.to\u001b[0;34m(self, *args, **kwargs)\u001b[0m\n\u001b[1;32m   1141\u001b[0m         \u001b[38;5;28;01mreturn\u001b[39;00m t\u001b[38;5;241m.\u001b[39mto(device, dtype \u001b[38;5;28;01mif\u001b[39;00m t\u001b[38;5;241m.\u001b[39mis_floating_point() \u001b[38;5;129;01mor\u001b[39;00m t\u001b[38;5;241m.\u001b[39mis_complex() \u001b[38;5;28;01melse\u001b[39;00m \u001b[38;5;28;01mNone\u001b[39;00m,\n\u001b[1;32m   1142\u001b[0m                     non_blocking, memory_format\u001b[38;5;241m=\u001b[39mconvert_to_format)\n\u001b[1;32m   1143\u001b[0m     \u001b[38;5;28;01mreturn\u001b[39;00m t\u001b[38;5;241m.\u001b[39mto(device, dtype \u001b[38;5;28;01mif\u001b[39;00m t\u001b[38;5;241m.\u001b[39mis_floating_point() \u001b[38;5;129;01mor\u001b[39;00m t\u001b[38;5;241m.\u001b[39mis_complex() \u001b[38;5;28;01melse\u001b[39;00m \u001b[38;5;28;01mNone\u001b[39;00m, non_blocking)\n\u001b[0;32m-> 1145\u001b[0m \u001b[38;5;28;01mreturn\u001b[39;00m \u001b[38;5;28;43mself\u001b[39;49m\u001b[38;5;241;43m.\u001b[39;49m\u001b[43m_apply\u001b[49m\u001b[43m(\u001b[49m\u001b[43mconvert\u001b[49m\u001b[43m)\u001b[49m\n",
      "File \u001b[0;32m/opt/conda/lib/python3.10/site-packages/torch/nn/modules/module.py:797\u001b[0m, in \u001b[0;36mModule._apply\u001b[0;34m(self, fn)\u001b[0m\n\u001b[1;32m    795\u001b[0m \u001b[38;5;28;01mdef\u001b[39;00m \u001b[38;5;21m_apply\u001b[39m(\u001b[38;5;28mself\u001b[39m, fn):\n\u001b[1;32m    796\u001b[0m     \u001b[38;5;28;01mfor\u001b[39;00m module \u001b[38;5;129;01min\u001b[39;00m \u001b[38;5;28mself\u001b[39m\u001b[38;5;241m.\u001b[39mchildren():\n\u001b[0;32m--> 797\u001b[0m         \u001b[43mmodule\u001b[49m\u001b[38;5;241;43m.\u001b[39;49m\u001b[43m_apply\u001b[49m\u001b[43m(\u001b[49m\u001b[43mfn\u001b[49m\u001b[43m)\u001b[49m\n\u001b[1;32m    799\u001b[0m     \u001b[38;5;28;01mdef\u001b[39;00m \u001b[38;5;21mcompute_should_use_set_data\u001b[39m(tensor, tensor_applied):\n\u001b[1;32m    800\u001b[0m         \u001b[38;5;28;01mif\u001b[39;00m torch\u001b[38;5;241m.\u001b[39m_has_compatible_shallow_copy_type(tensor, tensor_applied):\n\u001b[1;32m    801\u001b[0m             \u001b[38;5;66;03m# If the new tensor has compatible tensor type as the existing tensor,\u001b[39;00m\n\u001b[1;32m    802\u001b[0m             \u001b[38;5;66;03m# the current behavior is to change the tensor in-place using `.data =`,\u001b[39;00m\n\u001b[0;32m   (...)\u001b[0m\n\u001b[1;32m    807\u001b[0m             \u001b[38;5;66;03m# global flag to let the user control whether they want the future\u001b[39;00m\n\u001b[1;32m    808\u001b[0m             \u001b[38;5;66;03m# behavior of overwriting the existing tensor or not.\u001b[39;00m\n",
      "File \u001b[0;32m/opt/conda/lib/python3.10/site-packages/torch/nn/modules/module.py:797\u001b[0m, in \u001b[0;36mModule._apply\u001b[0;34m(self, fn)\u001b[0m\n\u001b[1;32m    795\u001b[0m \u001b[38;5;28;01mdef\u001b[39;00m \u001b[38;5;21m_apply\u001b[39m(\u001b[38;5;28mself\u001b[39m, fn):\n\u001b[1;32m    796\u001b[0m     \u001b[38;5;28;01mfor\u001b[39;00m module \u001b[38;5;129;01min\u001b[39;00m \u001b[38;5;28mself\u001b[39m\u001b[38;5;241m.\u001b[39mchildren():\n\u001b[0;32m--> 797\u001b[0m         \u001b[43mmodule\u001b[49m\u001b[38;5;241;43m.\u001b[39;49m\u001b[43m_apply\u001b[49m\u001b[43m(\u001b[49m\u001b[43mfn\u001b[49m\u001b[43m)\u001b[49m\n\u001b[1;32m    799\u001b[0m     \u001b[38;5;28;01mdef\u001b[39;00m \u001b[38;5;21mcompute_should_use_set_data\u001b[39m(tensor, tensor_applied):\n\u001b[1;32m    800\u001b[0m         \u001b[38;5;28;01mif\u001b[39;00m torch\u001b[38;5;241m.\u001b[39m_has_compatible_shallow_copy_type(tensor, tensor_applied):\n\u001b[1;32m    801\u001b[0m             \u001b[38;5;66;03m# If the new tensor has compatible tensor type as the existing tensor,\u001b[39;00m\n\u001b[1;32m    802\u001b[0m             \u001b[38;5;66;03m# the current behavior is to change the tensor in-place using `.data =`,\u001b[39;00m\n\u001b[0;32m   (...)\u001b[0m\n\u001b[1;32m    807\u001b[0m             \u001b[38;5;66;03m# global flag to let the user control whether they want the future\u001b[39;00m\n\u001b[1;32m    808\u001b[0m             \u001b[38;5;66;03m# behavior of overwriting the existing tensor or not.\u001b[39;00m\n",
      "    \u001b[0;31m[... skipping similar frames: Module._apply at line 797 (2 times)]\u001b[0m\n",
      "File \u001b[0;32m/opt/conda/lib/python3.10/site-packages/torch/nn/modules/module.py:797\u001b[0m, in \u001b[0;36mModule._apply\u001b[0;34m(self, fn)\u001b[0m\n\u001b[1;32m    795\u001b[0m \u001b[38;5;28;01mdef\u001b[39;00m \u001b[38;5;21m_apply\u001b[39m(\u001b[38;5;28mself\u001b[39m, fn):\n\u001b[1;32m    796\u001b[0m     \u001b[38;5;28;01mfor\u001b[39;00m module \u001b[38;5;129;01min\u001b[39;00m \u001b[38;5;28mself\u001b[39m\u001b[38;5;241m.\u001b[39mchildren():\n\u001b[0;32m--> 797\u001b[0m         \u001b[43mmodule\u001b[49m\u001b[38;5;241;43m.\u001b[39;49m\u001b[43m_apply\u001b[49m\u001b[43m(\u001b[49m\u001b[43mfn\u001b[49m\u001b[43m)\u001b[49m\n\u001b[1;32m    799\u001b[0m     \u001b[38;5;28;01mdef\u001b[39;00m \u001b[38;5;21mcompute_should_use_set_data\u001b[39m(tensor, tensor_applied):\n\u001b[1;32m    800\u001b[0m         \u001b[38;5;28;01mif\u001b[39;00m torch\u001b[38;5;241m.\u001b[39m_has_compatible_shallow_copy_type(tensor, tensor_applied):\n\u001b[1;32m    801\u001b[0m             \u001b[38;5;66;03m# If the new tensor has compatible tensor type as the existing tensor,\u001b[39;00m\n\u001b[1;32m    802\u001b[0m             \u001b[38;5;66;03m# the current behavior is to change the tensor in-place using `.data =`,\u001b[39;00m\n\u001b[0;32m   (...)\u001b[0m\n\u001b[1;32m    807\u001b[0m             \u001b[38;5;66;03m# global flag to let the user control whether they want the future\u001b[39;00m\n\u001b[1;32m    808\u001b[0m             \u001b[38;5;66;03m# behavior of overwriting the existing tensor or not.\u001b[39;00m\n",
      "File \u001b[0;32m/opt/conda/lib/python3.10/site-packages/torch/nn/modules/module.py:820\u001b[0m, in \u001b[0;36mModule._apply\u001b[0;34m(self, fn)\u001b[0m\n\u001b[1;32m    816\u001b[0m \u001b[38;5;66;03m# Tensors stored in modules are graph leaves, and we don't want to\u001b[39;00m\n\u001b[1;32m    817\u001b[0m \u001b[38;5;66;03m# track autograd history of `param_applied`, so we have to use\u001b[39;00m\n\u001b[1;32m    818\u001b[0m \u001b[38;5;66;03m# `with torch.no_grad():`\u001b[39;00m\n\u001b[1;32m    819\u001b[0m \u001b[38;5;28;01mwith\u001b[39;00m torch\u001b[38;5;241m.\u001b[39mno_grad():\n\u001b[0;32m--> 820\u001b[0m     param_applied \u001b[38;5;241m=\u001b[39m \u001b[43mfn\u001b[49m\u001b[43m(\u001b[49m\u001b[43mparam\u001b[49m\u001b[43m)\u001b[49m\n\u001b[1;32m    821\u001b[0m should_use_set_data \u001b[38;5;241m=\u001b[39m compute_should_use_set_data(param, param_applied)\n\u001b[1;32m    822\u001b[0m \u001b[38;5;28;01mif\u001b[39;00m should_use_set_data:\n",
      "File \u001b[0;32m/opt/conda/lib/python3.10/site-packages/torch/nn/modules/module.py:1143\u001b[0m, in \u001b[0;36mModule.to.<locals>.convert\u001b[0;34m(t)\u001b[0m\n\u001b[1;32m   1140\u001b[0m \u001b[38;5;28;01mif\u001b[39;00m convert_to_format \u001b[38;5;129;01mis\u001b[39;00m \u001b[38;5;129;01mnot\u001b[39;00m \u001b[38;5;28;01mNone\u001b[39;00m \u001b[38;5;129;01mand\u001b[39;00m t\u001b[38;5;241m.\u001b[39mdim() \u001b[38;5;129;01min\u001b[39;00m (\u001b[38;5;241m4\u001b[39m, \u001b[38;5;241m5\u001b[39m):\n\u001b[1;32m   1141\u001b[0m     \u001b[38;5;28;01mreturn\u001b[39;00m t\u001b[38;5;241m.\u001b[39mto(device, dtype \u001b[38;5;28;01mif\u001b[39;00m t\u001b[38;5;241m.\u001b[39mis_floating_point() \u001b[38;5;129;01mor\u001b[39;00m t\u001b[38;5;241m.\u001b[39mis_complex() \u001b[38;5;28;01melse\u001b[39;00m \u001b[38;5;28;01mNone\u001b[39;00m,\n\u001b[1;32m   1142\u001b[0m                 non_blocking, memory_format\u001b[38;5;241m=\u001b[39mconvert_to_format)\n\u001b[0;32m-> 1143\u001b[0m \u001b[38;5;28;01mreturn\u001b[39;00m \u001b[43mt\u001b[49m\u001b[38;5;241;43m.\u001b[39;49m\u001b[43mto\u001b[49m\u001b[43m(\u001b[49m\u001b[43mdevice\u001b[49m\u001b[43m,\u001b[49m\u001b[43m \u001b[49m\u001b[43mdtype\u001b[49m\u001b[43m \u001b[49m\u001b[38;5;28;43;01mif\u001b[39;49;00m\u001b[43m \u001b[49m\u001b[43mt\u001b[49m\u001b[38;5;241;43m.\u001b[39;49m\u001b[43mis_floating_point\u001b[49m\u001b[43m(\u001b[49m\u001b[43m)\u001b[49m\u001b[43m \u001b[49m\u001b[38;5;129;43;01mor\u001b[39;49;00m\u001b[43m \u001b[49m\u001b[43mt\u001b[49m\u001b[38;5;241;43m.\u001b[39;49m\u001b[43mis_complex\u001b[49m\u001b[43m(\u001b[49m\u001b[43m)\u001b[49m\u001b[43m \u001b[49m\u001b[38;5;28;43;01melse\u001b[39;49;00m\u001b[43m \u001b[49m\u001b[38;5;28;43;01mNone\u001b[39;49;00m\u001b[43m,\u001b[49m\u001b[43m \u001b[49m\u001b[43mnon_blocking\u001b[49m\u001b[43m)\u001b[49m\n",
      "\u001b[0;31mOutOfMemoryError\u001b[0m: CUDA out of memory. Tried to allocate 270.00 MiB (GPU 0; 22.20 GiB total capacity; 21.42 GiB already allocated; 73.12 MiB free; 21.43 GiB reserved in total by PyTorch) If reserved memory is >> allocated memory try setting max_split_size_mb to avoid fragmentation.  See documentation for Memory Management and PYTORCH_CUDA_ALLOC_CONF"
     ]
    }
   ],
   "source": [
    "prompt = \"My favourite condiment is\"\n",
    "\n",
    "model_inputs = tokenizer([prompt], return_tensors=\"pt\").to(device)\n",
    "model.to(device)\n",
    "\n",
    "generated_ids = model.generate(**model_inputs, max_new_tokens=100, do_sample=True)\n",
    "tokenizer.batch_decode(generated_ids)[0]"
   ]
  },
  {
   "cell_type": "code",
   "execution_count": null,
   "id": "735fdbbe-6d9a-47a9-a37e-af9219779bab",
   "metadata": {},
   "outputs": [],
   "source": []
  }
 ],
 "metadata": {
  "availableInstances": [
   {
    "_defaultOrder": 0,
    "_isFastLaunch": true,
    "category": "General purpose",
    "gpuNum": 0,
    "hideHardwareSpecs": false,
    "memoryGiB": 4,
    "name": "ml.t3.medium",
    "vcpuNum": 2
   },
   {
    "_defaultOrder": 1,
    "_isFastLaunch": false,
    "category": "General purpose",
    "gpuNum": 0,
    "hideHardwareSpecs": false,
    "memoryGiB": 8,
    "name": "ml.t3.large",
    "vcpuNum": 2
   },
   {
    "_defaultOrder": 2,
    "_isFastLaunch": false,
    "category": "General purpose",
    "gpuNum": 0,
    "hideHardwareSpecs": false,
    "memoryGiB": 16,
    "name": "ml.t3.xlarge",
    "vcpuNum": 4
   },
   {
    "_defaultOrder": 3,
    "_isFastLaunch": false,
    "category": "General purpose",
    "gpuNum": 0,
    "hideHardwareSpecs": false,
    "memoryGiB": 32,
    "name": "ml.t3.2xlarge",
    "vcpuNum": 8
   },
   {
    "_defaultOrder": 4,
    "_isFastLaunch": true,
    "category": "General purpose",
    "gpuNum": 0,
    "hideHardwareSpecs": false,
    "memoryGiB": 8,
    "name": "ml.m5.large",
    "vcpuNum": 2
   },
   {
    "_defaultOrder": 5,
    "_isFastLaunch": false,
    "category": "General purpose",
    "gpuNum": 0,
    "hideHardwareSpecs": false,
    "memoryGiB": 16,
    "name": "ml.m5.xlarge",
    "vcpuNum": 4
   },
   {
    "_defaultOrder": 6,
    "_isFastLaunch": false,
    "category": "General purpose",
    "gpuNum": 0,
    "hideHardwareSpecs": false,
    "memoryGiB": 32,
    "name": "ml.m5.2xlarge",
    "vcpuNum": 8
   },
   {
    "_defaultOrder": 7,
    "_isFastLaunch": false,
    "category": "General purpose",
    "gpuNum": 0,
    "hideHardwareSpecs": false,
    "memoryGiB": 64,
    "name": "ml.m5.4xlarge",
    "vcpuNum": 16
   },
   {
    "_defaultOrder": 8,
    "_isFastLaunch": false,
    "category": "General purpose",
    "gpuNum": 0,
    "hideHardwareSpecs": false,
    "memoryGiB": 128,
    "name": "ml.m5.8xlarge",
    "vcpuNum": 32
   },
   {
    "_defaultOrder": 9,
    "_isFastLaunch": false,
    "category": "General purpose",
    "gpuNum": 0,
    "hideHardwareSpecs": false,
    "memoryGiB": 192,
    "name": "ml.m5.12xlarge",
    "vcpuNum": 48
   },
   {
    "_defaultOrder": 10,
    "_isFastLaunch": false,
    "category": "General purpose",
    "gpuNum": 0,
    "hideHardwareSpecs": false,
    "memoryGiB": 256,
    "name": "ml.m5.16xlarge",
    "vcpuNum": 64
   },
   {
    "_defaultOrder": 11,
    "_isFastLaunch": false,
    "category": "General purpose",
    "gpuNum": 0,
    "hideHardwareSpecs": false,
    "memoryGiB": 384,
    "name": "ml.m5.24xlarge",
    "vcpuNum": 96
   },
   {
    "_defaultOrder": 12,
    "_isFastLaunch": false,
    "category": "General purpose",
    "gpuNum": 0,
    "hideHardwareSpecs": false,
    "memoryGiB": 8,
    "name": "ml.m5d.large",
    "vcpuNum": 2
   },
   {
    "_defaultOrder": 13,
    "_isFastLaunch": false,
    "category": "General purpose",
    "gpuNum": 0,
    "hideHardwareSpecs": false,
    "memoryGiB": 16,
    "name": "ml.m5d.xlarge",
    "vcpuNum": 4
   },
   {
    "_defaultOrder": 14,
    "_isFastLaunch": false,
    "category": "General purpose",
    "gpuNum": 0,
    "hideHardwareSpecs": false,
    "memoryGiB": 32,
    "name": "ml.m5d.2xlarge",
    "vcpuNum": 8
   },
   {
    "_defaultOrder": 15,
    "_isFastLaunch": false,
    "category": "General purpose",
    "gpuNum": 0,
    "hideHardwareSpecs": false,
    "memoryGiB": 64,
    "name": "ml.m5d.4xlarge",
    "vcpuNum": 16
   },
   {
    "_defaultOrder": 16,
    "_isFastLaunch": false,
    "category": "General purpose",
    "gpuNum": 0,
    "hideHardwareSpecs": false,
    "memoryGiB": 128,
    "name": "ml.m5d.8xlarge",
    "vcpuNum": 32
   },
   {
    "_defaultOrder": 17,
    "_isFastLaunch": false,
    "category": "General purpose",
    "gpuNum": 0,
    "hideHardwareSpecs": false,
    "memoryGiB": 192,
    "name": "ml.m5d.12xlarge",
    "vcpuNum": 48
   },
   {
    "_defaultOrder": 18,
    "_isFastLaunch": false,
    "category": "General purpose",
    "gpuNum": 0,
    "hideHardwareSpecs": false,
    "memoryGiB": 256,
    "name": "ml.m5d.16xlarge",
    "vcpuNum": 64
   },
   {
    "_defaultOrder": 19,
    "_isFastLaunch": false,
    "category": "General purpose",
    "gpuNum": 0,
    "hideHardwareSpecs": false,
    "memoryGiB": 384,
    "name": "ml.m5d.24xlarge",
    "vcpuNum": 96
   },
   {
    "_defaultOrder": 20,
    "_isFastLaunch": false,
    "category": "General purpose",
    "gpuNum": 0,
    "hideHardwareSpecs": true,
    "memoryGiB": 0,
    "name": "ml.geospatial.interactive",
    "supportedImageNames": [
     "sagemaker-geospatial-v1-0"
    ],
    "vcpuNum": 0
   },
   {
    "_defaultOrder": 21,
    "_isFastLaunch": true,
    "category": "Compute optimized",
    "gpuNum": 0,
    "hideHardwareSpecs": false,
    "memoryGiB": 4,
    "name": "ml.c5.large",
    "vcpuNum": 2
   },
   {
    "_defaultOrder": 22,
    "_isFastLaunch": false,
    "category": "Compute optimized",
    "gpuNum": 0,
    "hideHardwareSpecs": false,
    "memoryGiB": 8,
    "name": "ml.c5.xlarge",
    "vcpuNum": 4
   },
   {
    "_defaultOrder": 23,
    "_isFastLaunch": false,
    "category": "Compute optimized",
    "gpuNum": 0,
    "hideHardwareSpecs": false,
    "memoryGiB": 16,
    "name": "ml.c5.2xlarge",
    "vcpuNum": 8
   },
   {
    "_defaultOrder": 24,
    "_isFastLaunch": false,
    "category": "Compute optimized",
    "gpuNum": 0,
    "hideHardwareSpecs": false,
    "memoryGiB": 32,
    "name": "ml.c5.4xlarge",
    "vcpuNum": 16
   },
   {
    "_defaultOrder": 25,
    "_isFastLaunch": false,
    "category": "Compute optimized",
    "gpuNum": 0,
    "hideHardwareSpecs": false,
    "memoryGiB": 72,
    "name": "ml.c5.9xlarge",
    "vcpuNum": 36
   },
   {
    "_defaultOrder": 26,
    "_isFastLaunch": false,
    "category": "Compute optimized",
    "gpuNum": 0,
    "hideHardwareSpecs": false,
    "memoryGiB": 96,
    "name": "ml.c5.12xlarge",
    "vcpuNum": 48
   },
   {
    "_defaultOrder": 27,
    "_isFastLaunch": false,
    "category": "Compute optimized",
    "gpuNum": 0,
    "hideHardwareSpecs": false,
    "memoryGiB": 144,
    "name": "ml.c5.18xlarge",
    "vcpuNum": 72
   },
   {
    "_defaultOrder": 28,
    "_isFastLaunch": false,
    "category": "Compute optimized",
    "gpuNum": 0,
    "hideHardwareSpecs": false,
    "memoryGiB": 192,
    "name": "ml.c5.24xlarge",
    "vcpuNum": 96
   },
   {
    "_defaultOrder": 29,
    "_isFastLaunch": true,
    "category": "Accelerated computing",
    "gpuNum": 1,
    "hideHardwareSpecs": false,
    "memoryGiB": 16,
    "name": "ml.g4dn.xlarge",
    "vcpuNum": 4
   },
   {
    "_defaultOrder": 30,
    "_isFastLaunch": false,
    "category": "Accelerated computing",
    "gpuNum": 1,
    "hideHardwareSpecs": false,
    "memoryGiB": 32,
    "name": "ml.g4dn.2xlarge",
    "vcpuNum": 8
   },
   {
    "_defaultOrder": 31,
    "_isFastLaunch": false,
    "category": "Accelerated computing",
    "gpuNum": 1,
    "hideHardwareSpecs": false,
    "memoryGiB": 64,
    "name": "ml.g4dn.4xlarge",
    "vcpuNum": 16
   },
   {
    "_defaultOrder": 32,
    "_isFastLaunch": false,
    "category": "Accelerated computing",
    "gpuNum": 1,
    "hideHardwareSpecs": false,
    "memoryGiB": 128,
    "name": "ml.g4dn.8xlarge",
    "vcpuNum": 32
   },
   {
    "_defaultOrder": 33,
    "_isFastLaunch": false,
    "category": "Accelerated computing",
    "gpuNum": 4,
    "hideHardwareSpecs": false,
    "memoryGiB": 192,
    "name": "ml.g4dn.12xlarge",
    "vcpuNum": 48
   },
   {
    "_defaultOrder": 34,
    "_isFastLaunch": false,
    "category": "Accelerated computing",
    "gpuNum": 1,
    "hideHardwareSpecs": false,
    "memoryGiB": 256,
    "name": "ml.g4dn.16xlarge",
    "vcpuNum": 64
   },
   {
    "_defaultOrder": 35,
    "_isFastLaunch": false,
    "category": "Accelerated computing",
    "gpuNum": 1,
    "hideHardwareSpecs": false,
    "memoryGiB": 61,
    "name": "ml.p3.2xlarge",
    "vcpuNum": 8
   },
   {
    "_defaultOrder": 36,
    "_isFastLaunch": false,
    "category": "Accelerated computing",
    "gpuNum": 4,
    "hideHardwareSpecs": false,
    "memoryGiB": 244,
    "name": "ml.p3.8xlarge",
    "vcpuNum": 32
   },
   {
    "_defaultOrder": 37,
    "_isFastLaunch": false,
    "category": "Accelerated computing",
    "gpuNum": 8,
    "hideHardwareSpecs": false,
    "memoryGiB": 488,
    "name": "ml.p3.16xlarge",
    "vcpuNum": 64
   },
   {
    "_defaultOrder": 38,
    "_isFastLaunch": false,
    "category": "Accelerated computing",
    "gpuNum": 8,
    "hideHardwareSpecs": false,
    "memoryGiB": 768,
    "name": "ml.p3dn.24xlarge",
    "vcpuNum": 96
   },
   {
    "_defaultOrder": 39,
    "_isFastLaunch": false,
    "category": "Memory Optimized",
    "gpuNum": 0,
    "hideHardwareSpecs": false,
    "memoryGiB": 16,
    "name": "ml.r5.large",
    "vcpuNum": 2
   },
   {
    "_defaultOrder": 40,
    "_isFastLaunch": false,
    "category": "Memory Optimized",
    "gpuNum": 0,
    "hideHardwareSpecs": false,
    "memoryGiB": 32,
    "name": "ml.r5.xlarge",
    "vcpuNum": 4
   },
   {
    "_defaultOrder": 41,
    "_isFastLaunch": false,
    "category": "Memory Optimized",
    "gpuNum": 0,
    "hideHardwareSpecs": false,
    "memoryGiB": 64,
    "name": "ml.r5.2xlarge",
    "vcpuNum": 8
   },
   {
    "_defaultOrder": 42,
    "_isFastLaunch": false,
    "category": "Memory Optimized",
    "gpuNum": 0,
    "hideHardwareSpecs": false,
    "memoryGiB": 128,
    "name": "ml.r5.4xlarge",
    "vcpuNum": 16
   },
   {
    "_defaultOrder": 43,
    "_isFastLaunch": false,
    "category": "Memory Optimized",
    "gpuNum": 0,
    "hideHardwareSpecs": false,
    "memoryGiB": 256,
    "name": "ml.r5.8xlarge",
    "vcpuNum": 32
   },
   {
    "_defaultOrder": 44,
    "_isFastLaunch": false,
    "category": "Memory Optimized",
    "gpuNum": 0,
    "hideHardwareSpecs": false,
    "memoryGiB": 384,
    "name": "ml.r5.12xlarge",
    "vcpuNum": 48
   },
   {
    "_defaultOrder": 45,
    "_isFastLaunch": false,
    "category": "Memory Optimized",
    "gpuNum": 0,
    "hideHardwareSpecs": false,
    "memoryGiB": 512,
    "name": "ml.r5.16xlarge",
    "vcpuNum": 64
   },
   {
    "_defaultOrder": 46,
    "_isFastLaunch": false,
    "category": "Memory Optimized",
    "gpuNum": 0,
    "hideHardwareSpecs": false,
    "memoryGiB": 768,
    "name": "ml.r5.24xlarge",
    "vcpuNum": 96
   },
   {
    "_defaultOrder": 47,
    "_isFastLaunch": false,
    "category": "Accelerated computing",
    "gpuNum": 1,
    "hideHardwareSpecs": false,
    "memoryGiB": 16,
    "name": "ml.g5.xlarge",
    "vcpuNum": 4
   },
   {
    "_defaultOrder": 48,
    "_isFastLaunch": false,
    "category": "Accelerated computing",
    "gpuNum": 1,
    "hideHardwareSpecs": false,
    "memoryGiB": 32,
    "name": "ml.g5.2xlarge",
    "vcpuNum": 8
   },
   {
    "_defaultOrder": 49,
    "_isFastLaunch": false,
    "category": "Accelerated computing",
    "gpuNum": 1,
    "hideHardwareSpecs": false,
    "memoryGiB": 64,
    "name": "ml.g5.4xlarge",
    "vcpuNum": 16
   },
   {
    "_defaultOrder": 50,
    "_isFastLaunch": false,
    "category": "Accelerated computing",
    "gpuNum": 1,
    "hideHardwareSpecs": false,
    "memoryGiB": 128,
    "name": "ml.g5.8xlarge",
    "vcpuNum": 32
   },
   {
    "_defaultOrder": 51,
    "_isFastLaunch": false,
    "category": "Accelerated computing",
    "gpuNum": 1,
    "hideHardwareSpecs": false,
    "memoryGiB": 256,
    "name": "ml.g5.16xlarge",
    "vcpuNum": 64
   },
   {
    "_defaultOrder": 52,
    "_isFastLaunch": false,
    "category": "Accelerated computing",
    "gpuNum": 4,
    "hideHardwareSpecs": false,
    "memoryGiB": 192,
    "name": "ml.g5.12xlarge",
    "vcpuNum": 48
   },
   {
    "_defaultOrder": 53,
    "_isFastLaunch": false,
    "category": "Accelerated computing",
    "gpuNum": 4,
    "hideHardwareSpecs": false,
    "memoryGiB": 384,
    "name": "ml.g5.24xlarge",
    "vcpuNum": 96
   },
   {
    "_defaultOrder": 54,
    "_isFastLaunch": false,
    "category": "Accelerated computing",
    "gpuNum": 8,
    "hideHardwareSpecs": false,
    "memoryGiB": 768,
    "name": "ml.g5.48xlarge",
    "vcpuNum": 192
   },
   {
    "_defaultOrder": 55,
    "_isFastLaunch": false,
    "category": "Accelerated computing",
    "gpuNum": 8,
    "hideHardwareSpecs": false,
    "memoryGiB": 1152,
    "name": "ml.p4d.24xlarge",
    "vcpuNum": 96
   },
   {
    "_defaultOrder": 56,
    "_isFastLaunch": false,
    "category": "Accelerated computing",
    "gpuNum": 8,
    "hideHardwareSpecs": false,
    "memoryGiB": 1152,
    "name": "ml.p4de.24xlarge",
    "vcpuNum": 96
   },
   {
    "_defaultOrder": 57,
    "_isFastLaunch": false,
    "category": "Accelerated computing",
    "gpuNum": 0,
    "hideHardwareSpecs": false,
    "memoryGiB": 32,
    "name": "ml.trn1.2xlarge",
    "vcpuNum": 8
   },
   {
    "_defaultOrder": 58,
    "_isFastLaunch": false,
    "category": "Accelerated computing",
    "gpuNum": 0,
    "hideHardwareSpecs": false,
    "memoryGiB": 512,
    "name": "ml.trn1.32xlarge",
    "vcpuNum": 128
   },
   {
    "_defaultOrder": 59,
    "_isFastLaunch": false,
    "category": "Accelerated computing",
    "gpuNum": 0,
    "hideHardwareSpecs": false,
    "memoryGiB": 512,
    "name": "ml.trn1n.32xlarge",
    "vcpuNum": 128
   }
  ],
  "instance_type": "ml.g5.2xlarge",
  "kernelspec": {
   "display_name": "Python 3 (SageMaker Distribution v0 GPU)",
   "language": "python",
   "name": "python3__SAGEMAKER_INTERNAL__arn:aws:sagemaker:eu-west-1:819792524951:image/sagemaker-distribution-gpu-v0"
  },
  "language_info": {
   "codemirror_mode": {
    "name": "ipython",
    "version": 3
   },
   "file_extension": ".py",
   "mimetype": "text/x-python",
   "name": "python",
   "nbconvert_exporter": "python",
   "pygments_lexer": "ipython3",
   "version": "3.8.18"
  }
 },
 "nbformat": 4,
 "nbformat_minor": 5
}
