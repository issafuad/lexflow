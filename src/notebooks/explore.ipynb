{
 "cells": [
  {
   "cell_type": "code",
   "execution_count": 1,
   "id": "e619b338-5dd9-42c1-8449-2c83efbb08ad",
   "metadata": {
    "tags": []
   },
   "outputs": [],
   "source": [
    "import sys\n",
    "import os\n",
    "sys.path.insert(0, os.path.abspath(os.path.join('../../')))\n",
    "import logging\n",
    "# Logging setup\n",
    "handler = logging.StreamHandler(sys.stdout)\n",
    "formatter = logging.Formatter('%(asctime)s - %(name)s - %(levelname)s - %(message)s')\n",
    "handler.setFormatter(formatter)\n",
    "\n",
    "module_logger = logging.getLogger()\n",
    "module_logger.addHandler(handler)\n",
    "module_logger.setLevel(logging.INFO)"
   ]
  },
  {
   "cell_type": "code",
   "execution_count": 2,
   "id": "ba386a3c-4852-4491-947e-7ebc322f7e2a",
   "metadata": {
    "tags": []
   },
   "outputs": [],
   "source": [
    "%load_ext autoreload\n",
    "%autoreload 2"
   ]
  },
  {
   "cell_type": "code",
   "execution_count": 3,
   "id": "dd1da0e7-1e16-492a-abca-2832c4b87a15",
   "metadata": {
    "tags": []
   },
   "outputs": [],
   "source": [
    "from src.base import LanguageModel, Chain, Prompt, ProbabilisticComponent, Threads, Concept, ConceptRegistry, use_registry\n",
    "import pandas as pd\n",
    "import dtale"
   ]
  },
  {
   "cell_type": "code",
   "execution_count": null,
   "id": "23621dd0-800c-48d3-b830-6f6a54410d88",
   "metadata": {
    "tags": []
   },
   "outputs": [],
   "source": []
  },
  {
   "cell_type": "markdown",
   "id": "d20d4f7e-37e5-46dd-a286-e853e302f1cc",
   "metadata": {},
   "source": [
    "# tests"
   ]
  },
  {
   "cell_type": "code",
   "execution_count": 4,
   "id": "42101420-f146-4b81-8831-1ed3d095f32c",
   "metadata": {
    "tags": []
   },
   "outputs": [],
   "source": [
    "# pd.DataFrame(chain.memory)\n",
    "# dtale.show(pd.DataFrame(lm3.memory))\n",
    "\n",
    "# parsers\n",
    "# list as output\n",
    "# routers\n",
    "# retriever\n"
   ]
  },
  {
   "cell_type": "code",
   "execution_count": 5,
   "id": "31921e3b-7cd8-4b6d-a660-4fa7b34e1b43",
   "metadata": {
    "tags": []
   },
   "outputs": [],
   "source": [
    "# add placeholders and import \n",
    "\n",
    "chain1 = Chain([ProbabilisticComponent(LanguageModel(\"OpenAI1\"), Prompt(\"tell me a joke about {subject}.\"), Concept('joke')), \n",
    "                ProbabilisticComponent(LanguageModel(\"Google1\"), Prompt(\"what do you think of this joke: {joke}?\"), Concept('other')), \n",
    "                ProbabilisticComponent(LanguageModel(\"Microsoft1\"), Prompt(\"can you explain why this joke is funny: {joke}?\"), Concept('subject'))])\n",
    "\n",
    "chain2 = Chain([ProbabilisticComponent(LanguageModel(\"OpenAI2\"), Prompt(\"tell me a joke about {subject}.\"), Concept('joke')), \n",
    "                ProbabilisticComponent(LanguageModel(\"Google2\"), Prompt(\"what do you think of this joke: {joke}?\"), Concept('think')), \n",
    "                ProbabilisticComponent(LanguageModel(\"Microsoft2\"), Prompt(\"can you explain why this joke is funny: {think}?\"), Concept('lala'))])\n",
    "\n",
    "threads1 = Threads([ProbabilisticComponent(LanguageModel(\"OpenAI2\"), Prompt(\"tell me a joke about {lala}.\"), Concept('joke')), \n",
    "                ProbabilisticComponent(LanguageModel(\"Google2\"), Prompt(\"what do you think of this joke: {else}?\"), Concept('think')), \n",
    "                ProbabilisticComponent(LanguageModel(\"Microsoft2\"), Prompt(\"can you explain why this joke is funny: {think}?\"), Concept('kaka'))])\n",
    "\n",
    "component = ProbabilisticComponent(LanguageModel(\"OpenAI2\"), Prompt(\"tell me a joke about {other}.\"), Concept('joke'))\n",
    "\n",
    "# TODO this should be a dict of string to the placeholder \n",
    "# TODO collect all placeholders in a dict of name to placeholder\n",
    "# TODO assign a value to the input placeholders"
   ]
  },
  {
   "cell_type": "markdown",
   "id": "4d2d72f0-b4e1-4c59-b4af-1cdf5b8776a8",
   "metadata": {},
   "source": [
    "## Component"
   ]
  },
  {
   "cell_type": "code",
   "execution_count": 6,
   "id": "9bd04f5d-6756-4a5a-9ac1-fe6957897daf",
   "metadata": {
    "tags": []
   },
   "outputs": [],
   "source": [
    "initial_concepts = [Concept(name='other', string_content='computer'), Concept(name='something', string_content='something')]\n",
    "concept_registry = ConceptRegistry(initial_concepts)\n",
    "with use_registry(concept_registry):\n",
    "    component.run()"
   ]
  },
  {
   "cell_type": "code",
   "execution_count": 7,
   "id": "5276937e-7d25-4664-b8ea-94745c010a98",
   "metadata": {
    "tags": []
   },
   "outputs": [
    {
     "data": {
      "text/plain": [
       "['Response of OpenAI2: to (tell me a joke about computer.)']"
      ]
     },
     "execution_count": 7,
     "metadata": {},
     "output_type": "execute_result"
    }
   ],
   "source": [
    "component.memory"
   ]
  },
  {
   "cell_type": "markdown",
   "id": "2ad563c6-9205-46f3-a15c-812aeb65ed53",
   "metadata": {},
   "source": [
    "## Chain"
   ]
  },
  {
   "cell_type": "code",
   "execution_count": null,
   "id": "eef45c63-e79d-4dac-870e-ec03a5762b9d",
   "metadata": {},
   "outputs": [],
   "source": []
  },
  {
   "cell_type": "code",
   "execution_count": 8,
   "id": "3039989d-935b-437d-8cf9-18df6668b935",
   "metadata": {
    "tags": []
   },
   "outputs": [
    {
     "name": "stderr",
     "output_type": "stream",
     "text": [
      "/Users/fuad/Documents/projects/lexflow/src/base/executable.py:180: UserWarning:\n",
      "\n",
      "Overwrite Warning: \n",
      "{'choice': 'all',\n",
      " 'inputted': True,\n",
      " 'level': 0,\n",
      " 'list_concepts': None,\n",
      " 'list_content': None,\n",
      " 'listify_func': <function listify_func at 0x7fe8b4afbb50>,\n",
      " 'name': 'subject',\n",
      " 'string_content': 'computer',\n",
      " 'type': 'identity'}\n",
      "\n",
      " Is being overwritten by:\n",
      " {'choice': 'all',\n",
      " 'inputted': False,\n",
      " 'level': 2,\n",
      " 'list_concepts': None,\n",
      " 'list_content': None,\n",
      " 'listify_func': <function listify_func at 0x7fe8b4afbb50>,\n",
      " 'name': 'subject',\n",
      " 'string_content': 'Response of Microsoft1: to (can you explain why this joke '\n",
      "                   'is funny: Response of OpenAI1: to (tell me a joke about '\n",
      "                   'computer.)?)',\n",
      " 'type': 'identity'}\n",
      "\n"
     ]
    }
   ],
   "source": [
    "# Run the chain\n",
    "initial_concepts = [Concept(name='something', string_content='something'), Concept(name='subject', string_content='computer')]\n",
    "concept_registry = ConceptRegistry(initial_concepts)\n",
    "with use_registry(concept_registry):\n",
    "    out = chain1.run()"
   ]
  },
  {
   "cell_type": "code",
   "execution_count": 9,
   "id": "cfa51120-c838-4223-9fbe-b12a649b65b5",
   "metadata": {
    "tags": []
   },
   "outputs": [
    {
     "data": {
      "text/plain": [
       "ConceptRegistry:\n",
       "  - something:\n",
       "    Name: something\n",
       "    Type: identity\n",
       "    Choice: all\n",
       "    Listify_func: <function listify_func at 0x7fe8b4afbb50>\n",
       "    String_content: something\n",
       "    List_content: None\n",
       "    List_concepts: None\n",
       "    Inputted: True\n",
       "    Level: 0\n",
       "  - joke:\n",
       "    Name: joke\n",
       "    Type: identity\n",
       "    Choice: all\n",
       "    Listify_func: <function listify_func at 0x7fe8b4afbb50>\n",
       "    String_content: Response of OpenAI1: to (tell me a joke about computer.)\n",
       "    List_content: None\n",
       "    List_concepts: None\n",
       "    Inputted: False\n",
       "    Level: 0\n",
       "  - other:\n",
       "    Name: other\n",
       "    Type: identity\n",
       "    Choice: all\n",
       "    Listify_func: <function listify_func at 0x7fe8b4afbb50>\n",
       "    String_content: Response of Google1: to (what do you think of this joke: Response of OpenAI1: to (tell me a joke about computer.)?)\n",
       "    List_content: None\n",
       "    List_concepts: None\n",
       "    Inputted: False\n",
       "    Level: 1\n",
       "  - subject:\n",
       "    Name: subject\n",
       "    Type: identity\n",
       "    Choice: all\n",
       "    Listify_func: <function listify_func at 0x7fe8b4afbb50>\n",
       "    String_content: Response of Microsoft1: to (can you explain why this joke is funny: Response of OpenAI1: to (tell me a joke about computer.)?)\n",
       "    List_content: None\n",
       "    List_concepts: None\n",
       "    Inputted: False\n",
       "    Level: 2"
      ]
     },
     "execution_count": 9,
     "metadata": {},
     "output_type": "execute_result"
    }
   ],
   "source": [
    "concept_registry"
   ]
  },
  {
   "cell_type": "markdown",
   "id": "38233513-c6cb-4f23-8aa8-762ed38b47c9",
   "metadata": {},
   "source": [
    "## Chain of chains"
   ]
  },
  {
   "cell_type": "code",
   "execution_count": 10,
   "id": "3e71b2a9-30c1-4e49-ab8a-df4f693f7ffc",
   "metadata": {
    "tags": []
   },
   "outputs": [],
   "source": [
    "chain3 = Chain([chain1, chain2])"
   ]
  },
  {
   "cell_type": "code",
   "execution_count": 11,
   "id": "471b366b-b2a5-4370-bbfe-d48c40cb1df2",
   "metadata": {
    "tags": []
   },
   "outputs": [
    {
     "data": {
      "text/plain": [
       "ConceptRegistry:\n",
       "  - subject:\n",
       "    Name: subject\n",
       "    Type: identity\n",
       "    Choice: all\n",
       "    Listify_func: <function listify_func at 0x7fe8b4afbb50>\n",
       "    String_content: computer\n",
       "    List_content: None\n",
       "    List_concepts: None\n",
       "    Inputted: True\n",
       "    Level: 0\n",
       "  - else:\n",
       "    Name: else\n",
       "    Type: identity\n",
       "    Choice: all\n",
       "    Listify_func: <function listify_func at 0x7fe8b4afbb50>\n",
       "    String_content: else\n",
       "    List_content: None\n",
       "    List_concepts: None\n",
       "    Inputted: True\n",
       "    Level: 0\n",
       "  - joke:\n",
       "    Name: joke\n",
       "    Type: identity\n",
       "    Choice: all\n",
       "    Listify_func: <function listify_func at 0x7fe8b4afbb50>\n",
       "    String_content: Response of OpenAI2: to (tell me a joke about computer.)\n",
       "    List_content: None\n",
       "    List_concepts: None\n",
       "    Inputted: False\n",
       "    Level: 0\n",
       "  - think:\n",
       "    Name: think\n",
       "    Type: identity\n",
       "    Choice: all\n",
       "    Listify_func: <function listify_func at 0x7fe8b4afbb50>\n",
       "    String_content: Response of Google2: to (what do you think of this joke: Response of OpenAI2: to (tell me a joke about computer.)?)\n",
       "    List_content: None\n",
       "    List_concepts: None\n",
       "    Inputted: False\n",
       "    Level: 1\n",
       "  - lala:\n",
       "    Name: lala\n",
       "    Type: identity\n",
       "    Choice: all\n",
       "    Listify_func: <function listify_func at 0x7fe8b4afbb50>\n",
       "    String_content: Response of Microsoft2: to (can you explain why this joke is funny: Response of Google2: to (what do you think of this joke: Response of OpenAI2: to (tell me a joke about computer.)?)?)\n",
       "    List_content: None\n",
       "    List_concepts: None\n",
       "    Inputted: False\n",
       "    Level: 2"
      ]
     },
     "execution_count": 11,
     "metadata": {},
     "output_type": "execute_result"
    }
   ],
   "source": [
    "\n",
    "initial_concepts = [Concept(name='subject', string_content='computer'), Concept(name='else', string_content='else')]\n",
    "concept_registry = ConceptRegistry(initial_concepts)\n",
    "with use_registry(concept_registry):\n",
    "    chain3.run()\n",
    "concept_registry"
   ]
  },
  {
   "cell_type": "markdown",
   "id": "c7f8c9ce-4158-4d33-9f61-412bf03de885",
   "metadata": {},
   "source": [
    "## Threads"
   ]
  },
  {
   "cell_type": "code",
   "execution_count": 12,
   "id": "63aa06ec-580e-4299-b929-096424be13ac",
   "metadata": {
    "tags": []
   },
   "outputs": [
    {
     "name": "stderr",
     "output_type": "stream",
     "text": [
      "/Users/fuad/Documents/projects/lexflow/src/base/executable.py:180: UserWarning:\n",
      "\n",
      "Overwrite Warning: \n",
      "{'choice': 'all',\n",
      " 'inputted': True,\n",
      " 'level': 0,\n",
      " 'list_concepts': None,\n",
      " 'list_content': None,\n",
      " 'listify_func': <function listify_func at 0x7fe8b4afbb50>,\n",
      " 'name': 'think',\n",
      " 'string_content': 'something',\n",
      " 'type': 'identity'}\n",
      "\n",
      " Is being overwritten by:\n",
      " {'choice': 'all',\n",
      " 'inputted': False,\n",
      " 'level': 1,\n",
      " 'list_concepts': None,\n",
      " 'list_content': None,\n",
      " 'listify_func': <function listify_func at 0x7fe8b4afbb50>,\n",
      " 'name': 'think',\n",
      " 'string_content': 'Response of Google2: to (what do you think of this joke: '\n",
      "                   'something?)',\n",
      " 'type': 'identity'}\n",
      "\n"
     ]
    }
   ],
   "source": [
    "initial_concepts = [Concept(name='subject', string_content='computer'), Concept(name='lala', string_content='something'), \n",
    "                        Concept(name='think', string_content='something'), Concept(name='else', string_content='something')]\n",
    "concept_registry = ConceptRegistry(initial_concepts)\n",
    "with use_registry(concept_registry):\n",
    "    threads1._run()\n"
   ]
  },
  {
   "cell_type": "code",
   "execution_count": 13,
   "id": "7e24e6c7-0db0-4690-a92b-c2b7e0f72ff8",
   "metadata": {
    "tags": []
   },
   "outputs": [
    {
     "data": {
      "text/plain": [
       "ConceptRegistry:\n",
       "  - subject:\n",
       "    Name: subject\n",
       "    Type: identity\n",
       "    Choice: all\n",
       "    Listify_func: <function listify_func at 0x7fe8b4afbb50>\n",
       "    String_content: computer\n",
       "    List_content: None\n",
       "    List_concepts: None\n",
       "    Inputted: True\n",
       "    Level: 0\n",
       "  - lala:\n",
       "    Name: lala\n",
       "    Type: identity\n",
       "    Choice: all\n",
       "    Listify_func: <function listify_func at 0x7fe8b4afbb50>\n",
       "    String_content: something\n",
       "    List_content: None\n",
       "    List_concepts: None\n",
       "    Inputted: True\n",
       "    Level: 0\n",
       "  - else:\n",
       "    Name: else\n",
       "    Type: identity\n",
       "    Choice: all\n",
       "    Listify_func: <function listify_func at 0x7fe8b4afbb50>\n",
       "    String_content: something\n",
       "    List_content: None\n",
       "    List_concepts: None\n",
       "    Inputted: True\n",
       "    Level: 0\n",
       "  - think:\n",
       "    Name: think\n",
       "    Type: identity\n",
       "    Choice: all\n",
       "    Listify_func: <function listify_func at 0x7fe8b4afbb50>\n",
       "    String_content: Response of Google2: to (what do you think of this joke: something?)\n",
       "    List_content: None\n",
       "    List_concepts: None\n",
       "    Inputted: False\n",
       "    Level: 1\n",
       "  - joke:\n",
       "    Name: joke\n",
       "    Type: identity\n",
       "    Choice: all\n",
       "    Listify_func: <function listify_func at 0x7fe8b4afbb50>\n",
       "    String_content: Response of OpenAI2: to (tell me a joke about something.)\n",
       "    List_content: None\n",
       "    List_concepts: None\n",
       "    Inputted: False\n",
       "    Level: 1\n",
       "  - kaka:\n",
       "    Name: kaka\n",
       "    Type: identity\n",
       "    Choice: all\n",
       "    Listify_func: <function listify_func at 0x7fe8b4afbb50>\n",
       "    String_content: Response of Microsoft2: to (can you explain why this joke is funny: something?)\n",
       "    List_content: None\n",
       "    List_concepts: None\n",
       "    Inputted: False\n",
       "    Level: 1"
      ]
     },
     "execution_count": 13,
     "metadata": {},
     "output_type": "execute_result"
    }
   ],
   "source": [
    "concept_registry"
   ]
  },
  {
   "cell_type": "markdown",
   "id": "6645d099-6463-421e-90e8-234debcc9b51",
   "metadata": {},
   "source": [
    "# More complex"
   ]
  },
  {
   "cell_type": "code",
   "execution_count": 14,
   "id": "d23c1321-5177-4c9c-9262-a43cc9a43a36",
   "metadata": {
    "tags": []
   },
   "outputs": [],
   "source": [
    "# add placeholders and import \n",
    "threads1 = Threads([ProbabilisticComponent(LanguageModel(\"OpenAI2\"), Prompt(\"tell me a joke about {lala}.\"), Concept('joke')), \n",
    "                ProbabilisticComponent(LanguageModel(\"Google2\"), Prompt(\"what do you think of this joke: {something}?\"), Concept('think')), \n",
    "                ProbabilisticComponent(LanguageModel(\"Microsoft2\"), Prompt(\"can you explain why this joke is funny: {think}?\"), Concept('kaka'))])\n",
    "\n",
    "chain2 = Chain([ProbabilisticComponent(LanguageModel(\"OpenAI2\"), Prompt(\"tell me a joke about {subject}.\"), Concept('joke')), \n",
    "                ProbabilisticComponent(LanguageModel(\"Google2\"), Prompt(\"what do you think of this joke: {joke}?\"), Concept('think')), \n",
    "                ProbabilisticComponent(LanguageModel(\"Microsoft2\"), Prompt(\"can you explain why this joke is funny: {think}?\"), Concept('lala')),\n",
    "                threads1\n",
    "               ])\n",
    "\n",
    "chain1 = Chain([ProbabilisticComponent(LanguageModel(\"OpenAI1\"), \n",
    "                          Prompt(\"tell me a joke about {subject}.\"), Concept('haha')), \n",
    "                ProbabilisticComponent(LanguageModel(\"Google1\"), \n",
    "                          Prompt(\"what do you think of this joke: {haha}?\"), Concept('other')), \n",
    "                ProbabilisticComponent(LanguageModel(\"Microsoft1\"), \n",
    "                          Prompt(\"can you explain why this joke is funny: {haha}?\"), Concept('subject')),\n",
    "                chain2\n",
    "               ])\n",
    "\n",
    "component = ProbabilisticComponent(LanguageModel(\"OpenAI2\"), Prompt(\"tell me a joke about {other}.\"), Concept('joke'))\n",
    "\n"
   ]
  },
  {
   "cell_type": "code",
   "execution_count": 15,
   "id": "054b18b0-72e1-4a82-a470-7eae1dab626d",
   "metadata": {
    "tags": []
   },
   "outputs": [
    {
     "name": "stderr",
     "output_type": "stream",
     "text": [
      "/Users/fuad/Documents/projects/lexflow/src/base/executable.py:180: UserWarning:\n",
      "\n",
      "Overwrite Warning: \n",
      "{'choice': 'all',\n",
      " 'inputted': False,\n",
      " 'level': 3,\n",
      " 'list_concepts': None,\n",
      " 'list_content': None,\n",
      " 'listify_func': <function listify_func at 0x7fe8b4afbb50>,\n",
      " 'name': 'joke',\n",
      " 'string_content': 'Response of OpenAI2: to (tell me a joke about Response of '\n",
      "                   'Microsoft1: to (can you explain why this joke is funny: '\n",
      "                   'Response of OpenAI1: to (tell me a joke about '\n",
      "                   'computer.)?).)',\n",
      " 'type': 'identity'}\n",
      "\n",
      " Is being overwritten by:\n",
      " {'choice': 'all',\n",
      " 'inputted': False,\n",
      " 'level': 7,\n",
      " 'list_concepts': None,\n",
      " 'list_content': None,\n",
      " 'listify_func': <function listify_func at 0x7fe8b4afbb50>,\n",
      " 'name': 'joke',\n",
      " 'string_content': 'Response of OpenAI2: to (tell me a joke about Response of '\n",
      "                   'Microsoft2: to (can you explain why this joke is funny: '\n",
      "                   'Response of Google2: to (what do you think of this joke: '\n",
      "                   'Response of OpenAI2: to (tell me a joke about Response of '\n",
      "                   'Microsoft1: to (can you explain why this joke is funny: '\n",
      "                   'Response of OpenAI1: to (tell me a joke about '\n",
      "                   'computer.)?).)?)?).)',\n",
      " 'type': 'identity'}\n",
      "\n",
      "/Users/fuad/Documents/projects/lexflow/src/base/executable.py:180: UserWarning:\n",
      "\n",
      "Overwrite Warning: \n",
      "{'choice': 'all',\n",
      " 'inputted': False,\n",
      " 'level': 4,\n",
      " 'list_concepts': None,\n",
      " 'list_content': None,\n",
      " 'listify_func': <function listify_func at 0x7fe8b4afbb50>,\n",
      " 'name': 'think',\n",
      " 'string_content': 'Response of Google2: to (what do you think of this joke: '\n",
      "                   'Response of OpenAI2: to (tell me a joke about Response of '\n",
      "                   'Microsoft1: to (can you explain why this joke is funny: '\n",
      "                   'Response of OpenAI1: to (tell me a joke about '\n",
      "                   'computer.)?).)?)',\n",
      " 'type': 'identity'}\n",
      "\n",
      " Is being overwritten by:\n",
      " {'choice': 'all',\n",
      " 'inputted': False,\n",
      " 'level': 7,\n",
      " 'list_concepts': None,\n",
      " 'list_content': None,\n",
      " 'listify_func': <function listify_func at 0x7fe8b4afbb50>,\n",
      " 'name': 'think',\n",
      " 'string_content': 'Response of Google2: to (what do you think of this joke: '\n",
      "                   'something?)',\n",
      " 'type': 'identity'}\n",
      "\n"
     ]
    }
   ],
   "source": [
    "\n",
    "# TODO this should be a dict of string to the placeholder \n",
    "# TODO collect all placeholders in a dict of name to placeholder\n",
    "# TODO assign a value to the input placeholders\n",
    "\n",
    "chain3 = Chain([chain1, chain2, threads1])\n",
    "initial_concepts = [Concept(name='subject', string_content='computer'), Concept(name='something', string_content='something')]\n",
    "concept_registry = ConceptRegistry(initial_concepts)\n",
    "with use_registry(concept_registry):\n",
    "    chain1.run()"
   ]
  },
  {
   "cell_type": "code",
   "execution_count": 16,
   "id": "6e77a513-e9cb-47ed-847a-30aa0c64d97c",
   "metadata": {},
   "outputs": [
    {
     "data": {
      "text/plain": [
       "ConceptRegistry:\n",
       "  - something:\n",
       "    Name: something\n",
       "    Type: identity\n",
       "    Choice: all\n",
       "    Listify_func: <function listify_func at 0x7fe8b4afbb50>\n",
       "    String_content: something\n",
       "    List_content: None\n",
       "    List_concepts: None\n",
       "    Inputted: True\n",
       "    Level: 0\n",
       "  - haha:\n",
       "    Name: haha\n",
       "    Type: identity\n",
       "    Choice: all\n",
       "    Listify_func: <function listify_func at 0x7fe8b4afbb50>\n",
       "    String_content: Response of OpenAI1: to (tell me a joke about computer.)\n",
       "    List_content: None\n",
       "    List_concepts: None\n",
       "    Inputted: False\n",
       "    Level: 0\n",
       "  - other:\n",
       "    Name: other\n",
       "    Type: identity\n",
       "    Choice: all\n",
       "    Listify_func: <function listify_func at 0x7fe8b4afbb50>\n",
       "    String_content: Response of Google1: to (what do you think of this joke: Response of OpenAI1: to (tell me a joke about computer.)?)\n",
       "    List_content: None\n",
       "    List_concepts: None\n",
       "    Inputted: False\n",
       "    Level: 1\n",
       "  - subject:\n",
       "    Name: subject\n",
       "    Type: identity\n",
       "    Choice: all\n",
       "    Listify_func: <function listify_func at 0x7fe8b4afbb50>\n",
       "    String_content: Response of Microsoft1: to (can you explain why this joke is funny: Response of OpenAI1: to (tell me a joke about computer.)?)\n",
       "    List_content: None\n",
       "    List_concepts: None\n",
       "    Inputted: False\n",
       "    Level: 2\n",
       "  - lala:\n",
       "    Name: lala\n",
       "    Type: identity\n",
       "    Choice: all\n",
       "    Listify_func: <function listify_func at 0x7fe8b4afbb50>\n",
       "    String_content: Response of Microsoft2: to (can you explain why this joke is funny: Response of Google2: to (what do you think of this joke: Response of OpenAI2: to (tell me a joke about Response of Microsoft1: to (can you explain why this joke is funny: Response of OpenAI1: to (tell me a joke about computer.)?).)?)?)\n",
       "    List_content: None\n",
       "    List_concepts: None\n",
       "    Inputted: False\n",
       "    Level: 5\n",
       "  - joke:\n",
       "    Name: joke\n",
       "    Type: identity\n",
       "    Choice: all\n",
       "    Listify_func: <function listify_func at 0x7fe8b4afbb50>\n",
       "    String_content: Response of OpenAI2: to (tell me a joke about Response of Microsoft2: to (can you explain why this joke is funny: Response of Google2: to (what do you think of this joke: Response of OpenAI2: to (tell me a joke about Response of Microsoft1: to (can you explain why this joke is funny: Response of OpenAI1: to (tell me a joke about computer.)?).)?)?).)\n",
       "    List_content: None\n",
       "    List_concepts: None\n",
       "    Inputted: False\n",
       "    Level: 7\n",
       "  - think:\n",
       "    Name: think\n",
       "    Type: identity\n",
       "    Choice: all\n",
       "    Listify_func: <function listify_func at 0x7fe8b4afbb50>\n",
       "    String_content: Response of Google2: to (what do you think of this joke: something?)\n",
       "    List_content: None\n",
       "    List_concepts: None\n",
       "    Inputted: False\n",
       "    Level: 7\n",
       "  - kaka:\n",
       "    Name: kaka\n",
       "    Type: identity\n",
       "    Choice: all\n",
       "    Listify_func: <function listify_func at 0x7fe8b4afbb50>\n",
       "    String_content: Response of Microsoft2: to (can you explain why this joke is funny: Response of Google2: to (what do you think of this joke: Response of OpenAI2: to (tell me a joke about Response of Microsoft1: to (can you explain why this joke is funny: Response of OpenAI1: to (tell me a joke about computer.)?).)?)?)\n",
       "    List_content: None\n",
       "    List_concepts: None\n",
       "    Inputted: False\n",
       "    Level: 7"
      ]
     },
     "execution_count": 16,
     "metadata": {},
     "output_type": "execute_result"
    }
   ],
   "source": [
    "concept_registry"
   ]
  },
  {
   "cell_type": "code",
   "execution_count": null,
   "id": "4298b9fd-5ac9-47a3-9fd9-a4b329743326",
   "metadata": {},
   "outputs": [],
   "source": []
  },
  {
   "cell_type": "code",
   "execution_count": 17,
   "id": "fb37a72f-5782-443a-86d3-f1924b3623a1",
   "metadata": {},
   "outputs": [],
   "source": [
    "# object names should be unique otherwise they will be overwritten "
   ]
  },
  {
   "cell_type": "markdown",
   "id": "529b5552-3d9b-490a-b9e8-44433fd52070",
   "metadata": {},
   "source": [
    "# Listify"
   ]
  },
  {
   "cell_type": "code",
   "execution_count": 18,
   "id": "dff60d71-7235-46fc-b7cb-f596040fda2b",
   "metadata": {
    "tags": []
   },
   "outputs": [],
   "source": [
    "# add placeholders and import \n",
    "threads1 = Threads([ProbabilisticComponent(LanguageModel(\"OpenAI2\"), Prompt(\"tell me a joke about {lala}.\"), Concept('joke')), \n",
    "                ProbabilisticComponent(LanguageModel(\"Google2\"), Prompt(\"what do you think of this joke: {something}?\"), Concept('think')), \n",
    "                ProbabilisticComponent(LanguageModel(\"Microsoft2\"), Prompt(\"can you explain why this joke is funny: {think}?\"), Concept('kaka'))])\n",
    "\n",
    "chain2 = Chain([ProbabilisticComponent(LanguageModel(\"OpenAI2\"), Prompt(\"tell me a joke about {subject}.\"), Concept('joke')), \n",
    "                ProbabilisticComponent(LanguageModel(\"Google2\"), Prompt(\"what do you think of this joke: {joke}?\"), Concept('think')), \n",
    "                ProbabilisticComponent(LanguageModel(\"Microsoft2\"), Prompt(\"can you explain why this joke is funny: {think}?\"), Concept('lala')),\n",
    "                threads1\n",
    "               ])\n",
    "\n",
    "chain1 = Chain([ProbabilisticComponent(LanguageModel(\"OpenAI1\"), \n",
    "                          Prompt(\"tell me a joke about {subject}.\"), Concept('haha')), \n",
    "                ProbabilisticComponent(LanguageModel(\"Google1\"), \n",
    "                          Prompt(\"what do you think of this joke: {haha}?\"), Concept('other')), \n",
    "                ProbabilisticComponent(LanguageModel(\"Microsoft1\"), \n",
    "                          Prompt(\"can you explain why this joke is funny: {haha}?\"), Concept('subject')),\n",
    "                chain2\n",
    "               ])\n",
    "\n",
    "component = ProbabilisticComponent(LanguageModel(\"OpenAI2\"), Prompt(\"tell me a joke about {other}.\"), Concept('joke'))\n",
    "\n",
    "chain3 = Chain([chain1, chain2, threads1])\n"
   ]
  },
  {
   "cell_type": "code",
   "execution_count": 22,
   "id": "4c45c51f-9e6e-4ce8-a7ab-b2e9c70fac03",
   "metadata": {
    "tags": []
   },
   "outputs": [],
   "source": [
    "comp1 =ProbabilisticComponent.create(**{\n",
    "        'model': LanguageModel(\"OpenAI1\"),\n",
    "        'prompt': Prompt(\"tell me a joke about {subject}.\"),\n",
    "        'output_concept': Concept('joke')\n",
    "    })\n",
    "\n",
    "chain1 = Chain([comp1])\n"
   ]
  },
  {
   "cell_type": "code",
   "execution_count": 25,
   "id": "56464584-2c81-45b7-8ffa-da74a421faa8",
   "metadata": {
    "tags": []
   },
   "outputs": [],
   "source": [
    "configs = [\n",
    "    {\n",
    "        'model': LanguageModel(\"OpenAI1\"),\n",
    "        'prompt': Prompt(\"tell me a joke about {subject}.\"),\n",
    "        'output_concept': Concept('joke')\n",
    "    },\n",
    "    {\n",
    "        'model': LanguageModel(\"OpenAI2\"),\n",
    "        'prompt': Prompt(\"what do you think of this joke: {joke}?\"),\n",
    "        'output_concept': Concept('think')\n",
    "    }\n",
    "    # ... add more configs as needed\n",
    "]\n",
    "comp1 = ProbabilisticComponent.create_iterable(configs)\n",
    "chain1 = Chain(comp1)"
   ]
  },
  {
   "cell_type": "code",
   "execution_count": 26,
   "id": "faf8399f-67ed-4c4a-ab37-d6a514901003",
   "metadata": {},
   "outputs": [],
   "source": [
    "\n",
    "# TODO this should be a dict of string to the placeholder \n",
    "# TODO collect all placeholders in a dict of name to placeholder\n",
    "# TODO assign a value to the input placeholders\n",
    "\n",
    "\n",
    "initial_concepts = [Concept(name='subject', string_content='computer'), Concept(name='something', string_content='something')]\n",
    "concept_registry = ConceptRegistry(initial_concepts)\n",
    "with use_registry(concept_registry):\n",
    "    chain1.run()"
   ]
  },
  {
   "cell_type": "code",
   "execution_count": 27,
   "id": "160fb70c-4652-4ef1-b25f-01f1a22dd59d",
   "metadata": {},
   "outputs": [
    {
     "data": {
      "text/plain": [
       "ConceptRegistry:\n",
       "  - subject:\n",
       "    Name: subject\n",
       "    Type: identity\n",
       "    Choice: all\n",
       "    Listify_func: <function listify_func at 0x7fe8b4afbb50>\n",
       "    String_content: computer\n",
       "    List_content: None\n",
       "    List_concepts: None\n",
       "    Inputted: True\n",
       "    Level: 0\n",
       "  - something:\n",
       "    Name: something\n",
       "    Type: identity\n",
       "    Choice: all\n",
       "    Listify_func: <function listify_func at 0x7fe8b4afbb50>\n",
       "    String_content: something\n",
       "    List_content: None\n",
       "    List_concepts: None\n",
       "    Inputted: True\n",
       "    Level: 0\n",
       "  - joke:\n",
       "    Name: joke\n",
       "    Type: identity\n",
       "    Choice: all\n",
       "    Listify_func: <function listify_func at 0x7fe8b4afbb50>\n",
       "    String_content: Response of OpenAI1: to (tell me a joke about computer.)\n",
       "    List_content: None\n",
       "    List_concepts: None\n",
       "    Inputted: False\n",
       "    Level: 0\n",
       "  - think:\n",
       "    Name: think\n",
       "    Type: identity\n",
       "    Choice: all\n",
       "    Listify_func: <function listify_func at 0x7fe8b4afbb50>\n",
       "    String_content: Response of OpenAI2: to (what do you think of this joke: Response of OpenAI1: to (tell me a joke about computer.)?)\n",
       "    List_content: None\n",
       "    List_concepts: None\n",
       "    Inputted: False\n",
       "    Level: 1"
      ]
     },
     "execution_count": 27,
     "metadata": {},
     "output_type": "execute_result"
    }
   ],
   "source": [
    "concept_registry"
   ]
  },
  {
   "cell_type": "code",
   "execution_count": null,
   "id": "64d6c299-20ea-4c64-885c-75e87d9c44a6",
   "metadata": {},
   "outputs": [],
   "source": []
  }
 ],
 "metadata": {
  "kernelspec": {
   "display_name": "Python [conda env:lexiflow] *",
   "language": "python",
   "name": "conda-env-lexiflow-py"
  },
  "language_info": {
   "codemirror_mode": {
    "name": "ipython",
    "version": 3
   },
   "file_extension": ".py",
   "mimetype": "text/x-python",
   "name": "python",
   "nbconvert_exporter": "python",
   "pygments_lexer": "ipython3",
   "version": "3.10.12"
  }
 },
 "nbformat": 4,
 "nbformat_minor": 5
}
