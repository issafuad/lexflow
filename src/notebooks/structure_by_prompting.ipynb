{
 "cells": [
  {
   "cell_type": "code",
   "execution_count": 19,
   "id": "5c50a396-ad8f-4ce6-987d-449c5d3887b8",
   "metadata": {
    "tags": []
   },
   "outputs": [],
   "source": [
    "# rasmari\n",
    "# from this https://colab.research.google.com/drive/155UbK21ZsQB7fl7ggI6pEVCq9Y20ALgG?usp=sharing#scrollTo=9F_-l3PZpHS4\n"
   ]
  },
  {
   "cell_type": "code",
   "execution_count": 8,
   "id": "7f309ea9-b8aa-4ae4-b248-470cfe3c6fa2",
   "metadata": {
    "tags": []
   },
   "outputs": [
    {
     "name": "stdin",
     "output_type": "stream",
     "text": [
      "Enter the openai key:  ········\n"
     ]
    }
   ],
   "source": [
    "from getpass import getpass\n",
    "openaikey = getpass('Enter the openai key: ')"
   ]
  },
  {
   "cell_type": "code",
   "execution_count": 9,
   "id": "b077d3b4-5a3d-437b-a1f1-b397eff39fd5",
   "metadata": {
    "tags": []
   },
   "outputs": [],
   "source": [
    "text = \"\"\"Elon Musk has shown again he can influence the digital currency market with just his tweets. After saying that his electric vehicle-making company Tesla will not accept payments in Bitcoin because of environmental concerns, he tweeted that he was working with developers of Dogecoin to improve system transaction efficiency.\n",
    "\n",
    "Following the two distinct statements from him, the world's largest cryptocurrency hit a two-month low, while Dogecoin rallied by about 20 percent. The SpaceX CEO has in recent months often tweeted in support of Dogecoin, but rarely for Bitcoin.  In a recent tweet, Musk put out a statement from Tesla that it was concerned about the rapidly increasing use of fossil fuels for Bitcoin (price in India) mining and transaction, and hence was suspending vehicle purchases using the cryptocurrency.\n",
    "\n",
    "A day later he again tweeted saying, To be clear, I strongly believe in crypto, but it can't drive a massive increase in fossil fuel use, especially coal. It triggered a downward spiral for Bitcoin value but the cryptocurrency has stabilised since.  A number of Twitter users welcomed Musk's statement. One of them said it's time people started realising that Dogecoin is here to stay and another referred to Musk's previous assertion that crypto could become the world's future currency.\"\"\""
   ]
  },
  {
   "cell_type": "code",
   "execution_count": 10,
   "id": "3c408495-187c-47b9-b2bb-2073922a0b71",
   "metadata": {
    "tags": []
   },
   "outputs": [],
   "source": [
    "chatgpt_url = \"https://api.openai.com/v1/chat/completions\"\n",
    "chatgpt_headers = {\n",
    "    \"content-type\": \"application/json\",\n",
    "    \"Authorization\":\"Bearer {}\".format(openaikey)}"
   ]
  },
  {
   "cell_type": "code",
   "execution_count": 11,
   "id": "9df4f80f-b0b2-4b37-89b7-2df7f7adced8",
   "metadata": {
    "tags": []
   },
   "outputs": [],
   "source": [
    "count = 10"
   ]
  },
  {
   "cell_type": "code",
   "execution_count": null,
   "id": "a176b9a7-47a4-4f00-b8ff-b178c2979561",
   "metadata": {},
   "outputs": [],
   "source": []
  },
  {
   "cell_type": "code",
   "execution_count": 12,
   "id": "e697887d-d598-4dfb-b538-6fd2d1a5901b",
   "metadata": {
    "tags": []
   },
   "outputs": [],
   "source": [
    "import json\n",
    "\n",
    "prompt_prefix = f\"\"\"{text}\n",
    "--------------------------\n",
    "Generate {count} FAQs (frequently asked questions) from the above text. Generate a question and a corresponding answer\n",
    "Strictly output in JSON format. The JSON should have the following format:\"\"\"\n",
    "\n",
    "sample_json = [\n",
    "    { \"question\": \"...\", \"answer\": \"...\" },\n",
    "    { \"question\": \"...\", \"answer\": \"...\" }\n",
    "]\n",
    "\n",
    "prompt = prompt_prefix + json.dumps(sample_json)\n",
    "\n",
    "\n",
    "messages = [\n",
    "        {\"role\": \"system\", \"content\": \"You are an experienced FAQ creator.\"},\n",
    "        {\"role\": \"user\", \"content\": prompt}\n",
    "\n",
    "    ]\n",
    "\n",
    "chatgpt_payload = {\n",
    "    \"model\": \"gpt-3.5-turbo-16k\",\n",
    "    \"messages\": messages,\n",
    "    \"temperature\": 1.2,\n",
    "    # make sure max tokens isn't too small for the number of items you want. you may get json errors \n",
    "    \"max_tokens\": 500,\n",
    "    \"top_p\": 1,\n",
    "    \"stop\": [\"###\"]\n",
    "}"
   ]
  },
  {
   "cell_type": "code",
   "execution_count": 16,
   "id": "99ce3d01-b455-4e83-9dc5-80ba57ebf0a3",
   "metadata": {
    "tags": []
   },
   "outputs": [
    {
     "data": {
      "text/plain": [
       "'Elon Musk has shown again he can influence the digital currency market with just his tweets. After saying that his electric vehicle-making company Tesla will not accept payments in Bitcoin because of environmental concerns, he tweeted that he was working with developers of Dogecoin to improve system transaction efficiency.\\n\\nFollowing the two distinct statements from him, the world\\'s largest cryptocurrency hit a two-month low, while Dogecoin rallied by about 20 percent. The SpaceX CEO has in recent months often tweeted in support of Dogecoin, but rarely for Bitcoin.  In a recent tweet, Musk put out a statement from Tesla that it was concerned about the rapidly increasing use of fossil fuels for Bitcoin (price in India) mining and transaction, and hence was suspending vehicle purchases using the cryptocurrency.\\n\\nA day later he again tweeted saying, To be clear, I strongly believe in crypto, but it can\\'t drive a massive increase in fossil fuel use, especially coal. It triggered a downward spiral for Bitcoin value but the cryptocurrency has stabilised since.  A number of Twitter users welcomed Musk\\'s statement. One of them said it\\'s time people started realising that Dogecoin is here to stay and another referred to Musk\\'s previous assertion that crypto could become the world\\'s future currency.\\n--------------------------\\nGenerate 10 FAQs (frequently asked questions) from the above text. Generate a question and a corresponding answer\\nStrictly output in JSON format. The JSON should have the following format:[{\"question\": \"...\", \"answer\": \"...\"}, {\"question\": \"...\", \"answer\": \"...\"}]'"
      ]
     },
     "execution_count": 16,
     "metadata": {},
     "output_type": "execute_result"
    }
   ],
   "source": [
    "prompt"
   ]
  },
  {
   "cell_type": "code",
   "execution_count": 59,
   "id": "0a8f0b88-141f-43ac-ad07-60e551348e16",
   "metadata": {
    "tags": []
   },
   "outputs": [],
   "source": [
    "import requests\n",
    "response = requests.request(\"POST\", chatgpt_url, json=chatgpt_payload, headers=chatgpt_headers)\n",
    "response = response.json()\n",
    "# print (response)\n",
    "# print (response['choices'][0]['message']['content'])"
   ]
  },
  {
   "cell_type": "code",
   "execution_count": 60,
   "id": "70d371ff-9887-4a5f-af72-180b74124907",
   "metadata": {
    "tags": []
   },
   "outputs": [],
   "source": [
    "import json"
   ]
  },
  {
   "cell_type": "code",
   "execution_count": 61,
   "id": "1c4f1703-891b-4689-9163-171aa2323faa",
   "metadata": {
    "tags": []
   },
   "outputs": [],
   "source": [
    "output = json.loads(response['choices'][0]['message']['content'])"
   ]
  },
  {
   "cell_type": "code",
   "execution_count": null,
   "id": "a563a403-f7b8-4652-a434-421af6e680b3",
   "metadata": {},
   "outputs": [],
   "source": [
    "len(output)"
   ]
  },
  {
   "cell_type": "code",
   "execution_count": 62,
   "id": "a97ccc59-4637-4324-9219-7e196a44401b",
   "metadata": {
    "tags": []
   },
   "outputs": [
    {
     "data": {
      "text/plain": [
       "{'question': 'Why did Elon Musk state that Tesla will not accept payments in Bitcoin?',\n",
       " 'answer': 'Elon Musk stated that Tesla will not accept payments in Bitcoin due to environmental concerns related to Bitcoin mining and transaction processes.'}"
      ]
     },
     "execution_count": 62,
     "metadata": {},
     "output_type": "execute_result"
    }
   ],
   "source": [
    "output[0]"
   ]
  },
  {
   "cell_type": "code",
   "execution_count": null,
   "id": "90797093-83bd-4aae-88a0-8bda95a12518",
   "metadata": {},
   "outputs": [],
   "source": []
  }
 ],
 "metadata": {
  "kernelspec": {
   "display_name": "Python [conda env:lexiflow] *",
   "language": "python",
   "name": "conda-env-lexiflow-py"
  },
  "language_info": {
   "codemirror_mode": {
    "name": "ipython",
    "version": 3
   },
   "file_extension": ".py",
   "mimetype": "text/x-python",
   "name": "python",
   "nbconvert_exporter": "python",
   "pygments_lexer": "ipython3",
   "version": "3.10.12"
  }
 },
 "nbformat": 4,
 "nbformat_minor": 5
}
